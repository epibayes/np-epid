{
 "cells": [
  {
   "cell_type": "code",
   "execution_count": null,
   "id": "9f7e08e1-b714-452f-8d33-e46404f07409",
   "metadata": {},
   "outputs": [],
   "source": [
    "%env PYTORCH_ENABLE_MPS_FALLBACK=1"
   ]
  },
  {
   "cell_type": "code",
   "execution_count": null,
   "id": "f66872e0-fa7d-4536-939d-a48c65711c15",
   "metadata": {},
   "outputs": [],
   "source": [
    "import warnings\n",
    "warnings.filterwarnings('ignore')"
   ]
  },
  {
   "cell_type": "code",
   "execution_count": null,
   "id": "e317c383-2c60-4f58-8b38-96f5e3c50aad",
   "metadata": {},
   "outputs": [],
   "source": [
    "import numpy as np\n",
    "from matplotlib import pyplot as plt\n",
    "import math\n",
    "import lightning as L\n",
    "from sklearn.datasets import make_moons\n",
    "from torch.utils.data import DataLoader, Dataset, random_split\n",
    "import sys\n",
    "import torch\n",
    "from torch.distributions import MultivariateNormal\n",
    "sys.path.append(\"..\")\n",
    "from src.utils import MoonsDataset\n",
    "from src.model import RealNVP\n",
    "from src.dataset import ConditionalMoonsDataset\n",
    "from lightning.pytorch.callbacks.early_stopping import EarlyStopping"
   ]
  },
  {
   "cell_type": "code",
   "execution_count": null,
   "id": "5874a32a-fa90-49be-ab44-36786a15a865",
   "metadata": {},
   "outputs": [],
   "source": [
    "mps_device = torch.device(\"mps\")"
   ]
  },
  {
   "cell_type": "markdown",
   "id": "ff244f9a-9779-4f0a-a258-31ec0e006fa1",
   "metadata": {},
   "source": [
    "### Unconditional Moons"
   ]
  },
  {
   "cell_type": "code",
   "execution_count": null,
   "id": "d2139ec6-df98-4401-81f6-60b3a56f5ddd",
   "metadata": {},
   "outputs": [],
   "source": [
    "N = 2000\n",
    "a = int(N * 0.8)\n",
    "b = N - a\n",
    "dataset = MoonsDataset(n_sample=N, random_state=3)\n",
    "train_data, val_data = random_split(dataset, [a, b])\n",
    "train_loader = DataLoader(train_data, batch_size=200)\n",
    "val_loader = DataLoader(val_data, batch_size=b)"
   ]
  },
  {
   "cell_type": "code",
   "execution_count": null,
   "id": "f1ff6722-8f46-4f52-9ca4-4de1a45abc95",
   "metadata": {},
   "outputs": [],
   "source": [
    "m = np.array(dataset.data)\n",
    "plt.scatter(m[:, 0], m[:, 1], alpha=0.1)\n",
    "plt.show()"
   ]
  },
  {
   "cell_type": "code",
   "execution_count": null,
   "id": "d9825e15-3b91-4ff0-a0fc-b105cc1a6ada",
   "metadata": {},
   "outputs": [],
   "source": [
    "model = RealNVP(d_model=128, n_layers=4, d_x=2)\n",
    "trainer = L.Trainer(max_epochs=200, log_every_n_steps=1)\n",
    "trainer.fit(model, train_loader, val_loader)"
   ]
  },
  {
   "cell_type": "code",
   "execution_count": null,
   "id": "5a94ee98-b7aa-499b-9813-aca3690a23e2",
   "metadata": {},
   "outputs": [],
   "source": [
    "x, y = torch.meshgrid(\n",
    "    torch.arange(-1.2,2.5,0.1), \n",
    "    torch.arange(-1.25,1.5,0.1),\n",
    "    indexing='xy'\n",
    ")\n",
    "grid = torch.stack((x, y), dim=-1).flatten(end_dim=1)"
   ]
  },
  {
   "cell_type": "code",
   "execution_count": null,
   "id": "e7bb9428-e52f-458a-bba5-d302736b2e7c",
   "metadata": {},
   "outputs": [],
   "source": [
    "with torch.no_grad():\n",
    "    Z, log_det = model(grid)\n",
    "log_probs = model.log_prob(Z.to(mps_device), log_det.to(mps_device))"
   ]
  },
  {
   "cell_type": "code",
   "execution_count": null,
   "id": "ef03373a-7a11-461f-a9c7-0d1b730e8547",
   "metadata": {},
   "outputs": [],
   "source": [
    "z = log_probs.cpu().view(*x.shape)"
   ]
  },
  {
   "cell_type": "code",
   "execution_count": null,
   "id": "70cef902-4326-4a7e-8f9d-fdf22ca78a90",
   "metadata": {},
   "outputs": [],
   "source": [
    "plt.pcolormesh(x, y, np.exp(z))\n",
    "plt.show()"
   ]
  },
  {
   "cell_type": "code",
   "execution_count": null,
   "id": "8a408864-5568-466c-b384-c66a5248a597",
   "metadata": {},
   "outputs": [],
   "source": [
    "with torch.no_grad():\n",
    "    sample = model.to(mps_device).sample((400,))"
   ]
  },
  {
   "cell_type": "code",
   "execution_count": null,
   "id": "d27e7759-bcb3-4fe6-80fb-00491565a3a2",
   "metadata": {},
   "outputs": [],
   "source": [
    "plt.scatter(sample[:, 0].cpu(), sample[:, 1].cpu(), alpha=0.5)\n",
    "plt.show()"
   ]
  },
  {
   "cell_type": "markdown",
   "id": "766c85fb-41f7-4582-aca2-28a59464936e",
   "metadata": {},
   "source": [
    "### Conditional Moons"
   ]
  },
  {
   "cell_type": "code",
   "execution_count": null,
   "id": "de771e6c-5554-4e0b-adaa-95a0d28b3295",
   "metadata": {},
   "outputs": [],
   "source": [
    "N = 4000\n",
    "a = int(N * 0.8)\n",
    "b = N - a\n",
    "dataset = ConditionalMoonsDataset(n_sample=N)\n",
    "train_data, val_data = random_split(dataset, [a, b])\n",
    "train_loader = DataLoader(train_data, batch_size=800)\n",
    "val_loader = DataLoader(val_data, batch_size=b)"
   ]
  },
  {
   "cell_type": "code",
   "execution_count": null,
   "id": "9cb2002d-b0b1-44fc-b169-ec61943a791e",
   "metadata": {},
   "outputs": [],
   "source": [
    "callbacks = [EarlyStopping(monitor=\"val_loss\", mode=\"min\", patience=20)]\n",
    "model = RealNVP(d_model=32, n_layers=4, d_x=2, d_theta=2, lr=1e-3, weight_decay=0)\n",
    "trainer = L.Trainer(max_epochs=500, log_every_n_steps=1, callbacks=callbacks)\n",
    "trainer.fit(model, train_loader, val_loader)"
   ]
  },
  {
   "cell_type": "code",
   "execution_count": null,
   "id": "1c86e1a6-b3b2-4c14-8d8d-0767bdf0ae1c",
   "metadata": {},
   "outputs": [],
   "source": [
    "M = 400\n",
    "with torch.no_grad():\n",
    "    sample = model.to(mps_device).sample(M, dataset.get_observed_data())"
   ]
  },
  {
   "cell_type": "code",
   "execution_count": null,
   "id": "e9f5db9c-527e-427e-ba20-9728569c5c9b",
   "metadata": {},
   "outputs": [],
   "source": [
    "plt.scatter(sample[:, 0].cpu(), sample[:, 1].cpu(), alpha=0.5)\n",
    "plt.show()\n",
    "# strange, this is learning the conditional distribution of X | \\theta = 0, not \n",
    "# \\theta | X = 0 ..."
   ]
  },
  {
   "cell_type": "code",
   "execution_count": null,
   "id": "acd78bdf-8cbb-4df3-897b-82ec148e7256",
   "metadata": {},
   "outputs": [],
   "source": [
    "test = ConditionalMoonsDataset(20000)"
   ]
  },
  {
   "cell_type": "code",
   "execution_count": null,
   "id": "e598b7a4-caeb-46ee-a4be-71acbe5199f4",
   "metadata": {},
   "outputs": [],
   "source": [
    "samples = []\n",
    "eps = 0.005\n",
    "for e in test:\n",
    "    if (e[0]**2).sum() < eps:\n",
    "        samples.append(e[1])\n",
    "samples = np.array(samples)"
   ]
  },
  {
   "cell_type": "code",
   "execution_count": null,
   "id": "2c38db2b-556d-4a60-a324-96f31cdcafa1",
   "metadata": {},
   "outputs": [],
   "source": [
    "plt.scatter(samples[:, 0], samples[:, 1], alpha=.1)"
   ]
  },
  {
   "cell_type": "code",
   "execution_count": null,
   "id": "21331ea2-1771-4209-879f-df991b75695a",
   "metadata": {},
   "outputs": [],
   "source": []
  }
 ],
 "metadata": {
  "language_info": {
   "name": "python"
  }
 },
 "nbformat": 4,
 "nbformat_minor": 5
}
