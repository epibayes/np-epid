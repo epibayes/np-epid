{
 "cells": [
  {
   "cell_type": "code",
   "execution_count": null,
   "id": "e317c383-2c60-4f58-8b38-96f5e3c50aad",
   "metadata": {},
   "outputs": [],
   "source": [
    "import numpy as np\n",
    "from matplotlib import pyplot as plt\n",
    "import math\n",
    "from sklearn.datasets import make_moons\n",
    "from torch.utils.data import Dataset"
   ]
  },
  {
   "cell_type": "markdown",
   "id": "ff244f9a-9779-4f0a-a258-31ec0e006fa1",
   "metadata": {},
   "source": [
    "### Unconditional Moons"
   ]
  },
  {
   "cell_type": "code",
   "execution_count": null,
   "id": "d1e98888-5d74-4cd8-9eb8-8f7377fa9b06",
   "metadata": {},
   "outputs": [],
   "source": [
    "data = make_moons(200, noise=0.05)[0]\n",
    "plt.scatter(data[:, 0], data[:,1])\n",
    "plt.show()"
   ]
  },
  {
   "cell_type": "code",
   "execution_count": null,
   "id": "d4fc12aa-b0c2-4cd3-bdd0-9f36d52c8f38",
   "metadata": {},
   "outputs": [],
   "source": [
    "z = make_moons(200, noise=0.05, random_state=2)[0]"
   ]
  },
  {
   "cell_type": "code",
   "execution_count": null,
   "id": "4deceb08-d6e3-4f06-af37-411d9fba98de",
   "metadata": {},
   "outputs": [],
   "source": [
    "import torch"
   ]
  },
  {
   "cell_type": "code",
   "execution_count": null,
   "id": "e97d0f09-c854-4577-b111-161f2f234cbf",
   "metadata": {},
   "outputs": [],
   "source": [
    "torch.tensor(z).shape"
   ]
  },
  {
   "cell_type": "code",
   "execution_count": null,
   "id": "06967f36-4c25-4e7e-b1d1-47b7ad11291a",
   "metadata": {},
   "outputs": [],
   "source": [
    "class MoonsDataset(Dataset):\n",
    "        def __init__(self, n_sample, random_state):\n",
    "        self.n_sample = None\n",
    "        self.random_state = None\n",
    "        self.data = self._make_data()\n",
    "\n",
    "    def _make_data(self):\n",
    "        arr = make_moons(self.n_sample, noise=0.05, random_state=self.random_state)[0]\n",
    "        return torch.from_numpy(arr)\n",
    "\n",
    "    def __len__(self):\n",
    "        return self.n_sample\n",
    "    \n",
    "    def __getitem__(self, index):\n",
    "        return self.data[index]"
   ]
  },
  {
   "cell_type": "markdown",
   "id": "766c85fb-41f7-4582-aca2-28a59464936e",
   "metadata": {},
   "source": [
    "### Conditional Moons"
   ]
  },
  {
   "cell_type": "code",
   "execution_count": null,
   "id": "6613a920-52ce-4e77-b7cd-2ba78b0dadce",
   "metadata": {},
   "outputs": [],
   "source": [
    "N = 200\n",
    "a = np.random.uniform(low=-math.pi/2, high=math.pi/2, size=N)\n",
    "r = np.random.normal(loc=0.1, scale=0.01, size=N)\n",
    "p = np.stack([r * np.cos(a) + 0.25, r * np.sin(a)])"
   ]
  },
  {
   "cell_type": "code",
   "execution_count": null,
   "id": "cab6ef2a-6296-41d3-b5f4-548c8ce6781f",
   "metadata": {},
   "outputs": [],
   "source": [
    "plt.scatter(p[0], p[1])"
   ]
  },
  {
   "cell_type": "code",
   "execution_count": null,
   "id": "5118b82e-1a99-4b3e-b265-d9f49db0a371",
   "metadata": {},
   "outputs": [],
   "source": [
    "plt.scatter(p[0], p[1])"
   ]
  },
  {
   "cell_type": "code",
   "execution_count": null,
   "id": "0fb7d5c6-1d22-488a-bbb4-bb53ce580126",
   "metadata": {},
   "outputs": [],
   "source": [
    "plt.scatter(p[0] - p[1], p[0] + p[1])\n",
    "plt.scatter(- p[0] + p[1], - p[0] - p[1])"
   ]
  },
  {
   "cell_type": "code",
   "execution_count": null,
   "id": "f5cf6e36-01bf-45fb-961c-c33bc9e85444",
   "metadata": {},
   "outputs": [],
   "source": [
    "# latents \n",
    "theta = np.random.uniform(-1, 1, (2, N))\n",
    "b0 = (-theta[0] + theta[1]) / math.sqrt(2)\n",
    "b1 = -(np.abs(theta[0] + theta[1])) / math.sqrt(2)"
   ]
  },
  {
   "cell_type": "code",
   "execution_count": null,
   "id": "4d2cd381-40e3-4a56-9cac-beb1015883b4",
   "metadata": {},
   "outputs": [],
   "source": [
    "x = np.stack([\n",
    "    p[0] + b0, p[1] + b1\n",
    "])"
   ]
  },
  {
   "cell_type": "code",
   "execution_count": null,
   "id": "1752e318-efd4-4ce5-b127-c58ac29e33a3",
   "metadata": {},
   "outputs": [],
   "source": [
    "plt.scatter(x[0], x[1])"
   ]
  },
  {
   "cell_type": "code",
   "execution_count": null,
   "id": "48bc94e5-d422-4f45-943e-1fc10d9f8799",
   "metadata": {},
   "outputs": [],
   "source": []
  }
 ],
 "metadata": {
  "language_info": {
   "name": "python"
  }
 },
 "nbformat": 4,
 "nbformat_minor": 5
}
