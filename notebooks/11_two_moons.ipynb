{
 "cells": [
  {
   "cell_type": "code",
   "execution_count": null,
   "id": "9f7e08e1-b714-452f-8d33-e46404f07409",
   "metadata": {},
   "outputs": [],
   "source": [
    "%env PYTORCH_ENABLE_MPS_FALLBACK=1"
   ]
  },
  {
   "cell_type": "code",
   "execution_count": null,
   "id": "f66872e0-fa7d-4536-939d-a48c65711c15",
   "metadata": {},
   "outputs": [],
   "source": [
    "import warnings\n",
    "warnings.filterwarnings('ignore')"
   ]
  },
  {
   "cell_type": "code",
   "execution_count": null,
   "id": "e317c383-2c60-4f58-8b38-96f5e3c50aad",
   "metadata": {},
   "outputs": [],
   "source": [
    "import numpy as np\n",
    "from matplotlib import pyplot as plt\n",
    "import math\n",
    "import lightning as L\n",
    "from sklearn.datasets import make_moons\n",
    "from torch.utils.data import DataLoader, Dataset, random_split\n",
    "import sys\n",
    "import torch\n",
    "from torch.distributions import MultivariateNormal\n",
    "sys.path.append(\"..\")\n",
    "from src.utils import MoonsDataset\n",
    "from src.model import RealNVP"
   ]
  },
  {
   "cell_type": "code",
   "execution_count": null,
   "id": "5874a32a-fa90-49be-ab44-36786a15a865",
   "metadata": {},
   "outputs": [],
   "source": [
    "mps_device = torch.device(\"mps\")"
   ]
  },
  {
   "cell_type": "markdown",
   "id": "ff244f9a-9779-4f0a-a258-31ec0e006fa1",
   "metadata": {},
   "source": [
    "### Unconditional Moons"
   ]
  },
  {
   "cell_type": "code",
   "execution_count": null,
   "id": "d2139ec6-df98-4401-81f6-60b3a56f5ddd",
   "metadata": {},
   "outputs": [],
   "source": [
    "N = 2000\n",
    "a = int(N * 0.8)\n",
    "b = N - a\n",
    "dataset = MoonsDataset(n_sample=N, random_state=3)\n",
    "train_data, val_data = random_split(dataset, [a, b])\n",
    "train_loader = DataLoader(train_data, batch_size=200)\n",
    "val_loader = DataLoader(val_data, batch_size=b)"
   ]
  },
  {
   "cell_type": "code",
   "execution_count": null,
   "id": "f1ff6722-8f46-4f52-9ca4-4de1a45abc95",
   "metadata": {},
   "outputs": [],
   "source": [
    "m = np.array(dataset.data)\n",
    "plt.scatter(m[:, 0], m[:, 1], alpha=0.1)\n",
    "plt.show()"
   ]
  },
  {
   "cell_type": "code",
   "execution_count": null,
   "id": "d9825e15-3b91-4ff0-a0fc-b105cc1a6ada",
   "metadata": {},
   "outputs": [],
   "source": [
    "model = RealNVP(d_model=64, n_layers=4, d_x=2)\n",
    "trainer = L.Trainer(max_epochs=200, log_every_n_steps=1)\n",
    "trainer.fit(model, train_loader, val_loader)"
   ]
  },
  {
   "cell_type": "code",
   "execution_count": null,
   "id": "5a94ee98-b7aa-499b-9813-aca3690a23e2",
   "metadata": {},
   "outputs": [],
   "source": [
    "x, y = torch.meshgrid(\n",
    "    torch.arange(-1.2,2.5,0.1), \n",
    "    torch.arange(-1.25,1.5,0.1),\n",
    "    indexing='xy'\n",
    ")\n",
    "grid = torch.stack((x, y), dim=-1).flatten(end_dim=1)"
   ]
  },
  {
   "cell_type": "code",
   "execution_count": null,
   "id": "e7bb9428-e52f-458a-bba5-d302736b2e7c",
   "metadata": {},
   "outputs": [],
   "source": [
    "with torch.no_grad():\n",
    "    Z, log_det = model(grid)\n",
    "log_probs = model.log_prob(Z.to(mps_device), log_det.to(mps_device))"
   ]
  },
  {
   "cell_type": "code",
   "execution_count": null,
   "id": "ef03373a-7a11-461f-a9c7-0d1b730e8547",
   "metadata": {},
   "outputs": [],
   "source": [
    "z = log_probs.cpu().view(*x.shape)"
   ]
  },
  {
   "cell_type": "code",
   "execution_count": null,
   "id": "70cef902-4326-4a7e-8f9d-fdf22ca78a90",
   "metadata": {},
   "outputs": [],
   "source": [
    "plt.pcolormesh(x, y, np.exp(z))\n",
    "plt.show()"
   ]
  },
  {
   "cell_type": "code",
   "execution_count": null,
   "id": "8a408864-5568-466c-b384-c66a5248a597",
   "metadata": {},
   "outputs": [],
   "source": [
    "with torch.no_grad():\n",
    "    sample = model.to(mps_device).sample((400,))"
   ]
  },
  {
   "cell_type": "code",
   "execution_count": null,
   "id": "d27e7759-bcb3-4fe6-80fb-00491565a3a2",
   "metadata": {},
   "outputs": [],
   "source": [
    "plt.scatter(sample[:, 0].cpu(), sample[:, 1].cpu(), alpha=0.5)"
   ]
  },
  {
   "cell_type": "markdown",
   "id": "766c85fb-41f7-4582-aca2-28a59464936e",
   "metadata": {},
   "source": [
    "### Conditional Moons"
   ]
  },
  {
   "cell_type": "code",
   "execution_count": null,
   "id": "6613a920-52ce-4e77-b7cd-2ba78b0dadce",
   "metadata": {},
   "outputs": [],
   "source": [
    "N = 200\n",
    "a = np.random.uniform(low=-math.pi/2, high=math.pi/2, size=N)\n",
    "r = np.random.normal(loc=0.1, scale=0.01, size=N)\n",
    "p = np.stack([r * np.cos(a) + 0.25, r * np.sin(a)])"
   ]
  },
  {
   "cell_type": "code",
   "execution_count": null,
   "id": "cab6ef2a-6296-41d3-b5f4-548c8ce6781f",
   "metadata": {},
   "outputs": [],
   "source": [
    "plt.scatter(p[0], p[1])"
   ]
  },
  {
   "cell_type": "code",
   "execution_count": null,
   "id": "5118b82e-1a99-4b3e-b265-d9f49db0a371",
   "metadata": {},
   "outputs": [],
   "source": [
    "plt.scatter(p[0], p[1])"
   ]
  },
  {
   "cell_type": "code",
   "execution_count": null,
   "id": "0fb7d5c6-1d22-488a-bbb4-bb53ce580126",
   "metadata": {},
   "outputs": [],
   "source": [
    "plt.scatter(p[0] - p[1], p[0] + p[1])\n",
    "plt.scatter(- p[0] + p[1], - p[0] - p[1])"
   ]
  },
  {
   "cell_type": "code",
   "execution_count": null,
   "id": "f5cf6e36-01bf-45fb-961c-c33bc9e85444",
   "metadata": {},
   "outputs": [],
   "source": [
    "# latents \n",
    "theta = np.random.uniform(-1, 1, (2, N))\n",
    "b0 = (-theta[0] + theta[1]) / math.sqrt(2)\n",
    "b1 = -(np.abs(theta[0] + theta[1])) / math.sqrt(2)"
   ]
  },
  {
   "cell_type": "code",
   "execution_count": null,
   "id": "4d2cd381-40e3-4a56-9cac-beb1015883b4",
   "metadata": {},
   "outputs": [],
   "source": [
    "x = np.stack([\n",
    "    p[0] + b0, p[1] + b1\n",
    "])"
   ]
  },
  {
   "cell_type": "code",
   "execution_count": null,
   "id": "1752e318-efd4-4ce5-b127-c58ac29e33a3",
   "metadata": {},
   "outputs": [],
   "source": [
    "plt.scatter(x[0], x[1])"
   ]
  },
  {
   "cell_type": "code",
   "execution_count": null,
   "id": "48bc94e5-d422-4f45-943e-1fc10d9f8799",
   "metadata": {},
   "outputs": [],
   "source": []
  }
 ],
 "metadata": {
  "language_info": {
   "name": "python"
  }
 },
 "nbformat": 4,
 "nbformat_minor": 5
}
