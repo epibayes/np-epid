{
 "cells": [
  {
   "cell_type": "code",
   "execution_count": 2,
   "id": "c2be3b4e-8068-4ebd-8f80-3348a90cec07",
   "metadata": {},
   "outputs": [],
   "source": [
    "import numpy as np\n",
    "from scipy.stats import norm"
   ]
  },
  {
   "cell_type": "code",
   "execution_count": 10,
   "id": "4174ff76-bf4f-4cf5-89db-79d452c4d1d3",
   "metadata": {},
   "outputs": [
    {
     "data": {
      "text/plain": [
       "(0.07101574777041003, 1.9057080645569497)"
      ]
     },
     "execution_count": 10,
     "metadata": {},
     "output_type": "execute_result"
    }
   ],
   "source": [
    "mu = -1\n",
    "sigma = 1\n",
    "dist = norm(mu, sigma)\n",
    "np.exp(dist.ppf(.05)), np.exp(dist.ppf(.95))"
   ]
  },
  {
   "cell_type": "code",
   "execution_count": 12,
   "id": "8203f6c0-3642-47e9-be0a-e7ba82449851",
   "metadata": {},
   "outputs": [
    {
     "data": {
      "text/plain": [
       "0.6065306597126334"
      ]
     },
     "execution_count": 12,
     "metadata": {},
     "output_type": "execute_result"
    }
   ],
   "source": [
    "np.exp(-0.5)"
   ]
  },
  {
   "cell_type": "code",
   "execution_count": 9,
   "id": "f145bf9c-39ca-4d3c-a048-db5787919df8",
   "metadata": {},
   "outputs": [
    {
     "data": {
      "text/plain": [
       "(0.6622569849209444, 1.2537030395852222)"
      ]
     },
     "execution_count": 9,
     "metadata": {},
     "output_type": "execute_result"
    }
   ],
   "source": [
    "mu = -0.093\n",
    "sigma = .194\n",
    "dist = norm(mu, sigma)\n",
    "np.exp(dist.ppf(.05)), np.exp(dist.ppf(.95))"
   ]
  }
 ],
 "metadata": {
  "kernelspec": {
   "display_name": "Python 3 (ipykernel)",
   "language": "python",
   "name": "python3"
  },
  "language_info": {
   "codemirror_mode": {
    "name": "ipython",
    "version": 3
   },
   "file_extension": ".py",
   "mimetype": "text/x-python",
   "name": "python",
   "nbconvert_exporter": "python",
   "pygments_lexer": "ipython3",
   "version": "3.11.7"
  }
 },
 "nbformat": 4,
 "nbformat_minor": 5
}
