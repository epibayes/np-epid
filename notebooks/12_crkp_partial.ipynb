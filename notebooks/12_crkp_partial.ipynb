{
 "cells": [
  {
   "cell_type": "code",
   "execution_count": null,
   "id": "b2b3617b-5b86-4c2b-839a-5c9b6102c38e",
   "metadata": {},
   "outputs": [],
   "source": [
    "import pandas as pd\n",
    "import numpy as np\n",
    "from matplotlib import pyplot as plt\n",
    "\n",
    "pd.set_option('display.max_columns', None)\n"
   ]
  },
  {
   "cell_type": "code",
   "execution_count": null,
   "id": "7a148dc8-9914-4380-bbb8-b370fe16d9f6",
   "metadata": {},
   "outputs": [],
   "source": [
    "epi_dir = '/Volumes/umms-esnitkin/Project_KPC_LTACH/Analysis/LTACH_transmission_modeling'\n",
    "clinical = pd.read_excel(f\"{epi_dir}/data/KPCLTACH_C_ClinicalMicro-2.xlsx\")\n",
    "infections = pd.read_csv(f\"{epi_dir}/preprocessed/resampled/infections.csv\", index_col=0)\n",
    "screening = pd.read_csv(f\"{epi_dir}/preprocessed/resampled/screening.csv\", index_col=0)\n",
    "facility_trace = pd.read_csv(f\"{epi_dir}/preprocessed/resampled/facility_trace.csv\", index_col=0)\n",
    "floor_trace = pd.read_csv(f\"{epi_dir}/preprocessed/resampled/floor_trace.csv\", index_col=0)\n",
    "room_trace = pd.read_csv(f\"{epi_dir}/preprocessed/resampled/room_trace.csv\", index_col=0)"
   ]
  },
  {
   "cell_type": "code",
   "execution_count": null,
   "id": "633f7fb2-1453-43d7-9d16-8d3a695aa854",
   "metadata": {},
   "outputs": [],
   "source": [
    "invasive = clinical[(clinical[\"ORG\"] == \"Klebsiella pneumoniae\") & (clinical[\"Carbapenem_R\"] == 1)]"
   ]
  },
  {
   "cell_type": "code",
   "execution_count": null,
   "id": "a8b89fc9-97f2-4e43-a8df-46a702761613",
   "metadata": {},
   "outputs": [],
   "source": [
    "len(invasive[\"WGS_StudyID\"].unique())"
   ]
  },
  {
   "cell_type": "code",
   "execution_count": null,
   "id": "04fcb433-e20e-44da-bc71-06747c305e1d",
   "metadata": {},
   "outputs": [],
   "source": [
    "invasive[\"WGS_StudyID\"].unique()"
   ]
  },
  {
   "cell_type": "code",
   "execution_count": null,
   "id": "3dbcb3c9-cc6f-44e7-9f18-f27af8a95a77",
   "metadata": {},
   "outputs": [],
   "source": [
    "invasive_patients = set(invasive[\"WGS_StudyID\"].unique())"
   ]
  },
  {
   "cell_type": "code",
   "execution_count": null,
   "id": "77f12817-4b80-4163-a94c-fccda179085f",
   "metadata": {},
   "outputs": [],
   "source": [
    "infections.loc[1].first_valid_index()"
   ]
  },
  {
   "cell_type": "code",
   "execution_count": null,
   "id": "a88bd42e-a9db-4165-b008-13216efd1657",
   "metadata": {},
   "outputs": [],
   "source": [
    "infections.loc[1].loc[\"0\"]"
   ]
  },
  {
   "cell_type": "code",
   "execution_count": null,
   "id": "5f4e4e68-cfd6-4a18-b734-31ce1f71b6c5",
   "metadata": {},
   "outputs": [],
   "source": [
    "infections.loc[1].argmax()"
   ]
  },
  {
   "cell_type": "code",
   "execution_count": null,
   "id": "1daf6d12-1228-4e9a-8a56-7a36caebdad2",
   "metadata": {},
   "outputs": [],
   "source": [
    "screened = 0\n",
    "for _, r in infections.iterrows():\n",
    "    i = r.first_valid_index()\n",
    "    if r.loc[i] == 1:\n",
    "        screened += 1\n",
    "screened"
   ]
  },
  {
   "cell_type": "code",
   "execution_count": null,
   "id": "881ab2bc-1032-4550-b758-1303de051fde",
   "metadata": {},
   "outputs": [],
   "source": [
    "139 + 97"
   ]
  },
  {
   "cell_type": "code",
   "execution_count": null,
   "id": "05943f92-057d-4c64-83de-5513727b7a11",
   "metadata": {},
   "outputs": [],
   "source": [
    "invasive_patients & set(infections.index)"
   ]
  },
  {
   "cell_type": "code",
   "execution_count": null,
   "id": "ec407156-fd73-40ca-9d97-ae86585f5520",
   "metadata": {},
   "outputs": [],
   "source": [
    "(infections == 1).any(axis=1).sum()"
   ]
  },
  {
   "cell_type": "code",
   "execution_count": null,
   "id": "1e2b0a0a-165d-44a9-9fda-127331c302bb",
   "metadata": {},
   "outputs": [],
   "source": []
  }
 ],
 "metadata": {
  "language_info": {
   "name": "python"
  }
 },
 "nbformat": 4,
 "nbformat_minor": 5
}
