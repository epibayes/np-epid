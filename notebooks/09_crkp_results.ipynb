{
 "cells": [
  {
   "cell_type": "code",
   "execution_count": null,
   "id": "c2be3b4e-8068-4ebd-8f80-3348a90cec07",
   "metadata": {},
   "outputs": [],
   "source": [
    "import numpy as np\n",
    "from scipy.stats import norm, lognorm, multivariate_normal\n",
    "import matplotlib.pyplot as plt\n",
    "import seaborn as sns\n",
    "import pandas as pd\n",
    "import sys\n",
    "sys.path.append(\"..\")\n",
    "from src.dataset import CRKPTransmissionSimulator\n",
    "from src.approx_bc import abc_rejection_sampler\n",
    "from src.utils import get_results\n",
    "from timeit import default_timer as timer\n",
    "import matplotlib.gridspec as gs"
   ]
  },
  {
   "cell_type": "code",
   "execution_count": null,
   "id": "89e15411-f275-44b0-bc00-b400d86662ce",
   "metadata": {},
   "outputs": [],
   "source": [
    "## load data\n",
    "epi_dir = '/Volumes/umms-esnitkin/Project_KPC_LTACH/Analysis/LTACH_transmission_modeling/preprocessed/resampled'\n",
    "\n",
    "SCALE = np.array([129., 28., 38., 35., 27., 17., 2])\n",
    "\n",
    "labels_full = [\"Facility\", \"Floor 1\", \"Floor 2\", \"Floor 3\", \"Floor 4\", \"SCU\", \"Room\"]"
   ]
  },
  {
   "cell_type": "code",
   "execution_count": null,
   "id": "c848ad8e-970c-4b26-bb0b-056acec691ec",
   "metadata": {},
   "outputs": [],
   "source": [
    "with open(f\"{epi_dir}/observed_data.npy\", \"rb\") as f:\n",
    "            x_o = (np.load(f).T / SCALE).T"
   ]
  },
  {
   "cell_type": "code",
   "execution_count": null,
   "id": "df0f895a-7e06-4370-8656-193b94cf7943",
   "metadata": {},
   "outputs": [],
   "source": [
    "load_abc_homog = True\n",
    "load_abc_het = True"
   ]
  },
  {
   "cell_type": "markdown",
   "id": "69ee59d2-1753-4248-8e30-4a3d43fc6cb4",
   "metadata": {},
   "source": [
    "# Data Visualization"
   ]
  },
  {
   "cell_type": "code",
   "execution_count": null,
   "id": "5c58b183-0920-4a35-945f-48132bbd488f",
   "metadata": {},
   "outputs": [],
   "source": [
    "crkp_model = CRKPTransmissionSimulator(epi_dir, 0, 1, heterogeneous=False)\n",
    "x_baseline = crkp_model.CRKP_simulator(-1e8, 100, summarize=True)\n",
    "\n",
    "infections = pd.read_csv(f\"{epi_dir}/infections.csv\", index_col=0)\n",
    "infections.columns=np.arange(53)"
   ]
  },
  {
   "cell_type": "code",
   "execution_count": null,
   "id": "f36a7206-5776-4bf3-92b8-70e29e94a5d0",
   "metadata": {},
   "outputs": [],
   "source": [
    "# figure out who is initially infected\n",
    "T = infections.shape[1]\n",
    "initial = np.zeros(T)\n",
    "starting_index = infections.index[infections[0] == 1]\n",
    "discharged = np.zeros(len(starting_index)).astype(bool)\n",
    "for t in range(T):\n",
    "    for i, ix in enumerate(starting_index):\n",
    "        if discharged[i]:\n",
    "            continue\n",
    "        elif np.isnan(infections.loc[ix, t]):\n",
    "            # print(ix, t)\n",
    "            discharged[i] = True\n",
    "    initial[t] = (1 - discharged).sum()"
   ]
  },
  {
   "cell_type": "code",
   "execution_count": null,
   "id": "883faa48-0562-48d1-8cdd-a401197dc04c",
   "metadata": {},
   "outputs": [],
   "source": [
    "NN = infections.notna().sum(0)\n",
    "II = (infections == 1).sum(0)\n",
    "sns.lineplot(NN, linestyle=\"--\", label=\"Total\")\n",
    "sns.lineplot(II, label=\"Infected\")\n",
    "sns.lineplot(x_baseline * SCALE[0] - initial, linestyle=\":\", label=\"Screened Cases\")\n",
    "sns.lineplot(initial, linestyle=\"dashdot\", label=\"Initial Cases\")\n",
    "plt.ylim(bottom=0)\n",
    "plt.ylabel(\"Patients\")\n",
    "plt.xlabel(\"Weeks\")\n",
    "# plt.savefig(\"images/crkp/crkp.png\")\n",
    "plt.xlim(right=53)\n",
    "plt.show()"
   ]
  },
  {
   "cell_type": "code",
   "execution_count": null,
   "id": "02d9d8ae-52b4-4b69-a113-88b61dc7f2de",
   "metadata": {},
   "outputs": [],
   "source": [
    "floor_pops = []\n",
    "for i in [1,2,3,4,5]:\n",
    "    floor_pops.append((crkp_model.F == i).sum(0))\n",
    "floor_pops = np.stack(floor_pops)\n",
    "\n",
    "floor_cases = x_o[1:6,]"
   ]
  },
  {
   "cell_type": "code",
   "execution_count": null,
   "id": "5884771a-d973-455b-b59b-a643c302ecc4",
   "metadata": {},
   "outputs": [],
   "source": [
    "floor_pops.mean(1)"
   ]
  },
  {
   "cell_type": "code",
   "execution_count": null,
   "id": "6a87928e-1b0b-4ae2-8b2e-c40887411619",
   "metadata": {},
   "outputs": [],
   "source": [
    "labels=[\"Floor 1\", \"Floor 2\", \"Floor 3\", \"Floor 4\", \"SCU\"]\n",
    "for i, label  in enumerate(labels):\n",
    "    # temp_pop = np.where(floor_pops[i] == 0, 1, floor_pops[i])\n",
    "    plt.plot(floor_pops[i], label=label, linestyle=\"-\", alpha=0.6)\n",
    "plt.legend()\n",
    "plt.xlabel(\"Weeks\")\n",
    "plt.ylabel(\"Patients\")\n",
    "# plt.savefig(\"images/crkp/floor_pops.png\")\n",
    "plt.show()"
   ]
  },
  {
   "cell_type": "code",
   "execution_count": null,
   "id": "d7d0df95-2d72-4ccf-ac6e-a98a65e50dfe",
   "metadata": {},
   "outputs": [],
   "source": [
    "labels=[\"Floor 1\", \"Floor 2\", \"Floor 3\", \"Floor 4\", \"SCU\"]\n",
    "for i, label  in enumerate(labels):\n",
    "    # temp_pop = np.where(floor_pops[i] == 0, 1, floor_pops[i])\n",
    "    plt.plot(floor_cases[i], label=label, linestyle=\"--\")\n",
    "plt.legend()\n",
    "plt.show()"
   ]
  },
  {
   "cell_type": "code",
   "execution_count": null,
   "id": "c5fa345d-1a3e-4682-a89d-16f4b053e5d1",
   "metadata": {},
   "outputs": [],
   "source": [
    "# average case burden\n",
    "for i, lab in enumerate(labels):\n",
    "    temp_pop = np.where(floor_pops[i] == 0, 1, floor_pops[i])\n",
    "    avg_burden = np.median(floor_cases[i] * SCALE[1:6][i] / temp_pop) # median is clearer\n",
    "    print(f\"{lab}: {avg_burden:.2f}\")\n",
    "\n",
    "print(np.median(II / NN))"
   ]
  },
  {
   "cell_type": "markdown",
   "id": "35136078-f701-4abf-9f19-3c03e293955a",
   "metadata": {},
   "source": [
    "# NPE"
   ]
  },
  {
   "cell_type": "markdown",
   "id": "c4d4fe5a-cef5-4777-8316-8b95494cb865",
   "metadata": {},
   "source": [
    "## Homogeneous"
   ]
  },
  {
   "cell_type": "code",
   "execution_count": null,
   "id": "4174ff76-bf4f-4cf5-89db-79d452c4d1d3",
   "metadata": {},
   "outputs": [],
   "source": [
    "prior_mu = -2\n",
    "prior_sigma = 1\n",
    "crkp_model = CRKPTransmissionSimulator(epi_dir, prior_mu, prior_sigma, heterogeneous=False)"
   ]
  },
  {
   "cell_type": "code",
   "execution_count": null,
   "id": "ac572225-839e-494d-a69e-388acd1ccb99",
   "metadata": {},
   "outputs": [],
   "source": [
    "mu = -2.056\n",
    "sigma = 0.124\n",
    "\n",
    "d = norm(loc = mu, scale = sigma)\n",
    "print(np.exp(d.ppf(0.05)), np.exp(d.ppf(0.95)))\n",
    "print(np.exp(mu + sigma**2/2))"
   ]
  },
  {
   "cell_type": "code",
   "execution_count": null,
   "id": "93fc9036-6f6f-48f2-a663-667aca093a74",
   "metadata": {},
   "outputs": [],
   "source": [
    "np.exp(-2.056 + 0.124**2/2)"
   ]
  },
  {
   "cell_type": "code",
   "execution_count": null,
   "id": "8c8cb497-59fd-415b-9aa8-2b9d3c7037c1",
   "metadata": {},
   "outputs": [],
   "source": [
    "prior_mean = np.exp(prior_mu + prior_sigma**2/2)\n",
    "prior = norm(prior_mu, prior_sigma)\n",
    "x = np.arange(0., .5, 0.001)\n",
    "ax1 = sns.lineplot(x=x, y=lognorm.pdf(x, scale=np.exp(prior_mu), s=prior_sigma), \n",
    "                   label=\"Prior Density\", linestyle=\":\")\n",
    "posterior_mean = np.exp(mu + sigma**2/2)\n",
    "plt.axvline(prior_mean, color=\"k\", linestyle=\":\", label=\"Prior Mean\")\n",
    "ax = sns.lineplot(x=x, y=lognorm.pdf(x, scale=np.exp(mu), s=sigma), label=\"Neural Posterior Density\")\n",
    "plt.axvline(posterior_mean, color=\"k\", label=\"Neural Posterior Mean\")\n",
    "ax.set_xlabel(r\"Infection Rate $\\beta$\")\n",
    "ax.set_yticks([])\n",
    "plt.legend()\n",
    "# plt.savefig(\"images/crkp_homog.png\")\n",
    "plt.show()"
   ]
  },
  {
   "cell_type": "markdown",
   "id": "1e5a0287-499e-4065-8ba1-0b685180b116",
   "metadata": {},
   "source": [
    "### prior predictive checks"
   ]
  },
  {
   "cell_type": "code",
   "execution_count": null,
   "id": "968f608d-09d7-4ef8-8fff-c37b4d1dd58c",
   "metadata": {},
   "outputs": [],
   "source": [
    "prior = norm(prior_mu, prior_sigma)\n",
    "K = 30\n",
    "T = x_o.shape[1]\n",
    "prior_sample = prior.rvs(size=K, random_state=2)\n",
    "prior_predictive = np.empty((K, 7, T))\n",
    "for i in range(K):\n",
    "    x_rep = crkp_model.CRKP_simulator(prior_sample[i], i, True) * np.repeat(SCALE[:, None], T, 1)\n",
    "    prior_predictive[i] =  np.array(x_rep)"
   ]
  },
  {
   "cell_type": "code",
   "execution_count": null,
   "id": "2d6288a8-2f85-438f-ac46-19ffa3c1e75c",
   "metadata": {},
   "outputs": [],
   "source": [
    "for j in range(7):\n",
    "    pp_mean = prior_predictive.mean(0)[j]\n",
    "    labels = [\"Prior Pred. Draw\"] + [None for _ in range(K-1)]\n",
    "    I_o = np.array(x_o)[j] * SCALE[j]\n",
    "    plt.plot(I_o, label=\"Observed\", color=\"k\")\n",
    "    plt.plot(prior_predictive[:, j, :].T, \n",
    "             label=labels, color=\"b\",\n",
    "             alpha=0.1)\n",
    "    plt.plot(pp_mean, label=\"Prior. Pred. Mean\", linestyle=\"--\",\n",
    "             color=\"orange\")\n",
    "    plt.legend()\n",
    "    if j == 6:\n",
    "        ylab = \"Infected Roommates\"\n",
    "    else:\n",
    "        ylab = \"Infected Patients\"\n",
    "    plt.ylabel(ylab)\n",
    "    plt.xlabel(\"Time Steps\")\n",
    "    # plt.savefig(\"images/crkp_ppc1.png\")\n",
    "    plt.show()"
   ]
  },
  {
   "cell_type": "markdown",
   "id": "32be41a8-fdf3-4235-be8c-56ed3205e54e",
   "metadata": {},
   "source": [
    "### posterior predictive checks"
   ]
  },
  {
   "cell_type": "code",
   "execution_count": null,
   "id": "559ba07b-cc27-46e8-a4c9-901ef5fd92b2",
   "metadata": {},
   "outputs": [],
   "source": [
    "neural_posterior = norm(mu, sigma)\n",
    "npe_sample = neural_posterior.rvs(size=K, random_state=2)\n",
    "posterior_predictive = np.empty((K,7,T))\n",
    "for i in range(K):\n",
    "    x_rep = crkp_model.CRKP_simulator(npe_sample[i], i, True) * np.repeat(SCALE[:, None], T, 1)\n",
    "    posterior_predictive[i] =  np.array(x_rep)"
   ]
  },
  {
   "cell_type": "code",
   "execution_count": null,
   "id": "15335c48-b738-4599-9e50-9bd66a0e5d09",
   "metadata": {},
   "outputs": [],
   "source": [
    "for j in range(7):\n",
    "    pp_mean = posterior_predictive.mean(0)[j]\n",
    "    labels = [\"Post. Pred. Draw\"] + [None for _ in range(K-1)]\n",
    "    I_o = np.array(x_o)[j] * SCALE[j]\n",
    "    plt.plot(I_o, label=\"Observed\", color=\"k\")\n",
    "    plt.plot(posterior_predictive[:, j, :].T, \n",
    "             label=labels, color=\"b\",\n",
    "             alpha=0.1)\n",
    "    plt.plot(pp_mean, label=\"Post. Pred. Mean\", linestyle=\"--\",\n",
    "             color=\"orange\")\n",
    "    plt.legend()\n",
    "    if j == 6:\n",
    "        ylab = \"Infected Rooms\"\n",
    "    else:\n",
    "        ylab = \"Infected Patients\"\n",
    "    plt.ylabel(ylab)\n",
    "    plt.xlabel(\"Weeks\")\n",
    "    plt.savefig(f\"images/crkp/crkp_ppc_homog{j}.png\")\n",
    "    # plt.ylim(0, 135)\n",
    "    plt.show()"
   ]
  },
  {
   "cell_type": "markdown",
   "id": "f7ea7f43-4dc7-4504-bf5e-df8eabf97ff2",
   "metadata": {},
   "source": [
    "## Heterogeneous"
   ]
  },
  {
   "cell_type": "code",
   "execution_count": null,
   "id": "2569735d-9460-4d29-85a9-a292676a55bd",
   "metadata": {},
   "outputs": [],
   "source": [
    "prior_mu = -3\n",
    "prior_sigma = 1"
   ]
  },
  {
   "cell_type": "markdown",
   "id": "120e6c24-336d-45a8-ad25-25ff85ed3df7",
   "metadata": {},
   "source": [
    "#### prior predictive checks"
   ]
  },
  {
   "cell_type": "code",
   "execution_count": null,
   "id": "011fd6a8-7db8-4b97-85b7-9575c90ac78a",
   "metadata": {},
   "outputs": [],
   "source": [
    "crkp_model = CRKPTransmissionSimulator(epi_dir, prior_mu, prior_sigma, heterogeneous=True)\n",
    "prior_het = multivariate_normal(\n",
    "    np.full((7,), prior_mu), \n",
    "    np.diag(np.full((7,), prior_sigma))\n",
    ")\n",
    "K = 30\n",
    "T = x_o.shape[1]\n",
    "prior_sample_het = prior_het.rvs(size=K, random_state=2)\n",
    "prior_predictive_het = np.empty((K, 7, T))\n",
    "for i in range(K):\n",
    "    x_rep = crkp_model.CRKP_simulator(prior_sample_het[i], i) * np.repeat(SCALE[:, None], T, 1)\n",
    "    prior_predictive_het[i] = np.array(x_rep)"
   ]
  },
  {
   "cell_type": "code",
   "execution_count": null,
   "id": "7d186caa-80c4-4f86-92f7-41ea088e6bea",
   "metadata": {},
   "outputs": [],
   "source": [
    "for j in range(7):\n",
    "    pp_mean = prior_predictive_het.mean(0)[j]\n",
    "    labels = [\"Prior Pred. Draw\"] + [None for _ in range(K-1)]\n",
    "    I_o = np.array(x_o)[j] * SCALE[j]\n",
    "    plt.plot(I_o, label=\"Observed\", color=\"k\")\n",
    "    plt.plot(prior_predictive_het[:, j, :].T, \n",
    "             label=labels, color=\"b\",\n",
    "             alpha=0.1)\n",
    "    plt.plot(pp_mean, label=\"Prior Pred. Mean\", linestyle=\"--\",\n",
    "             color=\"orange\")\n",
    "    plt.legend()\n",
    "    if j == 6:\n",
    "        ylab = \"Infected Roommates\"\n",
    "    else:\n",
    "        ylab = \"Infected Patients\"\n",
    "    plt.ylabel(ylab)\n",
    "    plt.xlabel(\"Weeks\")\n",
    "    if j == 0:\n",
    "        pass\n",
    "        # plt.savefig(f\"images/crkp/crkp_prior_pc.png\")\n",
    "    plt.show()"
   ]
  },
  {
   "cell_type": "code",
   "execution_count": null,
   "id": "e2fc6f0b-6d15-4634-bf7c-c7f45f7d14ba",
   "metadata": {},
   "outputs": [],
   "source": [
    "# df_het = get_results(\"../multirun/2024-12-04/14-09-03\") \n",
    "# df_het.sort_values(\"val_loss\", inplace=True)\n",
    "\n",
    "df_het = get_results(\"../multirun/2025-03-05/17-58-13/\")\n",
    "df_het.sort_values(\"val_loss\", inplace=True)"
   ]
  },
  {
   "cell_type": "code",
   "execution_count": null,
   "id": "0c285d1d-80f8-4708-b017-f39bce57462c",
   "metadata": {},
   "outputs": [],
   "source": [
    "mu = df_het[\"mu\"][0][0]\n",
    "sigma = df_het[\"sigma\"][0]"
   ]
  },
  {
   "cell_type": "code",
   "execution_count": null,
   "id": "f345d2b4-a3e4-47dd-a6d1-a350daaf908b",
   "metadata": {},
   "outputs": [],
   "source": [
    "m1 = np.array(mu)\n",
    "s1 = np.array([sigma[i][i] for i in range(7)])\n",
    "rates = np.exp(mu + s1/2)"
   ]
  },
  {
   "cell_type": "code",
   "execution_count": null,
   "id": "ccaa8525-9d22-4297-8a1b-38ec498044da",
   "metadata": {},
   "outputs": [],
   "source": [
    "# rough R_0 estimate\n",
    "np.sum(SCALE[1:5] * rates[1:5]) / np.sum(SCALE[1:5]) + rates[0] + rates[-1]"
   ]
  },
  {
   "cell_type": "markdown",
   "id": "6e92abba-f700-4d84-bdf8-78f10ffcf049",
   "metadata": {},
   "source": [
    "#### posterior predictive checks"
   ]
  },
  {
   "cell_type": "code",
   "execution_count": null,
   "id": "6ab87002-606d-473c-bdf6-04fd88ddad65",
   "metadata": {},
   "outputs": [],
   "source": [
    "crkp_model = CRKPTransmissionSimulator(epi_dir, prior_mu, prior_sigma, heterogeneous=True)\n",
    "neural_posterior_het = multivariate_normal(mu, sigma)\n",
    "npe_sample_het = neural_posterior_het.rvs(size=K, random_state=2)\n",
    "posterior_predictive_het = np.empty((K, 7, T))\n",
    "for i in range(K):\n",
    "    x_rep = crkp_model.CRKP_simulator(npe_sample_het[i], i) * np.repeat(SCALE[:, None], T, 1) \n",
    "    posterior_predictive_het[i] =  np.array(x_rep)"
   ]
  },
  {
   "cell_type": "code",
   "execution_count": null,
   "id": "68895ca2-17a6-45f5-b51f-806d13bc616c",
   "metadata": {},
   "outputs": [],
   "source": [
    "for j in range(7):\n",
    "    pp_mean = posterior_predictive_het.mean(0)[j]\n",
    "    labels = [\"Post. Pred. Draw\"] + [None for _ in range(K-1)]\n",
    "    I_o = np.array(x_o)[j] * SCALE[j]\n",
    "    plt.plot(I_o, label=\"Observed\", color=\"k\")\n",
    "    plt.plot(posterior_predictive_het[:, j, :].T, \n",
    "             label=labels, color=\"b\",\n",
    "             alpha=0.1)\n",
    "    plt.plot(pp_mean, label=\"Post. Pred. Mean\", linestyle=\"--\",\n",
    "             color=\"orange\")\n",
    "    # sns.lineplot(NN, color=\"green\", linestyle=\"--\", label=\"Total\")\n",
    "    plt.legend()\n",
    "    if j == 6:\n",
    "        ylab = \"Infected Rooms\"\n",
    "    else:\n",
    "        ylab = \"Infected Patients\"\n",
    "    plt.ylabel(ylab)\n",
    "    plt.xlabel(\"Weeks\")\n",
    "    # plt.savefig(f\"images/crkp/crkp_ppc_het{j}.png\")\n",
    "    plt.show()"
   ]
  },
  {
   "cell_type": "code",
   "execution_count": null,
   "id": "f2847480-8c41-4c5b-892b-654ad2afa006",
   "metadata": {},
   "outputs": [],
   "source": [
    "for j in range(7):\n",
    "    pp_mean = posterior_predictive_het.mean(0)[j]\n",
    "    labels = [\"Post. Pred. Draw\"] + [None for _ in range(K-1)]\n",
    "    I_o = np.array(x_o)[j] * SCALE[j]\n",
    "    plt.plot(I_o, label=\"Observed\", color=\"k\")\n",
    "    plt.plot(posterior_predictive_het[:, j, :].T, \n",
    "             label=labels, color=\"b\",\n",
    "             alpha=0.1)\n",
    "    plt.plot(pp_mean, label=\"Post. Pred. Mean\", linestyle=\"--\",\n",
    "             color=\"orange\")\n",
    "    # sns.lineplot(NN, color=\"green\", linestyle=\"--\", label=\"Total\")\n",
    "    plt.legend()\n",
    "    if j == 6:\n",
    "        ylab = \"Infected Rooms\"\n",
    "    else:\n",
    "        ylab = \"Infected Patients\"\n",
    "    plt.ylabel(ylab)\n",
    "    plt.xlabel(\"Weeks\")\n",
    "    # plt.savefig(f\"images/crkp/crkp_ppc_het{j}.png\")\n",
    "    plt.show()"
   ]
  },
  {
   "cell_type": "markdown",
   "id": "ffe0005a-5579-40df-981e-2e43d3e3c055",
   "metadata": {},
   "source": [
    "## Interventions"
   ]
  },
  {
   "cell_type": "code",
   "execution_count": null,
   "id": "bcbcc5a3-3493-46f9-9f75-928a2bf8b6d2",
   "metadata": {},
   "outputs": [],
   "source": [
    "pis = [\n",
    "    [.2, 1, 1, 1, 1, 1, 1],\n",
    "    [1, 1, 1, .2, 1, 1, 1],\n",
    "    [1, 1, 1, 1, 1, 1, .2],\n",
    "    [.2, .2, .2, .2, .2, .2, 1],\n",
    "    [1e-8, 1e-8, 1e-8, 1e-8, 1e-8, 1e-8, 1e-8]\n",
    "]\n",
    "intervention = np.empty((K, len(pis), T))\n",
    "case_counts = np.empty((K, len(pis)))\n",
    "for j, pi in enumerate(pis):\n",
    "    crkp_model = CRKPTransmissionSimulator(epi_dir, prior_mu, prior_sigma, heterogeneous=True, pi=pi, return_case_count=True)\n",
    "    for i in range(K):\n",
    "        x_rep, cc = crkp_model.CRKP_simulator(npe_sample_het[i], i * 2)\n",
    "        intervention[i,j] =  np.array(x_rep)[0] * SCALE[0]\n",
    "        case_counts[i, j] = cc\n",
    "intervention = intervention.mean(0)\n",
    "case_counts = case_counts.mean(0)"
   ]
  },
  {
   "cell_type": "code",
   "execution_count": null,
   "id": "364c5eaf-4cb7-4bcb-85e9-d537d0bebd2d",
   "metadata": {},
   "outputs": [],
   "source": [
    "case_counts"
   ]
  },
  {
   "cell_type": "code",
   "execution_count": null,
   "id": "0f55ef09-c554-498b-818f-c38965ecc82e",
   "metadata": {},
   "outputs": [],
   "source": [
    "intervention.sum(1)"
   ]
  },
  {
   "cell_type": "code",
   "execution_count": null,
   "id": "1dfa7537-54ac-4535-bb0e-e5f3867e3fa0",
   "metadata": {},
   "outputs": [],
   "source": [
    "# plt.plot(np.array(x_o)[0] * SCALE[0], label=\"Observed\", color=\"k\")\n",
    "plt.plot(posterior_predictive_het.mean(0)[0], label=\"No Intervention\", linestyle=\"-\")\n",
    "plt.plot(intervention[0], label=\"Floor Isolation\", linestyle=\"--\")\n",
    "plt.plot(intervention[1], label=\"Target Floor 3\", linestyle=\"--\")\n",
    "plt.plot(intervention[3], label=\"Room Isolation\", linestyle=\"--\")\n",
    "plt.plot(intervention[4], label=\"Zero Transmission\", linestyle=\":\")\n",
    "# plt.plot(intervention[3], label=\"Roomies\", linestyle=\"--\")\n",
    "plt.legend()\n",
    "plt.xlabel(\"Weeks\")\n",
    "plt.ylabel(\"Number Infected\")\n",
    "plt.savefig(\"images/crkp/crkp_intervention.png\")\n",
    "plt.show()"
   ]
  },
  {
   "cell_type": "code",
   "execution_count": null,
   "id": "9e4126a6-40e1-498b-b5cb-623fd673b484",
   "metadata": {},
   "outputs": [],
   "source": [
    "df_cc.index"
   ]
  },
  {
   "cell_type": "code",
   "execution_count": null,
   "id": "8a523913-5699-450a-aa0e-6debc4172685",
   "metadata": {},
   "outputs": [],
   "source": [
    "df_cc.reset_index()"
   ]
  },
  {
   "cell_type": "code",
   "execution_count": null,
   "id": "1ede6870-ddd1-4360-bc49-63a36e6b07d0",
   "metadata": {},
   "outputs": [],
   "source": [
    "df_cc = pd.DataFrame(\n",
    "    data = {\"Scenario\": [\"No Intervention\", \"Floor Isolation\", \"Target Floor 3\", \"Room Isolation\", \"Zero Transmission\"],\n",
    "        \"Total Infections\": [259, 230, 229, 199, 168]}\n",
    ")\n",
    "sns.barplot(df_cc, x = \"Total Infections\", y = \"Scenario\", hue=\"Scenario\", legend=False, alpha=0.8,\n",
    "           width=0.62).set(ylabel=\"\")\n",
    "plt.savefig(\"images/crkp/crkp_case_count.png\", bbox_inches='tight')\n",
    "plt.plot()"
   ]
  },
  {
   "cell_type": "code",
   "execution_count": null,
   "id": "665ec9db-20e4-4569-a2f5-efa2baa71b06",
   "metadata": {},
   "outputs": [],
   "source": []
  },
  {
   "cell_type": "code",
   "execution_count": null,
   "id": "a89b5a16-52ad-40bd-b80d-fd8e26533335",
   "metadata": {},
   "outputs": [],
   "source": [
    "zzz = np.array([259, 230, 229, 199, 168])\n",
    "df_cc_alt = pd.DataFrame(\n",
    "    data = {\"Scenario\": [\"No Intervention\", \"Floor Isolation\", \"Target Floor 3\", \"Room Isolation\", \"Zero Transmission\"],\n",
    "        \"Total Secondary Infections\": zzz - 168}\n",
    ")\n",
    "sns.barplot(df_cc_alt.head(4), x = \"Total Secondary Infections\", y = \"Scenario\", hue=\"Scenario\", legend=False, alpha=0.8,\n",
    "           width=0.62).set(ylabel=\"\")\n",
    "plt.savefig(\"images/crkp/crkp_case_count2.png\", bbox_inches='tight')\n",
    "plt.plot()"
   ]
  },
  {
   "cell_type": "code",
   "execution_count": null,
   "id": "c8bf5056-6e7f-4aaf-b28d-d46e329d657d",
   "metadata": {},
   "outputs": [],
   "source": [
    "168 + 91"
   ]
  },
  {
   "cell_type": "code",
   "execution_count": null,
   "id": "4e32d24b-6e53-40b2-ba88-16db56564348",
   "metadata": {},
   "outputs": [],
   "source": [
    "\\begin{table}[]\n",
    "\\begin{tabular}{@{}ll@{}}\n",
    "\\toprule\n",
    "Scenario          & Total Infections \\\\ \\midrule\n",
    "Factual           & 259              \\\\\n",
    "Floor Isolation   & 230              \\\\\n",
    "Target Floor 3    & 229              \\\\\n",
    "Room Isolation    & 199              \\\\\n",
    "Zero Transmission & 168              \\\\ \\bottomrule\n",
    "\\end{tabular}\n",
    "\\end{table}"
   ]
  },
  {
   "cell_type": "code",
   "execution_count": null,
   "id": "2bcd979c-f6f1-48c1-a513-c389ecfd6b80",
   "metadata": {},
   "outputs": [],
   "source": [
    "grid = gs.GridSpec(8, 1)\n",
    "fig = plt.figure(figsize=(5,7))\n",
    "x_min = -6\n",
    "x_max = -0\n",
    "x = np.arange(x_min, x_max, 0.05)\n",
    "axes = []\n",
    "alpha = 0.5\n",
    "for i in range(7):\n",
    "    legend = False if i > 0 else True\n",
    "    axes.append(fig.add_subplot(grid[i:i+1, 0:]))\n",
    "\n",
    "    priory = norm.pdf(x, prior_mu, np.sqrt(prior_sigma))\n",
    "    posty = norm.pdf(x, mu[i], np.sqrt(sigma[i][i]))\n",
    "    sns.lineplot(x=x, y=priory, label=\"Prior Density\", ax=axes[-1], legend=legend, alpha=alpha)\n",
    "\n",
    "    sns.lineplot(x=x, y=posty, label=\"Posterior Density\", ax=axes[-1], legend=legend, alpha=alpha)\n",
    "\n",
    "    rect = axes[-1].patch\n",
    "    rect.set_alpha(0)\n",
    "\n",
    "    axes[-1].set_yticklabels([])\n",
    "    axes[-1].set_ylabel('')\n",
    "\n",
    "    axes[-1].set_ylim(0, 2)\n",
    "    axes[-1].set_xlim(x_min, x_max)\n",
    "\n",
    "    axes[-1].set_yticks([])\n",
    "\n",
    "    if i < 7 - 1:\n",
    "        axes[-1].set_xticklabels([])\n",
    "    else:\n",
    "        axes[-1].set_xlabel(\"Infection Rate (Log-scale)\")\n",
    "\n",
    "    axes[-1].fill_between(x, posty, color='#ff7f0e', alpha=alpha)\n",
    "    axes[-1].fill_between(x, priory, color='#1f77b4', alpha=alpha)\n",
    "\n",
    "\n",
    "    axes[-1].text(x_min - .8, 0.3, labels_full[i])\n",
    "grid.update(hspace= -.0)\n",
    "plt.tight_layout()\n",
    "plt.savefig(\"images/crkp/crkp_compare_het.png\")\n",
    "plt.show()\n",
    "    "
   ]
  },
  {
   "cell_type": "code",
   "execution_count": null,
   "id": "fbb50442-2138-4ce4-913d-b15881d6d118",
   "metadata": {},
   "outputs": [],
   "source": [
    "D = np.diag(1 / np.sqrt(np.diag(sigma)))\n",
    "corr = D @ sigma @ D\n",
    "plt.matshow(corr, cmap=\"rocket\")\n",
    "plt.colorbar()\n",
    "plt.xlabel(r\"$\\beta_j$\")\n",
    "plt.ylabel(r\"$\\beta_j$\")\n",
    "plt.savefig(\"images/crkp/crkp_corr.png\")\n",
    "plt.show()"
   ]
  },
  {
   "cell_type": "markdown",
   "id": "3c448995-43ff-4909-a0ef-7fc56728d0fa",
   "metadata": {},
   "source": [
    "# ABC Comparison"
   ]
  },
  {
   "cell_type": "markdown",
   "id": "131462ba-c5ab-40d7-a026-3db2d45946d3",
   "metadata": {},
   "source": [
    "## Homogeneous"
   ]
  },
  {
   "cell_type": "code",
   "execution_count": null,
   "id": "dfb8403e-4837-47d8-abe0-89eb4cb4b93f",
   "metadata": {},
   "outputs": [],
   "source": [
    "hetero = False\n",
    "\n",
    "prior_mu = -2\n",
    "prior_sigma = 1\n",
    "model = CRKPTransmissionSimulator(epi_dir, prior_mu, prior_sigma,\n",
    "                                  heterogeneous=hetero)"
   ]
  },
  {
   "cell_type": "code",
   "execution_count": null,
   "id": "87174c89-9278-48bc-8076-7e7e012482db",
   "metadata": {},
   "outputs": [],
   "source": [
    "prior_sampler = lambda: model.sample_logbeta(1)\n",
    "simulator = lambda theta, seed: model.CRKP_simulator(theta, seed, summarize=True)\n",
    "\n",
    "S = 100\n",
    "epsilon = .2\n",
    "posterior_sample, errors = abc_rejection_sampler(\n",
    "    S, epsilon, prior_sampler, simulator, x_o[0], max_attempts=10000,\n",
    "    summarize=False, print_every=1000\n",
    ")"
   ]
  },
  {
   "cell_type": "code",
   "execution_count": null,
   "id": "56415eb9-370c-44a8-a8f7-dcef72e6031a",
   "metadata": {},
   "outputs": [],
   "source": [
    "np.mean(posterior_sample), np.std(posterior_sample)"
   ]
  },
  {
   "cell_type": "code",
   "execution_count": null,
   "id": "9af3b198-f7e1-4f97-a9e8-b408cff12164",
   "metadata": {},
   "outputs": [],
   "source": [
    "np.exp(posterior_sample).mean()"
   ]
  },
  {
   "cell_type": "markdown",
   "id": "0f23b2e9-f080-46fc-8af3-421810fdb7ad",
   "metadata": {},
   "source": [
    "## Heterogeneous"
   ]
  },
  {
   "cell_type": "code",
   "execution_count": null,
   "id": "f6812194-8e5e-4d89-bc07-b5ec6080ca36",
   "metadata": {},
   "outputs": [],
   "source": [
    "summarize = False #True\n",
    "hetero = True\n",
    "\n",
    "prior_mu = -3\n",
    "prior_sigma = 1\n",
    "model = CRKPTransmissionSimulator(epi_dir, prior_mu, prior_sigma,\n",
    "                                  heterogeneous=hetero)"
   ]
  },
  {
   "cell_type": "code",
   "execution_count": null,
   "id": "4a792b77-3718-4754-bb91-afd5b77f196b",
   "metadata": {},
   "outputs": [],
   "source": [
    "if load_abc_het:\n",
    "    posterior_sample_het = np.load(\"crkp_abc_het.npy\")\n",
    "else:\n",
    "    prior_sampler = lambda: model.sample_logbeta(1)\n",
    "    simulator = lambda theta, seed: model.CRKP_simulator(theta, seed, summarize=True)\n",
    "    \n",
    "    S = 100\n",
    "    epsilon = 9\n",
    "    posterior_sample_het, errors = abc_rejection_sampler(\n",
    "        S, epsilon, prior_sampler, simulator, x_o, max_attempts=20000,\n",
    "        summarize=summarize, print_every=1000\n",
    "    )\n",
    "    np.save(\"crkp_abc_het\", posterior_sample_het)"
   ]
  },
  {
   "cell_type": "markdown",
   "id": "bfc677a8-6a99-4c1d-90d4-408c1b035ede",
   "metadata": {},
   "source": [
    "Latest run: $\\epsilon = 9$ , number of samples 13,214"
   ]
  },
  {
   "cell_type": "code",
   "execution_count": null,
   "id": "4f03f23d-b36f-453b-9a76-7a3449d27bec",
   "metadata": {},
   "outputs": [],
   "source": [
    "# sns.pairplot(pd.DataFrame(posterior_sample))"
   ]
  },
  {
   "cell_type": "code",
   "execution_count": null,
   "id": "255cd34a-7b7f-43df-aba6-3da75d20c164",
   "metadata": {},
   "outputs": [],
   "source": [
    "abc_corr = np.corrcoef(posterior_sample_het.T)\n",
    "plt.matshow(abc_corr, cmap=\"rocket\")\n",
    "plt.colorbar()\n",
    "plt.xlabel(r\"$\\beta_j$\")\n",
    "plt.ylabel(r\"$\\beta_j$\")\n",
    "# plt.savefig(\"images/crkp/abc_corr.png\")\n",
    "plt.show()"
   ]
  },
  {
   "cell_type": "markdown",
   "id": "5a466ece-f8b3-4728-baff-25d0b9a48391",
   "metadata": {},
   "source": [
    "### Posterior Predictive Checks"
   ]
  },
  {
   "cell_type": "code",
   "execution_count": null,
   "id": "b1b0be4e-d147-4f9e-95fa-a9c3d9a80340",
   "metadata": {},
   "outputs": [],
   "source": [
    "K = 30\n",
    "crkp_model = CRKPTransmissionSimulator(epi_dir, prior_mu, prior_sigma, heterogeneous=True)\n",
    "# neural_posterior_het = multivariate_normal(mu, sigma)\n",
    "# npe_sample_het = neural_posterior_het.rvs(size=K, random_state=2)\n",
    "posterior_predictive_abc_het = np.empty((K, 7, T))\n",
    "for i in range(K):\n",
    "    x_rep = crkp_model.CRKP_simulator(posterior_sample[i], i, summarize=True) * np.repeat(SCALE[:, None], T, 1) \n",
    "    posterior_predictive_abc_het[i] =  np.array(x_rep)"
   ]
  },
  {
   "cell_type": "code",
   "execution_count": null,
   "id": "fdf8d03e-e5a3-4388-bb61-b32c94917ef3",
   "metadata": {},
   "outputs": [],
   "source": [
    "for j in range(7):\n",
    "    preds = posterior_predictive_abc_het[:, j, :]\n",
    "    target = (x_o[j] * SCALE[j])\n",
    "    mse = ((preds - target)**2).mean()\n",
    "    print(round(mse, 3))"
   ]
  },
  {
   "cell_type": "code",
   "execution_count": null,
   "id": "7d834e87-e0ec-4825-abbc-c2f201668204",
   "metadata": {},
   "outputs": [],
   "source": [
    "het_table = {\"Rate\": labels_full, \n",
    "             \"NPE Mean\": np.array(rates), \n",
    "             \"NPE CI\": [],\n",
    "            \"ABC Mean\": np.exp(posterior_sample).mean(0),\n",
    "            \"ABC CI\": []}\n",
    "\n",
    "for i in range(7):\n",
    "    dist = norm(mu[i], np.sqrt(sigma[i][i]))\n",
    "    het_table[\"NPE CI\"].append(\n",
    "        (float(np.exp(dist.ppf(0.05))), \n",
    "         float(np.exp(dist.ppf(0.95))))\n",
    "    )\n",
    "    het_table[\"ABC CI\"].append(\n",
    "        (float(np.quantile(np.exp(posterior_sample), 0.05, axis=0)[i]),\n",
    "        float(np.quantile(np.exp(posterior_sample), 0.95, axis=0)[i]))\n",
    "    )\n",
    "het_table = pd.DataFrame(het_table)\n",
    "print(het_table.to_latex(index=False))"
   ]
  },
  {
   "cell_type": "code",
   "execution_count": null,
   "id": "c98deb13-8137-40f0-848f-5d6cc4bec858",
   "metadata": {},
   "outputs": [],
   "source": [
    "np.exp(posterior_sample).mean(0)"
   ]
  },
  {
   "cell_type": "code",
   "execution_count": null,
   "id": "8e09c988-f0bc-4760-b5f2-75909f8dcd0d",
   "metadata": {},
   "outputs": [],
   "source": [
    "crkp_model = CRKPTransmissionSimulator(epi_dir, prior_mu, prior_sigma, heterogeneous=True)\n",
    "# neural_posterior_het = multivariate_normal(mu, sigma)\n",
    "# npe_sample_het = neural_posterior_het.rvs(size=K, random_state=2)\n",
    "posterior_predictive_abc = np.empty((K, 7, T))\n",
    "for i in range(K):\n",
    "    x_rep = crkp_model.CRKP_simulator(posterior_sample[i], i) * np.repeat(SCALE[:, None], T, 1) \n",
    "    posterior_predictive_abc[i] =  np.array(x_rep)"
   ]
  },
  {
   "cell_type": "code",
   "execution_count": null,
   "id": "830bd2d2-c6f0-413d-bbf7-32f809aad413",
   "metadata": {},
   "outputs": [],
   "source": [
    "for j in range(7):\n",
    "    preds = posterior_predictive_abc[:, j, :]\n",
    "    target = (x_o[j] * cap[j])\n",
    "    mse = ((preds - target)**2).mean()\n",
    "    print(round(mse, 3))"
   ]
  },
  {
   "cell_type": "code",
   "execution_count": null,
   "id": "7cf9adf5-e626-44c9-bb43-458f3e28fe49",
   "metadata": {},
   "outputs": [],
   "source": [
    "for j in range(7):\n",
    "    pp_mean = posterior_predictive_abc.mean(0)[j]\n",
    "    labels = [\"Post. Pred. Draw\"] + [None for _ in range(K-1)]\n",
    "    I_o = np.array(x_o)[j] * SCALE[j]\n",
    "    plt.plot(I_o, label=\"Observed\", color=\"k\")\n",
    "    plt.plot(posterior_predictive_abc[:, j, :].T, \n",
    "             label=labels, color=\"b\",\n",
    "             alpha=0.1)\n",
    "    plt.plot(pp_mean, label=\"Post. Pred. Mean\", linestyle=\"--\",\n",
    "             color=\"orange\")\n",
    "    # sns.lineplot(NN, color=\"green\", linestyle=\"--\", label=\"Total\")\n",
    "    plt.legend()\n",
    "    if j == 6:\n",
    "        ylab = \"Infected Rooms\"\n",
    "    else:\n",
    "        ylab = \"Infected Patients\"\n",
    "    plt.ylabel(ylab)\n",
    "    plt.xlabel(\"Weeks\")\n",
    "    # plt.savefig(f\"images/crkp/crkp_ppc_abc{j}.png\")\n",
    "    plt.show()"
   ]
  },
  {
   "cell_type": "code",
   "execution_count": null,
   "id": "21f17b7c-4842-4f6f-9779-d195da838c53",
   "metadata": {},
   "outputs": [],
   "source": [
    "grid = gs.GridSpec(8, 1)\n",
    "fig = plt.figure(figsize=(5,7))\n",
    "xmin, xmax = -6, 0\n",
    "\n",
    "x = np.arange(xmin, xmax, 0.05)\n",
    "axes = []\n",
    "alpha = 0.5\n",
    "for i in range(7):\n",
    "    legend = False if i > 0 else True\n",
    "    axes.append(fig.add_subplot(grid[i:i+1, 0:]))\n",
    "\n",
    "    priory = norm.pdf(x, prior_mu, np.sqrt(prior_sigma))\n",
    "    # posty = norm.pdf(x, mu[i], np.sqrt(sigma[i][i]))\n",
    "    sns.lineplot(x=x, y=priory, label=\"Prior Density\", ax=axes[-1], legend=legend, alpha=alpha)\n",
    "\n",
    "    sns.histplot(posterior_sample[:, i], color=\"orange\", ax=axes[-1], legend=legend, alpha=alpha, stat=\"density\",\n",
    "                kde=True, label=\"ABC Posterior\")\n",
    "\n",
    "    post_mean = np.mean(posterior_sample[:, i])\n",
    "\n",
    "    # plt.axvline(post_mean, color=\"k\", linestyle=\"--\")\n",
    "\n",
    "    # sns.lineplot(x=x, y=posty, label=\"Posterior Density\", ax=axes[-1], legend=legend, alpha=alpha)\n",
    "\n",
    "    rect = axes[-1].patch\n",
    "    rect.set_alpha(0)\n",
    "\n",
    "    axes[-1].set_yticklabels([])\n",
    "    axes[-1].set_ylabel('')\n",
    "\n",
    "    axes[-1].set_ylim(0, 2)\n",
    "    axes[-1].set_xlim(xmin, xmax)\n",
    "\n",
    "    axes[-1].set_yticks([])\n",
    "\n",
    "    if i < 7 - 1:\n",
    "        axes[-1].set_xticklabels([])\n",
    "    else:\n",
    "        axes[-1].set_xlabel(\"Infection Rate (Log-scale)\")\n",
    "\n",
    "    # axes[-1].fill_between(x, posty, color='#ff7f0e', alpha=alpha)\n",
    "    axes[-1].fill_between(x, priory, color='#1f77b4', alpha=alpha)\n",
    "\n",
    "\n",
    "    axes[-1].text(x_min - 0.8, 0.3, labels_full[i])\n",
    "\n",
    "    if i == 0:\n",
    "        plt.legend()\n",
    "grid.update(hspace= -.0)\n",
    "plt.tight_layout()\n",
    "plt.savefig(\"images/crkp/crkp_compare_abc.png\")\n",
    "plt.show()"
   ]
  },
  {
   "cell_type": "markdown",
   "id": "705a4178-9d2f-44e1-b343-a4fa6462cee3",
   "metadata": {},
   "source": [
    "# relative risks"
   ]
  },
  {
   "cell_type": "code",
   "execution_count": null,
   "id": "a848b71c-f6b4-4b20-807c-034b950a58ed",
   "metadata": {},
   "outputs": [],
   "source": [
    "rates"
   ]
  },
  {
   "cell_type": "code",
   "execution_count": null,
   "id": "aa601625-eb00-4203-b7bd-02ee2b830cae",
   "metadata": {},
   "outputs": [],
   "source": [
    "rates / SCALE"
   ]
  },
  {
   "cell_type": "code",
   "execution_count": null,
   "id": "b5e225d4-503d-4984-9411-16bb7a653a94",
   "metadata": {},
   "outputs": [],
   "source": [
    "SCALE"
   ]
  },
  {
   "cell_type": "code",
   "execution_count": null,
   "id": "d974d530-3eae-47aa-8834-81c589ba2ed6",
   "metadata": {},
   "outputs": [],
   "source": [
    "(rates / SCALE) / (rates / SCALE)[0]"
   ]
  },
  {
   "cell_type": "code",
   "execution_count": null,
   "id": "d374cf3c-7514-484d-9925-101343bb9139",
   "metadata": {},
   "outputs": [],
   "source": [
    "abc_rates = np.exp(posterior_sample).mean(0)"
   ]
  },
  {
   "cell_type": "code",
   "execution_count": null,
   "id": "17f7c37a-97cb-467e-ac8c-c4665f8c1797",
   "metadata": {},
   "outputs": [],
   "source": [
    "(abc_rates / SCALE) / (abc_rates / SCALE)[0]"
   ]
  },
  {
   "cell_type": "code",
   "execution_count": null,
   "id": "91ed0f06-447b-4d63-a574-502f0f4391c8",
   "metadata": {},
   "outputs": [],
   "source": [
    "(np.exp(-2.5) / SCALE) / (np.exp(-2.5) / SCALE[0])"
   ]
  },
  {
   "cell_type": "code",
   "execution_count": null,
   "id": "cf33987a-4a16-401b-a2cc-3c560601aa13",
   "metadata": {},
   "outputs": [],
   "source": [
    "np.log([.0352, .322, .0153, .191])"
   ]
  },
  {
   "cell_type": "code",
   "execution_count": null,
   "id": "7fdf3310-1d64-476c-9aad-f4d6d9411cb3",
   "metadata": {},
   "outputs": [],
   "source": [
    "np.log([.0094, .251, .0109, .154])"
   ]
  },
  {
   "cell_type": "code",
   "execution_count": null,
   "id": "71e99cb6-7eed-4958-9ce7-a9328856b9e3",
   "metadata": {},
   "outputs": [],
   "source": [
    "np.log([.00820, .302, .0128, .242])"
   ]
  },
  {
   "cell_type": "code",
   "execution_count": null,
   "id": "fd9e292c-07cf-4f24-b2ee-344ffff48bfc",
   "metadata": {},
   "outputs": [],
   "source": [
    "-1.19 + 4.8, -1.4 + 3.4"
   ]
  },
  {
   "cell_type": "code",
   "execution_count": null,
   "id": "d0aa3cdb-53cb-4120-9a41-be7554aa55e4",
   "metadata": {},
   "outputs": [],
   "source": [
    "- 1.1 + 3.3"
   ]
  },
  {
   "cell_type": "code",
   "execution_count": null,
   "id": "197e4d67-1a23-4446-8a6d-802c9e83c27d",
   "metadata": {},
   "outputs": [],
   "source": [
    "-1.65 + 4.2"
   ]
  },
  {
   "cell_type": "code",
   "execution_count": null,
   "id": "b5a60759-7051-45fa-aec7-f9d23bf001c2",
   "metadata": {},
   "outputs": [],
   "source": []
  }
 ],
 "metadata": {
  "language_info": {
   "name": "python"
  }
 },
 "nbformat": 4,
 "nbformat_minor": 5
}
