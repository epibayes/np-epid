{
 "cells": [
  {
   "cell_type": "code",
   "execution_count": 1,
   "id": "53fae9e8-b470-460c-ab93-59d3294e3248",
   "metadata": {},
   "outputs": [],
   "source": [
    "import pandas as pd\n",
    "import numpy as np\n",
    "import matplotlib.pyplot as plt\n",
    "import seaborn as sns\n",
    "from timeit import default_timer as timer\n",
    "\n",
    "from datetime import date, timedelta"
   ]
  },
  {
   "cell_type": "code",
   "execution_count": 2,
   "id": "a2f51fd7-17c8-4a36-ab22-9d0e2545339a",
   "metadata": {},
   "outputs": [],
   "source": [
    "epi_dir = '/Volumes/umms-esnitkin/Project_KPC_LTACH/Analysis/LTACH_transmission_modeling/data'"
   ]
  },
  {
   "cell_type": "markdown",
   "id": "460a65a2-21d3-4699-a646-1140f3bac4a3",
   "metadata": {},
   "source": [
    "Goal: augment the floor and room trace data with patients who were never infected"
   ]
  },
  {
   "cell_type": "code",
   "execution_count": 3,
   "id": "597983b4-3f52-4dff-8a05-eb2bd815373a",
   "metadata": {},
   "outputs": [],
   "source": [
    "df_census = pd.read_excel(f\"{epi_dir}/2019-02-25_KPCLTACH_C_Census.xlsx\")\n",
    "df_census = df_census.sort_values([\"WGS_ID\", \"From_Date\"])"
   ]
  },
  {
   "cell_type": "code",
   "execution_count": 4,
   "id": "d08f1148-c864-4e32-836b-0d986f5744f1",
   "metadata": {},
   "outputs": [
    {
     "data": {
      "text/html": [
       "<div>\n",
       "<style scoped>\n",
       "    .dataframe tbody tr th:only-of-type {\n",
       "        vertical-align: middle;\n",
       "    }\n",
       "\n",
       "    .dataframe tbody tr th {\n",
       "        vertical-align: top;\n",
       "    }\n",
       "\n",
       "    .dataframe thead th {\n",
       "        text-align: right;\n",
       "    }\n",
       "</style>\n",
       "<table border=\"1\" class=\"dataframe\">\n",
       "  <thead>\n",
       "    <tr style=\"text-align: right;\">\n",
       "      <th></th>\n",
       "      <th>WGS_ID</th>\n",
       "      <th>WGS_StudyID</th>\n",
       "      <th>Room</th>\n",
       "      <th>Bed</th>\n",
       "      <th>Admit_Date</th>\n",
       "      <th>DischargeDate</th>\n",
       "      <th>LOS</th>\n",
       "      <th>Room_Bed</th>\n",
       "      <th>From_Date</th>\n",
       "      <th>Thru_Date</th>\n",
       "    </tr>\n",
       "  </thead>\n",
       "  <tbody>\n",
       "    <tr>\n",
       "      <th>5</th>\n",
       "      <td>C-1</td>\n",
       "      <td>1</td>\n",
       "      <td>DE/DE.SCU</td>\n",
       "      <td>1</td>\n",
       "      <td>2012-02-22</td>\n",
       "      <td>2012-10-23</td>\n",
       "      <td>244</td>\n",
       "      <td>DE.318-A</td>\n",
       "      <td>2012-06-18</td>\n",
       "      <td>2012-06-25</td>\n",
       "    </tr>\n",
       "    <tr>\n",
       "      <th>7</th>\n",
       "      <td>C-1</td>\n",
       "      <td>1</td>\n",
       "      <td>DE/DE.SCU</td>\n",
       "      <td>1</td>\n",
       "      <td>2012-02-22</td>\n",
       "      <td>2012-10-23</td>\n",
       "      <td>244</td>\n",
       "      <td>DE.111-B</td>\n",
       "      <td>2012-06-26</td>\n",
       "      <td>2012-07-04</td>\n",
       "    </tr>\n",
       "    <tr>\n",
       "      <th>3</th>\n",
       "      <td>C-1</td>\n",
       "      <td>1</td>\n",
       "      <td>DE/DE.SCU</td>\n",
       "      <td>1</td>\n",
       "      <td>2012-02-22</td>\n",
       "      <td>2012-10-23</td>\n",
       "      <td>244</td>\n",
       "      <td>DE.109-B</td>\n",
       "      <td>2012-07-05</td>\n",
       "      <td>2012-07-07</td>\n",
       "    </tr>\n",
       "    <tr>\n",
       "      <th>4</th>\n",
       "      <td>C-1</td>\n",
       "      <td>1</td>\n",
       "      <td>DE/DE.SCU</td>\n",
       "      <td>1</td>\n",
       "      <td>2012-02-22</td>\n",
       "      <td>2012-10-23</td>\n",
       "      <td>244</td>\n",
       "      <td>DE.117-B</td>\n",
       "      <td>2012-07-08</td>\n",
       "      <td>2012-07-23</td>\n",
       "    </tr>\n",
       "    <tr>\n",
       "      <th>8</th>\n",
       "      <td>C-1</td>\n",
       "      <td>1</td>\n",
       "      <td>DE/DE.SCU</td>\n",
       "      <td>1</td>\n",
       "      <td>2012-02-22</td>\n",
       "      <td>2012-10-23</td>\n",
       "      <td>244</td>\n",
       "      <td>DE.SCU8-008</td>\n",
       "      <td>2012-07-24</td>\n",
       "      <td>2012-09-17</td>\n",
       "    </tr>\n",
       "  </tbody>\n",
       "</table>\n",
       "</div>"
      ],
      "text/plain": [
       "  WGS_ID  WGS_StudyID       Room Bed Admit_Date DischargeDate  LOS  \\\n",
       "5    C-1            1  DE/DE.SCU   1 2012-02-22    2012-10-23  244   \n",
       "7    C-1            1  DE/DE.SCU   1 2012-02-22    2012-10-23  244   \n",
       "3    C-1            1  DE/DE.SCU   1 2012-02-22    2012-10-23  244   \n",
       "4    C-1            1  DE/DE.SCU   1 2012-02-22    2012-10-23  244   \n",
       "8    C-1            1  DE/DE.SCU   1 2012-02-22    2012-10-23  244   \n",
       "\n",
       "      Room_Bed  From_Date  Thru_Date  \n",
       "5     DE.318-A 2012-06-18 2012-06-25  \n",
       "7     DE.111-B 2012-06-26 2012-07-04  \n",
       "3     DE.109-B 2012-07-05 2012-07-07  \n",
       "4     DE.117-B 2012-07-08 2012-07-23  \n",
       "8  DE.SCU8-008 2012-07-24 2012-09-17  "
      ]
     },
     "execution_count": 4,
     "metadata": {},
     "output_type": "execute_result"
    }
   ],
   "source": [
    "df_census.head()"
   ]
  },
  {
   "cell_type": "code",
   "execution_count": 6,
   "id": "82c3ee55-e91e-4229-8933-1b50426ddf20",
   "metadata": {},
   "outputs": [],
   "source": [
    "df_ftrace = pd.read_csv(f\"{epi_dir}/2019-12-18_facility_trace.csv\", index_col=0)\n",
    "df_ftrace.columns = np.arange(367)\n",
    "\n",
    "# floor and room traces\n",
    "df_floor = pd.read_csv(f\"{epi_dir}/2019-12-18_floor_trace.csv\", index_col=0)\n",
    "df_room = pd.read_csv(f\"{epi_dir}/2019-12-18_room_trace.csv\", index_col=0)"
   ]
  },
  {
   "cell_type": "code",
   "execution_count": 7,
   "id": "686f4c9e-b6ea-4a7a-afbf-062311092ec5",
   "metadata": {},
   "outputs": [],
   "source": [
    "def floor_encoder(room):\n",
    "    if room in ('TMPLOAROOM-1', 'DE.TMP-1'): \n",
    "        return 5\n",
    "    code = room[3]\n",
    "    if code == \"S\": \n",
    "        return 6\n",
    "    else:\n",
    "        return int(code)"
   ]
  },
  {
   "cell_type": "code",
   "execution_count": 8,
   "id": "ccea5947-5369-461b-ba71-40a5e4ef43a9",
   "metadata": {},
   "outputs": [],
   "source": [
    "def room_encoder(room):\n",
    "\n",
    "    return room_code"
   ]
  },
  {
   "cell_type": "code",
   "execution_count": 142,
   "id": "4d2380b4-646e-4e5d-bfd2-62d8411854eb",
   "metadata": {},
   "outputs": [
    {
     "data": {
      "text/plain": [
       "'DE.237-A'"
      ]
     },
     "execution_count": 142,
     "metadata": {},
     "output_type": "execute_result"
    }
   ],
   "source": [
    "room.replace(r\"-[AB]\", \"\")"
   ]
  },
  {
   "cell_type": "code",
   "execution_count": 144,
   "id": "a5415fd9-adbb-403c-a03e-fb4da83db905",
   "metadata": {},
   "outputs": [
    {
     "data": {
      "text/plain": [
       "'DE.237'"
      ]
     },
     "execution_count": 144,
     "metadata": {},
     "output_type": "execute_result"
    }
   ],
   "source": []
  },
  {
   "cell_type": "code",
   "execution_count": 143,
   "id": "38dcfb5b-3590-4050-a7f1-839af37cd6de",
   "metadata": {},
   "outputs": [],
   "source": [
    "import re"
   ]
  },
  {
   "cell_type": "code",
   "execution_count": 151,
   "id": "475af76b-7ab0-4af8-a7e3-1fd311e4b0fb",
   "metadata": {},
   "outputs": [],
   "source": [
    "T = (df_census[\"From_Date\"].max() - df_census[\"Thru_Date\"].min()).days + 1\n",
    "patient_ids = np.sort(df_census[\"WGS_StudyID\"].unique())\n",
    "floor_trace = pd.DataFrame(index=patient_ids, columns=range(T))\n",
    "room_trace = pd.DataFrame(index=patient_ids, columns=range(T))\n",
    "\n",
    "min_date = df_census[\"Thru_Date\"].min()\n",
    "\n",
    "room_lookup = dict()\n",
    "R = 1\n",
    "for n in patient_ids:\n",
    "    stays = df_census[df_census[\"WGS_StudyID\"] == n]\n",
    "    t = 0\n",
    "    s = 0\n",
    "    while (t < T):\n",
    "        while s < len(stays):\n",
    "            if t >= T:\n",
    "                break\n",
    "            from_date = (stays.iloc[s][\"From_Date\"] - min_date).days\n",
    "            thru_date = (stays.iloc[s][\"Thru_Date\"] - min_date).days\n",
    "            room = stays.iloc[s][\"Room_Bed\"]\n",
    "            room = re.sub(\"-[AB]\", \"\", room)\n",
    "            floor_code = floor_encoder(room)\n",
    "            r = room_lookup.get(room)\n",
    "            if r is None:\n",
    "                room_code = R\n",
    "                room_lookup[room] = R\n",
    "                R += 1\n",
    "                if R == 8: # skip 8\n",
    "                    R += 1\n",
    "            else:\n",
    "                room_code = r\n",
    "            if t < from_date:\n",
    "                floor_trace.loc[n, t] = 0\n",
    "                room_trace.loc[n, t] = 0\n",
    "            elif t <= thru_date:\n",
    "                floor_trace.loc[n, t] = floor_code\n",
    "                room_trace.loc[n, t] = room_code\n",
    "            else:\n",
    "                s += 1\n",
    "                continue\n",
    "            t += 1\n",
    "        if t >= T:\n",
    "            break\n",
    "        floor_trace.loc[n, t] = 0\n",
    "        room_trace.loc[n, t] = 0\n",
    "        t += 1"
   ]
  },
  {
   "cell_type": "code",
   "execution_count": 166,
   "id": "20bf23b9-b209-494b-aeb8-e2156877190c",
   "metadata": {},
   "outputs": [
    {
     "name": "stdout",
     "output_type": "stream",
     "text": [
      "38\n",
      "65\n",
      "84\n",
      "85\n",
      "101\n",
      "129\n",
      "woo 141\n",
      "woo 144\n",
      "149\n",
      "161\n",
      "172\n",
      "173\n",
      "183\n",
      "woo 189\n",
      "woo 196\n",
      "197\n",
      "woo 199\n",
      "218\n",
      "223\n",
      "248\n",
      "woo 252\n",
      "woo 259\n",
      "264\n",
      "woo 295\n"
     ]
    }
   ],
   "source": [
    "for j in df_floor.index:\n",
    "    A = df_room.loc[j].values\n",
    "    B = room_trace.loc[j].values\n",
    "    if not (A == B).all():\n",
    "        assert ((A != 0) <= (B != 0)).all()\n",
    "        if not ((A != 0) == (B != 0)).all():\n",
    "            print(j)\n",
    "        else:\n",
    "            print(f\"woo {j}\")"
   ]
  },
  {
   "cell_type": "code",
   "execution_count": 177,
   "id": "d371f47f-aae7-45ac-965d-5f3a011d4c52",
   "metadata": {},
   "outputs": [
    {
     "data": {
      "text/plain": [
       "(array([ 0,  0,  0,  0,  0,  0,  0,  0,  0,  0,  0,  0,  0,  0,  0,  0,  0,\n",
       "         0,  0,  0,  0,  0,  0,  0,  0,  0,  0,  0,  0,  0,  0,  0,  0,  0,\n",
       "         0,  0,  0,  0,  0,  0,  0,  0,  0,  0,  0,  0,  0,  0,  0,  0,  0,\n",
       "         0,  0,  0,  0,  0,  0,  0,  0,  0,  0,  0,  0,  0,  0,  0,  0,  0,\n",
       "         0,  0,  0,  0,  0,  0,  0,  0,  0,  0,  0,  0,  0,  0,  0,  0,  0,\n",
       "         0,  0,  0,  0,  0,  0,  0,  0,  0,  0,  0,  0,  0,  0,  0,  0,  0,\n",
       "         0, 94,  5,  5,  5,  5,  5,  5,  5,  5,  5, 72, 44, 44, 44, 44, 44,\n",
       "        46, 46, 46, 46, 46, 46, 46, 46, 46, 46, 46,  0,  0,  0,  0,  0,  0,\n",
       "         0,  0,  0,  0,  0,  0,  0,  0, 72, 72,  0,  0,  0,  0,  0,  0,  0,\n",
       "         0,  0,  0,  0,  0,  0,  0,  0,  0,  0,  0,  0,  0,  0,  0,  0,  0,\n",
       "         0,  0,  0,  0,  0,  0,  0,  0,  0,  0,  0,  0,  0,  0,  0,  0,  0,\n",
       "         0,  0,  0,  0,  0,  0,  0,  0,  0,  0,  0,  0,  0,  0,  0,  0,  0,\n",
       "         0,  0,  0,  0,  0,  0,  0,  0,  0,  0,  0,  0,  0,  0,  0,  0,  0,\n",
       "         0,  0,  0,  0,  0,  0,  0,  0,  0,  0,  0,  0,  0,  0,  0,  0,  0,\n",
       "         0,  0,  0,  0,  0,  0,  0,  0,  0,  0,  0,  0,  0,  0,  0,  0,  0,\n",
       "         0,  0,  0,  0,  0,  0,  0,  0,  0,  0,  0,  0,  0,  0,  0,  0,  0,\n",
       "         0,  0,  0,  0,  0,  0,  0,  0,  0,  0,  0,  0,  0,  0,  0,  0,  0,\n",
       "         0,  0,  0,  0,  0,  0,  0,  0,  0,  0,  0,  0,  0,  0,  0,  0,  0,\n",
       "         0,  0,  0,  0,  0,  0,  0,  0,  0,  0,  0,  0,  0,  0,  0,  0,  0,\n",
       "         0,  0,  0,  0,  0,  0,  0,  0,  0,  0,  0,  0,  0,  0,  0,  0,  0,\n",
       "         0,  0,  0,  0,  0,  0,  0,  0,  0,  0,  0,  0,  0,  0,  0,  0,  0,\n",
       "         0,  0,  0,  0,  0,  0,  0,  0,  0,  0]),\n",
       " array([0, 0, 0, 0, 0, 0, 0, 0, 0, 0, 0, 0, 0, 0, 0, 0, 0, 0, 0, 0, 0, 0,\n",
       "        0, 0, 0, 0, 0, 0, 0, 0, 0, 0, 0, 0, 0, 0, 0, 0, 0, 0, 0, 0, 0, 0,\n",
       "        0, 0, 0, 0, 0, 0, 0, 0, 0, 0, 0, 0, 0, 0, 0, 0, 0, 0, 0, 0, 0, 0,\n",
       "        0, 0, 0, 0, 0, 0, 0, 0, 0, 0, 0, 0, 0, 0, 0, 0, 0, 0, 0, 0, 0, 0,\n",
       "        0, 0, 0, 0, 0, 0, 0, 0, 0, 0, 0, 0, 0, 0, 0, 95, 5, 5, 5, 5, 5, 5,\n",
       "        5, 5, 5, 72, 44, 44, 44, 44, 44, 46, 46, 46, 46, 46, 46, 46, 46,\n",
       "        46, 46, 46, 0, 0, 0, 0, 0, 0, 0, 0, 0, 0, 0, 0, 0, 0, 72, 72, 0, 0,\n",
       "        0, 0, 0, 0, 0, 0, 0, 0, 0, 0, 0, 0, 0, 0, 0, 0, 0, 0, 0, 0, 0, 0,\n",
       "        0, 0, 0, 0, 0, 0, 0, 0, 0, 0, 0, 0, 0, 0, 0, 0, 0, 0, 0, 0, 0, 0,\n",
       "        0, 0, 0, 0, 0, 0, 0, 0, 0, 0, 0, 0, 0, 0, 0, 0, 0, 0, 0, 0, 0, 0,\n",
       "        0, 0, 0, 0, 0, 0, 0, 0, 0, 0, 0, 0, 0, 0, 0, 0, 0, 0, 0, 0, 0, 0,\n",
       "        0, 0, 0, 0, 0, 0, 0, 0, 0, 0, 0, 0, 0, 0, 0, 0, 0, 0, 0, 0, 0, 0,\n",
       "        0, 0, 0, 0, 0, 0, 0, 0, 0, 0, 0, 0, 0, 0, 0, 0, 0, 0, 0, 0, 0, 0,\n",
       "        0, 0, 0, 0, 0, 0, 0, 0, 0, 0, 0, 0, 0, 0, 0, 0, 0, 0, 0, 0, 0, 0,\n",
       "        0, 0, 0, 0, 0, 0, 0, 0, 0, 0, 0, 0, 0, 0, 0, 0, 0, 0, 0, 0, 0, 0,\n",
       "        0, 0, 0, 0, 0, 0, 0, 0, 0, 0, 0, 0, 0, 0, 0, 0, 0, 0, 0, 0, 0, 0,\n",
       "        0, 0, 0, 0, 0, 0, 0, 0, 0, 0, 0, 0, 0, 0, 0, 0, 0, 0, 0, 0, 0],\n",
       "       dtype=object))"
      ]
     },
     "execution_count": 177,
     "metadata": {},
     "output_type": "execute_result"
    }
   ],
   "source": [
    "df_room.loc[196].values, room_trace.loc[196].values"
   ]
  },
  {
   "cell_type": "code",
   "execution_count": 160,
   "id": "debb6c7c-0bb0-45bd-beee-74bf1c3099e4",
   "metadata": {},
   "outputs": [],
   "source": [
    "z = np.unique(np.array(df_room))"
   ]
  },
  {
   "cell_type": "code",
   "execution_count": 164,
   "id": "80838c95-4dda-405a-a1cb-ece63931fa7e",
   "metadata": {},
   "outputs": [
    {
     "name": "stdout",
     "output_type": "stream",
     "text": [
      "38\n",
      "65\n",
      "84\n",
      "85\n",
      "101\n",
      "129\n",
      "149\n",
      "161\n",
      "172\n",
      "173\n",
      "183\n",
      "197\n",
      "199\n",
      "218\n",
      "223\n",
      "248\n",
      "264\n"
     ]
    }
   ],
   "source": [
    "for j in df_floor.index:\n",
    "    A = df_floor.loc[j].values\n",
    "    B = floor_trace.loc[j].values\n",
    "    if not (A == B).all():\n",
    "        assert ((A != 0) <= (B != 0)).all()\n",
    "        print(j)\n",
    "        "
   ]
  },
  {
   "cell_type": "code",
   "execution_count": 116,
   "id": "0abf87ff-e404-4e16-9490-352576498970",
   "metadata": {},
   "outputs": [
    {
     "data": {
      "text/html": [
       "<div>\n",
       "<style scoped>\n",
       "    .dataframe tbody tr th:only-of-type {\n",
       "        vertical-align: middle;\n",
       "    }\n",
       "\n",
       "    .dataframe tbody tr th {\n",
       "        vertical-align: top;\n",
       "    }\n",
       "\n",
       "    .dataframe thead th {\n",
       "        text-align: right;\n",
       "    }\n",
       "</style>\n",
       "<table border=\"1\" class=\"dataframe\">\n",
       "  <thead>\n",
       "    <tr style=\"text-align: right;\">\n",
       "      <th></th>\n",
       "      <th>WGS_ID</th>\n",
       "      <th>WGS_StudyID</th>\n",
       "      <th>Room</th>\n",
       "      <th>Bed</th>\n",
       "      <th>Admit_Date</th>\n",
       "      <th>DischargeDate</th>\n",
       "      <th>LOS</th>\n",
       "      <th>Room_Bed</th>\n",
       "      <th>From_Date</th>\n",
       "      <th>Thru_Date</th>\n",
       "    </tr>\n",
       "  </thead>\n",
       "  <tbody>\n",
       "    <tr>\n",
       "      <th>492</th>\n",
       "      <td>C-38</td>\n",
       "      <td>38</td>\n",
       "      <td>DE/DE.3EAST</td>\n",
       "      <td>B</td>\n",
       "      <td>2012-05-23</td>\n",
       "      <td>2012-07-23</td>\n",
       "      <td>61</td>\n",
       "      <td>DE.305-B</td>\n",
       "      <td>2012-06-18</td>\n",
       "      <td>2012-07-22</td>\n",
       "    </tr>\n",
       "    <tr>\n",
       "      <th>494</th>\n",
       "      <td>C-38</td>\n",
       "      <td>38</td>\n",
       "      <td>DE/DE.3EAST</td>\n",
       "      <td>B</td>\n",
       "      <td>2012-08-10</td>\n",
       "      <td>2012-09-06</td>\n",
       "      <td>27</td>\n",
       "      <td>DE.325-B</td>\n",
       "      <td>2012-08-10</td>\n",
       "      <td>2012-08-13</td>\n",
       "    </tr>\n",
       "    <tr>\n",
       "      <th>493</th>\n",
       "      <td>C-38</td>\n",
       "      <td>38</td>\n",
       "      <td>DE/DE.3EAST</td>\n",
       "      <td>B</td>\n",
       "      <td>2012-08-10</td>\n",
       "      <td>2012-09-06</td>\n",
       "      <td>27</td>\n",
       "      <td>DE.301-B</td>\n",
       "      <td>2012-08-14</td>\n",
       "      <td>2012-09-05</td>\n",
       "    </tr>\n",
       "  </tbody>\n",
       "</table>\n",
       "</div>"
      ],
      "text/plain": [
       "    WGS_ID  WGS_StudyID         Room Bed Admit_Date DischargeDate  LOS  \\\n",
       "492   C-38           38  DE/DE.3EAST   B 2012-05-23    2012-07-23   61   \n",
       "494   C-38           38  DE/DE.3EAST   B 2012-08-10    2012-09-06   27   \n",
       "493   C-38           38  DE/DE.3EAST   B 2012-08-10    2012-09-06   27   \n",
       "\n",
       "     Room_Bed  From_Date  Thru_Date  \n",
       "492  DE.305-B 2012-06-18 2012-07-22  \n",
       "494  DE.325-B 2012-08-10 2012-08-13  \n",
       "493  DE.301-B 2012-08-14 2012-09-05  "
      ]
     },
     "execution_count": 116,
     "metadata": {},
     "output_type": "execute_result"
    }
   ],
   "source": [
    "df_census[df_census[\"WGS_StudyID\"] == 38]"
   ]
  },
  {
   "cell_type": "code",
   "execution_count": null,
   "id": "0e9d8543-1c27-44ad-b9ab-7fa0708b8ee3",
   "metadata": {},
   "outputs": [],
   "source": []
  }
 ],
 "metadata": {
  "kernelspec": {
   "display_name": "Python 3 (ipykernel)",
   "language": "python",
   "name": "python3"
  },
  "language_info": {
   "codemirror_mode": {
    "name": "ipython",
    "version": 3
   },
   "file_extension": ".py",
   "mimetype": "text/x-python",
   "name": "python",
   "nbconvert_exporter": "python",
   "pygments_lexer": "ipython3",
   "version": "3.11.7"
  }
 },
 "nbformat": 4,
 "nbformat_minor": 5
}
