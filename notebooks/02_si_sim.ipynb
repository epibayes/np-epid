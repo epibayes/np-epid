{
 "cells": [
  {
   "cell_type": "code",
   "execution_count": null,
   "metadata": {},
   "outputs": [],
   "source": [
    "import pandas as pd\n",
    "import numpy as np\n",
    "import matplotlib.pyplot as plt\n",
    "import sys\n",
    "sys.path.append(\"..\")\n",
    "from src.dataset import SIModel\n",
    "from src.approx_bc import abc_rejection_sampler, abc_rejection_sampler2\n",
    "import seaborn as sns\n",
    "from scipy.stats import norm, lognorm\n",
    "import matplotlib"
   ]
  },
  {
   "cell_type": "code",
   "execution_count": null,
   "metadata": {},
   "outputs": [],
   "source": [
    "run_abc = False"
   ]
  },
  {
   "cell_type": "code",
   "execution_count": null,
   "metadata": {},
   "outputs": [],
   "source": [
    "sns.set_theme()\n",
    "sns.set_style(\"white\")\n",
    "\n",
    "matplotlib.rcParams['figure.figsize'] = (6.4, 4.8)\n",
    "\n",
    "beta_true = 0.15 # 0.15\n",
    "alpha = 0.1\n",
    "gamma = 0.05 # 0.05\n",
    "prior_mu = -3\n",
    "prior_sigma = 1\n",
    "N = 100\n",
    "T = 52\n",
    "K = 30\n",
    "heterogeneous = False\n",
    "log_scale = False"
   ]
  },
  {
   "cell_type": "code",
   "execution_count": null,
   "metadata": {},
   "outputs": [],
   "source": [
    "si_model = SIModel(alpha, gamma, beta_true, \n",
    "                    heterogeneous, prior_mu, prior_sigma,\n",
    "                   N, T, summarize=False, log_scale = False)\n",
    "\n",
    "x_o_raw = si_model.get_observed_data(29)\n",
    "I_o = np.array(x_o_raw)[0]\n",
    "S_o  = 1 - I_o\n",
    "plt.plot(I_o, label=\"Infected\")\n",
    "plt.plot(S_o, label=\"Susceptible\")\n",
    "plt.legend(loc=\"upper right\")\n",
    "plt.xlabel(\"Time Steps\")\n",
    "plt.ylabel(\"Proportion\")\n",
    "plt.ylim(0, 1.1)\n",
    "# plt.savefig(\"images/si-sim.png\")\n",
    "plt.show()"
   ]
  },
  {
   "cell_type": "markdown",
   "metadata": {},
   "source": [
    "## Likelihood-based"
   ]
  },
  {
   "cell_type": "code",
   "execution_count": null,
   "metadata": {},
   "outputs": [],
   "source": [
    "true_post_mean = -1.99\n",
    "true_post_sd = 0.0949\n",
    "true_post_exp = 0.137"
   ]
  },
  {
   "cell_type": "markdown",
   "metadata": {},
   "source": [
    "## NPE"
   ]
  },
  {
   "cell_type": "code",
   "execution_count": null,
   "metadata": {},
   "outputs": [],
   "source": [
    "npe_results = {\n",
    "    \"Method\": [\"NPE\"] * 6,\n",
    "    \"Simulations\": [125, 250, 500, 1000, 2000, 4000],\n",
    "    \"mean\": [-1.914, -1.972, -1.95, -2.013, -1.971, -1.985],\n",
    "    \"sd\": [.162, .156, 0.139, .151, .125, .145]\n",
    "}\n",
    "df_npe = pd.DataFrame(npe_results)\n",
    "df_npe[\"Posterior Mean\"] = np.exp(df_npe[\"mean\"] + df_npe[\"sd\"]**2/2)\n",
    "# df_npe[\".05\"] = np.exp(norm(df_npe[\"mean\"], df_npe[\"sd\"]).ppf(0.05))\n",
    "# df_npe[\".95\"] = np.exp(norm(df_npe[\"mean\"], df_npe[\"sd\"]).ppf(0.95))"
   ]
  },
  {
   "cell_type": "code",
   "execution_count": null,
   "metadata": {},
   "outputs": [],
   "source": [
    "mu = df_npe[\"mean\"].iloc[-1]\n",
    "sigma = df_npe[\"sd\"].iloc[-1]\n",
    "\n",
    "prior_mean = np.exp(prior_mu + prior_sigma**2/2)\n",
    "\n",
    "prior = norm(prior_mu, prior_sigma)\n",
    "\n",
    "np.random.seed(10)\n",
    "x = np.arange(0., 0.3, 0.001)\n",
    "ax1 = sns.lineplot(x=x, y=lognorm.pdf(x, scale=np.exp(prior_mu), s=prior_sigma), \n",
    "                   label=\"Prior Density\", linestyle=\":\")\n",
    "posterior_mean = np.exp(mu + sigma**2/2)\n",
    "plt.axvline(prior_mean, color=\"k\", linestyle=\":\", label=\"Prior Mean\")\n",
    "ax = sns.lineplot(x=x, y=lognorm.pdf(x, scale=np.exp(mu), s=sigma), label=\"Neural Posterior Density\")\n",
    "plt.axvline(posterior_mean, color=\"k\", label=\"Neural Posterior Mean\")\n",
    "plt.axvline(true_post_exp, color=\"red\", linestyle=\"--\", label=r\"Exact Posterior Mean\")\n",
    "ax.set_xlabel(r\"Infection Rate $\\beta$\")\n",
    "# ax.set_title(f\"Neural Posterior Inference of Infection Rate\")\n",
    "plt.legend()\n",
    "plt.savefig(\"images/npe_homog.png\")\n",
    "plt.show()"
   ]
  },
  {
   "cell_type": "markdown",
   "metadata": {},
   "source": [
    "## Posterior Predictive Checks"
   ]
  },
  {
   "cell_type": "code",
   "execution_count": null,
   "metadata": {},
   "outputs": [],
   "source": [
    "neural_posterior = norm(mu, sigma)\n",
    "K = 30\n",
    "npe_sample = np.exp(neural_posterior.rvs(size=K, random_state=2))\n",
    "posterior_predictive = np.empty((K, T))\n",
    "\n",
    "\n",
    "for i in range(K):\n",
    "    si_model = SIModel(alpha, gamma, npe_sample[i], \n",
    "                   heterogeneous, prior_mu, prior_sigma,\n",
    "                   N, T, summarize=False)\n",
    "    x_rep = si_model.get_observed_data(i)\n",
    "    posterior_predictive[i] =  np.array(x_rep)[0]\n",
    "pp_mean = posterior_predictive.mean(0)\n",
    "\n",
    "labels = [\"Post. Pred. Draw\"] + [None for _ in range(K-1)]\n",
    "I_o = np.array(x_o_raw)[0]\n",
    "S_o  = 1 - I_o\n",
    "plt.plot(I_o, label=\"Observed\", color=\"k\")\n",
    "plt.plot(posterior_predictive.T, \n",
    "         label=labels, color=\"b\",\n",
    "         alpha=0.2)\n",
    "plt.plot(pp_mean, label=\"Post. Pred. Mean\", linestyle=\"--\",\n",
    "         color=\"orange\")\n",
    "plt.legend()\n",
    "plt.ylabel(\"Proportion Infected\")\n",
    "plt.xlabel(\"Time Steps\")\n",
    "plt.savefig(\"images/ppc.png\")\n",
    "plt.show()"
   ]
  },
  {
   "cell_type": "markdown",
   "metadata": {},
   "source": [
    "## ABC"
   ]
  },
  {
   "cell_type": "code",
   "execution_count": null,
   "metadata": {},
   "outputs": [],
   "source": [
    "if run_abc: \n",
    "    abc_data = {\"summarize\":[], \"epsilon\":[], \"simulations\":[]}\n",
    "    abc_samples = []\n",
    "    \n",
    "    args = [(False, [2, 1, 0.8, 0.65, 0.5]),\n",
    "            (True, [0.4, 0.25, 0.1, 0.05, 0.01])]\n",
    "    for summarize, es in args:\n",
    "        for epsilon in es:\n",
    "            si_model = SIModel(alpha, gamma, beta_true, \n",
    "                            heterogeneous, prior_mu, prior_sigma, \n",
    "                           N, T, summarize=summarize)\n",
    "            prior_sampler = lambda: si_model.sample_logbeta(1)\n",
    "            simulator = lambda theta, seed: si_model.SI_simulator(theta, seed)\n",
    "            x_o = si_model.get_observed_data(29)\n",
    "            if summarize:\n",
    "                x_o = x_o.transpose(0, 1)\n",
    "            S = 100\n",
    "            print(f\"epsilon: {epsilon}\")\n",
    "            posterior_sample, errors = abc_rejection_sampler(\n",
    "                S, epsilon, prior_sampler, simulator, x_o, max_attempts=30000,\n",
    "                summarize=summarize\n",
    "                )\n",
    "            print(\"***\")\n",
    "            abc_data[\"summarize\"].append(summarize)\n",
    "            abc_data[\"epsilon\"].append(epsilon)\n",
    "            abc_data[\"simulations\"].append((errors > 0).sum())\n",
    "            abc_samples.append(posterior_sample[:,0])"
   ]
  },
  {
   "cell_type": "code",
   "execution_count": null,
   "metadata": {},
   "outputs": [],
   "source": [
    "if run_abc:\n",
    "    df_abc = pd.DataFrame(abc_data)\n",
    "\n",
    "    abc_posterior = np.array(abc_samples)\n",
    "    df_abc[\"Posterior Mean\"] = np.exp(abc_posterior).mean(1)\n",
    "    \n",
    "    # df_abc[\".05\"] = np.quantile(np.exp(abc_posterior), 0.05, 1)\n",
    "    # df_abc[\".95\"] = np.quantile(np.exp(abc_posterior), 0.95, 1)\n",
    "    df_abc[\"sd\"] = abc_posterior.std(1)\n",
    "    df_abc[\"mean\"] = abc_posterior.mean(1)\n",
    "    df_abc[\"Method\"] = df_abc[\"summarize\"].apply(lambda x: \"ABC-S\" if x else \"ABC\")\n",
    "    df_abc = df_abc.rename(columns={\"simulations\":\"Simulations\"})\n",
    "\n",
    "    df_results = pd.concat([df_npe, \n",
    "           df_abc[[\"Method\", \"Simulations\", \"Posterior Mean\", \"mean\", \"sd\"]]])\n",
    "    df_results.to_csv(\"homogeneous_accuracy.csv\", index=False)"
   ]
  },
  {
   "cell_type": "code",
   "execution_count": null,
   "metadata": {},
   "outputs": [],
   "source": [
    "if not run_abc:\n",
    "    df_results = pd.read_csv(\"homogeneous_accuracy.csv\")"
   ]
  },
  {
   "cell_type": "code",
   "execution_count": null,
   "metadata": {},
   "outputs": [],
   "source": [
    "npe = df_results[df_results[\"Method\"] == \"NPE\"]\n",
    "abc = df_results[df_results[\"Method\"] == \"ABC\"]\n",
    "abcs = df_results[df_results[\"Method\"] == \"ABC-S\"]"
   ]
  },
  {
   "cell_type": "code",
   "execution_count": null,
   "metadata": {},
   "outputs": [],
   "source": [
    "cycle = plt.rcParams['axes.prop_cycle'].by_key()['color']"
   ]
  },
  {
   "cell_type": "code",
   "execution_count": null,
   "metadata": {},
   "outputs": [],
   "source": [
    "ax = sns.lineplot(df_results, x=\"Simulations\", y=\"Posterior Mean\", marker=\"o\", hue=\"Method\")\n",
    "ax.axhline(y = true_post_exp, color=\"k\", label=r\"Exact Posterior Mean\", linestyle=\"--\")\n",
    "plt.legend()\n",
    "plt.xscale(\"log\")\n",
    "plt.xlabel(\"Simulations\")\n",
    "plt.ylabel(r\"Posterior Mean of $\\beta$\")\n",
    "plt.title(\"Simulation-based Inference of Infection Rate\")\n",
    "\n",
    "ax.set_xticks([250, 1000, 4000])\n",
    "ax.get_xaxis().set_major_formatter(matplotlib.ticker.ScalarFormatter())\n",
    "\n",
    "plt.show()"
   ]
  },
  {
   "cell_type": "code",
   "execution_count": null,
   "metadata": {},
   "outputs": [],
   "source": [
    "ax = sns.lineplot(df_results, x=\"Simulations\", y=\"mean\", marker=\"o\", hue=\"Method\")\n",
    "ax.axhline(y = true_post_mean, color=\"k\", label=r\"Exact Mean\", linestyle=\"--\")\n",
    "plt.legend()\n",
    "plt.xscale(\"log\")\n",
    "plt.xlabel(\"Simulations\")\n",
    "plt.ylabel(r\"Posterior Mean\")\n",
    "ax.set_xticks([250, 1000, 4000])\n",
    "ax.get_xaxis().set_major_formatter(matplotlib.ticker.ScalarFormatter())\n",
    "plt.savefig(\"images/homog_bias.png\")\n",
    "plt.show()"
   ]
  },
  {
   "cell_type": "code",
   "execution_count": null,
   "metadata": {},
   "outputs": [],
   "source": [
    "ax = sns.lineplot(df_results, x=\"Simulations\", y=\"sd\", marker=\"o\", hue=\"Method\")\n",
    "plt.legend()\n",
    "ax.axhline(y = true_post_sd, color=\"k\", label=r\"Exact SD\", linestyle=\"--\")\n",
    "plt.legend()\n",
    "plt.xscale(\"log\")\n",
    "plt.xlabel(\"Simulations\")\n",
    "plt.ylabel(r\"Posterior Standard Deviation\")\n",
    "# plt.title(\"Simulation-based Inference of Infection Rate\")\n",
    "ax.set_xticks([250, 1000, 4000])\n",
    "ax.get_xaxis().set_major_formatter(matplotlib.ticker.ScalarFormatter())\n",
    "plt.ylim(0,1)\n",
    "plt.savefig(\"images/homog_variance.png\")\n",
    "plt.show()"
   ]
  },
  {
   "cell_type": "markdown",
   "metadata": {},
   "source": [
    "# Prior Strength "
   ]
  },
  {
   "cell_type": "markdown",
   "metadata": {},
   "source": [
    "## Prior Precision"
   ]
  },
  {
   "cell_type": "code",
   "execution_count": null,
   "metadata": {},
   "outputs": [],
   "source": [
    "prior_precision = pd.read_csv(\"prior_precision.csv\")\n",
    "prior_precision = prior_precision[[\"prior_sigma\", \"mu\", \"sigma\", \"n_sample\"]]\n",
    "prior_precision[\"method\"] = \"NPE\""
   ]
  },
  {
   "cell_type": "code",
   "execution_count": null,
   "metadata": {},
   "outputs": [],
   "source": [
    "# testing\n",
    "\n",
    "if run_abc:\n",
    "    prior_strength_abc = {\"prior_sigma\": [], \"mu\": [],\n",
    "                          \"sigma\": [],\n",
    "                          \"n_sample\": []}\n",
    "    n_accepts = 50\n",
    "    for prior_sigma in 4,2,1,0.5,0.25:\n",
    "        for S in [500]:# , 2000:\n",
    "            prior_mu = -1.9\n",
    "            summarize = False\n",
    "            si_model = SIModel(alpha, gamma, beta_true, \n",
    "                            heterogeneous, prior_mu, prior_sigma, \n",
    "                        N, T, summarize=summarize)\n",
    "            prior_sampler = lambda: si_model.sample_logbeta(1)\n",
    "            simulator = lambda theta, seed: si_model.SI_simulator(theta, seed)\n",
    "            x_o = si_model.get_observed_data(29)\n",
    "            posterior_sample, errors = abc_rejection_sampler2(S, prior_sampler, simulator, x_o, summarize)\n",
    "            accepted = posterior_sample[errors.argsort()[:n_accepts]]\n",
    "            prior_strength_abc[\"prior_sigma\"].append(prior_sigma)\n",
    "            prior_strength_abc[\"mu\"].append(accepted.mean())\n",
    "            prior_strength_abc[\"sigma\"].append(accepted.std())\n",
    "            # prior_strength_abc[\"posterior_mean\"].append(np.exp(accepted).mean())\n",
    "            prior_strength_abc[\"n_sample\"].append(S)\n",
    "\n",
    "    df_prior_strength = pd.DataFrame(prior_strength_abc)\n",
    "    df_prior_strength.to_csv(\"abc_prior_precision.csv\", index=False)"
   ]
  },
  {
   "cell_type": "code",
   "execution_count": null,
   "metadata": {},
   "outputs": [],
   "source": [
    "if not run_abc:\n",
    "    df_prior_strength = pd.read_csv(\"abc_prior_precision.csv\")\n",
    "df_prior_strength[\"method\"] = \"ABC\"\n",
    "\n",
    "df_prior_strength = pd.concat([df_prior_strength, prior_precision])\n",
    "df_prior_strength[\"log_precision\"] = np.log2(df_prior_strength[\"prior_sigma\"] ** -2)\n",
    "\n",
    "df_prior_strength = df_prior_strength.sort_values([\"method\", \"log_precision\"])\n",
    "\n",
    "df_ps_npe = df_prior_strength[df_prior_strength[\"method\"] == \"NPE\"]\n",
    "df_ps_abc = df_prior_strength[(df_prior_strength[\"method\"] == \"ABC\")]\n",
    "\n",
    "npe_error = df_ps_npe[\"sigma\"]\n",
    "abc_error = df_ps_abc[\"sigma\"]\n",
    "npe_lower, npe_upper = df_ps_npe[\"mu\"] - npe_error, df_ps_npe[\"mu\"] + npe_error\n",
    "\n",
    "abc_lower, abc_upper = df_ps_abc[\"mu\"] - abc_error, df_ps_abc[\"mu\"] + abc_error"
   ]
  },
  {
   "cell_type": "code",
   "execution_count": null,
   "metadata": {},
   "outputs": [],
   "source": [
    "mle_est = -1.976"
   ]
  },
  {
   "cell_type": "code",
   "execution_count": null,
   "metadata": {},
   "outputs": [],
   "source": [
    "plt.plot(df_ps_npe[\"log_precision\"], df_ps_npe[\"mu\"], label=\"NPE\")\n",
    "plt.plot(df_ps_abc[\"log_precision\"], df_ps_abc[\"mu\"], label=\"ABC\")\n",
    "# plt.plot(df_ps_abc2[\"log_precision\"], df_ps_abc2[\"mu\"], label=\"ABC (2k)\")\n",
    "plt.axhline(mle_est, linestyle=\"--\", color=\"k\", label=r\"$\\hat \\beta$ (MLE)\")\n",
    "\n",
    "plt.plot(df_ps_npe[\"log_precision\"],\n",
    "         npe_lower, color='tab:blue', alpha=0.1)\n",
    "plt.plot(df_ps_npe[\"log_precision\"],\n",
    "         npe_upper, color='tab:blue', alpha=0.1)\n",
    "plt.fill_between(df_ps_npe[\"log_precision\"], npe_lower, npe_upper, alpha=0.2)\n",
    "\n",
    "plt.plot(df_ps_npe[\"log_precision\"],\n",
    "         abc_lower, color='tab:orange', alpha=0.1)\n",
    "plt.plot(df_ps_npe[\"log_precision\"],\n",
    "         abc_upper, color='tab:orange', alpha=0.1)\n",
    "plt.fill_between(df_ps_npe[\"log_precision\"], abc_lower, abc_upper, alpha=0.2)\n",
    "\n",
    "plt.xlabel(\"Prior Log-Precision\")\n",
    "plt.ylabel(r\"Posterior Estimate of $\\log(\\beta)$\")\n",
    "plt.legend()\n",
    "plt.savefig(\"images/prior_precision.png\")\n",
    "plt.show()"
   ]
  },
  {
   "cell_type": "code",
   "execution_count": null,
   "metadata": {},
   "outputs": [],
   "source": [
    "df_prior_bias = pd.read_csv(\"prior_bias.csv\")[[\"mu\", \"sigma\", \"prior_mu\", \"n_sample\"]]\n",
    "df_prior_bias[\"method\"] = \"NPE\""
   ]
  },
  {
   "cell_type": "code",
   "execution_count": null,
   "metadata": {},
   "outputs": [],
   "source": [
    "if run_abc:\n",
    "    df_temp = []\n",
    "    n_accepts=50\n",
    "    for prior_mu in [-4, -3.5, -3, -2.5, -2, -1.5, -1, -0.5]:\n",
    "        S = 500\n",
    "        prior_sigma = 1\n",
    "        summarize = False\n",
    "        si_model = SIModel(alpha, gamma, beta_true, \n",
    "                        heterogeneous, prior_mu, prior_sigma, \n",
    "                    N, T, summarize=summarize)\n",
    "        prior_sampler = lambda: si_model.sample_logbeta(1)\n",
    "        simulator = lambda theta, seed: si_model.SI_simulator(theta, seed)\n",
    "        x_o = si_model.get_observed_data(29)\n",
    "        posterior_sample, errors = abc_rejection_sampler2(S, prior_sampler, simulator, x_o, summarize)\n",
    "        accepted = posterior_sample[errors.argsort()[:n_accepts]]\n",
    "        df_temp.append([accepted.mean(), accepted.std(), prior_mu, S, \"ABC\"])\n",
    "    \n",
    "    df_temp = pd.DataFrame(df_temp, columns=[\"mu\", \"sigma\", \"prior_mu\", \"n_sample\", \"method\"])\n",
    "    \n",
    "    df_temp.to_csv(\"abc_prior_bias.csv\", index=False)\n",
    "else:\n",
    "    df_temp = pd.read_csv(\"abc_prior_bias.csv\")"
   ]
  },
  {
   "cell_type": "code",
   "execution_count": null,
   "metadata": {},
   "outputs": [],
   "source": [
    "df_prior_mu = pd.concat([df_prior_bias, df_temp])\n",
    "\n",
    "df_prior_mu = df_prior_mu.sort_values([\"method\", \"prior_mu\"])\n",
    "\n",
    "df_pm_npe = df_prior_mu[df_prior_mu[\"method\"] == \"NPE\"]\n",
    "df_pm_abc = df_prior_mu[(df_prior_mu[\"method\"] == \"ABC\")]\n",
    "\n",
    "\n",
    "npe_error = df_pm_npe[\"sigma\"]\n",
    "abc_error = df_pm_abc[\"sigma\"]\n",
    "\n",
    "npe_lower, npe_upper = df_pm_npe[\"mu\"] - npe_error, df_pm_npe[\"mu\"] + npe_error\n",
    "\n",
    "abc_lower, abc_upper = df_pm_abc[\"mu\"] - abc_error, df_pm_abc[\"mu\"] + abc_error\n",
    "\n",
    "x = df_pm_npe[\"prior_mu\"] - mle_est"
   ]
  },
  {
   "cell_type": "code",
   "execution_count": null,
   "metadata": {},
   "outputs": [],
   "source": [
    "plt.plot(x, df_pm_npe[\"mu\"], label=\"NPE\")\n",
    "plt.plot(x, df_pm_abc[\"mu\"], label=\"ABC\")\n",
    "\n",
    "plt.axhline(mle_est, linestyle=\"--\", color=\"k\", label=r\"$\\hat \\beta$ (MLE)\")\n",
    "\n",
    "plt.plot(x,\n",
    "         npe_lower, color='tab:blue', alpha=0.1)\n",
    "plt.plot(x,\n",
    "         npe_upper, color='tab:blue', alpha=0.1)\n",
    "plt.fill_between(x, npe_lower, npe_upper, alpha=0.2)\n",
    "\n",
    "plt.plot(x,\n",
    "         abc_lower, color='tab:orange', alpha=0.1)\n",
    "plt.plot(x,\n",
    "         abc_upper, color='tab:orange', alpha=0.1)\n",
    "plt.fill_between(x, abc_lower, abc_upper, alpha=0.2)\n",
    "\n",
    "plt.xlabel(\"Prior Bias\")\n",
    "plt.ylabel(r\"Posterior Estimate of $\\log(\\beta)$\")\n",
    "plt.legend()\n",
    "plt.savefig(\"images/prior_bias.png\")\n",
    "plt.show()"
   ]
  },
  {
   "cell_type": "markdown",
   "metadata": {},
   "source": [
    "### Model Identifiability"
   ]
  },
  {
   "cell_type": "code",
   "execution_count": null,
   "metadata": {},
   "outputs": [],
   "source": [
    "prior_mu = np.zeros(7) - 4"
   ]
  },
  {
   "cell_type": "code",
   "execution_count": null,
   "metadata": {},
   "outputs": [],
   "source": [
    "si_model = SIModel(alpha, gamma, beta_true = [0.15, 1e-8, 1e-8, 1e-8, 1e-8, 1e-8, 1e-8], heterogeneous = True,\n",
    "                  prior_mu = prior_mu, prior_sigma = [1, 1, 1, 1, 1, 1, 1],\n",
    "                  N=N, T=T, summarize=False)\n",
    "prior_sampler = lambda: si_model.sample_logbeta(1)\n",
    "simulator = lambda theta, seed: si_model.SI_simulator(theta, seed)\n",
    "x_o = si_model.get_observed_data(29)\n",
    "\n",
    "epsilon = 2.8\n",
    "\n",
    "\n",
    "S = 100\n",
    "print(f\"epsilon: {epsilon}\")\n",
    "posterior_sample, errors = abc_rejection_sampler(\n",
    "    S, epsilon, prior_sampler, simulator, x_o, max_attempts=30000,\n",
    "    summarize=False\n",
    "    )"
   ]
  },
  {
   "cell_type": "code",
   "execution_count": null,
   "metadata": {},
   "outputs": [],
   "source": [
    "np.exp(posterior_sample).mean(0)"
   ]
  },
  {
   "cell_type": "code",
   "execution_count": null,
   "metadata": {},
   "outputs": [],
   "source": [
    "np.exp(norm(-3, 1).ppf(0.05))"
   ]
  },
  {
   "cell_type": "code",
   "execution_count": null,
   "metadata": {},
   "outputs": [],
   "source": [
    "a = np.quantile(np.exp(posterior_sample), 0.05, 0)\n",
    "b = np.quantile(np.exp(posterior_sample), 0.95, 0)\n",
    "list(zip(a, b))"
   ]
  },
  {
   "cell_type": "code",
   "execution_count": null,
   "metadata": {},
   "outputs": [],
   "source": [
    "posterior_predictive = np.empty((K, T))\n",
    "for i in range(K):\n",
    "    si_model = SIModel(alpha, gamma, np.exp(posterior_sample)[i], \n",
    "                   True, prior_mu, [1, 1, 1, 1, 1, 1, 1],\n",
    "                   N, T, summarize=False, flatten=False)\n",
    "    x_rep = si_model.get_observed_data(i)\n",
    "    posterior_predictive[i] =  np.array(x_rep)[0]\n",
    "pp_mean = posterior_predictive.mean(0)\n",
    "\n",
    "labels = [\"Post. Pred. Draw\"] + [None for _ in range(K-1)]\n",
    "I_o = np.array(x_o_raw)[0]\n",
    "S_o  = 1 - I_o\n",
    "plt.plot(I_o, label=\"Observed\", color=\"k\")\n",
    "plt.plot(posterior_predictive.T, \n",
    "         label=labels, color=\"b\",\n",
    "         alpha=0.2)\n",
    "plt.plot(pp_mean, label=\"Post. Pred. Mean\", linestyle=\"--\",\n",
    "         color=\"orange\")\n",
    "plt.legend()\n",
    "plt.ylabel(\"Proportion Infected\")\n",
    "plt.xlabel(\"Time Steps\")\n",
    "# plt.savefig(\"images/ppc.png\")\n",
    "plt.show()"
   ]
  },
  {
   "cell_type": "code",
   "execution_count": null,
   "metadata": {},
   "outputs": [],
   "source": [
    "# posterior predictive check"
   ]
  },
  {
   "cell_type": "code",
   "execution_count": null,
   "metadata": {},
   "outputs": [],
   "source": [
    "# (posterior_sample).mean(0)"
   ]
  },
  {
   "cell_type": "code",
   "execution_count": null,
   "metadata": {},
   "outputs": [],
   "source": [
    "posterior_sample.std(0)"
   ]
  },
  {
   "cell_type": "code",
   "execution_count": null,
   "metadata": {},
   "outputs": [],
   "source": [
    "np.exp(-2.17 + 0.22)"
   ]
  },
  {
   "cell_type": "code",
   "execution_count": null,
   "metadata": {},
   "outputs": [],
   "source": [
    "np.log(0.15)"
   ]
  }
 ],
 "metadata": {
  "language_info": {
   "name": "python"
  }
 },
 "nbformat": 4,
 "nbformat_minor": 4
}
