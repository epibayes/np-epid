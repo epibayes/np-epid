{
 "cells": [
  {
   "cell_type": "code",
   "execution_count": 2,
   "metadata": {},
   "outputs": [],
   "source": [
    "import pandas as pd\n",
    "import numpy as np\n",
    "import matplotlib.pyplot as plt\n",
    "import sys\n",
    "sys.path.append(\"..\")\n",
    "from src.dataset import SIS_Simulator\n",
    "import seaborn as sns"
   ]
  },
  {
   "cell_type": "code",
   "execution_count": 3,
   "metadata": {},
   "outputs": [
    {
     "name": "stdout",
     "output_type": "stream",
     "text": [
      "Simulating observed data...\n"
     ]
    }
   ],
   "source": [
    "    beta_true = (0.025, 0.15, 0.1)\n",
    "    mu = -2\n",
    "    sigma = 0.5\n",
    "    SIS = SIS_Simulator(alpha=0.1, \n",
    "                        gamma=0.05, \n",
    "                        beta_true=beta_true,\n",
    "                        prior_mu=-mu,\n",
    "                        prior_sigma=sigma,\n",
    "                        n_zones=2\n",
    "    )"
   ]
  },
  {
   "cell_type": "code",
   "execution_count": 4,
   "metadata": {},
   "outputs": [
    {
     "name": "stdout",
     "output_type": "stream",
     "text": [
      "Maximum attempts reached, halting\n"
     ]
    }
   ],
   "source": [
    "    epsilon = 0.1\n",
    "    x_o = SIS.x_o\n",
    "    posterior_sample, errors = SIS.abc_rejection_sampler(100, epsilon, 60000)"
   ]
  },
  {
   "cell_type": "code",
   "execution_count": 6,
   "metadata": {},
   "outputs": [],
   "source": [
    "errors"
   ]
  },
  {
   "cell_type": "code",
   "execution_count": null,
   "metadata": {},
   "outputs": [],
   "source": []
  }
 ],
 "metadata": {
  "kernelspec": {
   "display_name": "research",
   "language": "python",
   "name": "python3"
  },
  "language_info": {
   "codemirror_mode": {
    "name": "ipython",
    "version": 3
   },
   "file_extension": ".py",
   "mimetype": "text/x-python",
   "name": "python",
   "nbconvert_exporter": "python",
   "pygments_lexer": "ipython3",
   "version": "3.11.7"
  }
 },
 "nbformat": 4,
 "nbformat_minor": 2
}
