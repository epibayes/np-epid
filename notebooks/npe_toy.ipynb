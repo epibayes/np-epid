{
 "cells": [
  {
   "cell_type": "code",
   "execution_count": 1,
   "metadata": {},
   "outputs": [],
   "source": [
    "import numpy as np\n",
    "from scipy.stats import norm, lognorm\n",
    "import matplotlib.pyplot as plt\n",
    "import sys\n",
    "sys.path.append(\"..\")\n",
    "from src.dataset import ExponentialToyDataset"
   ]
  },
  {
   "cell_type": "code",
   "execution_count": 2,
   "metadata": {},
   "outputs": [
    {
     "name": "stdout",
     "output_type": "stream",
     "text": [
      "10.273480125291353\n"
     ]
    }
   ],
   "source": [
    "N = 500\n",
    "lambda_true = 0.1\n",
    "np.random.seed(4)\n",
    "data = np.random.exponential(1/lambda_true, N)\n",
    "y_true = data.mean()\n",
    "print(y_true)"
   ]
  },
  {
   "cell_type": "code",
   "execution_count": 82,
   "metadata": {},
   "outputs": [],
   "source": [
    "# proposal prior is lognormal \n",
    "def proposal_prior(mu, sigma, n):\n",
    "    log_theta = np.random.normal(mu, sigma, n)\n",
    "    return np.exp(log_theta)"
   ]
  },
  {
   "cell_type": "code",
   "execution_count": 90,
   "metadata": {},
   "outputs": [
    {
     "ename": "ValueError",
     "evalue": "shape mismatch: objects cannot be broadcast to a single shape.  Mismatch is between arg 0 with shape (100, 10) and arg 1 with shape (100,).",
     "output_type": "error",
     "traceback": [
      "\u001b[0;31m---------------------------------------------------------------------------\u001b[0m",
      "\u001b[0;31mValueError\u001b[0m                                Traceback (most recent call last)",
      "\u001b[1;32m/Users/pchatha/crkp/notebooks/npe_toy.ipynb Cell 4\u001b[0m line \u001b[0;36m1\n\u001b[0;32m----> <a href='vscode-notebook-cell:/Users/pchatha/crkp/notebooks/npe_toy.ipynb#X24sZmlsZQ%3D%3D?line=0'>1</a>\u001b[0m np\u001b[39m.\u001b[39;49mrandom\u001b[39m.\u001b[39;49mexponential(\u001b[39m1\u001b[39;49m \u001b[39m/\u001b[39;49m theta, size\u001b[39m=\u001b[39;49m(theta\u001b[39m.\u001b[39;49mshape[\u001b[39m0\u001b[39;49m], \u001b[39m10\u001b[39;49m))\n",
      "File \u001b[0;32mnumpy/random/mtrand.pyx:570\u001b[0m, in \u001b[0;36mnumpy.random.mtrand.RandomState.exponential\u001b[0;34m()\u001b[0m\n",
      "File \u001b[0;32m_common.pyx:596\u001b[0m, in \u001b[0;36mnumpy.random._common.cont\u001b[0;34m()\u001b[0m\n",
      "File \u001b[0;32m_common.pyx:479\u001b[0m, in \u001b[0;36mnumpy.random._common.cont_broadcast_1\u001b[0;34m()\u001b[0m\n",
      "File \u001b[0;32m__init__.cython-30.pxd:777\u001b[0m, in \u001b[0;36mnumpy.PyArray_MultiIterNew2\u001b[0;34m()\u001b[0m\n",
      "\u001b[0;31mValueError\u001b[0m: shape mismatch: objects cannot be broadcast to a single shape.  Mismatch is between arg 0 with shape (100, 10) and arg 1 with shape (100,)."
     ]
    }
   ],
   "source": [
    "np.random.exponential(1 / theta, size=(theta.shape[0], 10))"
   ]
  },
  {
   "cell_type": "code",
   "execution_count": 104,
   "metadata": {},
   "outputs": [
    {
     "data": {
      "text/plain": [
       "array([0.57152619, 1.82703681, 0.32912399, 0.14145213, 6.41540553,\n",
       "       1.24743794, 0.76577398, 1.33308868, 2.26243097, 0.23822919,\n",
       "       3.22045251, 1.34299494, 1.59617475, 2.54090904, 1.33316478,\n",
       "       0.50434471, 0.39377893, 4.54288985, 1.47880883, 0.68157455,\n",
       "       0.52414973, 1.84861707, 4.40796293, 2.06653375, 0.951624  ,\n",
       "       0.73751392, 9.30812038, 0.06745939, 0.54181178, 0.72998517,\n",
       "       0.35323459, 1.12252858, 4.09706669, 1.32778892, 0.20481931,\n",
       "       0.24152456, 0.81743016, 1.98733585, 2.37139583, 0.44163234,\n",
       "       1.86920288, 0.54011669, 0.13216535, 1.60596311, 0.79282811,\n",
       "       3.08896704, 0.27254379, 1.27230226, 1.09249796, 0.53136924,\n",
       "       0.25306572, 1.71934379, 0.88992534, 4.41057505, 0.39918908,\n",
       "       2.60074103, 0.11800094, 2.74398297, 0.48298035, 1.192248  ,\n",
       "       1.50409147, 1.4015064 , 0.37142017, 1.83770544, 1.66438486,\n",
       "       1.03479599, 1.29158612, 0.38751765, 0.88556179, 0.98962953,\n",
       "       0.22271257, 0.6131783 , 1.99634442, 0.88233485, 1.03467407,\n",
       "       0.28776699, 2.35711068, 0.52791454, 0.70767034, 0.28519235,\n",
       "       1.4112149 , 0.82451578, 0.32410217, 2.28335568, 1.02447223,\n",
       "       0.77351069, 2.78854608, 0.64533341, 0.4670128 , 7.49247295,\n",
       "       1.10466045, 3.11667745, 2.30427929, 0.21242499, 0.76750011,\n",
       "       1.04634522, 0.5487881 , 1.29610379, 3.20315649, 0.5723693 ])"
      ]
     },
     "execution_count": 104,
     "metadata": {},
     "output_type": "execute_result"
    }
   ],
   "source": [
    "ll = np.tile(theta, (10, 1))\n",
    "ll.mean(0)"
   ]
  },
  {
   "cell_type": "code",
   "execution_count": 105,
   "metadata": {},
   "outputs": [],
   "source": [
    "def simulator(theta, n):\n",
    "    # can see if this works without taking the mean\n",
    "    theta = np.tile(theta, (n, 1))\n",
    "    return np.random.exponential(1 / theta).mean(0)"
   ]
  },
  {
   "cell_type": "code",
   "execution_count": 106,
   "metadata": {},
   "outputs": [],
   "source": [
    "theta = proposal_prior(0, 1, 100)\n",
    "x = simulator(theta, 500)"
   ]
  },
  {
   "cell_type": "code",
   "execution_count": null,
   "metadata": {},
   "outputs": [],
   "source": []
  }
 ],
 "metadata": {
  "kernelspec": {
   "display_name": ".venv",
   "language": "python",
   "name": "python3"
  },
  "language_info": {
   "codemirror_mode": {
    "name": "ipython",
    "version": 3
   },
   "file_extension": ".py",
   "mimetype": "text/x-python",
   "name": "python",
   "nbconvert_exporter": "python",
   "pygments_lexer": "ipython3",
   "version": "3.11.4"
  }
 },
 "nbformat": 4,
 "nbformat_minor": 2
}
