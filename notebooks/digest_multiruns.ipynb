{
 "cells": [
  {
   "cell_type": "code",
   "execution_count": 2,
   "metadata": {},
   "outputs": [],
   "source": [
    "import pandas as pd\n",
    "import numpy as np\n",
    "import matplotlib.pyplot as plt\n",
    "import sys\n",
    "sys.path.append(\"..\")\n",
    "from src.utils import get_results"
   ]
  },
  {
   "cell_type": "markdown",
   "metadata": {},
   "source": [
    "### CRKP"
   ]
  },
  {
   "cell_type": "code",
   "execution_count": 3,
   "metadata": {},
   "outputs": [],
   "source": [
    "df_crkp_homo = get_results(\"../multirun/2024-09-26/10-53-56\")"
   ]
  },
  {
   "cell_type": "code",
   "execution_count": 6,
   "metadata": {},
   "outputs": [
    {
     "data": {
      "text/html": [
       "<div>\n",
       "<style scoped>\n",
       "    .dataframe tbody tr th:only-of-type {\n",
       "        vertical-align: middle;\n",
       "    }\n",
       "\n",
       "    .dataframe tbody tr th {\n",
       "        vertical-align: top;\n",
       "    }\n",
       "\n",
       "    .dataframe thead th {\n",
       "        text-align: right;\n",
       "    }\n",
       "</style>\n",
       "<table border=\"1\" class=\"dataframe\">\n",
       "  <thead>\n",
       "    <tr style=\"text-align: right;\">\n",
       "      <th></th>\n",
       "      <th>N</th>\n",
       "      <th>_target_</th>\n",
       "      <th>batch_size</th>\n",
       "      <th>d_model</th>\n",
       "      <th>dropout</th>\n",
       "      <th>lr</th>\n",
       "      <th>mean_field</th>\n",
       "      <th>mu</th>\n",
       "      <th>n_sample</th>\n",
       "      <th>prior_mu</th>\n",
       "      <th>prior_sigma</th>\n",
       "      <th>seed</th>\n",
       "      <th>sigma</th>\n",
       "      <th>val_loss</th>\n",
       "      <th>weight_decay</th>\n",
       "    </tr>\n",
       "  </thead>\n",
       "  <tbody>\n",
       "    <tr>\n",
       "      <th>15</th>\n",
       "      <td>-1</td>\n",
       "      <td>src.model.GaussianDensityNetwork</td>\n",
       "      <td>None</td>\n",
       "      <td>80</td>\n",
       "      <td>0.0</td>\n",
       "      <td>0.001</td>\n",
       "      <td>False</td>\n",
       "      <td>-0.165498</td>\n",
       "      <td>1000</td>\n",
       "      <td>-1</td>\n",
       "      <td>1</td>\n",
       "      <td>5</td>\n",
       "      <td>0.138678</td>\n",
       "      <td>0.086037</td>\n",
       "      <td>0.02</td>\n",
       "    </tr>\n",
       "    <tr>\n",
       "      <th>9</th>\n",
       "      <td>-1</td>\n",
       "      <td>src.model.GaussianDensityNetwork</td>\n",
       "      <td>None</td>\n",
       "      <td>48</td>\n",
       "      <td>0.0</td>\n",
       "      <td>0.001</td>\n",
       "      <td>False</td>\n",
       "      <td>-0.120912</td>\n",
       "      <td>2000</td>\n",
       "      <td>-1</td>\n",
       "      <td>1</td>\n",
       "      <td>5</td>\n",
       "      <td>0.153559</td>\n",
       "      <td>0.180324</td>\n",
       "      <td>0.00</td>\n",
       "    </tr>\n",
       "    <tr>\n",
       "      <th>0</th>\n",
       "      <td>-1</td>\n",
       "      <td>src.model.GaussianDensityNetwork</td>\n",
       "      <td>None</td>\n",
       "      <td>80</td>\n",
       "      <td>0.0</td>\n",
       "      <td>0.001</td>\n",
       "      <td>False</td>\n",
       "      <td>-0.093550</td>\n",
       "      <td>4000</td>\n",
       "      <td>-1</td>\n",
       "      <td>1</td>\n",
       "      <td>5</td>\n",
       "      <td>0.204426</td>\n",
       "      <td>0.195900</td>\n",
       "      <td>0.00</td>\n",
       "    </tr>\n",
       "  </tbody>\n",
       "</table>\n",
       "</div>"
      ],
      "text/plain": [
       "    N                          _target_ batch_size  d_model  dropout     lr  \\\n",
       "15 -1  src.model.GaussianDensityNetwork       None       80      0.0  0.001   \n",
       "9  -1  src.model.GaussianDensityNetwork       None       48      0.0  0.001   \n",
       "0  -1  src.model.GaussianDensityNetwork       None       80      0.0  0.001   \n",
       "\n",
       "    mean_field        mu  n_sample  prior_mu  prior_sigma  seed     sigma  \\\n",
       "15       False -0.165498      1000        -1            1     5  0.138678   \n",
       "9        False -0.120912      2000        -1            1     5  0.153559   \n",
       "0        False -0.093550      4000        -1            1     5  0.204426   \n",
       "\n",
       "    val_loss  weight_decay  \n",
       "15  0.086037          0.02  \n",
       "9   0.180324          0.00  \n",
       "0   0.195900          0.00  "
      ]
     },
     "execution_count": 6,
     "metadata": {},
     "output_type": "execute_result"
    }
   ],
   "source": [
    "df_crkp_homo.sort_values([\"n_sample\", \"val_loss\"]).drop_duplicates(\"n_sample\")"
   ]
  },
  {
   "cell_type": "markdown",
   "metadata": {},
   "source": [
    "#### CRKP Het"
   ]
  },
  {
   "cell_type": "code",
   "execution_count": 6,
   "metadata": {},
   "outputs": [],
   "source": []
  },
  {
   "cell_type": "markdown",
   "metadata": {},
   "source": [
    "## Heterogeneous rates experiment"
   ]
  },
  {
   "cell_type": "code",
   "execution_count": 14,
   "metadata": {},
   "outputs": [],
   "source": [
    "df_het_reboot = get_results(\"../multirun/2024-08-23/09-44-24\")"
   ]
  },
  {
   "cell_type": "code",
   "execution_count": 7,
   "metadata": {},
   "outputs": [],
   "source": [
    "df_het_reboot = df_het_reboot.sort_values([\"n_sample\", \"val_loss\"]).drop_duplicates(\"n_sample\")"
   ]
  },
  {
   "cell_type": "code",
   "execution_count": 9,
   "metadata": {},
   "outputs": [
    {
     "data": {
      "text/html": [
       "<div>\n",
       "<style scoped>\n",
       "    .dataframe tbody tr th:only-of-type {\n",
       "        vertical-align: middle;\n",
       "    }\n",
       "\n",
       "    .dataframe tbody tr th {\n",
       "        vertical-align: top;\n",
       "    }\n",
       "\n",
       "    .dataframe thead th {\n",
       "        text-align: right;\n",
       "    }\n",
       "</style>\n",
       "<table border=\"1\" class=\"dataframe\">\n",
       "  <thead>\n",
       "    <tr style=\"text-align: right;\">\n",
       "      <th></th>\n",
       "      <th>N</th>\n",
       "      <th>_target_</th>\n",
       "      <th>batch_size</th>\n",
       "      <th>d_model</th>\n",
       "      <th>dropout</th>\n",
       "      <th>lr</th>\n",
       "      <th>mean_field</th>\n",
       "      <th>mu</th>\n",
       "      <th>n_sample</th>\n",
       "      <th>prior_mu</th>\n",
       "      <th>prior_sigma</th>\n",
       "      <th>seed</th>\n",
       "      <th>sigma</th>\n",
       "      <th>val_loss</th>\n",
       "      <th>weight_decay</th>\n",
       "    </tr>\n",
       "  </thead>\n",
       "  <tbody>\n",
       "    <tr>\n",
       "      <th>28</th>\n",
       "      <td>300</td>\n",
       "      <td>src.model.GaussianDensityNetwork</td>\n",
       "      <td>None</td>\n",
       "      <td>80</td>\n",
       "      <td>0.0</td>\n",
       "      <td>0.001</td>\n",
       "      <td>False</td>\n",
       "      <td>[[-3.0499167442321777, -2.3103954792022705, -1...</td>\n",
       "      <td>500</td>\n",
       "      <td>[-3, -1.5, -1.5, -1.5, -1.5, -1.5, 1]</td>\n",
       "      <td>[1, 1, 1, 1, 1, 1, 1]</td>\n",
       "      <td>31</td>\n",
       "      <td>[[0.20613180100917816, -0.13648924231529236, -...</td>\n",
       "      <td>7.208969</td>\n",
       "      <td>0.00</td>\n",
       "    </tr>\n",
       "    <tr>\n",
       "      <th>54</th>\n",
       "      <td>300</td>\n",
       "      <td>src.model.GaussianDensityNetwork</td>\n",
       "      <td>None</td>\n",
       "      <td>64</td>\n",
       "      <td>0.0</td>\n",
       "      <td>0.001</td>\n",
       "      <td>False</td>\n",
       "      <td>[[-2.9816317558288574, -2.2653324604034424, -1...</td>\n",
       "      <td>1000</td>\n",
       "      <td>[-3, -1.5, -1.5, -1.5, -1.5, -1.5, 1]</td>\n",
       "      <td>[1, 1, 1, 1, 1, 1, 1]</td>\n",
       "      <td>31</td>\n",
       "      <td>[[0.15607793629169464, -0.15045008063316345, -...</td>\n",
       "      <td>6.081766</td>\n",
       "      <td>0.03</td>\n",
       "    </tr>\n",
       "    <tr>\n",
       "      <th>77</th>\n",
       "      <td>300</td>\n",
       "      <td>src.model.GaussianDensityNetwork</td>\n",
       "      <td>None</td>\n",
       "      <td>64</td>\n",
       "      <td>0.0</td>\n",
       "      <td>0.001</td>\n",
       "      <td>False</td>\n",
       "      <td>[[-3.008618116378784, -2.2887327671051025, -1....</td>\n",
       "      <td>2000</td>\n",
       "      <td>[-3, -1.5, -1.5, -1.5, -1.5, -1.5, 1]</td>\n",
       "      <td>[1, 1, 1, 1, 1, 1, 1]</td>\n",
       "      <td>31</td>\n",
       "      <td>[[0.10886267572641373, -0.16673362255096436, -...</td>\n",
       "      <td>6.087550</td>\n",
       "      <td>0.00</td>\n",
       "    </tr>\n",
       "    <tr>\n",
       "      <th>88</th>\n",
       "      <td>300</td>\n",
       "      <td>src.model.GaussianDensityNetwork</td>\n",
       "      <td>None</td>\n",
       "      <td>80</td>\n",
       "      <td>0.0</td>\n",
       "      <td>0.001</td>\n",
       "      <td>False</td>\n",
       "      <td>[[-2.9680216312408447, -2.3389790058135986, -1...</td>\n",
       "      <td>4000</td>\n",
       "      <td>[-3, -1.5, -1.5, -1.5, -1.5, -1.5, 1]</td>\n",
       "      <td>[1, 1, 1, 1, 1, 1, 1]</td>\n",
       "      <td>31</td>\n",
       "      <td>[[0.11564268916845322, -0.12264273315668106, -...</td>\n",
       "      <td>5.998096</td>\n",
       "      <td>0.00</td>\n",
       "    </tr>\n",
       "    <tr>\n",
       "      <th>3</th>\n",
       "      <td>300</td>\n",
       "      <td>src.model.GaussianDensityNetwork</td>\n",
       "      <td>None</td>\n",
       "      <td>72</td>\n",
       "      <td>0.0</td>\n",
       "      <td>0.001</td>\n",
       "      <td>False</td>\n",
       "      <td>[[-2.957024097442627, -2.51387882232666, -1.32...</td>\n",
       "      <td>6000</td>\n",
       "      <td>[-3, -1.5, -1.5, -1.5, -1.5, -1.5, 1]</td>\n",
       "      <td>[1, 1, 1, 1, 1, 1, 1]</td>\n",
       "      <td>31</td>\n",
       "      <td>[[0.1260814070701599, -0.13144144415855408, -0...</td>\n",
       "      <td>5.748140</td>\n",
       "      <td>0.00</td>\n",
       "    </tr>\n",
       "  </tbody>\n",
       "</table>\n",
       "</div>"
      ],
      "text/plain": [
       "      N                          _target_ batch_size  d_model  dropout     lr  \\\n",
       "28  300  src.model.GaussianDensityNetwork       None       80      0.0  0.001   \n",
       "54  300  src.model.GaussianDensityNetwork       None       64      0.0  0.001   \n",
       "77  300  src.model.GaussianDensityNetwork       None       64      0.0  0.001   \n",
       "88  300  src.model.GaussianDensityNetwork       None       80      0.0  0.001   \n",
       "3   300  src.model.GaussianDensityNetwork       None       72      0.0  0.001   \n",
       "\n",
       "    mean_field                                                 mu  n_sample  \\\n",
       "28       False  [[-3.0499167442321777, -2.3103954792022705, -1...       500   \n",
       "54       False  [[-2.9816317558288574, -2.2653324604034424, -1...      1000   \n",
       "77       False  [[-3.008618116378784, -2.2887327671051025, -1....      2000   \n",
       "88       False  [[-2.9680216312408447, -2.3389790058135986, -1...      4000   \n",
       "3        False  [[-2.957024097442627, -2.51387882232666, -1.32...      6000   \n",
       "\n",
       "                                 prior_mu            prior_sigma  seed  \\\n",
       "28  [-3, -1.5, -1.5, -1.5, -1.5, -1.5, 1]  [1, 1, 1, 1, 1, 1, 1]    31   \n",
       "54  [-3, -1.5, -1.5, -1.5, -1.5, -1.5, 1]  [1, 1, 1, 1, 1, 1, 1]    31   \n",
       "77  [-3, -1.5, -1.5, -1.5, -1.5, -1.5, 1]  [1, 1, 1, 1, 1, 1, 1]    31   \n",
       "88  [-3, -1.5, -1.5, -1.5, -1.5, -1.5, 1]  [1, 1, 1, 1, 1, 1, 1]    31   \n",
       "3   [-3, -1.5, -1.5, -1.5, -1.5, -1.5, 1]  [1, 1, 1, 1, 1, 1, 1]    31   \n",
       "\n",
       "                                                sigma  val_loss  weight_decay  \n",
       "28  [[0.20613180100917816, -0.13648924231529236, -...  7.208969          0.00  \n",
       "54  [[0.15607793629169464, -0.15045008063316345, -...  6.081766          0.03  \n",
       "77  [[0.10886267572641373, -0.16673362255096436, -...  6.087550          0.00  \n",
       "88  [[0.11564268916845322, -0.12264273315668106, -...  5.998096          0.00  \n",
       "3   [[0.1260814070701599, -0.13144144415855408, -0...  5.748140          0.00  "
      ]
     },
     "execution_count": 9,
     "metadata": {},
     "output_type": "execute_result"
    }
   ],
   "source": [
    "df_het_reboot"
   ]
  },
  {
   "cell_type": "code",
   "execution_count": 8,
   "metadata": {},
   "outputs": [],
   "source": [
    "df_het_reboot.to_csv(\"df_het2.csv\", index=False)"
   ]
  },
  {
   "cell_type": "markdown",
   "metadata": {},
   "source": [
    "## Partial Observation"
   ]
  },
  {
   "cell_type": "code",
   "execution_count": 15,
   "metadata": {},
   "outputs": [],
   "source": [
    "df_partial = get_results(\"../multirun/2024-08-27/22-13-34\")"
   ]
  },
  {
   "cell_type": "code",
   "execution_count": 19,
   "metadata": {},
   "outputs": [],
   "source": [
    "df_partial.sort_values(\"val_loss\").head(1).to_csv(\"partial_obs2.csv\", index=False)"
   ]
  },
  {
   "cell_type": "code",
   "execution_count": null,
   "metadata": {},
   "outputs": [],
   "source": []
  }
 ],
 "metadata": {
  "kernelspec": {
   "display_name": "research",
   "language": "python",
   "name": "python3"
  },
  "language_info": {
   "codemirror_mode": {
    "name": "ipython",
    "version": 3
   },
   "file_extension": ".py",
   "mimetype": "text/x-python",
   "name": "python",
   "nbconvert_exporter": "python",
   "pygments_lexer": "ipython3",
   "version": "3.11.7"
  }
 },
 "nbformat": 4,
 "nbformat_minor": 2
}
