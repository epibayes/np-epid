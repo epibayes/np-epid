{
 "cells": [
  {
   "cell_type": "code",
   "execution_count": null,
   "id": "c1ba496b-af43-4095-be20-a93d6936910f",
   "metadata": {},
   "outputs": [],
   "source": [
    "import pandas as pd\n",
    "import numpy as np\n",
    "import matplotlib.pyplot as plt\n",
    "import seaborn as sns"
   ]
  },
  {
   "cell_type": "code",
   "execution_count": null,
   "id": "e672e04c-b953-4629-96a3-7e66aceb8b2b",
   "metadata": {},
   "outputs": [],
   "source": [
    "epi_dir = '/Volumes/umms-esnitkin/Project_KPC_LTACH/Analysis/LTACH_transmission_modeling'"
   ]
  },
  {
   "cell_type": "code",
   "execution_count": null,
   "id": "8e283bed-fbce-4810-b3b2-fe135e29cf69",
   "metadata": {},
   "outputs": [],
   "source": [
    "infections_cleaned = pd.read_csv(f\"{epi_dir}/preprocessed/infections.csv\", index_col=0)\n",
    "infections_cleaned.columns = np.arange(367)\n",
    "\n",
    "df_screen = pd.read_csv(f\"{epi_dir}/preprocessed/screening.csv\", index_col=0)\n",
    "df_screen.columns = np.arange(367)\n",
    "\n",
    "df_floor = pd.read_csv(f\"{epi_dir}/preprocessed/floor_trace.csv\", index_col=0)\n",
    "df_floor.columns = np.arange(367)\n",
    "\n",
    "df_room = pd.read_csv(f\"{epi_dir}/preprocessed/room_trace.csv\", index_col=0)\n",
    "df_room.columns = np.arange(367)"
   ]
  },
  {
   "cell_type": "code",
   "execution_count": null,
   "id": "204a07bf-7be1-44c1-af6a-0d8c65527957",
   "metadata": {},
   "outputs": [],
   "source": [
    "(np.nansum(infections_cleaned, 1) > 0)"
   ]
  },
  {
   "cell_type": "code",
   "execution_count": null,
   "id": "9b320b7d-c85d-47d5-8d53-229a0e0d1064",
   "metadata": {},
   "outputs": [],
   "source": [
    "window_starts = [i*7 for i in range(367//7 + 1)]\n",
    "\n",
    "window_stops = [w -1 for w in window_starts[1:]] + [367]\n",
    "\n",
    "windows = list(zip(window_starts, window_stops))"
   ]
  },
  {
   "cell_type": "code",
   "execution_count": null,
   "id": "eca81d04-2a01-4709-b952-61fcdc6b09d7",
   "metadata": {},
   "outputs": [],
   "source": [
    "infections_rs = pd.DataFrame(index=infections_cleaned.index, columns=np.arange(len(windows)))\n",
    "for n in infections_cleaned.index:\n",
    "    for t, w in enumerate(windows):\n",
    "        a, b = w\n",
    "        week_data = infections_cleaned.loc[n, a:b]\n",
    "        if np.isnan(week_data).all():\n",
    "            infections_rs.loc[n, t] = np.nan\n",
    "        else:\n",
    "            infections_rs.loc[n, t] = np.nanmax(week_data)"
   ]
  },
  {
   "cell_type": "code",
   "execution_count": null,
   "id": "f59dc878-d3f4-420f-b558-8de364160cfd",
   "metadata": {},
   "outputs": [],
   "source": [
    "NN = infections_rs.notna().sum(0)[:-1]\n",
    "II = (infections_rs == 1).sum(0)[:-1]\n",
    "sns.lineplot(NN, color=\"green\", linestyle=\"--\", label=\"Total\")\n",
    "sns.lineplot(II, label=\"Infected\")\n",
    "plt.ylim(bottom=0)\n",
    "plt.ylabel(\"Number of Patients\")\n",
    "plt.xlabel(\"Weeks\")\n",
    "# plt.savefig(\"images/crkp.png\")\n",
    "plt.show()"
   ]
  },
  {
   "cell_type": "code",
   "execution_count": null,
   "id": "8af19618-f84b-4371-8b56-1af744357681",
   "metadata": {},
   "outputs": [],
   "source": [
    "df_facility_rs = infections_rs.notna().astype(int)"
   ]
  },
  {
   "cell_type": "code",
   "execution_count": null,
   "id": "29848299-4666-4353-a725-7a7f53c1f6c8",
   "metadata": {},
   "outputs": [],
   "source": [
    "NN.mean()"
   ]
  },
  {
   "cell_type": "markdown",
   "id": "5d9f8310-d1a5-48b0-8175-6324ac4f0502",
   "metadata": {},
   "source": [
    "#### screening data"
   ]
  },
  {
   "cell_type": "code",
   "execution_count": null,
   "id": "c9b48fda-c177-44d6-8b6e-35b5114b0413",
   "metadata": {},
   "outputs": [],
   "source": [
    "df_screen_rs = pd.DataFrame(index=infections_cleaned.index, columns=np.arange(len(windows)))\n",
    "df_screen_rs[0] = infections_rs[0]\n",
    "for t in range(1, len(windows)):\n",
    "    newly_admitted = infections_rs[t].notna() * infections_rs[t-1].isna()\n",
    "    \n",
    "    df_screen_rs[t][newly_admitted] = infections_rs[t][newly_admitted]\n",
    "    assert df_screen_rs[t][newly_admitted].notna().all()"
   ]
  },
  {
   "cell_type": "code",
   "execution_count": null,
   "id": "e824f3a0-e87e-42f5-a1c7-2111808209d6",
   "metadata": {},
   "outputs": [],
   "source": [
    "A = df_screen_rs.sum(0)\n",
    "B = df_screen_rs.notna().sum(0)"
   ]
  },
  {
   "cell_type": "code",
   "execution_count": null,
   "id": "9335dcce-221f-4fd7-bd29-ce1cdd2481ff",
   "metadata": {},
   "outputs": [],
   "source": [
    "sns.lineplot(A)\n",
    "sns.lineplot(B)\n",
    "plt.show()"
   ]
  },
  {
   "cell_type": "code",
   "execution_count": null,
   "id": "b42324c7-a127-4c2b-9e2e-88c492ff0e37",
   "metadata": {},
   "outputs": [],
   "source": [
    "B[1:].mean()"
   ]
  },
  {
   "cell_type": "code",
   "execution_count": null,
   "id": "f22d13d4-0097-4486-b77b-d7cbc45edf8c",
   "metadata": {},
   "outputs": [],
   "source": [
    "A[1:].mean()"
   ]
  },
  {
   "cell_type": "markdown",
   "id": "0bb238a6-8d78-4723-81bc-e94a52cfa00c",
   "metadata": {},
   "source": [
    "### floor and room trace data"
   ]
  },
  {
   "cell_type": "code",
   "execution_count": null,
   "id": "cabb6d85-ca44-47b9-9701-ae58cc610ec2",
   "metadata": {},
   "outputs": [],
   "source": [
    "df_floor_rs = pd.DataFrame(index=df_floor.index, columns=np.arange(len(windows)))\n",
    "for n in df_floor.index:\n",
    "    admitted = False\n",
    "    for t, w in enumerate(windows):\n",
    "        a, b = w\n",
    "        week_data = np.array(df_floor.loc[n, a:b])\n",
    "        df_floor_rs.loc[n, t] = week_data[np.argmax(week_data > 0)]\n",
    "        # if not np.isnan(week_data).all():\n",
    "        #     df_screen_rs.loc[n, t] = np.nanmax(week_data)"
   ]
  },
  {
   "cell_type": "code",
   "execution_count": null,
   "id": "be24297f-37fe-4418-a8e1-47de288b4ae9",
   "metadata": {},
   "outputs": [],
   "source": [
    "df_room_rs = pd.DataFrame(index=df_room.index, columns=np.arange(len(windows)))\n",
    "for n in df_room.index:\n",
    "    admitted = False\n",
    "    for t, w in enumerate(windows):\n",
    "        a, b = w\n",
    "        week_data = np.array(df_room.loc[n, a:b])\n",
    "        df_room_rs.loc[n, t] = week_data[np.argmax(week_data > 0)]"
   ]
  },
  {
   "cell_type": "markdown",
   "id": "28b8c4f3-65f9-4373-bf7b-a4b468515e22",
   "metadata": {},
   "source": [
    "## \"observed\" data"
   ]
  },
  {
   "cell_type": "code",
   "execution_count": null,
   "id": "28f99435-3292-4dba-97f7-437d66cfccd0",
   "metadata": {},
   "outputs": [],
   "source": [
    "total_count = infections_rs.sum(0).values"
   ]
  },
  {
   "cell_type": "code",
   "execution_count": null,
   "id": "c914a1c2-35e5-464a-ae72-10e2625383f9",
   "metadata": {},
   "outputs": [],
   "source": [
    "floor_counts = []\n",
    "X = infections_rs.values\n",
    "F = df_floor_rs.values\n",
    "# big change: ignore floor 5\n",
    "for i in [1,2,3,4,6]:\n",
    "    floor_count = np.nansum(X * (F == i), axis=0)\n",
    "    floor_counts.append(floor_count)"
   ]
  },
  {
   "cell_type": "code",
   "execution_count": null,
   "id": "50f8d97b-699b-4ab4-9675-2162a58b6920",
   "metadata": {},
   "outputs": [],
   "source": [
    "T = X.shape[1]\n",
    "# room_infect_density = np.ones(T)\n",
    "room_count = np.empty(T)\n",
    "R = df_room_rs.values\n",
    "for t in range(T):\n",
    "    r = R[:, t]\n",
    "    x = X[:, t]\n",
    "    rx, ry = np.meshgrid(r, r)\n",
    "    rC = (rx == ry).astype(int)\n",
    "    I = (x == 1).astype(int)\n",
    "    infected_roommates = (rC * I).sum(1)\n",
    "    # rm.append(infected_roommates.sum())\n",
    "    # if infected_roommates.max() > 0:\n",
    "    #     room_infect_density[t] = infected_roommates[infected_roommates > 0].mean()\n",
    "    room_count[t] = (infected_roommates > 1).sum()"
   ]
  },
  {
   "cell_type": "code",
   "execution_count": null,
   "id": "f24f81fb-052d-4496-8b9d-b82105319c6b",
   "metadata": {},
   "outputs": [],
   "source": [
    "room_count"
   ]
  },
  {
   "cell_type": "code",
   "execution_count": null,
   "id": "6378296c-3b8a-4ac9-9fd2-5513b4ad972d",
   "metadata": {},
   "outputs": [],
   "source": [
    "observed_data = np.stack(([total_count] + floor_counts + [room_count]))"
   ]
  },
  {
   "cell_type": "markdown",
   "id": "5103bd4e-a53c-44f1-a580-974ef8e00761",
   "metadata": {},
   "source": [
    "### sanity checks"
   ]
  },
  {
   "cell_type": "code",
   "execution_count": null,
   "id": "1a1e7080-1247-427b-86c4-6c75d3deec7f",
   "metadata": {},
   "outputs": [],
   "source": [
    "assert ((df_floor_rs > 0).values == (df_room_rs > 0).values).all()\n",
    "assert ((infections_rs.notna()).values == (df_facility_rs > 0).values).all()\n",
    "for n, r in df_screen_rs.iterrows():\n",
    "    for t, v in r.items():\n",
    "        if not np.isnan(v):\n",
    "            assert infections_rs.loc[n, t] == v\n",
    "            # assert not np.isnan(infections_cleaned.loc[n, t])\n",
    "assert ((infections_rs.notna()).values == (df_floor_rs > 0).values).all()"
   ]
  },
  {
   "cell_type": "markdown",
   "id": "fa7a37cf-0f31-49ca-ba9c-6ea40a788a11",
   "metadata": {},
   "source": [
    "#### write out data"
   ]
  },
  {
   "cell_type": "code",
   "execution_count": null,
   "id": "90b1dbfa-1046-427d-abd4-3bb3da058fa3",
   "metadata": {},
   "outputs": [],
   "source": [
    "# takeaway from sanity check: each week sees about 20 new patients admitted\n",
    "\n",
    "output_dir = '/Volumes/umms-esnitkin/Project_KPC_LTACH/Analysis/LTACH_transmission_modeling/preprocessed/resampled'\n",
    "infections_rs.to_csv(f\"{output_dir}/infections.csv\")\n",
    "df_screen_rs.to_csv(f\"{output_dir}/screening.csv\")\n",
    "df_facility_rs.to_csv(f\"{output_dir}/facility_trace.csv\")\n",
    "df_floor_rs.to_csv(f\"{output_dir}/floor_trace.csv\")\n",
    "df_room_rs.to_csv(f\"{output_dir}/room_trace.csv\")"
   ]
  },
  {
   "cell_type": "code",
   "execution_count": null,
   "id": "ff5feb53-1733-4215-a845-e7b5bd75548e",
   "metadata": {},
   "outputs": [],
   "source": [
    "with open(f\"{output_dir}/observed_data.npy\", \"wb\") as f:\n",
    "    np.save(f, observed_data)"
   ]
  }
 ],
 "metadata": {
  "language_info": {
   "name": "python"
  }
 },
 "nbformat": 4,
 "nbformat_minor": 5
}
