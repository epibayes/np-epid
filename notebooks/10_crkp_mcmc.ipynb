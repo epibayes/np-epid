{
 "cells": [
  {
   "cell_type": "code",
   "execution_count": null,
   "id": "13f3e02f-76ab-4ebf-ac19-e334868d0ee1",
   "metadata": {},
   "outputs": [],
   "source": [
    "import numpy as np\n",
    "import pandas as pd\n",
    "from scipy.optimize import minimize, minimize_scalar\n",
    "import emcee\n",
    "import matplotlib.pyplot as plt\n",
    "from scipy.stats import norm, multivariate_normal\n",
    "import seaborn as sns\n",
    "import sys\n",
    "sys.path.append(\"..\")\n",
    "from src.utils import contact_matrix\n",
    "from src.dataset import CRKPTransmissionSimulator\n",
    "\n",
    "from timeit import default_timer as timer"
   ]
  },
  {
   "cell_type": "markdown",
   "id": "994e8bba-f614-43c1-b221-a46f1052fd46",
   "metadata": {},
   "source": [
    "Computing the exact likelihood for the CRKP transmission model.\n",
    "\n",
    "$$\n",
    "    \\log \\mathcal{L}(\\beta ; \\mathbf{X}) = \\sum_{t=2}^T \\sum_{i=1}^N [(1 - X_{t-1}^{(i)})W_t^{(i)}W_{t-1}^{(i)}] \\cdot [X_t^{(i)} \\log (1 - e^{- \\lambda_i(t)}) + (1 - X_t^{(i)}) \\log e^{- \\lambda_i(t)})]\n",
    "$$"
   ]
  },
  {
   "cell_type": "code",
   "execution_count": null,
   "id": "ec88748e-ecef-4ee0-b481-054208c5e4da",
   "metadata": {},
   "outputs": [],
   "source": [
    "path = \"/Volumes/umms-esnitkin/Project_KPC_LTACH/Analysis/LTACH_transmission_modeling/preprocessed/resampled\""
   ]
  },
  {
   "cell_type": "code",
   "execution_count": null,
   "id": "c01cc721-6165-475f-bb25-eedb6addfe29",
   "metadata": {},
   "outputs": [],
   "source": [
    "X = pd.read_csv(f\"{path}/infections.csv\", index_col=0).values\n",
    "W = pd.read_csv(f\"{path}/facility_trace.csv\", index_col=0).values\n",
    "V = pd.read_csv(f\"{path}/screening.csv\", index_col=0).values\n",
    "F = pd.read_csv(f\"{path}/floor_trace.csv\", index_col=0).values\n",
    "R = pd.read_csv(f\"{path}/room_trace.csv\", index_col=0).values\n",
    "cap = np.array([129., 28., 38., 35., 27., 17., 2])"
   ]
  },
  {
   "cell_type": "code",
   "execution_count": null,
   "id": "69f04ef7-57ad-4d4a-bcbb-bf19011073f5",
   "metadata": {},
   "outputs": [],
   "source": [
    "with open(f\"{path}/observed_data.npy\", \"rb\") as f:\n",
    "            x_o = (np.load(f).T / cap).T"
   ]
  },
  {
   "cell_type": "code",
   "execution_count": null,
   "id": "02dc7973-ea92-48f0-b0a7-b32cae29d4c5",
   "metadata": {},
   "outputs": [],
   "source": [
    "def log_likelihood(beta, X, W, V, F, R, het=False):\n",
    "    beta_0 = beta[0] if het else beta\n",
    "    N, T = W.shape\n",
    "    # X = np.empty((N, T))\n",
    "    # load screen data for first day\n",
    "    ans = 0\n",
    "    for t in range(1, T):\n",
    "        x = X[:, t-1]\n",
    "        w = W[:, t-1]\n",
    "        f = F[:, t-1]\n",
    "        r = R[:, t-1]\n",
    "        # who was infected at the last timestep?\n",
    "        Ia = x[w > 0]\n",
    "        hazard = Ia.sum() * beta_0 * np.ones(N) / cap[0]\n",
    "        fa = f[w > 0]\n",
    "        fC = contact_matrix(fa)\n",
    "        # guarantee that there are no infecteds who aren't present\n",
    "        # how many infected floormates?\n",
    "        if het:\n",
    "            hazard[w > 0] += (fC * Ia).sum(1) * beta[fa] / cap[fa]\n",
    "        ra = r[w > 0]\n",
    "        rC = contact_matrix(ra)\n",
    "        infected_roommates = (rC * Ia).sum(1)\n",
    "        if het:\n",
    "            hazard[w > 0] += infected_roommates * beta[-1] / cap[-1]\n",
    "        p = 1 - np.exp(-hazard)\n",
    "        \n",
    "        xt = X[:, t]\n",
    "    \n",
    "        valid = W[:, t] * w * (1 - x) # present for at least week & susceptible\n",
    "\n",
    "        ans += np.nansum(valid * ((xt * np.log(p)) + (1 - xt) * np.log(1 - p)))\n",
    "\n",
    "        # print(hazard[:3])\n",
    "        # print(p[:3])\n",
    "\n",
    "        # if t > 3: break\n",
    "\n",
    "    return ans"
   ]
  },
  {
   "cell_type": "markdown",
   "id": "c9bcd5fd-362e-4f96-8cb2-3ee7162267b6",
   "metadata": {},
   "source": [
    "# Maximum Likelihood Estimation"
   ]
  },
  {
   "cell_type": "markdown",
   "id": "7794ff7e-b8b6-4a4b-b8c0-2f7b21676531",
   "metadata": {},
   "source": [
    "### homogeneous model"
   ]
  },
  {
   "cell_type": "code",
   "execution_count": null,
   "id": "f56fccfe-3d42-43a5-9381-0a15f37b0eff",
   "metadata": {},
   "outputs": [],
   "source": [
    "def f(beta):\n",
    "    return - log_likelihood(beta, X, W, V, F, R)"
   ]
  },
  {
   "cell_type": "code",
   "execution_count": null,
   "id": "9c8f5c5d-14ba-421d-9fe2-c3789a6916f8",
   "metadata": {},
   "outputs": [],
   "source": [
    "res = minimize_scalar(f, bounds = (0.01, 1), method=\"bounded\", options={\"disp\": True, \"maxiter\": 18})\n",
    "res"
   ]
  },
  {
   "cell_type": "markdown",
   "id": "ae8ec45b-2c18-4b1a-909b-1c18e0e7cb7e",
   "metadata": {},
   "source": [
    "### heterogeneous model"
   ]
  },
  {
   "cell_type": "code",
   "execution_count": null,
   "id": "de9a5f5f-d482-443c-a0c7-9deb96a3751d",
   "metadata": {},
   "outputs": [],
   "source": [
    "def g(beta):\n",
    "    return - log_likelihood(beta, X, W, V, F, R, True)"
   ]
  },
  {
   "cell_type": "code",
   "execution_count": null,
   "id": "04e8df37-d467-4359-ab6a-6691abdafefd",
   "metadata": {},
   "outputs": [],
   "source": [
    "res2 = minimize(g, x0=np.full(7, 0.05),\n",
    "               bounds = [(0.0001, 1) for _ in range(7)], tol=0.0001)\n",
    "res2"
   ]
  },
  {
   "cell_type": "code",
   "execution_count": null,
   "id": "90e52ccd-c52a-455c-9c1f-2c23c50150a9",
   "metadata": {},
   "outputs": [],
   "source": [
    "np.round(res2.x, 3)"
   ]
  },
  {
   "cell_type": "markdown",
   "id": "cb1cddb8-1c31-43ba-b7da-745ef0b34e4a",
   "metadata": {},
   "source": [
    "# MCMC"
   ]
  },
  {
   "cell_type": "markdown",
   "id": "710f5aac-00e3-4dbf-bf59-3c5ce73f352e",
   "metadata": {},
   "source": [
    "### homogeneous model"
   ]
  },
  {
   "cell_type": "code",
   "execution_count": null,
   "id": "aa1982d3-a260-428a-bf01-8ea603e7af25",
   "metadata": {},
   "outputs": [],
   "source": [
    "def log_prob_homog(beta, X, W, V, F, R, prior_mu):\n",
    "    prior = norm(prior_mu)\n",
    "    lp = prior.logpdf(np.log(beta))\n",
    "    # lp = log_prior(np.log(beta))\n",
    "    return lp + log_likelihood(beta, X, W, V, F, R)"
   ]
  },
  {
   "cell_type": "code",
   "execution_count": null,
   "id": "5a674108-b4b4-4214-a861-09848b1c00cd",
   "metadata": {},
   "outputs": [],
   "source": [
    "nwalkers = 4\n",
    "pos = res.x + 1e-4 * np.random.randn(nwalkers, 1)\n",
    "prior_mu = -2\n",
    "sampler = emcee.EnsembleSampler(\n",
    "    nwalkers, 1, log_prob_homog, args = (X, W, V, F, R, prior_mu)\n",
    ")\n",
    "sampler.run_mcmc(pos, 2000, progress=True)"
   ]
  },
  {
   "cell_type": "markdown",
   "id": "e70be150-0caa-4020-b31d-d3e3b4d30613",
   "metadata": {},
   "source": [
    "MCMC estimate uses 8,000 evaluations of the likelihood function."
   ]
  },
  {
   "cell_type": "code",
   "execution_count": null,
   "id": "1991328d-c87b-4e69-a737-2ef3b9cf201c",
   "metadata": {},
   "outputs": [],
   "source": [
    "sampler.get_autocorr_time()"
   ]
  },
  {
   "cell_type": "code",
   "execution_count": null,
   "id": "fbf3bb34-2b6f-410f-a0e9-478159584cd7",
   "metadata": {},
   "outputs": [],
   "source": [
    "plt.plot(sampler.get_chain()[:, :, 0], color=\"k\", alpha=0.1)\n",
    "plt.show()"
   ]
  },
  {
   "cell_type": "code",
   "execution_count": null,
   "id": "0212fdf5-276d-41eb-9215-3ea94221a786",
   "metadata": {},
   "outputs": [],
   "source": [
    "flat_samples = sampler.get_chain(discard=100, thin=50, flat=True)\n",
    "flat_samples.shape"
   ]
  },
  {
   "cell_type": "code",
   "execution_count": null,
   "id": "8f5d6935-8612-48c8-b6d6-2dce6e8631fc",
   "metadata": {},
   "outputs": [],
   "source": [
    "print(np.log(flat_samples).mean())\n",
    "print(np.log(flat_samples).std())\n",
    "print(flat_samples.mean())"
   ]
  },
  {
   "cell_type": "code",
   "execution_count": null,
   "id": "2645991b-05fb-465e-8447-f6c4c2d7b505",
   "metadata": {},
   "outputs": [],
   "source": [
    "plt.hist(flat_samples)\n",
    "plt.show()"
   ]
  },
  {
   "cell_type": "code",
   "execution_count": null,
   "id": "4fdf0813-3b8f-4744-9b6a-fbc145ff9ef0",
   "metadata": {},
   "outputs": [],
   "source": [
    "# TODO: figure out how to benchmark homogeneous posterior predictive check\n",
    "\n",
    "K = 30\n",
    "T = 53\n",
    "crkp_model = CRKPTransmissionSimulator(path, -3, 1, heterogeneous=False)\n",
    "# neural_posterior_het = multivariate_normal(mu, sigma)\n",
    "# npe_sample_het = neural_posterior_het.rvs(size=K, random_state=2)\n",
    "posterior_predictive_mcmc = np.empty((K, 7, T))\n",
    "for i in range(K):\n",
    "    x_rep = crkp_model.CRKP_simulator(np.log(flat_samples[i]), i, summarize=True, show_full=True) * np.repeat(cap[:, None], T, 1) \n",
    "    posterior_predictive_mcmc[i] =  np.array(x_rep)"
   ]
  },
  {
   "cell_type": "code",
   "execution_count": null,
   "id": "db1ccf91-0e74-4542-909f-7515e75af9c2",
   "metadata": {},
   "outputs": [],
   "source": [
    "x_rep[1:5].sum(0)"
   ]
  },
  {
   "cell_type": "code",
   "execution_count": null,
   "id": "2ff375a6-cb98-4a2c-9577-acb79b2b9584",
   "metadata": {},
   "outputs": [],
   "source": [
    "for j in range(7):\n",
    "    pp_mean = posterior_predictive_mcmc.mean(0)[j]\n",
    "    labels = [\"Post. Pred. Draw\"] + [None for _ in range(K-1)]\n",
    "    I_o = np.array(x_o)[j] * cap[j]\n",
    "    plt.plot(I_o, label=\"Observed\", color=\"k\")\n",
    "    plt.plot(posterior_predictive_mcmc[:, j, :].T, \n",
    "             label=labels, color=\"b\",\n",
    "             alpha=0.1)\n",
    "    plt.plot(pp_mean, label=\"Post. Pred. Mean\", linestyle=\"--\",\n",
    "             color=\"orange\")\n",
    "    # sns.lineplot(NN, color=\"green\", linestyle=\"--\", label=\"Total\")\n",
    "    plt.legend()\n",
    "    if j == 6:\n",
    "        ylab = \"Infected Rooms\"\n",
    "    else:\n",
    "        ylab = \"Infected Patients\"\n",
    "    plt.ylabel(ylab)\n",
    "    plt.xlabel(\"Weeks\")\n",
    "    # plt.savefig(f\"images/crkp/crkp_ppc_abc{j}.png\")\n",
    "    plt.show()"
   ]
  },
  {
   "cell_type": "markdown",
   "id": "13ccddb9-130d-489e-a7c5-ec77271f687a",
   "metadata": {},
   "source": [
    "### Heterogeneous Model"
   ]
  },
  {
   "cell_type": "code",
   "execution_count": null,
   "id": "1cd0a2ed-c0f9-4073-9a0e-b902b517cc64",
   "metadata": {},
   "outputs": [],
   "source": [
    "def log_prob_het(logbeta, X, W, V, F, R, prior_mu):\n",
    "    prior = multivariate_normal(np.full(7, prior_mu))\n",
    "    lp = prior.logpdf(logbeta)\n",
    "    return lp + log_likelihood(np.exp(logbeta), X, W, V, F, R, het=True)"
   ]
  },
  {
   "cell_type": "code",
   "execution_count": null,
   "id": "4ac3fe46-ab29-41ed-ac48-c360f60f9c2f",
   "metadata": {},
   "outputs": [],
   "source": [
    "nwalkers = 16\n",
    "initial = np.full(7, -3)\n",
    "pos = initial + 1e-2 * np.random.randn(nwalkers, 7)\n",
    "prior_mu = -3\n",
    "sampler_het = emcee.EnsembleSampler(\n",
    "    nwalkers, 7, log_prob_het, args = (X, W, V, F, R, prior_mu)\n",
    ")\n",
    "# up to 4,000\n",
    "sampler_het.run_mcmc(pos, 5000, progress=True, skip_initial_state_check=True)"
   ]
  },
  {
   "cell_type": "code",
   "execution_count": null,
   "id": "02f50212-a87d-48d1-b046-4623e1baeacb",
   "metadata": {},
   "outputs": [],
   "source": [
    "plt.plot(sampler.get_chain()[:, :, 0], color=\"k\", alpha=0.1)\n",
    "plt.show()"
   ]
  },
  {
   "cell_type": "code",
   "execution_count": null,
   "id": "27e6ad97-5866-4f4b-ba9b-462e367f19e3",
   "metadata": {},
   "outputs": [],
   "source": [
    "sampler.get_autocorr_time()"
   ]
  },
  {
   "cell_type": "code",
   "execution_count": null,
   "id": "619c488e-4545-4ffa-b931-b4eed928ffd2",
   "metadata": {},
   "outputs": [],
   "source": [
    "flat_samples = sampler.get_chain(discard=500, thin=100, flat=True)\n",
    "flat_samples.shape"
   ]
  },
  {
   "cell_type": "code",
   "execution_count": null,
   "id": "d6404326-e4c9-4832-af7d-7bb82488453d",
   "metadata": {},
   "outputs": [],
   "source": [
    "mcmc_pe = np.exp(flat_samples).mean(0)\n",
    "mcmc_pe"
   ]
  },
  {
   "cell_type": "code",
   "execution_count": null,
   "id": "eaa8ae0b-960a-4300-9b51-2eebd837f778",
   "metadata": {},
   "outputs": [],
   "source": [
    "# convert to relative risks\n",
    "w = mcmc_pe / cap \n",
    "w / w[0]"
   ]
  },
  {
   "cell_type": "code",
   "execution_count": null,
   "id": "f5c39859-0c56-4e65-9794-1a22e4646a41",
   "metadata": {},
   "outputs": [],
   "source": [
    "flat_samples.mean(0)"
   ]
  },
  {
   "cell_type": "code",
   "execution_count": null,
   "id": "8aa91b65-7b47-41d1-a200-193729f23031",
   "metadata": {},
   "outputs": [],
   "source": [
    "flat_samples.std(0)"
   ]
  },
  {
   "cell_type": "code",
   "execution_count": null,
   "id": "27b9e6b2-2fd7-44c5-992e-0db397d98411",
   "metadata": {},
   "outputs": [],
   "source": [
    "sns.heatmap(np.corrcoef(flat_samples.T))"
   ]
  },
  {
   "cell_type": "markdown",
   "id": "c6060838-f07f-4c8a-9c64-f1609997d5a4",
   "metadata": {},
   "source": [
    "## Posterior Predictive Checks"
   ]
  },
  {
   "cell_type": "code",
   "execution_count": null,
   "id": "ed7ac957-9526-4313-b765-b76d97620b1f",
   "metadata": {},
   "outputs": [],
   "source": [
    "flat_samples.shape"
   ]
  },
  {
   "cell_type": "code",
   "execution_count": null,
   "id": "028fa9cb-f61a-4048-9c01-b36b79051624",
   "metadata": {},
   "outputs": [],
   "source": [
    "K = 30\n",
    "T = 53\n",
    "crkp_model = CRKPTransmissionSimulator(path, -3, 1, heterogeneous=True)\n",
    "# neural_posterior_het = multivariate_normal(mu, sigma)\n",
    "# npe_sample_het = neural_posterior_het.rvs(size=K, random_state=2)\n",
    "posterior_predictive_mcmc = np.empty((K, 7, T))\n",
    "for i in range(K):\n",
    "    x_rep = crkp_model.CRKP_simulator(flat_samples[i], i, summarize=True) * np.repeat(cap[:, None], T, 1) \n",
    "    posterior_predictive_mcmc[i] =  np.array(x_rep)"
   ]
  },
  {
   "cell_type": "code",
   "execution_count": null,
   "id": "2313f641-64b0-423c-a8a4-6b57984c02df",
   "metadata": {},
   "outputs": [],
   "source": [
    "for j in range(7):\n",
    "    pp_mean = posterior_predictive_mcmc.mean(0)[j]\n",
    "    labels = [\"Post. Pred. Draw\"] + [None for _ in range(K-1)]\n",
    "    I_o = np.array(x_o)[j] * cap[j]\n",
    "    plt.plot(I_o, label=\"Observed\", color=\"k\")\n",
    "    plt.plot(posterior_predictive_mcmc[:, j, :].T, \n",
    "             label=labels, color=\"b\",\n",
    "             alpha=0.1)\n",
    "    plt.plot(pp_mean, label=\"Post. Pred. Mean\", linestyle=\"--\",\n",
    "             color=\"orange\")\n",
    "    # sns.lineplot(NN, color=\"green\", linestyle=\"--\", label=\"Total\")\n",
    "    plt.legend()\n",
    "    if j == 6:\n",
    "        ylab = \"Infected Rooms\"\n",
    "    else:\n",
    "        ylab = \"Infected Patients\"\n",
    "    plt.ylabel(ylab)\n",
    "    plt.xlabel(\"Weeks\")\n",
    "    # plt.savefig(f\"images/crkp/crkp_ppc_abc{j}.png\")\n",
    "    plt.show()"
   ]
  },
  {
   "cell_type": "markdown",
   "id": "cbc4203b-c641-4eba-b332-64252731421f",
   "metadata": {},
   "source": [
    "# NPE"
   ]
  },
  {
   "cell_type": "code",
   "execution_count": null,
   "id": "91c8f65b-9229-402e-b7fa-d233664402f9",
   "metadata": {},
   "outputs": [],
   "source": [
    "# model.d_model=32,48,64,model.embed_dim=8,16,model.weight_decay=0,0.01,0.02\n",
    "\n",
    "# best run: d_model = 48, d_embed = 8, weight_decay = 0\n",
    "mu = -2.069\n",
    "sigma = 0.163"
   ]
  },
  {
   "cell_type": "markdown",
   "id": "2729b6f1-b6a5-4623-a477-648e948ad248",
   "metadata": {},
   "source": [
    "# ABC Sanity Check"
   ]
  },
  {
   "cell_type": "code",
   "execution_count": null,
   "id": "9e972566-f971-44d4-9208-b4ea4fe0f322",
   "metadata": {},
   "outputs": [],
   "source": [
    "def abc_rejection_sampler(S, epsilon, prior_sampler, simulator, \n",
    "                          x_o, max_attempts=10000, summarize=False,\n",
    "                          print_every=5000, error_scaling = None):\n",
    "    # S: total number of particles\n",
    "    samples = []\n",
    "    attempts = 0\n",
    "    # x_o is shape (d_theta, d_x)\n",
    "    errors = np.full(max_attempts, -1e3)\n",
    "    start_time = timer()\n",
    "    for s in range(S):\n",
    "        accept = False\n",
    "        while not accept:\n",
    "            theta = np.array(prior_sampler())[0]\n",
    "            x = simulator(theta, seed=attempts)\n",
    "            accept, error = accept_sample(x, x_o, epsilon, summarize, error_scaling)\n",
    "            if accept:\n",
    "                samples.append(theta)\n",
    "                # if s % 10 == 0: print(s)\n",
    "            errors[attempts] = error\n",
    "            attempts += 1\n",
    "            if attempts == max_attempts:\n",
    "                print(\"Maximum attempts reached, halting\")\n",
    "                return np.array(samples), errors\n",
    "            if not attempts % print_every:\n",
    "                print(f\"Attempts: {attempts:,}\")\n",
    "    end_time = timer()\n",
    "    accept_rate = S / attempts\n",
    "    \n",
    "    print(f\"Time lapsed: {end_time - start_time:.2f} seconds\")\n",
    "    print(f\"With tolerance {epsilon}, acceptance rate: {accept_rate:.6f}\")\n",
    "    print(f\"Total number of attempts: {attempts:,}\")\n",
    "    return np.array(samples), errors\n",
    "\n",
    "def accept_sample(x, x_o, epsilon, summarize, lam):\n",
    "    if summarize:\n",
    "        x_o = x_o[0]\n",
    "    v = np.array(x - x_o)\n",
    "    if lam is not None:\n",
    "        v = v * lam.reshape(-1, 1)\n",
    "    error = np.linalg.norm(v)\n",
    "    accept = (error < epsilon)\n",
    "\n",
    "    return accept, error"
   ]
  },
  {
   "cell_type": "code",
   "execution_count": null,
   "id": "d1a2267a-04e3-4b4d-8b62-fcf09925909e",
   "metadata": {},
   "outputs": [],
   "source": [
    "summarize = False #True\n",
    "hetero = True\n",
    "\n",
    "prior_mu = -2\n",
    "prior_sigma = 1\n",
    "model = CRKPTransmissionSimulator(path, prior_mu, prior_sigma,\n",
    "                                  heterogeneous=False)\n",
    "\n",
    "\n",
    "prior_sampler = lambda: model.sample_logbeta(1)\n",
    "simulator = lambda theta, seed:(model.CRKP_simulator(theta, seed))[W > 0]\n",
    "# simulator = lambda theta, seed: np.nansum(model.CRKP_simulator(theta, seed), 0)"
   ]
  },
  {
   "cell_type": "code",
   "execution_count": null,
   "id": "9d3ff709-09ba-4ee2-bf86-e54f21bc0cb2",
   "metadata": {},
   "outputs": [],
   "source": [
    "obs = X[W > 0] # np.nansum(X, 0)\n",
    "abc_samples, error = abc_rejection_sampler(100, 20, prior_sampler, simulator, \n",
    "                          obs, max_attempts=1000000, summarize=False,\n",
    "                          print_every=1000, error_scaling = None)"
   ]
  },
  {
   "cell_type": "code",
   "execution_count": null,
   "id": "58b0af08-b6ca-414b-8169-2e5e4287fc13",
   "metadata": {},
   "outputs": [],
   "source": [
    "np.exp(abc_samples[:, 0]).mean()"
   ]
  },
  {
   "cell_type": "code",
   "execution_count": null,
   "id": "b2756160-48cf-4b38-8616-24f57ab94332",
   "metadata": {},
   "outputs": [],
   "source": [
    "(X == 1).any(1).sum()"
   ]
  },
  {
   "cell_type": "code",
   "execution_count": null,
   "id": "b325e926-3bec-4b46-9072-2a4e0b7fb2b1",
   "metadata": {},
   "outputs": [],
   "source": [
    "abc_samples[:, 0][0]"
   ]
  },
  {
   "cell_type": "code",
   "execution_count": null,
   "id": "39bcae4f-6f44-4820-8dcf-c88700959b54",
   "metadata": {},
   "outputs": [],
   "source": [
    "np.log(0.025)"
   ]
  },
  {
   "cell_type": "code",
   "execution_count": null,
   "id": "269a2712-879a-442d-8ee3-fec08e94e4aa",
   "metadata": {},
   "outputs": [],
   "source": [
    "I_o = np.nansum(X, 0)\n",
    "\n",
    "K = 30\n",
    "T = 53\n",
    "crkp_model = CRKPTransmissionSimulator(path, -2, 1, heterogeneous=False)\n",
    "# neural_posterior_het = multivariate_normal(mu, sigma)\n",
    "# npe_sample_het = neural_posterior_het.rvs(size=K, random_state=2)\n",
    "posterior_predictive_abc = np.empty((K, T))\n",
    "for i in range(K):\n",
    "    # x_rep = crkp_model.CRKP_simulator(abc_samples[:, 0][i], i)\n",
    "    x_rep = crkp_model.CRKP_simulator(np.log(.126), i)\n",
    "    i_rep = np.nansum(x_rep, 0)\n",
    "    posterior_predictive_abc[i] =  np.array(i_rep)"
   ]
  },
  {
   "cell_type": "code",
   "execution_count": null,
   "id": "aff8c113-060d-41df-872d-208ca247d064",
   "metadata": {},
   "outputs": [],
   "source": [
    "pp_mean = posterior_predictive_abc.mean(0)\n",
    "plt.plot(I_o, label=\"Observed\", color=\"k\")\n",
    "plt.plot(posterior_predictive_abc.T, \n",
    "         label=\"Post. Pred. Draw\", color=\"b\",\n",
    "         alpha=0.1)\n",
    "plt.plot(pp_mean, label=\"Post. Pred. Mean\", linestyle=\"--\",\n",
    "         color=\"orange\")\n",
    "plt.show()"
   ]
  },
  {
   "cell_type": "code",
   "execution_count": null,
   "id": "900247fe-6565-40c2-91fb-21f3feb4815e",
   "metadata": {},
   "outputs": [],
   "source": []
  }
 ],
 "metadata": {
  "language_info": {
   "name": "python"
  }
 },
 "nbformat": 4,
 "nbformat_minor": 5
}
