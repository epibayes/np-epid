{
 "cells": [
  {
   "cell_type": "code",
   "execution_count": null,
   "id": "13f3e02f-76ab-4ebf-ac19-e334868d0ee1",
   "metadata": {},
   "outputs": [],
   "source": [
    "import numpy as np\n",
    "import pandas as pd\n",
    "from scipy.optimize import minimize, minimize_scalar\n",
    "import emcee\n",
    "import matplotlib.pyplot as plt\n",
    "from scipy.stats import norm, multivariate_normal\n",
    "import seaborn as sns\n",
    "import sys\n",
    "sys.path.append(\"..\")\n",
    "from src.utils import contact_matrix\n",
    "from src.dataset import CRKPTransmissionSimulator\n",
    "\n",
    "from timeit import default_timer as timer"
   ]
  },
  {
   "cell_type": "markdown",
   "id": "994e8bba-f614-43c1-b221-a46f1052fd46",
   "metadata": {},
   "source": [
    "Computing the exact likelihood for the CRKP transmission model.\n",
    "\n",
    "$$\n",
    "    \\log \\mathcal{L}(\\beta ; \\mathbf{X}) = \\sum_{t=2}^T \\sum_{i=1}^N [(1 - X_{t-1}^{(i)})W_t^{(i)}W_{t-1}^{(i)}] \\cdot [X_t^{(i)} \\log (1 - e^{- \\lambda_i(t)}) + (1 - X_t^{(i)}) \\log e^{- \\lambda_i(t)})]\n",
    "$$"
   ]
  },
  {
   "cell_type": "code",
   "execution_count": null,
   "id": "ec88748e-ecef-4ee0-b481-054208c5e4da",
   "metadata": {},
   "outputs": [],
   "source": [
    "path = \"/Volumes/umms-esnitkin/Project_KPC_LTACH/Analysis/LTACH_transmission_modeling/preprocessed/resampled\""
   ]
  },
  {
   "cell_type": "code",
   "execution_count": null,
   "id": "e7634303-f975-44d3-a134-5c1be58d5d06",
   "metadata": {},
   "outputs": [],
   "source": [
    "load_homog = True\n",
    "load_het = True"
   ]
  },
  {
   "cell_type": "code",
   "execution_count": null,
   "id": "c01cc721-6165-475f-bb25-eedb6addfe29",
   "metadata": {},
   "outputs": [],
   "source": [
    "X = pd.read_csv(f\"{path}/infections.csv\", index_col=0).values\n",
    "W = pd.read_csv(f\"{path}/facility_trace.csv\", index_col=0).values\n",
    "V = pd.read_csv(f\"{path}/screening.csv\", index_col=0).values\n",
    "F = pd.read_csv(f\"{path}/floor_trace.csv\", index_col=0).values\n",
    "R = pd.read_csv(f\"{path}/room_trace.csv\", index_col=0).values\n",
    "cap = np.array([129., 28., 38., 35., 27., 17., 2])"
   ]
  },
  {
   "cell_type": "code",
   "execution_count": null,
   "id": "69f04ef7-57ad-4d4a-bcbb-bf19011073f5",
   "metadata": {},
   "outputs": [],
   "source": [
    "with open(f\"{path}/observed_data.npy\", \"rb\") as f:\n",
    "            x_o = (np.load(f).T / cap).T"
   ]
  },
  {
   "cell_type": "code",
   "execution_count": null,
   "id": "02dc7973-ea92-48f0-b0a7-b32cae29d4c5",
   "metadata": {},
   "outputs": [],
   "source": [
    "def log_likelihood(logbeta, X, W, V, F, R, het=False):\n",
    "    beta = np.exp(logbeta)\n",
    "    beta_0 = beta[0] if het else beta\n",
    "    N, T = W.shape\n",
    "    # X = np.empty((N, T))\n",
    "    # load screen data for first day\n",
    "    ans = 0\n",
    "    for t in range(1, T):\n",
    "        x = X[:, t-1]\n",
    "        w = W[:, t-1]\n",
    "        f = F[:, t-1]\n",
    "        r = R[:, t-1]\n",
    "        # who was infected at the last timestep?\n",
    "        Ia = x[w > 0]\n",
    "        hazard = Ia.sum() * beta_0 * np.ones(N) / cap[0]\n",
    "        fa = f[w > 0]\n",
    "        fC = contact_matrix(fa)\n",
    "        # guarantee that there are no infecteds who aren't present\n",
    "        # how many infected floormates?\n",
    "        if het:\n",
    "            hazard[w > 0] += (fC * Ia).sum(1) * beta[fa] / cap[fa]\n",
    "        ra = r[w > 0]\n",
    "        rC = contact_matrix(ra)\n",
    "        infected_roommates = (rC * Ia).sum(1)\n",
    "        if het:\n",
    "            hazard[w > 0] += infected_roommates * beta[-1] / cap[-1]\n",
    "        p = 1 - np.exp(-hazard)\n",
    "        \n",
    "        xt = X[:, t]\n",
    "    \n",
    "        valid = W[:, t] * w * (1 - x) # present for at least week & susceptible\n",
    "\n",
    "        ans += np.nansum(valid * ((xt * np.log(p)) + (1 - xt) * np.log(1 - p)))\n",
    "\n",
    "\n",
    "    return ans"
   ]
  },
  {
   "cell_type": "markdown",
   "id": "c9bcd5fd-362e-4f96-8cb2-3ee7162267b6",
   "metadata": {},
   "source": [
    "# Maximum Likelihood Estimation"
   ]
  },
  {
   "cell_type": "markdown",
   "id": "7794ff7e-b8b6-4a4b-b8c0-2f7b21676531",
   "metadata": {},
   "source": [
    "### homogeneous model"
   ]
  },
  {
   "cell_type": "code",
   "execution_count": null,
   "id": "f56fccfe-3d42-43a5-9381-0a15f37b0eff",
   "metadata": {},
   "outputs": [],
   "source": [
    "def f(logbeta):\n",
    "    return - log_likelihood(logbeta, X, W, V, F, R)"
   ]
  },
  {
   "cell_type": "code",
   "execution_count": null,
   "id": "b917dca9-4429-404d-877a-820084fb5637",
   "metadata": {},
   "outputs": [],
   "source": [
    "res = minimize_scalar(f)\n",
    "np.exp(res.x)"
   ]
  },
  {
   "cell_type": "markdown",
   "id": "ae8ec45b-2c18-4b1a-909b-1c18e0e7cb7e",
   "metadata": {},
   "source": [
    "### heterogeneous model"
   ]
  },
  {
   "cell_type": "code",
   "execution_count": null,
   "id": "de9a5f5f-d482-443c-a0c7-9deb96a3751d",
   "metadata": {},
   "outputs": [],
   "source": [
    "def g(logbeta):\n",
    "    return - log_likelihood(logbeta, X, W, V, F, R, True)"
   ]
  },
  {
   "cell_type": "code",
   "execution_count": null,
   "id": "c96b6845-b52d-4270-a56d-0b5ef643c0ae",
   "metadata": {},
   "outputs": [],
   "source": [
    "res2 = minimize(g, x0 = np.full(7, -3), tol=0.0001)\n",
    "np.round(np.exp(res2.x), 3)"
   ]
  },
  {
   "cell_type": "markdown",
   "id": "cb1cddb8-1c31-43ba-b7da-745ef0b34e4a",
   "metadata": {},
   "source": [
    "# MCMC"
   ]
  },
  {
   "cell_type": "markdown",
   "id": "710f5aac-00e3-4dbf-bf59-3c5ce73f352e",
   "metadata": {},
   "source": [
    "### Homogeneous Model"
   ]
  },
  {
   "cell_type": "code",
   "execution_count": null,
   "id": "aa1982d3-a260-428a-bf01-8ea603e7af25",
   "metadata": {},
   "outputs": [],
   "source": [
    "def log_prob_homog(logbeta, X, W, V, F, R, prior_mu):\n",
    "    prior = norm(prior_mu)\n",
    "    lp = prior.logpdf(logbeta)\n",
    "    # lp = log_prior(np.log(beta))\n",
    "    return lp + log_likelihood(logbeta, X, W, V, F, R)"
   ]
  },
  {
   "cell_type": "code",
   "execution_count": null,
   "id": "04aea205-272c-4643-8bfe-b51ed05d7f08",
   "metadata": {},
   "outputs": [],
   "source": [
    "if load_homog:\n",
    "    flat_samples = np.load(\"mcmc_homog.npy\")\n",
    "else:\n",
    "    nwalkers = 4\n",
    "    pos = res.x + 1e-4 * np.random.randn(nwalkers, 1)\n",
    "    prior_mu = -2\n",
    "    sampler = emcee.EnsembleSampler(\n",
    "        nwalkers, 1, log_prob_homog, args = (X, W, V, F, R, prior_mu)\n",
    "    )\n",
    "    sampler.run_mcmc(pos, 2000, progress=True)\n",
    "\n",
    "    flat_samples = sampler.get_chain(discard=100, thin=50, flat=True)\n",
    "    np.save(\"mcmc_homog\", flat_samples)\n",
    "    "
   ]
  },
  {
   "cell_type": "markdown",
   "id": "e70be150-0caa-4020-b31d-d3e3b4d30613",
   "metadata": {},
   "source": [
    "MCMC estimate uses 8,000 evaluations of the likelihood function."
   ]
  },
  {
   "cell_type": "code",
   "execution_count": null,
   "id": "9d3f28a7-d35b-4636-a94d-4253013f5d6d",
   "metadata": {},
   "outputs": [],
   "source": [
    "print(flat_samples.mean())\n",
    "print(flat_samples.std())\n",
    "print(np.exp(flat_samples).mean())"
   ]
  },
  {
   "cell_type": "code",
   "execution_count": null,
   "id": "87304926-f976-4255-9b44-0183517b78af",
   "metadata": {},
   "outputs": [],
   "source": [
    "np.exp(-2.09)"
   ]
  },
  {
   "cell_type": "code",
   "execution_count": null,
   "id": "2a4f9e04-ed04-4b2f-af01-0d913b2bd324",
   "metadata": {},
   "outputs": [],
   "source": [
    "np.median(np.exp(flat_samples))"
   ]
  },
  {
   "cell_type": "code",
   "execution_count": null,
   "id": "2645991b-05fb-465e-8447-f6c4c2d7b505",
   "metadata": {},
   "outputs": [],
   "source": [
    "plt.hist(flat_samples)\n",
    "plt.show()"
   ]
  },
  {
   "cell_type": "code",
   "execution_count": null,
   "id": "4fdf0813-3b8f-4744-9b6a-fbc145ff9ef0",
   "metadata": {},
   "outputs": [],
   "source": [
    "# TODO: figure out how to benchmark homogeneous posterior predictive check\n",
    "\n",
    "K = 30\n",
    "T = 53\n",
    "crkp_model = CRKPTransmissionSimulator(path, -3, 1, heterogeneous=False)\n",
    "# neural_posterior_het = multivariate_normal(mu, sigma)\n",
    "# npe_sample_het = neural_posterior_het.rvs(size=K, random_state=2)\n",
    "posterior_predictive_mcmc = np.empty((K, 7, T))\n",
    "for i in range(K):\n",
    "    x_rep = crkp_model.CRKP_simulator(flat_samples[i], i, summarize=True, show_full=True) * np.repeat(cap[:, None], T, 1) \n",
    "    posterior_predictive_mcmc[i] =  np.array(x_rep)"
   ]
  },
  {
   "cell_type": "code",
   "execution_count": null,
   "id": "3b2216bb-7b0a-47a8-9d1d-5f5bdc19976c",
   "metadata": {},
   "outputs": [],
   "source": [
    "# calculate mean squared error\n",
    "for j in range(7):\n",
    "    preds = posterior_predictive_mcmc[:, j, :]\n",
    "    target = (x_o[j] * cap[j])\n",
    "    mse = ((preds - target)**2).mean()\n",
    "    print(round(mse, 3))"
   ]
  },
  {
   "cell_type": "code",
   "execution_count": null,
   "id": "2ff375a6-cb98-4a2c-9577-acb79b2b9584",
   "metadata": {},
   "outputs": [],
   "source": [
    "for j in range(7):\n",
    "    pp_mean = posterior_predictive_mcmc.mean(0)[j]\n",
    "    labels = [\"Post. Pred. Draw\"] + [None for _ in range(K-1)]\n",
    "    I_o = np.array(x_o)[j] * cap[j]\n",
    "    plt.plot(I_o, label=\"Observed\", color=\"k\")\n",
    "    plt.plot(posterior_predictive_mcmc[:, j, :].T, \n",
    "             label=labels, color=\"b\",\n",
    "             alpha=0.1)\n",
    "    plt.plot(pp_mean, label=\"Post. Pred. Mean\", linestyle=\"--\",\n",
    "             color=\"orange\")\n",
    "    # sns.lineplot(NN, color=\"green\", linestyle=\"--\", label=\"Total\")\n",
    "    plt.legend()\n",
    "    if j == 6:\n",
    "        ylab = \"Infected Rooms\"\n",
    "    else:\n",
    "        ylab = \"Infected Patients\"\n",
    "    plt.ylabel(ylab)\n",
    "    plt.xlabel(\"Weeks\")\n",
    "    # plt.savefig(f\"images/crkp/crkp_ppc_abc{j}.png\")\n",
    "    plt.show()"
   ]
  },
  {
   "cell_type": "markdown",
   "id": "13ccddb9-130d-489e-a7c5-ec77271f687a",
   "metadata": {},
   "source": [
    "### Heterogeneous Model"
   ]
  },
  {
   "cell_type": "code",
   "execution_count": null,
   "id": "1cd0a2ed-c0f9-4073-9a0e-b902b517cc64",
   "metadata": {},
   "outputs": [],
   "source": [
    "def log_prob_het(logbeta, X, W, V, F, R, prior_mu):\n",
    "    prior = multivariate_normal(np.full(7, prior_mu))\n",
    "    lp = prior.logpdf(logbeta)\n",
    "    return lp + log_likelihood(np.exp(logbeta), X, W, V, F, R, het=True)"
   ]
  },
  {
   "cell_type": "code",
   "execution_count": null,
   "id": "07be842d-eafa-4379-a3f4-e4a48e7741e2",
   "metadata": {},
   "outputs": [],
   "source": [
    "np.clip(res2.x, a_min=-5, a_max=None)"
   ]
  },
  {
   "cell_type": "code",
   "execution_count": null,
   "id": "4ac3fe46-ab29-41ed-ac48-c360f60f9c2f",
   "metadata": {},
   "outputs": [],
   "source": [
    "if load_het:\n",
    "    flat_samples_het = np.load(\"mcmc_het.npy\")\n",
    "else:\n",
    "    nwalkers = 16\n",
    "    initial = np.clip(res2.x, a_min=-5, a_max=None) # np.full(7, -3)\n",
    "    pos = initial + 1e-1 * np.random.randn(nwalkers, 7)\n",
    "    prior_mu = -3\n",
    "    sampler_het = emcee.EnsembleSampler(\n",
    "        nwalkers, 7, log_prob_het, args = (X, W, V, F, R, prior_mu)\n",
    "    )\n",
    "    # up to 4,000\n",
    "    sampler_het.run_mcmc(pos, 1000, progress=True, skip_initial_state_check=True)\n",
    "    flat_samples_het = sampler_het.get_chain(discard=500, thin=100, flat=True)\n",
    "    np.save(\"mcmc_het\", flat_samples_het)"
   ]
  },
  {
   "cell_type": "code",
   "execution_count": null,
   "id": "219b86f0-4193-4430-bd79-f00e51269e71",
   "metadata": {},
   "outputs": [],
   "source": [
    "np.exp(flat_samples_het).mean(0)"
   ]
  },
  {
   "cell_type": "code",
   "execution_count": null,
   "id": "e6842861-2828-4109-a73c-cc68db262e80",
   "metadata": {},
   "outputs": [],
   "source": [
    "(flat_samples_het).mean(0)"
   ]
  },
  {
   "cell_type": "code",
   "execution_count": null,
   "id": "eaa8ae0b-960a-4300-9b51-2eebd837f778",
   "metadata": {},
   "outputs": [],
   "source": [
    "# convert to relative risks\n",
    "w = mcmc_pe / cap \n",
    "w / w[0]"
   ]
  },
  {
   "cell_type": "markdown",
   "id": "c6060838-f07f-4c8a-9c64-f1609997d5a4",
   "metadata": {},
   "source": [
    "## Posterior Predictive Checks"
   ]
  },
  {
   "cell_type": "code",
   "execution_count": null,
   "id": "028fa9cb-f61a-4048-9c01-b36b79051624",
   "metadata": {},
   "outputs": [],
   "source": [
    "K = 30\n",
    "T = 53\n",
    "crkp_model = CRKPTransmissionSimulator(path, -3, 1, heterogeneous=True)\n",
    "# neural_posterior_het = multivariate_normal(mu, sigma)\n",
    "# npe_sample_het = neural_posterior_het.rvs(size=K, random_state=2)\n",
    "sample_ix = np.random.choice(flat_samples_het.shape[0], 30, False)\n",
    "posterior_predictive_mcmc_het = np.empty((K, 7, T))\n",
    "for i in range(K):\n",
    "    x_rep = crkp_model.CRKP_simulator(flat_samples_het[sample_ix[i]], i, summarize=True) * np.repeat(cap[:, None], T, 1) \n",
    "    posterior_predictive_mcmc_het[i] =  np.array(x_rep)"
   ]
  },
  {
   "cell_type": "code",
   "execution_count": null,
   "id": "1a691131-b2b7-4d44-9bbd-4988b4fbec37",
   "metadata": {},
   "outputs": [],
   "source": [
    "# calculate mean squared error\n",
    "for j in range(7):\n",
    "    preds = posterior_predictive_mcmc_het[:, j, :]\n",
    "    target = (x_o[j] * cap[j])\n",
    "    mse = ((preds - target)**2).mean()\n",
    "    print(round(mse, 3))"
   ]
  },
  {
   "cell_type": "code",
   "execution_count": null,
   "id": "2313f641-64b0-423c-a8a4-6b57984c02df",
   "metadata": {},
   "outputs": [],
   "source": [
    "for j in range(7):\n",
    "    pp_mean = posterior_predictive_mcmc_het.mean(0)[j]\n",
    "    labels = [\"Post. Pred. Draw\"] + [None for _ in range(K-1)]\n",
    "    I_o = np.array(x_o)[j] * cap[j]\n",
    "    plt.plot(I_o, label=\"Observed\", color=\"k\")\n",
    "    plt.plot(posterior_predictive_mcmc_het[:, j, :].T, \n",
    "             label=labels, color=\"b\",\n",
    "             alpha=0.1)\n",
    "    plt.plot(pp_mean, label=\"Post. Pred. Mean\", linestyle=\"--\",\n",
    "             color=\"orange\")\n",
    "    # sns.lineplot(NN, color=\"green\", linestyle=\"--\", label=\"Total\")\n",
    "    plt.legend()\n",
    "    if j == 6:\n",
    "        ylab = \"Infected Rooms\"\n",
    "    else:\n",
    "        ylab = \"Infected Patients\"\n",
    "    plt.ylabel(ylab)\n",
    "    plt.xlabel(\"Weeks\")\n",
    "    # plt.savefig(f\"images/crkp/crkp_ppc_abc{j}.png\")\n",
    "    plt.show()"
   ]
  },
  {
   "cell_type": "markdown",
   "id": "cbc4203b-c641-4eba-b332-64252731421f",
   "metadata": {},
   "source": [
    "# NPE"
   ]
  },
  {
   "cell_type": "code",
   "execution_count": null,
   "id": "91c8f65b-9229-402e-b7fa-d233664402f9",
   "metadata": {},
   "outputs": [],
   "source": [
    "# model.d_model=32,48,64,model.embed_dim=8,16,model.weight_decay=0,0.01,0.02\n",
    "\n",
    "# best run: d_model = 48, d_embed = 8, weight_decay = 0\n",
    "\n",
    "# how many samples?\n",
    "mu = -2.069\n",
    "sigma = 0.163"
   ]
  },
  {
   "cell_type": "markdown",
   "id": "2729b6f1-b6a5-4623-a477-648e948ad248",
   "metadata": {},
   "source": [
    "# ABC Sanity Check"
   ]
  },
  {
   "cell_type": "code",
   "execution_count": null,
   "id": "9e972566-f971-44d4-9208-b4ea4fe0f322",
   "metadata": {},
   "outputs": [],
   "source": [
    "def abc_rejection_sampler(S, epsilon, prior_sampler, simulator, \n",
    "                          x_o, max_attempts=10000, summarize=False,\n",
    "                          print_every=5000, error_scaling = None):\n",
    "    # S: total number of particles\n",
    "    samples = []\n",
    "    attempts = 0\n",
    "    # x_o is shape (d_theta, d_x)\n",
    "    errors = np.full(max_attempts, -1e3)\n",
    "    start_time = timer()\n",
    "    for s in range(S):\n",
    "        accept = False\n",
    "        while not accept:\n",
    "            theta = np.array(prior_sampler())[0]\n",
    "            x = simulator(theta, seed=attempts)\n",
    "            accept, error = accept_sample(x, x_o, epsilon, summarize, error_scaling)\n",
    "            if accept:\n",
    "                samples.append(theta)\n",
    "                # if s % 10 == 0: print(s)\n",
    "            errors[attempts] = error\n",
    "            attempts += 1\n",
    "            if attempts == max_attempts:\n",
    "                print(\"Maximum attempts reached, halting\")\n",
    "                return np.array(samples), errors\n",
    "            if not attempts % print_every:\n",
    "                print(f\"Attempts: {attempts:,}\")\n",
    "    end_time = timer()\n",
    "    accept_rate = S / attempts\n",
    "    \n",
    "    print(f\"Time lapsed: {end_time - start_time:.2f} seconds\")\n",
    "    print(f\"With tolerance {epsilon}, acceptance rate: {accept_rate:.6f}\")\n",
    "    print(f\"Total number of attempts: {attempts:,}\")\n",
    "    return np.array(samples), errors\n",
    "\n",
    "def accept_sample(x, x_o, epsilon, summarize, lam):\n",
    "    if summarize:\n",
    "        x_o = x_o[0]\n",
    "    v = np.array(x - x_o)\n",
    "    if lam is not None:\n",
    "        v = v * lam.reshape(-1, 1)\n",
    "    error = np.linalg.norm(v)\n",
    "    accept = (error < epsilon)\n",
    "\n",
    "    return accept, error"
   ]
  },
  {
   "cell_type": "code",
   "execution_count": null,
   "id": "d1a2267a-04e3-4b4d-8b62-fcf09925909e",
   "metadata": {},
   "outputs": [],
   "source": [
    "summarize = False #True\n",
    "hetero = True\n",
    "\n",
    "prior_mu = -2\n",
    "prior_sigma = 1\n",
    "model = CRKPTransmissionSimulator(path, prior_mu, prior_sigma,\n",
    "                                  heterogeneous=False)\n",
    "\n",
    "\n",
    "prior_sampler = lambda: model.sample_logbeta(1)\n",
    "simulator = lambda theta, seed:(model.CRKP_simulator(theta, seed))[W > 0]\n",
    "# simulator = lambda theta, seed: np.nansum(model.CRKP_simulator(theta, seed), 0)"
   ]
  },
  {
   "cell_type": "code",
   "execution_count": null,
   "id": "9d3ff709-09ba-4ee2-bf86-e54f21bc0cb2",
   "metadata": {},
   "outputs": [],
   "source": [
    "obs = X[W > 0] # np.nansum(X, 0)\n",
    "abc_samples, error = abc_rejection_sampler(100, 20, prior_sampler, simulator, \n",
    "                          obs, max_attempts=1000000, summarize=False,\n",
    "                          print_every=1000, error_scaling = None)"
   ]
  },
  {
   "cell_type": "markdown",
   "id": "d8c93545-750b-4d07-bcf8-adc566d5da96",
   "metadata": {},
   "source": [
    "# Data Exploration"
   ]
  },
  {
   "cell_type": "markdown",
   "id": "c37b5342-e450-49b1-a982-d3968656f839",
   "metadata": {},
   "source": [
    "Checking: novel infections on each floor.\n"
   ]
  },
  {
   "cell_type": "code",
   "execution_count": null,
   "id": "ee317445-42be-4809-8ed4-3bdceeecf336",
   "metadata": {},
   "outputs": [],
   "source": [
    "N, T = F.shape\n",
    "def count_acquired(f):\n",
    "    imported = 0\n",
    "    acquired = 0\n",
    "    for i in range(N):\n",
    "        present = False\n",
    "        for t in range(T):\n",
    "            if F[i, t] == f:\n",
    "                if X[i, t] == 1 and not present:\n",
    "                    imported += 1\n",
    "                    break\n",
    "                elif X[i, t] == 1 and present:\n",
    "                    acquired += 1\n",
    "                    break\n",
    "                present = True\n",
    "            else:\n",
    "                present = False\n",
    "    return imported, acquired"
   ]
  },
  {
   "cell_type": "code",
   "execution_count": null,
   "id": "434a3ea8-0f09-4c58-9e28-bbf66536439a",
   "metadata": {},
   "outputs": [],
   "source": [
    "imported = 0\n",
    "acquired = 0\n",
    "floor_ac = np.array([0,0,0,0,0])\n",
    "floor_im = np.array([0,0,0,0,0])\n",
    "ac_ix = []\n",
    "for i in range(N):\n",
    "    present = False\n",
    "    for t in range(T):\n",
    "        if W[i, t] == 1:\n",
    "            if X[i, t] == 1 and not present:\n",
    "                imported += 1\n",
    "                f = F[i, t]\n",
    "                floor_im[f-1] += 1\n",
    "                break\n",
    "            elif X[i, t] == 1 and present:\n",
    "                acquired += 1\n",
    "                f = F[i, t]\n",
    "                floor_ac[f-1] += 1\n",
    "                ac_ix.append(i)\n",
    "                break\n",
    "            present = True\n",
    "        else:\n",
    "            present = False\n",
    "imported, acquired"
   ]
  },
  {
   "cell_type": "code",
   "execution_count": null,
   "id": "824d45da-b6b1-44bd-93be-c7509a856080",
   "metadata": {},
   "outputs": [],
   "source": [
    "# cool summary stats\n",
    "Y = np.empty(X.shape)\n",
    "Y[:] = np.nan\n",
    "for i in range(N):\n",
    "    present = False\n",
    "    novel_infection = False\n",
    "    for t in range(T):\n",
    "        if W[i, t] == 1:\n",
    "            if X[i, t] == 1:\n",
    "                # susceptible = False\n",
    "                if present:\n",
    "                    novel_infection = True\n",
    "                if novel_infection:\n",
    "                    Y[i, t] = 1\n",
    "                else:\n",
    "                    Y[i, t] = 0\n",
    "            else:\n",
    "                present = True\n",
    "                Y[i, t] = 0\n",
    "        else:\n",
    "            present = False"
   ]
  },
  {
   "cell_type": "code",
   "execution_count": null,
   "id": "3e644ade-ff32-4a95-ad12-7daf3a467a02",
   "metadata": {},
   "outputs": [],
   "source": [
    "set2 = set(np.array(range(N))[(Y == 1).any(1)])"
   ]
  },
  {
   "cell_type": "code",
   "execution_count": null,
   "id": "d6620d33-3e9a-49ea-bf74-cd01fb67068b",
   "metadata": {},
   "outputs": [],
   "source": [
    "set2 - set1"
   ]
  },
  {
   "cell_type": "code",
   "execution_count": null,
   "id": "19c29438-9873-4cde-8858-46ba6e5a6ce5",
   "metadata": {},
   "outputs": [],
   "source": [
    "X[209]"
   ]
  },
  {
   "cell_type": "code",
   "execution_count": null,
   "id": "2983f651-62c4-4027-b953-5accb37b55e4",
   "metadata": {},
   "outputs": [],
   "source": [
    "X[248]"
   ]
  },
  {
   "cell_type": "code",
   "execution_count": null,
   "id": "975c907a-8b72-4bad-a8ac-6722b01388a1",
   "metadata": {},
   "outputs": [],
   "source": [
    "f = 2\n",
    "plt.plot(np.sum(W * (F == f), 0))\n",
    "plt.plot(np.sum(np.nan_to_num(X, 0) * (F == f), 0))\n",
    "plt.plot(np.sum(np.nan_to_num(Y, 0) * (F == f), 0))"
   ]
  },
  {
   "cell_type": "code",
   "execution_count": null,
   "id": "8fdd6ed9-1996-4565-ac9f-c7df829651e1",
   "metadata": {},
   "outputs": [],
   "source": [
    "# what floors are experiencing outflow?"
   ]
  },
  {
   "cell_type": "code",
   "execution_count": null,
   "id": "2038e56e-b3a9-429f-94c8-fd8a20a0cb47",
   "metadata": {},
   "outputs": [],
   "source": [
    "flow_matrix = np.zeros((5, 5))\n",
    "starting_floor = np.zeros(5)\n",
    "samples = {1:[], 2:[], 3:[], 4:[], 5:[]}\n",
    "for i in range(N):\n",
    "    for t in range(1,T):\n",
    "        old_floor = F[i, t-1]\n",
    "        new_floor = F[i, t]\n",
    "        if old_floor and new_floor:\n",
    "            if old_floor != new_floor:\n",
    "                flow_matrix[old_floor-1, new_floor-1] += 1\n",
    "        else:\n",
    "            if new_floor and not old_floor:\n",
    "                starting_floor[new_floor - 1] += 1\n",
    "                samples[new_floor].append(i)"
   ]
  },
  {
   "cell_type": "code",
   "execution_count": null,
   "id": "e84ea767-136b-4968-b8a3-2d0a0d58f28d",
   "metadata": {},
   "outputs": [],
   "source": [
    "for i in range(1, 6):\n",
    "    plt.plot((W * (F == i)).sum(0), label=f\"{i}\")\n",
    "\n",
    "plt.legend()"
   ]
  }
 ],
 "metadata": {
  "language_info": {
   "name": "python"
  }
 },
 "nbformat": 4,
 "nbformat_minor": 5
}
