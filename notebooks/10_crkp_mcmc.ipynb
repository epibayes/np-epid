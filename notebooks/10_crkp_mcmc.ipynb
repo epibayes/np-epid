{
 "cells": [
  {
   "cell_type": "code",
   "execution_count": null,
   "id": "13f3e02f-76ab-4ebf-ac19-e334868d0ee1",
   "metadata": {},
   "outputs": [],
   "source": [
    "import numpy as np\n",
    "import pandas as pd\n",
    "from scipy.optimize import minimize, minimize_scalar\n",
    "import sys\n",
    "sys.path.append(\"..\")\n",
    "from src.utils import contact_matrix"
   ]
  },
  {
   "cell_type": "markdown",
   "id": "994e8bba-f614-43c1-b221-a46f1052fd46",
   "metadata": {},
   "source": [
    "Computing the exact likelihood for the CRKP transmission model.\n",
    "\n",
    "$$\n",
    "    \\log \\mathcal{L}(\\beta ; \\mathbf{X}) = \\sum_{t=2}^T \\sum_{i=1}^N [(1 - X_{t-1}^{(i)})W_t^{(i)}W_{t-1}^{(i)}] \\cdot [X_t^{(i)} \\log (1 - e^{- \\lambda_i(t)}) + (1 - X_t^{(i)}) \\log e^{- \\lambda_i(t)})]\n",
    "$$"
   ]
  },
  {
   "cell_type": "code",
   "execution_count": null,
   "id": "ec88748e-ecef-4ee0-b481-054208c5e4da",
   "metadata": {},
   "outputs": [],
   "source": [
    "path = \"/Volumes/umms-esnitkin/Project_KPC_LTACH/Analysis/LTACH_transmission_modeling/preprocessed/resampled\""
   ]
  },
  {
   "cell_type": "code",
   "execution_count": null,
   "id": "c01cc721-6165-475f-bb25-eedb6addfe29",
   "metadata": {},
   "outputs": [],
   "source": [
    "X = pd.read_csv(f\"{path}/infections.csv\", index_col=0).values\n",
    "W = pd.read_csv(f\"{path}/facility_trace.csv\", index_col=0).values\n",
    "V = pd.read_csv(f\"{path}/screening.csv\", index_col=0).values\n",
    "F = pd.read_csv(f\"{path}/floor_trace.csv\", index_col=0).values\n",
    "R = pd.read_csv(f\"{path}/room_trace.csv\", index_col=0).values\n",
    "cap = np.array([129., 28., 38., 35., 27., 17., 2])"
   ]
  },
  {
   "cell_type": "code",
   "execution_count": null,
   "id": "02dc7973-ea92-48f0-b0a7-b32cae29d4c5",
   "metadata": {},
   "outputs": [],
   "source": [
    "def nll(beta, X, W, V, F, R, het=False):\n",
    "    beta_0 = beta[0] if het else beta\n",
    "    N, T = W.shape\n",
    "    # X = np.empty((N, T))\n",
    "    # load screen data for first day\n",
    "    room_count = np.empty(T)\n",
    "    ans = 0\n",
    "    for t in range(1, T):\n",
    "        x = X[:, t-1]\n",
    "        w = W[:, t-1]\n",
    "        f = F[:, t-1]\n",
    "        r = R[:, t-1]\n",
    "        # who was infected at the last timestep?\n",
    "        Ia = x[w > 0]\n",
    "        hazard = Ia.sum() * beta_0 * np.ones(N) / cap[0]\n",
    "        fa = f[w > 0]\n",
    "        fC = contact_matrix(fa)\n",
    "        # guarantee that there are no infecteds who aren't present\n",
    "        # how many infected floormates?\n",
    "        if het:\n",
    "            hazard[w > 0] += (fC * Ia).sum(1) * beta[fa] / cap[fa]\n",
    "        ra = r[w > 0]\n",
    "        rC = contact_matrix(ra)\n",
    "        infected_roommates = (rC * Ia).sum(1)\n",
    "        if het:\n",
    "            hazard[w > 0] += infected_roommates * beta[-1] / cap[-1]\n",
    "        p = 1 - np.exp(-hazard)\n",
    "    \n",
    "        xt = X[:, t]\n",
    "    \n",
    "        valid = W[:, t] * w * (1 - xt) # present for at least week & susceptible\n",
    "\n",
    "        ans += np.nansum(valid * ((xt * np.log(p)) + (1 - xt) * np.log(1 - p)))\n",
    "\n",
    "        print(hazard)\n",
    "        print(p)\n",
    "\n",
    "        break\n",
    "\n",
    "    return ans"
   ]
  },
  {
   "cell_type": "markdown",
   "id": "7794ff7e-b8b6-4a4b-b8c0-2f7b21676531",
   "metadata": {},
   "source": [
    "### homogeneous model"
   ]
  },
  {
   "cell_type": "code",
   "execution_count": null,
   "id": "eefc99c7-fe24-4b53-a38d-af705092d55c",
   "metadata": {},
   "outputs": [],
   "source": []
  },
  {
   "cell_type": "code",
   "execution_count": null,
   "id": "f56fccfe-3d42-43a5-9381-0a15f37b0eff",
   "metadata": {},
   "outputs": [],
   "source": [
    "def f(beta):\n",
    "    return - nll(beta, X, W, V, F, R)"
   ]
  },
  {
   "cell_type": "code",
   "execution_count": null,
   "id": "9c8f5c5d-14ba-421d-9fe2-c3789a6916f8",
   "metadata": {},
   "outputs": [],
   "source": [
    "res = minimize_scalar(f, bounds = (0.01, 1), method=\"bounded\", options={\"disp\": True, \"maxiter\": 18})"
   ]
  },
  {
   "cell_type": "code",
   "execution_count": null,
   "id": "23108105-3a10-4309-b7b8-3c49dd9c991e",
   "metadata": {},
   "outputs": [],
   "source": [
    "f(0.13)"
   ]
  },
  {
   "cell_type": "code",
   "execution_count": null,
   "id": "2fd5247c-4a67-4f0c-87e9-8b2beb1d4883",
   "metadata": {},
   "outputs": [],
   "source": []
  }
 ],
 "metadata": {
  "language_info": {
   "name": "python"
  }
 },
 "nbformat": 4,
 "nbformat_minor": 5
}
