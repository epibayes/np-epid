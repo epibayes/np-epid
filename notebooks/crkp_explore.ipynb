{
 "cells": [
  {
   "cell_type": "code",
   "execution_count": 30,
   "metadata": {},
   "outputs": [],
   "source": [
    "import pandas as pd\n",
    "import numpy as np\n",
    "import matplotlib.pyplot as plt\n",
    "import seaborn as sns\n",
    "from timeit import default_timer as timer\n",
    "\n",
    "from datetime import date, timedelta"
   ]
  },
  {
   "cell_type": "code",
   "execution_count": 2,
   "metadata": {},
   "outputs": [],
   "source": [
    "epi_dir = '/Volumes/umms-esnitkin/Project_KPC_LTACH/Analysis/LTACH_transmission_modeling/data'"
   ]
  },
  {
   "cell_type": "markdown",
   "metadata": {},
   "source": [
    "## Data Exploration"
   ]
  },
  {
   "cell_type": "markdown",
   "metadata": {},
   "source": [
    "#### Floor Trace"
   ]
  },
  {
   "cell_type": "code",
   "execution_count": 42,
   "metadata": {},
   "outputs": [],
   "source": [
    "df_floor = pd.read_csv(f\"{epi_dir}/2019-12-18_floor_trace.csv\", index_col=0)"
   ]
  },
  {
   "cell_type": "code",
   "execution_count": 5,
   "metadata": {},
   "outputs": [
    {
     "data": {
      "text/html": [
       "<div>\n",
       "<style scoped>\n",
       "    .dataframe tbody tr th:only-of-type {\n",
       "        vertical-align: middle;\n",
       "    }\n",
       "\n",
       "    .dataframe tbody tr th {\n",
       "        vertical-align: top;\n",
       "    }\n",
       "\n",
       "    .dataframe thead th {\n",
       "        text-align: right;\n",
       "    }\n",
       "</style>\n",
       "<table border=\"1\" class=\"dataframe\">\n",
       "  <thead>\n",
       "    <tr style=\"text-align: right;\">\n",
       "      <th></th>\n",
       "      <th>15509</th>\n",
       "      <th>15510</th>\n",
       "      <th>15511</th>\n",
       "      <th>15512</th>\n",
       "      <th>15513</th>\n",
       "      <th>15514</th>\n",
       "      <th>15515</th>\n",
       "      <th>15516</th>\n",
       "      <th>15517</th>\n",
       "      <th>15518</th>\n",
       "      <th>...</th>\n",
       "      <th>15866</th>\n",
       "      <th>15867</th>\n",
       "      <th>15868</th>\n",
       "      <th>15869</th>\n",
       "      <th>15870</th>\n",
       "      <th>15871</th>\n",
       "      <th>15872</th>\n",
       "      <th>15873</th>\n",
       "      <th>15874</th>\n",
       "      <th>15875</th>\n",
       "    </tr>\n",
       "  </thead>\n",
       "  <tbody>\n",
       "    <tr>\n",
       "      <th>1</th>\n",
       "      <td>3</td>\n",
       "      <td>3</td>\n",
       "      <td>3</td>\n",
       "      <td>3</td>\n",
       "      <td>3</td>\n",
       "      <td>3</td>\n",
       "      <td>3</td>\n",
       "      <td>3</td>\n",
       "      <td>1</td>\n",
       "      <td>1</td>\n",
       "      <td>...</td>\n",
       "      <td>0</td>\n",
       "      <td>0</td>\n",
       "      <td>0</td>\n",
       "      <td>0</td>\n",
       "      <td>0</td>\n",
       "      <td>0</td>\n",
       "      <td>0</td>\n",
       "      <td>0</td>\n",
       "      <td>0</td>\n",
       "      <td>0</td>\n",
       "    </tr>\n",
       "    <tr>\n",
       "      <th>2</th>\n",
       "      <td>0</td>\n",
       "      <td>0</td>\n",
       "      <td>0</td>\n",
       "      <td>0</td>\n",
       "      <td>0</td>\n",
       "      <td>0</td>\n",
       "      <td>0</td>\n",
       "      <td>0</td>\n",
       "      <td>0</td>\n",
       "      <td>0</td>\n",
       "      <td>...</td>\n",
       "      <td>0</td>\n",
       "      <td>0</td>\n",
       "      <td>0</td>\n",
       "      <td>0</td>\n",
       "      <td>0</td>\n",
       "      <td>0</td>\n",
       "      <td>0</td>\n",
       "      <td>0</td>\n",
       "      <td>0</td>\n",
       "      <td>0</td>\n",
       "    </tr>\n",
       "    <tr>\n",
       "      <th>3</th>\n",
       "      <td>2</td>\n",
       "      <td>2</td>\n",
       "      <td>2</td>\n",
       "      <td>1</td>\n",
       "      <td>1</td>\n",
       "      <td>1</td>\n",
       "      <td>1</td>\n",
       "      <td>1</td>\n",
       "      <td>1</td>\n",
       "      <td>1</td>\n",
       "      <td>...</td>\n",
       "      <td>0</td>\n",
       "      <td>0</td>\n",
       "      <td>0</td>\n",
       "      <td>0</td>\n",
       "      <td>0</td>\n",
       "      <td>0</td>\n",
       "      <td>0</td>\n",
       "      <td>0</td>\n",
       "      <td>0</td>\n",
       "      <td>0</td>\n",
       "    </tr>\n",
       "    <tr>\n",
       "      <th>4</th>\n",
       "      <td>0</td>\n",
       "      <td>0</td>\n",
       "      <td>0</td>\n",
       "      <td>0</td>\n",
       "      <td>0</td>\n",
       "      <td>0</td>\n",
       "      <td>0</td>\n",
       "      <td>0</td>\n",
       "      <td>0</td>\n",
       "      <td>0</td>\n",
       "      <td>...</td>\n",
       "      <td>0</td>\n",
       "      <td>0</td>\n",
       "      <td>0</td>\n",
       "      <td>0</td>\n",
       "      <td>0</td>\n",
       "      <td>0</td>\n",
       "      <td>0</td>\n",
       "      <td>0</td>\n",
       "      <td>0</td>\n",
       "      <td>0</td>\n",
       "    </tr>\n",
       "    <tr>\n",
       "      <th>5</th>\n",
       "      <td>0</td>\n",
       "      <td>0</td>\n",
       "      <td>0</td>\n",
       "      <td>0</td>\n",
       "      <td>0</td>\n",
       "      <td>0</td>\n",
       "      <td>0</td>\n",
       "      <td>0</td>\n",
       "      <td>0</td>\n",
       "      <td>0</td>\n",
       "      <td>...</td>\n",
       "      <td>0</td>\n",
       "      <td>0</td>\n",
       "      <td>0</td>\n",
       "      <td>0</td>\n",
       "      <td>0</td>\n",
       "      <td>0</td>\n",
       "      <td>0</td>\n",
       "      <td>0</td>\n",
       "      <td>0</td>\n",
       "      <td>0</td>\n",
       "    </tr>\n",
       "  </tbody>\n",
       "</table>\n",
       "<p>5 rows × 367 columns</p>\n",
       "</div>"
      ],
      "text/plain": [
       "   15509  15510  15511  15512  15513  15514  15515  15516  15517  15518  ...  \\\n",
       "1      3      3      3      3      3      3      3      3      1      1  ...   \n",
       "2      0      0      0      0      0      0      0      0      0      0  ...   \n",
       "3      2      2      2      1      1      1      1      1      1      1  ...   \n",
       "4      0      0      0      0      0      0      0      0      0      0  ...   \n",
       "5      0      0      0      0      0      0      0      0      0      0  ...   \n",
       "\n",
       "   15866  15867  15868  15869  15870  15871  15872  15873  15874  15875  \n",
       "1      0      0      0      0      0      0      0      0      0      0  \n",
       "2      0      0      0      0      0      0      0      0      0      0  \n",
       "3      0      0      0      0      0      0      0      0      0      0  \n",
       "4      0      0      0      0      0      0      0      0      0      0  \n",
       "5      0      0      0      0      0      0      0      0      0      0  \n",
       "\n",
       "[5 rows x 367 columns]"
      ]
     },
     "execution_count": 5,
     "metadata": {},
     "output_type": "execute_result"
    }
   ],
   "source": [
    "df_floor.head()"
   ]
  },
  {
   "cell_type": "code",
   "execution_count": 8,
   "metadata": {},
   "outputs": [
    {
     "data": {
      "text/plain": [
       "array([0, 1, 2, 3, 4, 5, 6])"
      ]
     },
     "execution_count": 8,
     "metadata": {},
     "output_type": "execute_result"
    }
   ],
   "source": [
    "np.unique(df_floor.values) # six floors,"
   ]
  },
  {
   "cell_type": "code",
   "execution_count": 9,
   "metadata": {},
   "outputs": [
    {
     "data": {
      "text/plain": [
       "(array([0, 1, 2, 3, 4, 5, 6]),\n",
       " array([80070,  3303,  2258,  6649,  1168,    49,  1923]))"
      ]
     },
     "execution_count": 9,
     "metadata": {},
     "output_type": "execute_result"
    }
   ],
   "source": [
    "np.unique(df_floor.values, return_counts=True) # almost nobody on floor five\n",
    "# could be a useful illustration of how priors do or don't shift"
   ]
  },
  {
   "cell_type": "code",
   "execution_count": 34,
   "metadata": {},
   "outputs": [],
   "source": [
    "n_floors = {}\n",
    "for i, r in df_floor.iterrows():\n",
    "    n_floors[i] = 0\n",
    "    floor = 0\n",
    "    for f in r.values:\n",
    "        if f != floor:\n",
    "            if f != 0:\n",
    "                n_floors[i] += 1\n",
    "                floor = f\n",
    "n_floors = pd.Series(n_floors)       "
   ]
  },
  {
   "cell_type": "code",
   "execution_count": 42,
   "metadata": {},
   "outputs": [
    {
     "data": {
      "text/plain": [
       "1     0.153846\n",
       "2     0.480769\n",
       "3     0.657692\n",
       "4     0.761538\n",
       "5     0.834615\n",
       "6     0.896154\n",
       "7     0.923077\n",
       "8     0.957692\n",
       "9     0.973077\n",
       "10    0.980769\n",
       "11    0.984615\n",
       "12    0.996154\n",
       "14    1.000000\n",
       "Name: count, dtype: float64"
      ]
     },
     "execution_count": 42,
     "metadata": {},
     "output_type": "execute_result"
    }
   ],
   "source": [
    "n_floors.value_counts().sort_index().cumsum() / 260 # more than half of patients move floors twice or more during their stay"
   ]
  },
  {
   "cell_type": "code",
   "execution_count": 56,
   "metadata": {},
   "outputs": [
    {
     "data": {
      "text/html": [
       "<div>\n",
       "<style scoped>\n",
       "    .dataframe tbody tr th:only-of-type {\n",
       "        vertical-align: middle;\n",
       "    }\n",
       "\n",
       "    .dataframe tbody tr th {\n",
       "        vertical-align: top;\n",
       "    }\n",
       "\n",
       "    .dataframe thead th {\n",
       "        text-align: right;\n",
       "    }\n",
       "</style>\n",
       "<table border=\"1\" class=\"dataframe\">\n",
       "  <thead>\n",
       "    <tr style=\"text-align: right;\">\n",
       "      <th></th>\n",
       "      <th>0</th>\n",
       "      <th>1</th>\n",
       "      <th>2</th>\n",
       "      <th>3</th>\n",
       "      <th>4</th>\n",
       "      <th>5</th>\n",
       "      <th>6</th>\n",
       "      <th>7</th>\n",
       "      <th>8</th>\n",
       "      <th>9</th>\n",
       "      <th>...</th>\n",
       "      <th>357</th>\n",
       "      <th>358</th>\n",
       "      <th>359</th>\n",
       "      <th>360</th>\n",
       "      <th>361</th>\n",
       "      <th>362</th>\n",
       "      <th>363</th>\n",
       "      <th>364</th>\n",
       "      <th>365</th>\n",
       "      <th>366</th>\n",
       "    </tr>\n",
       "  </thead>\n",
       "  <tbody>\n",
       "    <tr>\n",
       "      <th>1</th>\n",
       "      <td>1</td>\n",
       "      <td>1</td>\n",
       "      <td>1</td>\n",
       "      <td>1</td>\n",
       "      <td>1</td>\n",
       "      <td>1</td>\n",
       "      <td>1</td>\n",
       "      <td>1</td>\n",
       "      <td>1</td>\n",
       "      <td>1</td>\n",
       "      <td>...</td>\n",
       "      <td>0</td>\n",
       "      <td>0</td>\n",
       "      <td>0</td>\n",
       "      <td>0</td>\n",
       "      <td>0</td>\n",
       "      <td>0</td>\n",
       "      <td>0</td>\n",
       "      <td>0</td>\n",
       "      <td>0</td>\n",
       "      <td>0</td>\n",
       "    </tr>\n",
       "    <tr>\n",
       "      <th>2</th>\n",
       "      <td>0</td>\n",
       "      <td>0</td>\n",
       "      <td>0</td>\n",
       "      <td>0</td>\n",
       "      <td>0</td>\n",
       "      <td>0</td>\n",
       "      <td>0</td>\n",
       "      <td>0</td>\n",
       "      <td>0</td>\n",
       "      <td>0</td>\n",
       "      <td>...</td>\n",
       "      <td>0</td>\n",
       "      <td>0</td>\n",
       "      <td>0</td>\n",
       "      <td>0</td>\n",
       "      <td>0</td>\n",
       "      <td>0</td>\n",
       "      <td>0</td>\n",
       "      <td>0</td>\n",
       "      <td>0</td>\n",
       "      <td>0</td>\n",
       "    </tr>\n",
       "    <tr>\n",
       "      <th>3</th>\n",
       "      <td>1</td>\n",
       "      <td>1</td>\n",
       "      <td>1</td>\n",
       "      <td>1</td>\n",
       "      <td>1</td>\n",
       "      <td>1</td>\n",
       "      <td>1</td>\n",
       "      <td>1</td>\n",
       "      <td>1</td>\n",
       "      <td>1</td>\n",
       "      <td>...</td>\n",
       "      <td>0</td>\n",
       "      <td>0</td>\n",
       "      <td>0</td>\n",
       "      <td>0</td>\n",
       "      <td>0</td>\n",
       "      <td>0</td>\n",
       "      <td>0</td>\n",
       "      <td>0</td>\n",
       "      <td>0</td>\n",
       "      <td>0</td>\n",
       "    </tr>\n",
       "    <tr>\n",
       "      <th>4</th>\n",
       "      <td>0</td>\n",
       "      <td>0</td>\n",
       "      <td>0</td>\n",
       "      <td>0</td>\n",
       "      <td>0</td>\n",
       "      <td>0</td>\n",
       "      <td>0</td>\n",
       "      <td>0</td>\n",
       "      <td>0</td>\n",
       "      <td>0</td>\n",
       "      <td>...</td>\n",
       "      <td>0</td>\n",
       "      <td>0</td>\n",
       "      <td>0</td>\n",
       "      <td>0</td>\n",
       "      <td>0</td>\n",
       "      <td>0</td>\n",
       "      <td>0</td>\n",
       "      <td>0</td>\n",
       "      <td>0</td>\n",
       "      <td>0</td>\n",
       "    </tr>\n",
       "    <tr>\n",
       "      <th>5</th>\n",
       "      <td>0</td>\n",
       "      <td>0</td>\n",
       "      <td>0</td>\n",
       "      <td>0</td>\n",
       "      <td>0</td>\n",
       "      <td>0</td>\n",
       "      <td>0</td>\n",
       "      <td>0</td>\n",
       "      <td>0</td>\n",
       "      <td>0</td>\n",
       "      <td>...</td>\n",
       "      <td>0</td>\n",
       "      <td>0</td>\n",
       "      <td>0</td>\n",
       "      <td>0</td>\n",
       "      <td>0</td>\n",
       "      <td>0</td>\n",
       "      <td>0</td>\n",
       "      <td>0</td>\n",
       "      <td>0</td>\n",
       "      <td>0</td>\n",
       "    </tr>\n",
       "  </tbody>\n",
       "</table>\n",
       "<p>5 rows × 367 columns</p>\n",
       "</div>"
      ],
      "text/plain": [
       "   0    1    2    3    4    5    6    7    8    9    ...  357  358  359  360  \\\n",
       "1    1    1    1    1    1    1    1    1    1    1  ...    0    0    0    0   \n",
       "2    0    0    0    0    0    0    0    0    0    0  ...    0    0    0    0   \n",
       "3    1    1    1    1    1    1    1    1    1    1  ...    0    0    0    0   \n",
       "4    0    0    0    0    0    0    0    0    0    0  ...    0    0    0    0   \n",
       "5    0    0    0    0    0    0    0    0    0    0  ...    0    0    0    0   \n",
       "\n",
       "   361  362  363  364  365  366  \n",
       "1    0    0    0    0    0    0  \n",
       "2    0    0    0    0    0    0  \n",
       "3    0    0    0    0    0    0  \n",
       "4    0    0    0    0    0    0  \n",
       "5    0    0    0    0    0    0  \n",
       "\n",
       "[5 rows x 367 columns]"
      ]
     },
     "execution_count": 56,
     "metadata": {},
     "output_type": "execute_result"
    }
   ],
   "source": [
    "ftrace.head()"
   ]
  },
  {
   "cell_type": "code",
   "execution_count": 123,
   "metadata": {},
   "outputs": [
    {
     "name": "stdout",
     "output_type": "stream",
     "text": [
      "0\n",
      "{166, 210}\n",
      "0    1.5\n",
      "1    0.0\n",
      "2    0.0\n",
      "Name: 166, dtype: float64\n",
      "***\n",
      "14\n",
      "{18}\n",
      "14    1.5\n",
      "15    0.0\n",
      "16    0.0\n",
      "Name: 18, dtype: float64\n",
      "***\n",
      "126\n",
      "{40}\n",
      "126    1.5\n",
      "127    0.0\n",
      "128    0.0\n",
      "Name: 40, dtype: float64\n",
      "***\n",
      "140\n",
      "{240}\n",
      "140    1.5\n",
      "141    0.0\n",
      "142    0.0\n",
      "Name: 240, dtype: float64\n",
      "***\n",
      "195\n",
      "{189}\n",
      "195    1.25\n",
      "196    0.00\n",
      "197    0.00\n",
      "Name: 189, dtype: float64\n",
      "***\n"
     ]
    }
   ],
   "source": [
    "for t in range(367):\n",
    "    set1 = set(ftrace[t][ftrace[t] > 0].index)\n",
    "    set2 = set(df_floor.iloc[:, t][df_floor.iloc[:, t] > 0].index)\n",
    "    if set1 != set2:\n",
    "        print(t)\n",
    "        problem = set1 ^ set2\n",
    "        print(problem)\n",
    "        print(df_ftrace.loc[list(problem)[0], t:t+2])\n",
    "        print(\"***\")\n",
    "        "
   ]
  },
  {
   "cell_type": "code",
   "execution_count": 126,
   "metadata": {},
   "outputs": [
    {
     "data": {
      "text/plain": [
       "6"
      ]
     },
     "execution_count": 126,
     "metadata": {},
     "output_type": "execute_result"
    }
   ],
   "source": [
    "((ftrace.values > 0) != (df_floor.values > 0)).sum()"
   ]
  },
  {
   "cell_type": "markdown",
   "metadata": {},
   "source": [
    "#### Room Trace"
   ]
  },
  {
   "cell_type": "code",
   "execution_count": 49,
   "metadata": {},
   "outputs": [],
   "source": [
    "df_room = pd.read_csv(f\"{epi_dir}/2019-12-18_room_trace.csv\", index_col=0)"
   ]
  },
  {
   "cell_type": "code",
   "execution_count": 46,
   "metadata": {},
   "outputs": [
    {
     "data": {
      "text/plain": [
       "array([ 0,  1,  2,  3,  4,  5,  6,  7,  9, 10, 11, 12, 13, 14, 15, 16, 17,\n",
       "       18, 19, 20, 21, 22, 23, 24, 25, 26, 27, 28, 29, 30, 31, 32, 33, 34,\n",
       "       35, 36, 37, 38, 39, 40, 41, 42, 43, 44, 45, 46, 47, 48, 49, 50, 51,\n",
       "       52, 53, 54, 55, 56, 57, 58, 59, 60, 61, 62, 63, 64, 65, 66, 67, 68,\n",
       "       69, 70, 71, 72, 73, 74, 75, 76, 77, 78, 79, 80, 81, 82, 83, 84, 85,\n",
       "       86, 87, 88, 89, 90, 91, 92, 93, 94, 95, 96])"
      ]
     },
     "execution_count": 46,
     "metadata": {},
     "output_type": "execute_result"
    }
   ],
   "source": [
    "np.unique(df_room.values) # 95 possible rooms!"
   ]
  },
  {
   "cell_type": "code",
   "execution_count": 50,
   "metadata": {},
   "outputs": [
    {
     "data": {
      "text/plain": [
       "array([225, 214, 138, 153, 209, 172, 177, 251, 348,  47, 396, 168,  87,\n",
       "       252, 135, 438,  97, 164,  49, 151, 295, 134, 186, 420, 296, 121,\n",
       "        66,  66, 238,  59,  35, 393, 287, 408, 269, 300,  73,  35, 195,\n",
       "        84,  76, 103, 341,  44, 277,  95,  70, 159, 384,  98, 354, 189,\n",
       "       164, 190,  85,  47, 106, 289, 325,  98, 273, 411, 140, 162, 181,\n",
       "        97,  79, 145, 474,  59,  99, 129, 159, 276,  97, 126,  98, 143,\n",
       "        65, 150,  39, 101,  76,  28,  58,  71,  75,   2,  33,  33,  58,\n",
       "        56,   6,   1,  25])"
      ]
     },
     "execution_count": 50,
     "metadata": {},
     "output_type": "execute_result"
    }
   ],
   "source": [
    "np.unique(df_room.values, return_counts=True)[1][1:]"
   ]
  },
  {
   "cell_type": "markdown",
   "metadata": {},
   "source": [
    "#### question: how many people share rooms, anyway?"
   ]
  },
  {
   "cell_type": "markdown",
   "metadata": {},
   "source": [
    "# Data Preprocessing"
   ]
  },
  {
   "cell_type": "code",
   "execution_count": 51,
   "metadata": {},
   "outputs": [],
   "source": [
    "# facility trace\n",
    "df_ftrace = pd.read_csv(f\"{epi_dir}/2019-12-18_facility_trace.csv\", index_col=0)\n",
    "df_ftrace.columns = np.arange(367)\n",
    "\n",
    "# recover facility trace\n",
    "ftrace = (df_ftrace > 0).astype(int)\n",
    "\n",
    "# recover infections\n",
    "# how does this handle people who are \n",
    "infections = df_ftrace.replace(1, np.nan).ffill(axis=1)\n",
    "infections = infections.replace({0:np.nan, 1.25:0, 1.5:1})"
   ]
  },
  {
   "cell_type": "code",
   "execution_count": 5,
   "metadata": {},
   "outputs": [
    {
     "name": "stdout",
     "output_type": "stream",
     "text": [
      "106\n"
     ]
    },
    {
     "data": {
      "image/png": "[encoded data removed]",
      "text/plain": [
       "<Figure size 640x480 with 1 Axes>"
      ]
     },
     "metadata": {},
     "output_type": "display_data"
    }
   ],
   "source": [
    "# how many infection events occur after admission?\n",
    "new_infections = (infections.diff(axis=1) == 1).astype(int).sum(0)\n",
    "print(new_infections.sum())\n",
    "sns.lineplot(new_infections)\n",
    "plt.show()"
   ]
  },
  {
   "cell_type": "code",
   "execution_count": 6,
   "metadata": {},
   "outputs": [],
   "source": [
    "# how many infections happen upon admission?\n",
    "# infections"
   ]
  },
  {
   "cell_type": "code",
   "execution_count": 7,
   "metadata": {},
   "outputs": [
    {
     "data": {
      "image/png": "[encoded data removed]",
      "text/plain": [
       "<Figure size 640x480 with 1 Axes>"
      ]
     },
     "metadata": {},
     "output_type": "display_data"
    }
   ],
   "source": [
    "I = infections.sum(0)\n",
    "Nt = ftrace.sum(0)\n",
    "S = Nt - I\n",
    "sns.lineplot(Nt, label=\"Total\")\n",
    "sns.lineplot(S, label=\"Susceptible\")\n",
    "sns.lineplot(I, label=\"Infected\")\n",
    "plt.show()"
   ]
  },
  {
   "cell_type": "code",
   "execution_count": 8,
   "metadata": {},
   "outputs": [
    {
     "name": "stdout",
     "output_type": "stream",
     "text": [
      "[162, 295, 13, 155, 92]\n"
     ]
    }
   ],
   "source": [
    "# deal with: people who get infected twice!\n",
    "# are there many?\n",
    "# new goal: assume someone can't recover during a stay\n",
    "# but they may leave and come back recovered (?)\n",
    "infections_cleaned = infections.copy()\n",
    "doubles = set()\n",
    "for i, row in infections_cleaned.iterrows():\n",
    "    infected = False\n",
    "    for j, v in row.items():\n",
    "        if infected:\n",
    "            if v == 0:\n",
    "                doubles.add(i)\n",
    "                row[j] = 1\n",
    "        if v == 1:\n",
    "            infected = True\n",
    "        if np.isnan(v):\n",
    "            infected = False\n",
    "\n",
    "print(list(doubles))"
   ]
  },
  {
   "cell_type": "code",
   "execution_count": 9,
   "metadata": {},
   "outputs": [],
   "source": [
    "n_visits = {}\n",
    "for i, row in infections_cleaned.iterrows():\n",
    "    admitted = False\n",
    "    z = 0\n",
    "    for _, v in row.items():\n",
    "        if not np.isnan(v) and not admitted:\n",
    "            admitted = True\n",
    "            z += 1\n",
    "        if np.isnan(v):\n",
    "            admitted = False\n",
    "    n_visits[i] = z\n",
    "n_visits = pd.Series(n_visits)"
   ]
  },
  {
   "cell_type": "code",
   "execution_count": 10,
   "metadata": {},
   "outputs": [
    {
     "data": {
      "text/plain": [
       "1    0.723077\n",
       "2    0.184615\n",
       "3    0.057692\n",
       "4    0.026923\n",
       "5    0.007692\n",
       "Name: count, dtype: float64"
      ]
     },
     "execution_count": 10,
     "metadata": {},
     "output_type": "execute_result"
    }
   ],
   "source": [
    "n_visits.value_counts() / len(n_visits)"
   ]
  },
  {
   "cell_type": "code",
   "execution_count": 11,
   "metadata": {},
   "outputs": [
    {
     "data": {
      "text/plain": [
       "367"
      ]
     },
     "execution_count": 11,
     "metadata": {},
     "output_type": "execute_result"
    }
   ],
   "source": [
    "n_visits.sum()"
   ]
  },
  {
   "cell_type": "markdown",
   "metadata": {},
   "source": [
    "One possible issue: the data makes it seem like we start off with an unusually high number of infections. Maybe we can ameliorate this by starting 100 days into the year...seems easier than modeling a time-varying pre-admitted colonization rate\n",
    "\n",
    "Or, we hardcode initial infections (back to the original plan)"
   ]
  },
  {
   "cell_type": "markdown",
   "metadata": {},
   "source": [
    "### Understanding precolonization"
   ]
  },
  {
   "cell_type": "code",
   "execution_count": 12,
   "metadata": {},
   "outputs": [],
   "source": [
    "# multiple visits\n",
    "first_test = {}\n",
    "i = 0\n",
    "for _, r in df_ftrace.reset_index(drop=True).iterrows():\n",
    "    entry_time = 0\n",
    "    entered = False\n",
    "    recorded = False\n",
    "    for j, v in r.items():\n",
    "        if v > 0 and not entered:\n",
    "            entry_time = j\n",
    "            entered = True\n",
    "        if entered and v == 0:\n",
    "            i += 1\n",
    "            entered = False\n",
    "            recorded = False\n",
    "        if v > 1 and not recorded:\n",
    "            first_test[i] = j - entry_time\n",
    "            recorded = True\n",
    "    if entered:\n",
    "        i += 1\n",
    "first_test = pd.Series(first_test)      "
   ]
  },
  {
   "cell_type": "code",
   "execution_count": 13,
   "metadata": {},
   "outputs": [
    {
     "data": {
      "text/plain": [
       "0     0.534060\n",
       "1     0.392371\n",
       "2     0.024523\n",
       "3     0.010899\n",
       "13    0.005450\n",
       "4     0.005450\n",
       "5     0.005450\n",
       "11    0.005450\n",
       "14    0.002725\n",
       "7     0.002725\n",
       "22    0.002725\n",
       "28    0.002725\n",
       "8     0.002725\n",
       "12    0.002725\n",
       "Name: count, dtype: float64"
      ]
     },
     "execution_count": 13,
     "metadata": {},
     "output_type": "execute_result"
    }
   ],
   "source": [
    "first_test.value_counts() / 367"
   ]
  },
  {
   "cell_type": "markdown",
   "metadata": {},
   "source": [
    "build dataframe of colonizations upon arrival\n",
    "\n",
    "what i'll do--if someone gets tested within 3 days of arrival (95% of first tests)"
   ]
  },
  {
   "cell_type": "code",
   "execution_count": 14,
   "metadata": {},
   "outputs": [],
   "source": [
    "df_precol = pd.DataFrame(index=df_ftrace.index, columns=df_ftrace.columns)\n",
    "for n, r in df_ftrace.iterrows():\n",
    "    entry_time = 0\n",
    "    entered = False\n",
    "    recorded = False\n",
    "    for t, v in r.items():\n",
    "        if v > 0 and not entered:\n",
    "            entry_time = t\n",
    "            entered = True\n",
    "        if entered and v == 0:\n",
    "            entered = False\n",
    "            recorded = False\n",
    "        if v > 1 and not recorded:\n",
    "            test_time = t - entry_time\n",
    "            if test_time < 3:\n",
    "                # df_precol.loc[n,t] = v\n",
    "                df_precol.loc[n, entry_time] = v\n",
    "            # else:\n",
    "            #     df_precol.loc[n,t] = \n",
    "            recorded = True\n",
    "df_precol.replace({1.5:1, 1.25:0}, inplace=True)"
   ]
  },
  {
   "cell_type": "code",
   "execution_count": 15,
   "metadata": {},
   "outputs": [
    {
     "data": {
      "text/plain": [
       "349"
      ]
     },
     "execution_count": 15,
     "metadata": {},
     "output_type": "execute_result"
    }
   ],
   "source": [
    "df_precol.count().sum()"
   ]
  },
  {
   "cell_type": "code",
   "execution_count": 28,
   "metadata": {},
   "outputs": [
    {
     "data": {
      "image/png": "[encoded data removed]",
      "text/plain": [
       "<Figure size 640x480 with 1 Axes>"
      ]
     },
     "metadata": {},
     "output_type": "display_data"
    }
   ],
   "source": [
    "screened_infected = (df_precol).sum(0)\n",
    "sns.lineplot(screened_infected)\n",
    "plt.show()"
   ]
  },
  {
   "cell_type": "markdown",
   "metadata": {},
   "source": [
    "## Simulator II: Fixed Precolonization"
   ]
  },
  {
   "cell_type": "code",
   "execution_count": 17,
   "metadata": {},
   "outputs": [],
   "source": [
    "def crkp_simulator2(logbeta, seed):\n",
    "    np.random.seed(seed)\n",
    "    N, T = ftrace.shape\n",
    "    beta = np.exp(logbeta)\n",
    "    \n",
    "    W = ftrace.values\n",
    "    # old admitted status\n",
    "    w = np.zeros(N)\n",
    "    \n",
    "    X = np.empty((N, T))\n",
    "    # old infection status\n",
    "    x = np.empty(N)\n",
    "    # x[:] = np.nan # should this be all zeros (negatives) by default?\n",
    "    x[:] = 0\n",
    "    \n",
    "    I = np.zeros(N)\n",
    "    0\n",
    "    for t in range(T):\n",
    "        # case 1: not present\n",
    "        # if absent, set to nan\n",
    "        # otherwise, inherit old status\n",
    "        X[:, t] = np.where(1 - W[:, t], np.nan, x)\n",
    "        # case 2: new arrival\n",
    "        newly_admitted = W[:, t] * (1 - w)\n",
    "        # if newly admitted, load test data if available, otherwise default to last status\n",
    "        # will this under-report? if someone gets tested a day after arrival\n",
    "        X[:, t] = np.where(newly_admitted, df_precol[t], X[:, t])\n",
    "        # ALTERNATIVELY\n",
    "        # inherit infection statuses from ground truth\n",
    "        # case 3: already admitted and susceptible\n",
    "        # randomly model transmission event\n",
    "        # otherwise, inherit old status\n",
    "        staying = W[:, t] * w\n",
    "        hazard = I.sum() * beta * np.ones(N)\n",
    "        p = 1 - np.exp(-hazard / N) # not the end of the world to normalize by size of population\n",
    "        X[:, t] = np.where(staying * (1 - I), np.random.binomial(1, p, N), X[:, t])\n",
    "        x = X[:, t]\n",
    "        w = W[:, t]\n",
    "        I = (x == 1).astype(int)\n",
    "\n",
    "    return np.nansum(X, axis=0) / N"
   ]
  },
  {
   "cell_type": "code",
   "execution_count": 19,
   "metadata": {},
   "outputs": [],
   "source": [
    "N = 260\n",
    "precols = crkp_simulator2(-6, 1) * N"
   ]
  },
  {
   "cell_type": "code",
   "execution_count": 25,
   "metadata": {},
   "outputs": [
    {
     "data": {
      "image/png": "[encoded data removed]",
      "text/plain": [
       "<Figure size 640x480 with 1 Axes>"
      ]
     },
     "metadata": {},
     "output_type": "display_data"
    }
   ],
   "source": [
    "I_rep = crkp_simulator2(-1.8, 1)\n",
    "\n",
    "sns.lineplot(I / 260, label=\"observed\")\n",
    "sns.lineplot(I_rep, label=\"simulated\")\n",
    "sns.lineplot(ftrace.sum() / 260, color=\"k\", linestyle=\"--\", label=\"pop\")\n",
    "plt.show()"
   ]
  },
  {
   "cell_type": "code",
   "execution_count": 26,
   "metadata": {},
   "outputs": [
    {
     "data": {
      "image/png": "[encoded data removed]",
      "text/plain": [
       "<Figure size 640x480 with 1 Axes>"
      ]
     },
     "metadata": {},
     "output_type": "display_data"
    }
   ],
   "source": [
    "sns.lineplot((I - precols), label=\"observed\")\n",
    "sns.lineplot(I_rep * 260 - precols, label=\"simulated\")\n",
    "# sns.lineplot(ftrace.sum() / 260, color=\"k\", linestyle=\"--\", label=\"pop\")\n",
    "plt.show()"
   ]
  },
  {
   "cell_type": "markdown",
   "metadata": {},
   "source": [
    "# Census Data"
   ]
  },
  {
   "cell_type": "code",
   "execution_count": 18,
   "metadata": {},
   "outputs": [],
   "source": [
    "df_census = pd.read_excel(f\"{epi_dir}/2019-02-25_KPCLTACH_C_Census.xlsx\")"
   ]
  },
  {
   "cell_type": "code",
   "execution_count": 19,
   "metadata": {},
   "outputs": [
    {
     "data": {
      "text/html": [
       "<div>\n",
       "<style scoped>\n",
       "    .dataframe tbody tr th:only-of-type {\n",
       "        vertical-align: middle;\n",
       "    }\n",
       "\n",
       "    .dataframe tbody tr th {\n",
       "        vertical-align: top;\n",
       "    }\n",
       "\n",
       "    .dataframe thead th {\n",
       "        text-align: right;\n",
       "    }\n",
       "</style>\n",
       "<table border=\"1\" class=\"dataframe\">\n",
       "  <thead>\n",
       "    <tr style=\"text-align: right;\">\n",
       "      <th></th>\n",
       "      <th>WGS_ID</th>\n",
       "      <th>WGS_StudyID</th>\n",
       "      <th>Room</th>\n",
       "      <th>Bed</th>\n",
       "      <th>Admit_Date</th>\n",
       "      <th>DischargeDate</th>\n",
       "      <th>LOS</th>\n",
       "      <th>Room_Bed</th>\n",
       "      <th>From_Date</th>\n",
       "      <th>Thru_Date</th>\n",
       "    </tr>\n",
       "  </thead>\n",
       "  <tbody>\n",
       "    <tr>\n",
       "      <th>0</th>\n",
       "      <td>C-1031</td>\n",
       "      <td>1031</td>\n",
       "      <td>DE/DE.2EAST</td>\n",
       "      <td>A</td>\n",
       "      <td>2012-10-16</td>\n",
       "      <td>2012-10-29</td>\n",
       "      <td>13</td>\n",
       "      <td>DE.225-A</td>\n",
       "      <td>2012-10-16</td>\n",
       "      <td>2012-10-16</td>\n",
       "    </tr>\n",
       "    <tr>\n",
       "      <th>1</th>\n",
       "      <td>C-1031</td>\n",
       "      <td>1031</td>\n",
       "      <td>DE/DE.2EAST</td>\n",
       "      <td>A</td>\n",
       "      <td>2012-10-16</td>\n",
       "      <td>2012-10-29</td>\n",
       "      <td>13</td>\n",
       "      <td>DE.206-A</td>\n",
       "      <td>2012-10-17</td>\n",
       "      <td>2012-10-28</td>\n",
       "    </tr>\n",
       "    <tr>\n",
       "      <th>2</th>\n",
       "      <td>C-1</td>\n",
       "      <td>1</td>\n",
       "      <td>DE/DE.SCU</td>\n",
       "      <td>1</td>\n",
       "      <td>2012-02-22</td>\n",
       "      <td>2012-10-23</td>\n",
       "      <td>244</td>\n",
       "      <td>DE.SC11-1</td>\n",
       "      <td>2012-09-26</td>\n",
       "      <td>2012-10-22</td>\n",
       "    </tr>\n",
       "    <tr>\n",
       "      <th>3</th>\n",
       "      <td>C-1</td>\n",
       "      <td>1</td>\n",
       "      <td>DE/DE.SCU</td>\n",
       "      <td>1</td>\n",
       "      <td>2012-02-22</td>\n",
       "      <td>2012-10-23</td>\n",
       "      <td>244</td>\n",
       "      <td>DE.109-B</td>\n",
       "      <td>2012-07-05</td>\n",
       "      <td>2012-07-07</td>\n",
       "    </tr>\n",
       "    <tr>\n",
       "      <th>4</th>\n",
       "      <td>C-1</td>\n",
       "      <td>1</td>\n",
       "      <td>DE/DE.SCU</td>\n",
       "      <td>1</td>\n",
       "      <td>2012-02-22</td>\n",
       "      <td>2012-10-23</td>\n",
       "      <td>244</td>\n",
       "      <td>DE.117-B</td>\n",
       "      <td>2012-07-08</td>\n",
       "      <td>2012-07-23</td>\n",
       "    </tr>\n",
       "  </tbody>\n",
       "</table>\n",
       "</div>"
      ],
      "text/plain": [
       "   WGS_ID  WGS_StudyID         Room Bed Admit_Date DischargeDate  LOS  \\\n",
       "0  C-1031         1031  DE/DE.2EAST   A 2012-10-16    2012-10-29   13   \n",
       "1  C-1031         1031  DE/DE.2EAST   A 2012-10-16    2012-10-29   13   \n",
       "2     C-1            1    DE/DE.SCU   1 2012-02-22    2012-10-23  244   \n",
       "3     C-1            1    DE/DE.SCU   1 2012-02-22    2012-10-23  244   \n",
       "4     C-1            1    DE/DE.SCU   1 2012-02-22    2012-10-23  244   \n",
       "\n",
       "    Room_Bed  From_Date  Thru_Date  \n",
       "0   DE.225-A 2012-10-16 2012-10-16  \n",
       "1   DE.206-A 2012-10-17 2012-10-28  \n",
       "2  DE.SC11-1 2012-09-26 2012-10-22  \n",
       "3   DE.109-B 2012-07-05 2012-07-07  \n",
       "4   DE.117-B 2012-07-08 2012-07-23  "
      ]
     },
     "execution_count": 19,
     "metadata": {},
     "output_type": "execute_result"
    }
   ],
   "source": [
    "df_census.head()"
   ]
  },
  {
   "cell_type": "code",
   "execution_count": 63,
   "metadata": {},
   "outputs": [
    {
     "data": {
      "text/plain": [
       "Room\n",
       "DE/DE.3EAST    959\n",
       "DE/DE.1EAST    746\n",
       "DE/DE.2EAST    675\n",
       "DE/DE.SCU      572\n",
       "DE/DE.4EAST    492\n",
       "Name: count, dtype: int64"
      ]
     },
     "execution_count": 63,
     "metadata": {},
     "output_type": "execute_result"
    }
   ],
   "source": [
    "df_census[\"Room\"].value_counts()"
   ]
  },
  {
   "cell_type": "code",
   "execution_count": 24,
   "metadata": {},
   "outputs": [
    {
     "data": {
      "text/plain": [
       "Timestamp('2013-06-19 00:00:00')"
      ]
     },
     "execution_count": 24,
     "metadata": {},
     "output_type": "execute_result"
    }
   ],
   "source": [
    "df_census[\"Admit_Date\"].max()"
   ]
  },
  {
   "cell_type": "code",
   "execution_count": 28,
   "metadata": {},
   "outputs": [
    {
     "data": {
      "text/plain": [
       "Timestamp('2012-06-19 00:00:00')"
      ]
     },
     "execution_count": 28,
     "metadata": {},
     "output_type": "execute_result"
    }
   ],
   "source": [
    "df_census[\"DischargeDate\"].min()"
   ]
  },
  {
   "cell_type": "code",
   "execution_count": 31,
   "metadata": {},
   "outputs": [],
   "source": [
    "def daterange(start_date, end_date):\n",
    "    for n in range(int((end_date - start_date).days)):\n",
    "        yield start_date + timedelta(n)"
   ]
  },
  {
   "cell_type": "code",
   "execution_count": 32,
   "metadata": {},
   "outputs": [],
   "source": []
  },
  {
   "cell_type": "code",
   "execution_count": 61,
   "metadata": {},
   "outputs": [],
   "source": [
    "pop = []\n",
    "start_date = date(2012, 6, 19)\n",
    "end_date = date(2013, 6, 20)\n",
    "for single_date in daterange(start_date, end_date):\n",
    "    pop.append(df_census[(df_census[\"Admit_Date\"].dt.date <= single_date) & \\\n",
    "               (df_census[\"DischargeDate\"].dt.date > single_date)][\"WGS_ID\"].nunique())\n",
    "pop = np.array(pop)\n"
   ]
  },
  {
   "cell_type": "code",
   "execution_count": 62,
   "metadata": {},
   "outputs": [
    {
     "data": {
      "text/plain": [
       "array([101,  97, 100,  97,  96,  97,  96,  98,  97, 106, 108, 106, 105,\n",
       "       103, 103, 101, 104, 105, 103, 104, 102, 101, 100,  96,  93,  92,\n",
       "        93,  96, 101,  99,  98,  95,  95,  93,  95,  96,  99, 100,  99,\n",
       "       100, 101, 105, 106, 107, 104, 108, 106, 106, 108, 107, 106, 105,\n",
       "       107, 107, 105, 112, 114, 114, 115, 112, 110, 109, 105, 106, 107,\n",
       "       107, 108, 106, 104, 102, 100,  97,  98,  93,  92,  91,  90,  88,\n",
       "        86,  87,  90,  91,  89,  90,  94,  93,  94,  97,  97,  97,  97,\n",
       "       100, 103, 105, 110, 109, 108, 107, 109, 110, 111, 109, 112, 111,\n",
       "       111, 104, 103, 103, 105, 102, 102, 101, 102, 100,  98,  99, 101,\n",
       "       100, 100, 101, 102, 105, 101,  99,  99,  96,  96,  97,  96,  91,\n",
       "        89,  88,  86,  85,  85,  83,  89,  88,  87,  84,  84,  86,  88,\n",
       "        84,  83,  84,  81,  82,  83,  84,  88,  85,  85,  84,  84,  85,\n",
       "        85,  87,  87,  86,  88,  90,  89,  89,  93,  90,  89,  91,  91,\n",
       "        88,  91,  94,  94,  95,  94,  98,  98,  98,  97,  99,  99,  99,\n",
       "       100,  97,  98,  97,  97,  97,  98,  96,  98,  98,  93,  94,  92,\n",
       "        91,  90,  86,  85,  87,  84,  84,  86,  89,  87,  85,  89,  90,\n",
       "        90,  94,  96, 101, 103, 102,  98,  98,  99, 101, 103, 104,  97,\n",
       "        96,  94,  91,  90,  93,  96,  98,  94,  92,  93,  94,  90,  86,\n",
       "        88,  91,  91,  91,  86,  87,  84,  83,  82,  82,  83,  90,  87,\n",
       "        89,  90,  90,  89,  89,  92,  92,  94,  98, 100, 100, 102, 104,\n",
       "       108, 106, 107, 109, 104, 106, 103, 110, 110, 111, 111, 111, 111,\n",
       "       113, 111, 105, 103, 103, 102, 102,  98,  97,  99,  99,  99,  99,\n",
       "        97,  96,  97,  97,  97,  98,  98,  94,  93,  93,  91,  92,  92,\n",
       "        91,  87,  85,  86,  87,  90,  90,  90,  90,  94,  93,  93,  92,\n",
       "        94,  93,  92,  94,  94,  93,  97,  98,  97,  99, 101,  99,  99,\n",
       "        96,  95,  96,  95,  92,  92,  92,  94,  95,  94,  92,  91,  91,\n",
       "        96,  94,  91,  91,  91,  87,  86,  89,  90,  88,  87,  85,  85,\n",
       "        85,  85,  83,  83,  83,  82,  81,  79,  74,  74,  73,  69,  68,\n",
       "        68,  67])"
      ]
     },
     "execution_count": 62,
     "metadata": {},
     "output_type": "execute_result"
    }
   ],
   "source": [
    "pop"
   ]
  },
  {
   "cell_type": "code",
   "execution_count": 54,
   "metadata": {},
   "outputs": [
    {
     "data": {
      "text/html": [
       "<div>\n",
       "<style scoped>\n",
       "    .dataframe tbody tr th:only-of-type {\n",
       "        vertical-align: middle;\n",
       "    }\n",
       "\n",
       "    .dataframe tbody tr th {\n",
       "        vertical-align: top;\n",
       "    }\n",
       "\n",
       "    .dataframe thead th {\n",
       "        text-align: right;\n",
       "    }\n",
       "</style>\n",
       "<table border=\"1\" class=\"dataframe\">\n",
       "  <thead>\n",
       "    <tr style=\"text-align: right;\">\n",
       "      <th></th>\n",
       "      <th>WGS_ID</th>\n",
       "      <th>WGS_StudyID</th>\n",
       "      <th>Room</th>\n",
       "      <th>Bed</th>\n",
       "      <th>Admit_Date</th>\n",
       "      <th>DischargeDate</th>\n",
       "      <th>LOS</th>\n",
       "      <th>Room_Bed</th>\n",
       "      <th>From_Date</th>\n",
       "      <th>Thru_Date</th>\n",
       "    </tr>\n",
       "  </thead>\n",
       "  <tbody>\n",
       "    <tr>\n",
       "      <th>2</th>\n",
       "      <td>C-1</td>\n",
       "      <td>1</td>\n",
       "      <td>DE/DE.SCU</td>\n",
       "      <td>1</td>\n",
       "      <td>2012-02-22</td>\n",
       "      <td>2012-10-23</td>\n",
       "      <td>244</td>\n",
       "      <td>DE.SC11-1</td>\n",
       "      <td>2012-09-26</td>\n",
       "      <td>2012-10-22</td>\n",
       "    </tr>\n",
       "    <tr>\n",
       "      <th>3</th>\n",
       "      <td>C-1</td>\n",
       "      <td>1</td>\n",
       "      <td>DE/DE.SCU</td>\n",
       "      <td>1</td>\n",
       "      <td>2012-02-22</td>\n",
       "      <td>2012-10-23</td>\n",
       "      <td>244</td>\n",
       "      <td>DE.109-B</td>\n",
       "      <td>2012-07-05</td>\n",
       "      <td>2012-07-07</td>\n",
       "    </tr>\n",
       "    <tr>\n",
       "      <th>4</th>\n",
       "      <td>C-1</td>\n",
       "      <td>1</td>\n",
       "      <td>DE/DE.SCU</td>\n",
       "      <td>1</td>\n",
       "      <td>2012-02-22</td>\n",
       "      <td>2012-10-23</td>\n",
       "      <td>244</td>\n",
       "      <td>DE.117-B</td>\n",
       "      <td>2012-07-08</td>\n",
       "      <td>2012-07-23</td>\n",
       "    </tr>\n",
       "    <tr>\n",
       "      <th>5</th>\n",
       "      <td>C-1</td>\n",
       "      <td>1</td>\n",
       "      <td>DE/DE.SCU</td>\n",
       "      <td>1</td>\n",
       "      <td>2012-02-22</td>\n",
       "      <td>2012-10-23</td>\n",
       "      <td>244</td>\n",
       "      <td>DE.318-A</td>\n",
       "      <td>2012-06-18</td>\n",
       "      <td>2012-06-25</td>\n",
       "    </tr>\n",
       "    <tr>\n",
       "      <th>6</th>\n",
       "      <td>C-1</td>\n",
       "      <td>1</td>\n",
       "      <td>DE/DE.SCU</td>\n",
       "      <td>1</td>\n",
       "      <td>2012-02-22</td>\n",
       "      <td>2012-10-23</td>\n",
       "      <td>244</td>\n",
       "      <td>DE.202-A</td>\n",
       "      <td>2012-09-18</td>\n",
       "      <td>2012-09-25</td>\n",
       "    </tr>\n",
       "    <tr>\n",
       "      <th>7</th>\n",
       "      <td>C-1</td>\n",
       "      <td>1</td>\n",
       "      <td>DE/DE.SCU</td>\n",
       "      <td>1</td>\n",
       "      <td>2012-02-22</td>\n",
       "      <td>2012-10-23</td>\n",
       "      <td>244</td>\n",
       "      <td>DE.111-B</td>\n",
       "      <td>2012-06-26</td>\n",
       "      <td>2012-07-04</td>\n",
       "    </tr>\n",
       "    <tr>\n",
       "      <th>8</th>\n",
       "      <td>C-1</td>\n",
       "      <td>1</td>\n",
       "      <td>DE/DE.SCU</td>\n",
       "      <td>1</td>\n",
       "      <td>2012-02-22</td>\n",
       "      <td>2012-10-23</td>\n",
       "      <td>244</td>\n",
       "      <td>DE.SCU8-008</td>\n",
       "      <td>2012-07-24</td>\n",
       "      <td>2012-09-17</td>\n",
       "    </tr>\n",
       "    <tr>\n",
       "      <th>11</th>\n",
       "      <td>C-2</td>\n",
       "      <td>2</td>\n",
       "      <td>DE/DE.3EAST</td>\n",
       "      <td>B</td>\n",
       "      <td>2012-11-18</td>\n",
       "      <td>2013-05-31</td>\n",
       "      <td>194</td>\n",
       "      <td>DE.302-B</td>\n",
       "      <td>2013-05-31</td>\n",
       "      <td>2013-05-31</td>\n",
       "    </tr>\n",
       "    <tr>\n",
       "      <th>12</th>\n",
       "      <td>C-2</td>\n",
       "      <td>2</td>\n",
       "      <td>DE/DE.3EAST</td>\n",
       "      <td>B</td>\n",
       "      <td>2012-11-18</td>\n",
       "      <td>2013-05-31</td>\n",
       "      <td>194</td>\n",
       "      <td>DE.333-A</td>\n",
       "      <td>2012-11-18</td>\n",
       "      <td>2012-11-18</td>\n",
       "    </tr>\n",
       "    <tr>\n",
       "      <th>13</th>\n",
       "      <td>C-2</td>\n",
       "      <td>2</td>\n",
       "      <td>DE/DE.3EAST</td>\n",
       "      <td>B</td>\n",
       "      <td>2012-11-18</td>\n",
       "      <td>2013-05-31</td>\n",
       "      <td>194</td>\n",
       "      <td>DE.302-B</td>\n",
       "      <td>2012-12-05</td>\n",
       "      <td>2013-01-13</td>\n",
       "    </tr>\n",
       "    <tr>\n",
       "      <th>14</th>\n",
       "      <td>C-2</td>\n",
       "      <td>2</td>\n",
       "      <td>DE/DE.3EAST</td>\n",
       "      <td>B</td>\n",
       "      <td>2012-11-18</td>\n",
       "      <td>2013-05-31</td>\n",
       "      <td>194</td>\n",
       "      <td>DE.117-A</td>\n",
       "      <td>2012-11-23</td>\n",
       "      <td>2012-11-27</td>\n",
       "    </tr>\n",
       "    <tr>\n",
       "      <th>15</th>\n",
       "      <td>C-2</td>\n",
       "      <td>2</td>\n",
       "      <td>DE/DE.3EAST</td>\n",
       "      <td>B</td>\n",
       "      <td>2012-11-18</td>\n",
       "      <td>2013-05-31</td>\n",
       "      <td>194</td>\n",
       "      <td>DE.302-B</td>\n",
       "      <td>2013-05-01</td>\n",
       "      <td>2013-05-30</td>\n",
       "    </tr>\n",
       "    <tr>\n",
       "      <th>16</th>\n",
       "      <td>C-2</td>\n",
       "      <td>2</td>\n",
       "      <td>DE/DE.3EAST</td>\n",
       "      <td>B</td>\n",
       "      <td>2012-11-18</td>\n",
       "      <td>2013-05-31</td>\n",
       "      <td>194</td>\n",
       "      <td>DE.333-B</td>\n",
       "      <td>2012-11-19</td>\n",
       "      <td>2012-11-19</td>\n",
       "    </tr>\n",
       "    <tr>\n",
       "      <th>17</th>\n",
       "      <td>C-2</td>\n",
       "      <td>2</td>\n",
       "      <td>DE/DE.3EAST</td>\n",
       "      <td>B</td>\n",
       "      <td>2012-11-18</td>\n",
       "      <td>2013-05-31</td>\n",
       "      <td>194</td>\n",
       "      <td>DE.135-A</td>\n",
       "      <td>2012-11-20</td>\n",
       "      <td>2012-11-22</td>\n",
       "    </tr>\n",
       "    <tr>\n",
       "      <th>18</th>\n",
       "      <td>C-2</td>\n",
       "      <td>2</td>\n",
       "      <td>DE/DE.3EAST</td>\n",
       "      <td>B</td>\n",
       "      <td>2012-11-18</td>\n",
       "      <td>2013-05-31</td>\n",
       "      <td>194</td>\n",
       "      <td>DE.SCU3-003</td>\n",
       "      <td>2013-01-14</td>\n",
       "      <td>2013-01-14</td>\n",
       "    </tr>\n",
       "    <tr>\n",
       "      <th>19</th>\n",
       "      <td>C-2</td>\n",
       "      <td>2</td>\n",
       "      <td>DE/DE.3EAST</td>\n",
       "      <td>B</td>\n",
       "      <td>2012-11-18</td>\n",
       "      <td>2013-05-31</td>\n",
       "      <td>194</td>\n",
       "      <td>DE.401-A</td>\n",
       "      <td>2012-11-28</td>\n",
       "      <td>2012-12-04</td>\n",
       "    </tr>\n",
       "    <tr>\n",
       "      <th>20</th>\n",
       "      <td>C-2</td>\n",
       "      <td>2</td>\n",
       "      <td>DE/DE.3EAST</td>\n",
       "      <td>B</td>\n",
       "      <td>2012-11-18</td>\n",
       "      <td>2013-05-31</td>\n",
       "      <td>194</td>\n",
       "      <td>DE.302-B</td>\n",
       "      <td>2013-01-15</td>\n",
       "      <td>2013-04-30</td>\n",
       "    </tr>\n",
       "  </tbody>\n",
       "</table>\n",
       "</div>"
      ],
      "text/plain": [
       "   WGS_ID  WGS_StudyID         Room Bed Admit_Date DischargeDate  LOS  \\\n",
       "2     C-1            1    DE/DE.SCU   1 2012-02-22    2012-10-23  244   \n",
       "3     C-1            1    DE/DE.SCU   1 2012-02-22    2012-10-23  244   \n",
       "4     C-1            1    DE/DE.SCU   1 2012-02-22    2012-10-23  244   \n",
       "5     C-1            1    DE/DE.SCU   1 2012-02-22    2012-10-23  244   \n",
       "6     C-1            1    DE/DE.SCU   1 2012-02-22    2012-10-23  244   \n",
       "7     C-1            1    DE/DE.SCU   1 2012-02-22    2012-10-23  244   \n",
       "8     C-1            1    DE/DE.SCU   1 2012-02-22    2012-10-23  244   \n",
       "11    C-2            2  DE/DE.3EAST   B 2012-11-18    2013-05-31  194   \n",
       "12    C-2            2  DE/DE.3EAST   B 2012-11-18    2013-05-31  194   \n",
       "13    C-2            2  DE/DE.3EAST   B 2012-11-18    2013-05-31  194   \n",
       "14    C-2            2  DE/DE.3EAST   B 2012-11-18    2013-05-31  194   \n",
       "15    C-2            2  DE/DE.3EAST   B 2012-11-18    2013-05-31  194   \n",
       "16    C-2            2  DE/DE.3EAST   B 2012-11-18    2013-05-31  194   \n",
       "17    C-2            2  DE/DE.3EAST   B 2012-11-18    2013-05-31  194   \n",
       "18    C-2            2  DE/DE.3EAST   B 2012-11-18    2013-05-31  194   \n",
       "19    C-2            2  DE/DE.3EAST   B 2012-11-18    2013-05-31  194   \n",
       "20    C-2            2  DE/DE.3EAST   B 2012-11-18    2013-05-31  194   \n",
       "\n",
       "       Room_Bed  From_Date  Thru_Date  \n",
       "2     DE.SC11-1 2012-09-26 2012-10-22  \n",
       "3      DE.109-B 2012-07-05 2012-07-07  \n",
       "4      DE.117-B 2012-07-08 2012-07-23  \n",
       "5      DE.318-A 2012-06-18 2012-06-25  \n",
       "6      DE.202-A 2012-09-18 2012-09-25  \n",
       "7      DE.111-B 2012-06-26 2012-07-04  \n",
       "8   DE.SCU8-008 2012-07-24 2012-09-17  \n",
       "11     DE.302-B 2013-05-31 2013-05-31  \n",
       "12     DE.333-A 2012-11-18 2012-11-18  \n",
       "13     DE.302-B 2012-12-05 2013-01-13  \n",
       "14     DE.117-A 2012-11-23 2012-11-27  \n",
       "15     DE.302-B 2013-05-01 2013-05-30  \n",
       "16     DE.333-B 2012-11-19 2012-11-19  \n",
       "17     DE.135-A 2012-11-20 2012-11-22  \n",
       "18  DE.SCU3-003 2013-01-14 2013-01-14  \n",
       "19     DE.401-A 2012-11-28 2012-12-04  \n",
       "20     DE.302-B 2013-01-15 2013-04-30  "
      ]
     },
     "execution_count": 54,
     "metadata": {},
     "output_type": "execute_result"
    }
   ],
   "source": [
    "df_census[df_census[\"WGS_StudyID\"] <= 2]"
   ]
  },
  {
   "cell_type": "code",
   "execution_count": 45,
   "metadata": {},
   "outputs": [],
   "source": [
    "census_ids = set(df_census[\"WGS_StudyID\"])\n",
    "trace_ids = set(df_floor.index)\n",
    "trace_ids <= census_ids"
   ]
  },
  {
   "cell_type": "code",
   "execution_count": null,
   "metadata": {},
   "outputs": [],
   "source": []
  },
  {
   "cell_type": "code",
   "execution_count": 48,
   "metadata": {},
   "outputs": [
    {
     "data": {
      "text/plain": [
       "148"
      ]
     },
     "execution_count": 48,
     "metadata": {},
     "output_type": "execute_result"
    }
   ],
   "source": [
    "df_census[\"Room_Bed\"].nunique()"
   ]
  },
  {
   "cell_type": "code",
   "execution_count": 47,
   "metadata": {},
   "outputs": [
    {
     "data": {
      "text/plain": [
       "Room\n",
       "DE/DE.3EAST    959\n",
       "DE/DE.1EAST    746\n",
       "DE/DE.2EAST    675\n",
       "DE/DE.SCU      572\n",
       "DE/DE.4EAST    492\n",
       "Name: count, dtype: int64"
      ]
     },
     "execution_count": 47,
     "metadata": {},
     "output_type": "execute_result"
    }
   ],
   "source": [
    "df_census[\"Room\"].value_counts() # five floors"
   ]
  },
  {
   "cell_type": "code",
   "execution_count": 16,
   "metadata": {},
   "outputs": [
    {
     "data": {
      "text/plain": [
       "15509    3\n",
       "15510    3\n",
       "15511    3\n",
       "15512    3\n",
       "15513    3\n",
       "        ..\n",
       "15871    0\n",
       "15872    0\n",
       "15873    0\n",
       "15874    0\n",
       "15875    0\n",
       "Name: 1, Length: 367, dtype: int64"
      ]
     },
     "execution_count": 16,
     "metadata": {},
     "output_type": "execute_result"
    }
   ],
   "source": [
    "df_floor.loc[1]"
   ]
  },
  {
   "cell_type": "code",
   "execution_count": 11,
   "metadata": {},
   "outputs": [
    {
     "data": {
      "text/plain": [
       "890"
      ]
     },
     "execution_count": 11,
     "metadata": {},
     "output_type": "execute_result"
    }
   ],
   "source": [
    "df_census[\"WGS_StudyID\"].nunique(\n",
    ")"
   ]
  },
  {
   "cell_type": "code",
   "execution_count": 10,
   "metadata": {},
   "outputs": [
    {
     "data": {
      "text/plain": [
       "1"
      ]
     },
     "execution_count": 10,
     "metadata": {},
     "output_type": "execute_result"
    }
   ],
   "source": [
    "df_census[\"LOS\"].min(\n",
    ")"
   ]
  },
  {
   "cell_type": "markdown",
   "metadata": {},
   "source": [
    "### infections data"
   ]
  },
  {
   "cell_type": "code",
   "execution_count": 66,
   "metadata": {},
   "outputs": [],
   "source": [
    "df_iso = pd.read_csv(f\"{epi_dir}/2019-12-18_patient_isolate_date_lookup_df.csv\", index_col=0)"
   ]
  },
  {
   "cell_type": "code",
   "execution_count": 75,
   "metadata": {},
   "outputs": [
    {
     "data": {
      "text/plain": [
       "array([117, 147, 244, 131, 149,  73, 295, 259, 129,  52, 102, 115, 193,\n",
       "       218, 155,  84,  65, 211, 216,  12, 183, 144,  77,  92, 227, 194,\n",
       "       230,  89, 174, 108,  44, 203, 234,  28, 130, 110, 196, 249, 165,\n",
       "       225,  61, 229,  71,  42, 201,  67, 219, 180,  13,  40, 173, 104,\n",
       "       240, 222, 113, 238, 232, 156, 247, 248, 119, 233, 101,  78, 116,\n",
       "         2,  49, 164,  74,  47,  50, 100,  88, 190,  39,  98, 192,   9,\n",
       "       198,  22,  32, 188, 171,  82,  63, 242, 154, 208,   4, 146, 157,\n",
       "       112,  11, 107, 197,  55,  70, 223,  33, 169, 158,  95, 195,  79,\n",
       "        58, 186, 286,  56,  87, 215, 189,  99,  48,  91,  68, 152, 214,\n",
       "       121,  53, 226, 210, 241, 118, 204,  59, 253, 237,  83, 166,  94,\n",
       "         7,  62,  18, 207,  37, 202,  51, 134,  76, 251, 162,  60, 235,\n",
       "       128,  96,  23, 142,  17, 217, 140, 231, 143, 141,  80,  24, 246,\n",
       "       139, 209, 161, 150,  86, 148, 127,  75,  45, 200,  81, 239,  31,\n",
       "       123, 138,  36,  34,  10,  16,  19,  21,  41,  43,  90,  93, 103,\n",
       "       105, 109, 111, 122, 250, 124, 135, 136, 137, 153,   1,  26,  57,\n",
       "       114, 159, 168, 177, 178,  38, 182, 184, 191, 199, 205, 206, 220,\n",
       "        20, 228, 243, 125, 172, 181, 160, 187, 297, 185,  27,  69, 236,\n",
       "        46, 264,  14,  97, 245, 167, 284, 212, 224, 126,   3,  15,  64,\n",
       "         8, 151, 221, 257, 287,  66, 176, 163, 133,  54, 213,  25, 179,\n",
       "       175,  85, 106, 120, 252, 145,  30, 132])"
      ]
     },
     "execution_count": 75,
     "metadata": {},
     "output_type": "execute_result"
    }
   ],
   "source": [
    "df_iso[\"patient.id\"].unique()"
   ]
  },
  {
   "cell_type": "code",
   "execution_count": 72,
   "metadata": {},
   "outputs": [
    {
     "data": {
      "text/plain": [
       "Index([  1,   2,   3,   4,   5,   6,   7,   8,   9,  10,\n",
       "       ...\n",
       "       252, 253, 257, 259, 264, 284, 286, 287, 295, 297],\n",
       "      dtype='int64', length=260)"
      ]
     },
     "execution_count": 72,
     "metadata": {},
     "output_type": "execute_result"
    }
   ],
   "source": [
    "df_floor.index"
   ]
  },
  {
   "cell_type": "code",
   "execution_count": 77,
   "metadata": {},
   "outputs": [
    {
     "data": {
      "text/html": [
       "<div>\n",
       "<style scoped>\n",
       "    .dataframe tbody tr th:only-of-type {\n",
       "        vertical-align: middle;\n",
       "    }\n",
       "\n",
       "    .dataframe tbody tr th {\n",
       "        vertical-align: top;\n",
       "    }\n",
       "\n",
       "    .dataframe thead th {\n",
       "        text-align: right;\n",
       "    }\n",
       "</style>\n",
       "<table border=\"1\" class=\"dataframe\">\n",
       "  <thead>\n",
       "    <tr style=\"text-align: right;\">\n",
       "      <th></th>\n",
       "      <th>WGS_ID</th>\n",
       "      <th>WGS_StudyID</th>\n",
       "      <th>Room</th>\n",
       "      <th>Bed</th>\n",
       "      <th>Admit_Date</th>\n",
       "      <th>DischargeDate</th>\n",
       "      <th>LOS</th>\n",
       "      <th>Room_Bed</th>\n",
       "      <th>From_Date</th>\n",
       "      <th>Thru_Date</th>\n",
       "    </tr>\n",
       "  </thead>\n",
       "  <tbody>\n",
       "    <tr>\n",
       "      <th>2</th>\n",
       "      <td>C-1</td>\n",
       "      <td>1</td>\n",
       "      <td>DE/DE.SCU</td>\n",
       "      <td>1</td>\n",
       "      <td>2012-02-22</td>\n",
       "      <td>2012-10-23</td>\n",
       "      <td>244</td>\n",
       "      <td>DE.SC11-1</td>\n",
       "      <td>2012-09-26</td>\n",
       "      <td>2012-10-22</td>\n",
       "    </tr>\n",
       "    <tr>\n",
       "      <th>3</th>\n",
       "      <td>C-1</td>\n",
       "      <td>1</td>\n",
       "      <td>DE/DE.SCU</td>\n",
       "      <td>1</td>\n",
       "      <td>2012-02-22</td>\n",
       "      <td>2012-10-23</td>\n",
       "      <td>244</td>\n",
       "      <td>DE.109-B</td>\n",
       "      <td>2012-07-05</td>\n",
       "      <td>2012-07-07</td>\n",
       "    </tr>\n",
       "    <tr>\n",
       "      <th>4</th>\n",
       "      <td>C-1</td>\n",
       "      <td>1</td>\n",
       "      <td>DE/DE.SCU</td>\n",
       "      <td>1</td>\n",
       "      <td>2012-02-22</td>\n",
       "      <td>2012-10-23</td>\n",
       "      <td>244</td>\n",
       "      <td>DE.117-B</td>\n",
       "      <td>2012-07-08</td>\n",
       "      <td>2012-07-23</td>\n",
       "    </tr>\n",
       "    <tr>\n",
       "      <th>5</th>\n",
       "      <td>C-1</td>\n",
       "      <td>1</td>\n",
       "      <td>DE/DE.SCU</td>\n",
       "      <td>1</td>\n",
       "      <td>2012-02-22</td>\n",
       "      <td>2012-10-23</td>\n",
       "      <td>244</td>\n",
       "      <td>DE.318-A</td>\n",
       "      <td>2012-06-18</td>\n",
       "      <td>2012-06-25</td>\n",
       "    </tr>\n",
       "    <tr>\n",
       "      <th>6</th>\n",
       "      <td>C-1</td>\n",
       "      <td>1</td>\n",
       "      <td>DE/DE.SCU</td>\n",
       "      <td>1</td>\n",
       "      <td>2012-02-22</td>\n",
       "      <td>2012-10-23</td>\n",
       "      <td>244</td>\n",
       "      <td>DE.202-A</td>\n",
       "      <td>2012-09-18</td>\n",
       "      <td>2012-09-25</td>\n",
       "    </tr>\n",
       "    <tr>\n",
       "      <th>7</th>\n",
       "      <td>C-1</td>\n",
       "      <td>1</td>\n",
       "      <td>DE/DE.SCU</td>\n",
       "      <td>1</td>\n",
       "      <td>2012-02-22</td>\n",
       "      <td>2012-10-23</td>\n",
       "      <td>244</td>\n",
       "      <td>DE.111-B</td>\n",
       "      <td>2012-06-26</td>\n",
       "      <td>2012-07-04</td>\n",
       "    </tr>\n",
       "    <tr>\n",
       "      <th>8</th>\n",
       "      <td>C-1</td>\n",
       "      <td>1</td>\n",
       "      <td>DE/DE.SCU</td>\n",
       "      <td>1</td>\n",
       "      <td>2012-02-22</td>\n",
       "      <td>2012-10-23</td>\n",
       "      <td>244</td>\n",
       "      <td>DE.SCU8-008</td>\n",
       "      <td>2012-07-24</td>\n",
       "      <td>2012-09-17</td>\n",
       "    </tr>\n",
       "  </tbody>\n",
       "</table>\n",
       "</div>"
      ],
      "text/plain": [
       "  WGS_ID  WGS_StudyID       Room Bed Admit_Date DischargeDate  LOS  \\\n",
       "2    C-1            1  DE/DE.SCU   1 2012-02-22    2012-10-23  244   \n",
       "3    C-1            1  DE/DE.SCU   1 2012-02-22    2012-10-23  244   \n",
       "4    C-1            1  DE/DE.SCU   1 2012-02-22    2012-10-23  244   \n",
       "5    C-1            1  DE/DE.SCU   1 2012-02-22    2012-10-23  244   \n",
       "6    C-1            1  DE/DE.SCU   1 2012-02-22    2012-10-23  244   \n",
       "7    C-1            1  DE/DE.SCU   1 2012-02-22    2012-10-23  244   \n",
       "8    C-1            1  DE/DE.SCU   1 2012-02-22    2012-10-23  244   \n",
       "\n",
       "      Room_Bed  From_Date  Thru_Date  \n",
       "2    DE.SC11-1 2012-09-26 2012-10-22  \n",
       "3     DE.109-B 2012-07-05 2012-07-07  \n",
       "4     DE.117-B 2012-07-08 2012-07-23  \n",
       "5     DE.318-A 2012-06-18 2012-06-25  \n",
       "6     DE.202-A 2012-09-18 2012-09-25  \n",
       "7     DE.111-B 2012-06-26 2012-07-04  \n",
       "8  DE.SCU8-008 2012-07-24 2012-09-17  "
      ]
     },
     "execution_count": 77,
     "metadata": {},
     "output_type": "execute_result"
    }
   ],
   "source": [
    "df_census[df_census[\"WGS_StudyID\"] == 1]"
   ]
  },
  {
   "cell_type": "code",
   "execution_count": 83,
   "metadata": {},
   "outputs": [
    {
     "data": {
      "text/html": [
       "<div>\n",
       "<style scoped>\n",
       "    .dataframe tbody tr th:only-of-type {\n",
       "        vertical-align: middle;\n",
       "    }\n",
       "\n",
       "    .dataframe tbody tr th {\n",
       "        vertical-align: top;\n",
       "    }\n",
       "\n",
       "    .dataframe thead th {\n",
       "        text-align: right;\n",
       "    }\n",
       "</style>\n",
       "<table border=\"1\" class=\"dataframe\">\n",
       "  <thead>\n",
       "    <tr style=\"text-align: right;\">\n",
       "      <th></th>\n",
       "      <th>WGS_ID</th>\n",
       "      <th>WGS_StudyID</th>\n",
       "      <th>Room</th>\n",
       "      <th>Bed</th>\n",
       "      <th>Admit_Date</th>\n",
       "      <th>DischargeDate</th>\n",
       "      <th>LOS</th>\n",
       "      <th>Room_Bed</th>\n",
       "      <th>From_Date</th>\n",
       "      <th>Thru_Date</th>\n",
       "    </tr>\n",
       "  </thead>\n",
       "  <tbody>\n",
       "    <tr>\n",
       "      <th>42</th>\n",
       "      <td>C-3</td>\n",
       "      <td>3</td>\n",
       "      <td>DE/DE.1EAST</td>\n",
       "      <td>B</td>\n",
       "      <td>2011-11-18</td>\n",
       "      <td>2012-08-18</td>\n",
       "      <td>274</td>\n",
       "      <td>DE.123-B</td>\n",
       "      <td>2012-07-29</td>\n",
       "      <td>2012-08-17</td>\n",
       "    </tr>\n",
       "    <tr>\n",
       "      <th>33</th>\n",
       "      <td>C-3</td>\n",
       "      <td>3</td>\n",
       "      <td>DE/DE.1EAST</td>\n",
       "      <td>B</td>\n",
       "      <td>2011-11-18</td>\n",
       "      <td>2012-08-18</td>\n",
       "      <td>104</td>\n",
       "      <td>DE.235-A</td>\n",
       "      <td>2012-06-01</td>\n",
       "      <td>2012-06-20</td>\n",
       "    </tr>\n",
       "    <tr>\n",
       "      <th>32</th>\n",
       "      <td>C-3</td>\n",
       "      <td>3</td>\n",
       "      <td>DE/DE.1EAST</td>\n",
       "      <td>B</td>\n",
       "      <td>2011-11-18</td>\n",
       "      <td>2012-08-18</td>\n",
       "      <td>104</td>\n",
       "      <td>DE.123-B</td>\n",
       "      <td>2012-07-29</td>\n",
       "      <td>2012-08-17</td>\n",
       "    </tr>\n",
       "    <tr>\n",
       "      <th>31</th>\n",
       "      <td>C-3</td>\n",
       "      <td>3</td>\n",
       "      <td>DE/DE.1EAST</td>\n",
       "      <td>B</td>\n",
       "      <td>2011-11-18</td>\n",
       "      <td>2012-08-18</td>\n",
       "      <td>274</td>\n",
       "      <td>DE.135-A</td>\n",
       "      <td>2012-06-21</td>\n",
       "      <td>2012-06-27</td>\n",
       "    </tr>\n",
       "    <tr>\n",
       "      <th>30</th>\n",
       "      <td>C-3</td>\n",
       "      <td>3</td>\n",
       "      <td>DE/DE.1EAST</td>\n",
       "      <td>B</td>\n",
       "      <td>2011-11-18</td>\n",
       "      <td>2012-08-18</td>\n",
       "      <td>150</td>\n",
       "      <td>DE.235-A</td>\n",
       "      <td>2012-06-01</td>\n",
       "      <td>2012-06-20</td>\n",
       "    </tr>\n",
       "    <tr>\n",
       "      <th>...</th>\n",
       "      <td>...</td>\n",
       "      <td>...</td>\n",
       "      <td>...</td>\n",
       "      <td>...</td>\n",
       "      <td>...</td>\n",
       "      <td>...</td>\n",
       "      <td>...</td>\n",
       "      <td>...</td>\n",
       "      <td>...</td>\n",
       "      <td>...</td>\n",
       "    </tr>\n",
       "    <tr>\n",
       "      <th>209</th>\n",
       "      <td>C-1134</td>\n",
       "      <td>1134</td>\n",
       "      <td>DE/DE.2EAST</td>\n",
       "      <td>A</td>\n",
       "      <td>2013-06-18</td>\n",
       "      <td>2013-07-08</td>\n",
       "      <td>20</td>\n",
       "      <td>DE.230-A</td>\n",
       "      <td>2013-06-18</td>\n",
       "      <td>2013-06-30</td>\n",
       "    </tr>\n",
       "    <tr>\n",
       "      <th>2559</th>\n",
       "      <td>C-1036</td>\n",
       "      <td>1036</td>\n",
       "      <td>DE/DE.1EAST</td>\n",
       "      <td>A</td>\n",
       "      <td>2013-06-19</td>\n",
       "      <td>NaT</td>\n",
       "      <td>47</td>\n",
       "      <td>DE.401-A</td>\n",
       "      <td>2013-06-19</td>\n",
       "      <td>2013-06-30</td>\n",
       "    </tr>\n",
       "    <tr>\n",
       "      <th>1948</th>\n",
       "      <td>C-1108</td>\n",
       "      <td>1108</td>\n",
       "      <td>DE/DE.2EAST</td>\n",
       "      <td>A</td>\n",
       "      <td>2013-06-19</td>\n",
       "      <td>2013-07-18</td>\n",
       "      <td>29</td>\n",
       "      <td>DE.123-B</td>\n",
       "      <td>2013-06-19</td>\n",
       "      <td>2013-06-30</td>\n",
       "    </tr>\n",
       "    <tr>\n",
       "      <th>1856</th>\n",
       "      <td>C-1316</td>\n",
       "      <td>1316</td>\n",
       "      <td>DE/DE.2EAST</td>\n",
       "      <td>A</td>\n",
       "      <td>2013-06-19</td>\n",
       "      <td>2013-06-27</td>\n",
       "      <td>8</td>\n",
       "      <td>DE.429-A</td>\n",
       "      <td>2013-06-19</td>\n",
       "      <td>2013-06-19</td>\n",
       "    </tr>\n",
       "    <tr>\n",
       "      <th>2279</th>\n",
       "      <td>C-157</td>\n",
       "      <td>157</td>\n",
       "      <td>DE/DE.SCU</td>\n",
       "      <td>005</td>\n",
       "      <td>2013-06-19</td>\n",
       "      <td>2013-06-26</td>\n",
       "      <td>7</td>\n",
       "      <td>DE.135-B</td>\n",
       "      <td>2013-06-19</td>\n",
       "      <td>2013-06-25</td>\n",
       "    </tr>\n",
       "  </tbody>\n",
       "</table>\n",
       "<p>3444 rows × 10 columns</p>\n",
       "</div>"
      ],
      "text/plain": [
       "      WGS_ID  WGS_StudyID         Room  Bed Admit_Date DischargeDate  LOS  \\\n",
       "42       C-3            3  DE/DE.1EAST    B 2011-11-18    2012-08-18  274   \n",
       "33       C-3            3  DE/DE.1EAST    B 2011-11-18    2012-08-18  104   \n",
       "32       C-3            3  DE/DE.1EAST    B 2011-11-18    2012-08-18  104   \n",
       "31       C-3            3  DE/DE.1EAST    B 2011-11-18    2012-08-18  274   \n",
       "30       C-3            3  DE/DE.1EAST    B 2011-11-18    2012-08-18  150   \n",
       "...      ...          ...          ...  ...        ...           ...  ...   \n",
       "209   C-1134         1134  DE/DE.2EAST    A 2013-06-18    2013-07-08   20   \n",
       "2559  C-1036         1036  DE/DE.1EAST    A 2013-06-19           NaT   47   \n",
       "1948  C-1108         1108  DE/DE.2EAST    A 2013-06-19    2013-07-18   29   \n",
       "1856  C-1316         1316  DE/DE.2EAST    A 2013-06-19    2013-06-27    8   \n",
       "2279   C-157          157    DE/DE.SCU  005 2013-06-19    2013-06-26    7   \n",
       "\n",
       "      Room_Bed  From_Date  Thru_Date  \n",
       "42    DE.123-B 2012-07-29 2012-08-17  \n",
       "33    DE.235-A 2012-06-01 2012-06-20  \n",
       "32    DE.123-B 2012-07-29 2012-08-17  \n",
       "31    DE.135-A 2012-06-21 2012-06-27  \n",
       "30    DE.235-A 2012-06-01 2012-06-20  \n",
       "...        ...        ...        ...  \n",
       "209   DE.230-A 2013-06-18 2013-06-30  \n",
       "2559  DE.401-A 2013-06-19 2013-06-30  \n",
       "1948  DE.123-B 2013-06-19 2013-06-30  \n",
       "1856  DE.429-A 2013-06-19 2013-06-19  \n",
       "2279  DE.135-B 2013-06-19 2013-06-25  \n",
       "\n",
       "[3444 rows x 10 columns]"
      ]
     },
     "execution_count": 83,
     "metadata": {},
     "output_type": "execute_result"
    }
   ],
   "source": [
    "df_census.sort_values(\"Admit_Date\")"
   ]
  },
  {
   "cell_type": "code",
   "execution_count": 82,
   "metadata": {},
   "outputs": [
    {
     "data": {
      "text/plain": [
       "array([3, 3, 3, 3, 3, 3, 3, 3, 1, 1, 1, 1, 1, 1, 1, 1, 1, 1, 1, 1, 1, 1,\n",
       "       1, 1, 1, 1, 1, 1, 1, 1, 1, 1, 1, 1, 1, 1, 6, 6, 6, 6, 6, 6, 6, 6,\n",
       "       6, 6, 6, 6, 6, 6, 6, 6, 6, 6, 6, 6, 6, 6, 6, 6, 6, 6, 6, 6, 6, 6,\n",
       "       6, 6, 6, 6, 6, 6, 6, 6, 6, 6, 6, 6, 6, 6, 6, 6, 6, 6, 6, 6, 6, 6,\n",
       "       6, 6, 6, 6, 2, 2, 2, 2, 2, 2, 2, 2, 6, 6, 6, 6, 6, 6, 6, 6, 6, 6,\n",
       "       6, 6, 6, 6, 6, 6, 6, 6, 6, 6, 6, 6, 6, 6, 6, 6, 6, 0, 0, 0, 0, 0,\n",
       "       0, 0, 0, 0, 0, 0, 0, 0, 0, 0, 0, 0, 0, 0, 0, 0, 0, 0, 0, 0, 0, 0,\n",
       "       0, 0, 0, 0, 0, 0, 0, 0, 0, 0, 0, 0, 0, 0, 0, 0, 0, 0, 0, 0, 0, 0,\n",
       "       0, 0, 0, 0, 0, 0, 0, 0, 0, 0, 0, 0, 0, 0, 0, 0, 0, 0, 0, 0, 0, 0,\n",
       "       0, 0, 0, 0, 0, 0, 0, 0, 0, 0, 0, 0, 0, 0, 0, 0, 0, 0, 0, 0, 0, 0,\n",
       "       0, 0, 0, 0, 0, 0, 0, 0, 0, 0, 0, 0, 0, 0, 0, 0, 0, 0, 0, 0, 0, 0,\n",
       "       0, 0, 0, 0, 0, 0, 0, 0, 0, 0, 0, 0, 0, 0, 0, 0, 0, 0, 0, 0, 0, 0,\n",
       "       0, 0, 0, 0, 0, 0, 0, 0, 0, 0, 0, 0, 0, 0, 0, 0, 0, 0, 0, 0, 0, 0,\n",
       "       0, 0, 0, 0, 0, 0, 0, 0, 0, 0, 0, 0, 0, 0, 0, 0, 0, 0, 0, 0, 0, 0,\n",
       "       0, 0, 0, 0, 0, 0, 0, 0, 0, 0, 0, 0, 0, 0, 0, 0, 0, 0, 0, 0, 0, 0,\n",
       "       0, 0, 0, 0, 0, 0, 0, 0, 0, 0, 0, 0, 0, 0, 0, 0, 0, 0, 0, 0, 0, 0,\n",
       "       0, 0, 0, 0, 0, 0, 0, 0, 0, 0, 0, 0, 0, 0, 0])"
      ]
     },
     "execution_count": 82,
     "metadata": {},
     "output_type": "execute_result"
    }
   ],
   "source": [
    "df_floor.loc[1].values"
   ]
  },
  {
   "cell_type": "code",
   "execution_count": null,
   "metadata": {},
   "outputs": [],
   "source": []
  }
 ],
 "metadata": {
  "kernelspec": {
   "display_name": "Python 3 (ipykernel)",
   "language": "python",
   "name": "python3"
  },
  "language_info": {
   "codemirror_mode": {
    "name": "ipython",
    "version": 3
   },
   "file_extension": ".py",
   "mimetype": "text/x-python",
   "name": "python",
   "nbconvert_exporter": "python",
   "pygments_lexer": "ipython3",
   "version": "3.11.7"
  }
 },
 "nbformat": 4,
 "nbformat_minor": 4
}
