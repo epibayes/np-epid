{
 "cells": [
  {
   "cell_type": "code",
   "execution_count": 3,
   "metadata": {},
   "outputs": [],
   "source": [
    "import pandas as pd\n",
    "import numpy as np\n",
    "import pdb"
   ]
  },
  {
   "cell_type": "code",
   "execution_count": 4,
   "metadata": {},
   "outputs": [],
   "source": [
    "fac_trace = pd.read_csv('/Volumes/umms-esnitkin/Project_KPC_LTACH/Analysis/LTACH_transmission_modeling/data/2019-12-18_facility_trace.csv', index_col=0)\n",
    "fac_trace.columns = np.arange(367)\n",
    "floor_trace = pd.read_csv('/Volumes/umms-esnitkin/Project_KPC_LTACH/Analysis/LTACH_transmission_modeling/data/2019-12-18_floor_trace.csv', index_col=0)\n",
    "floor_trace.columns = np.arange(367)\n",
    "room_trace = pd.read_csv('/Volumes/umms-esnitkin/Project_KPC_LTACH/Analysis/LTACH_transmission_modeling/data/2019-12-18_room_trace.csv', index_col=0)\n",
    "room_trace.columns = np.arange(367)"
   ]
  },
  {
   "cell_type": "code",
   "execution_count": 5,
   "metadata": {},
   "outputs": [],
   "source": [
    "intake_data = pd.read_csv(\"/Volumes/umms-esnitkin/Project_KPC_LTACH/Analysis/network/intake_data.csv\", index_col=0)\n",
    "# tests for invase infections, may not necessarily be positive\n",
    "tests = pd.read_csv(\"/Volumes/umms-esnitkin/Project_KPC_LTACH/Analysis/network/infections.csv\", index_col=0)"
   ]
  },
  {
   "cell_type": "code",
   "execution_count": 6,
   "metadata": {},
   "outputs": [],
   "source": [
    "# handle multiple tests same-day per patient\n",
    "# unresolved issue: what if someone gets a negative test after a positive test?\n",
    "tests = tests.reset_index().sort_values([\"index\", \"test_time\", \"Carbapenem_R\"])\\\n",
    "    .drop_duplicates([\"index\", \"test_time\"], keep=\"last\").set_index(\"index\")"
   ]
  },
  {
   "cell_type": "code",
   "execution_count": 7,
   "metadata": {},
   "outputs": [],
   "source": [
    "# generate dataframe of known statuses\n",
    "n = fac_trace.shape[0]\n",
    "T = fac_trace.shape[1]\n",
    "# this might be more like...known events?\n",
    "known_status = pd.DataFrame(index=intake_data.index, columns=range(T))\n",
    "for t in range(T):\n",
    "    # statuses upon intake\n",
    "    for pid, result in intake_data[intake_data[\"date\"] == t][\"crkp\"].items():\n",
    "        known_status.loc[pid, t] = result\n",
    "    # statuses upon test for infection\n",
    "    for pid, result in tests[tests[\"test_time\"] == t][\"Carbapenem_R\"].items():\n",
    "        known_status.loc[pid, t] = result\n",
    "    # what about people who are already in facility?\n",
    "    # does not account for this ... \n",
    "    # can handle this downstream"
   ]
  },
  {
   "cell_type": "code",
   "execution_count": 8,
   "metadata": {},
   "outputs": [
    {
     "data": {
      "text/plain": [
       "0.03132326126595467"
      ]
     },
     "execution_count": 8,
     "metadata": {},
     "output_type": "execute_result"
    }
   ],
   "source": [
    "patient_weeks = fac_trace[fac_trace > 0].notna().sum().sum()\n",
    "n_known_statuses = known_status.notna().sum().sum()\n",
    "n_known_statuses / patient_weeks"
   ]
  },
  {
   "cell_type": "code",
   "execution_count": 9,
   "metadata": {},
   "outputs": [],
   "source": [
    "# output\n",
    "# how to grow this out..column by column?\n",
    "transmission_status = pd.DataFrame(index=known_status.index, columns=range(T))\n",
    "# do i want to fully account for the first week?\n",
    "transmission_status[0] = known_status[0]"
   ]
  },
  {
   "cell_type": "code",
   "execution_count": 10,
   "metadata": {},
   "outputs": [],
   "source": [
    "# dummy\n",
    "\n",
    "status = transmission_status[0]\n",
    "facility = fac_trace[0]\n",
    "floor = floor_trace[0]\n",
    "room = room_trace[0]\n",
    "admitted = set(facility[facility!= 0].index)\n",
    "susceptible = set(status[status==0].index) & admitted\n",
    "infected = set(status[status==1].index) & admitted"
   ]
  },
  {
   "cell_type": "code",
   "execution_count": 11,
   "metadata": {},
   "outputs": [],
   "source": [
    "# prior simulation\n",
    "# beta is 8 dimensional: baseline rate, six floors, room rate\n",
    "beta = np.exp(np.random.normal(scale=3, size=8))"
   ]
  },
  {
   "cell_type": "code",
   "execution_count": 30,
   "metadata": {},
   "outputs": [],
   "source": [
    "class CRKPTransmissionSimulator:\n",
    "    def __init__(self, facility_trace, floor_trace, room_trace, known_status, beta):\n",
    "        self.fac_tr = facility_trace\n",
    "        self.floor_tr = floor_trace\n",
    "        self.room_tr = room_trace\n",
    "        self.known = known_status\n",
    "        self.beta = beta\n",
    "        self.T = self.fac_tr.shape[1]\n",
    "\n",
    "    def simulate_data(self, N):\n",
    "        simulations = []\n",
    "        for _ in range(N):\n",
    "            # can try to calculate summary statistics, here\n",
    "            simulations.append(self.simulate())\n",
    "\n",
    "    def _simulate(self):\n",
    "        transmission_status = pd.DataFrame(index=known_status.index, columns=range(T))\n",
    "        # TODO: do i want to hard code week 0?\n",
    "        transmission_status[0] = known_status[0]\n",
    "        y = 1/0\n",
    "        for t in range(1, T):\n",
    "            status = transmission_status[t-1]\n",
    "            facility = self.fac_tr[t-1]\n",
    "            admitted = set(facility[facility!= 0])\n",
    "            floor = self.floor_tr[t-1]\n",
    "            room = self.room_tr[t-1]\n",
    "            # requirement: you were susceptible in the previous timestep \n",
    "            # and are not discharged this week\n",
    "            susceptible = set(status[status==0].index) & admitted\n",
    "            for j in susceptible:\n",
    "                hazard_j = 0\n",
    "                # should not be facility..\n",
    "                hazard_j += status[status == 1].count() * self.beta[0]\n",
    "                floor_num = floor.loc[j]\n",
    "                hazard_j += status[(status == 1) & (floor == floor_num)].count() \\\n",
    "                      * self.beta[floor_num]\n",
    "                room_num = room.loc[j]\n",
    "                hazard_j += status[(status == 1) & (room == room_num)].count() \\\n",
    "                    * self.beta[-1]\n",
    "\n",
    "                p_j = 1 - np.exp(hazard_j)\n",
    "\n",
    "                Y_j = np.random.binomial(1, p_j)\n",
    "                transmission_status.loc[j, t] = Y_j\n",
    "\n",
    "\n",
    "            # overwrite with known statuses\n",
    "            #\n",
    "            \n",
    "\n",
    "                # TODO: overwrite this with...known statuses?"
   ]
  },
  {
   "cell_type": "code",
   "execution_count": 28,
   "metadata": {},
   "outputs": [],
   "source": [
    "simulator = CRKPTransmissionSimulator(\n",
    "    fac_trace, floor_trace, room_trace,\n",
    "    known_status, beta\n",
    ")"
   ]
  },
  {
   "cell_type": "code",
   "execution_count": 34,
   "metadata": {},
   "outputs": [
    {
     "ename": "ZeroDivisionError",
     "evalue": "division by zero",
     "output_type": "error",
     "traceback": [
      "\u001b[0;31m---------------------------------------------------------------------------\u001b[0m",
      "\u001b[0;31mZeroDivisionError\u001b[0m                         Traceback (most recent call last)",
      "\u001b[1;32m/Users/pchatha/epi/crkp_analysis/notebooks/transmission_network.ipynb Cell 12\u001b[0m line \u001b[0;36m3\n\u001b[1;32m      <a href='vscode-notebook-cell:/Users/pchatha/epi/crkp_analysis/notebooks/transmission_network.ipynb#Y100sZmlsZQ%3D%3D?line=0'>1</a>\u001b[0m \u001b[39mhex\u001b[39m \u001b[39m=\u001b[39m \u001b[39m\"\u001b[39m\u001b[39mbooyeah\u001b[39m\u001b[39m\"\u001b[39m\n\u001b[0;32m----> <a href='vscode-notebook-cell:/Users/pchatha/epi/crkp_analysis/notebooks/transmission_network.ipynb#Y100sZmlsZQ%3D%3D?line=2'>3</a>\u001b[0m \u001b[39m1\u001b[39;49m\u001b[39m/\u001b[39;49m\u001b[39m0\u001b[39;49m\n",
      "\u001b[0;31mZeroDivisionError\u001b[0m: division by zero"
     ]
    }
   ],
   "source": [
    "hex = \"booyeah\"\n",
    "\n",
    "1/0"
   ]
  },
  {
   "cell_type": "code",
   "execution_count": 31,
   "metadata": {},
   "outputs": [
    {
     "ename": "ZeroDivisionError",
     "evalue": "division by zero",
     "output_type": "error",
     "traceback": [
      "\u001b[0;31m---------------------------------------------------------------------------\u001b[0m",
      "\u001b[0;31mZeroDivisionError\u001b[0m                         Traceback (most recent call last)",
      "\u001b[1;32m/Users/pchatha/epi/crkp_analysis/notebooks/transmission_network.ipynb Cell 12\u001b[0m line \u001b[0;36m1\n\u001b[0;32m----> <a href='vscode-notebook-cell:/Users/pchatha/epi/crkp_analysis/notebooks/transmission_network.ipynb#X64sZmlsZQ%3D%3D?line=0'>1</a>\u001b[0m simulator\u001b[39m.\u001b[39;49m_simulate()\n",
      "\u001b[1;32m/Users/pchatha/epi/crkp_analysis/notebooks/transmission_network.ipynb Cell 12\u001b[0m line \u001b[0;36m2\n\u001b[1;32m     <a href='vscode-notebook-cell:/Users/pchatha/epi/crkp_analysis/notebooks/transmission_network.ipynb#X64sZmlsZQ%3D%3D?line=17'>18</a>\u001b[0m \u001b[39m# TODO: do i want to hard code week 0?\u001b[39;00m\n\u001b[1;32m     <a href='vscode-notebook-cell:/Users/pchatha/epi/crkp_analysis/notebooks/transmission_network.ipynb#X64sZmlsZQ%3D%3D?line=18'>19</a>\u001b[0m transmission_status[\u001b[39m0\u001b[39m] \u001b[39m=\u001b[39m known_status[\u001b[39m0\u001b[39m]\n\u001b[0;32m---> <a href='vscode-notebook-cell:/Users/pchatha/epi/crkp_analysis/notebooks/transmission_network.ipynb#X64sZmlsZQ%3D%3D?line=19'>20</a>\u001b[0m y \u001b[39m=\u001b[39m \u001b[39m1\u001b[39;49m\u001b[39m/\u001b[39;49m\u001b[39m0\u001b[39;49m\n\u001b[1;32m     <a href='vscode-notebook-cell:/Users/pchatha/epi/crkp_analysis/notebooks/transmission_network.ipynb#X64sZmlsZQ%3D%3D?line=20'>21</a>\u001b[0m \u001b[39mfor\u001b[39;00m t \u001b[39min\u001b[39;00m \u001b[39mrange\u001b[39m(\u001b[39m1\u001b[39m, T):\n\u001b[1;32m     <a href='vscode-notebook-cell:/Users/pchatha/epi/crkp_analysis/notebooks/transmission_network.ipynb#X64sZmlsZQ%3D%3D?line=21'>22</a>\u001b[0m     status \u001b[39m=\u001b[39m transmission_status[t\u001b[39m-\u001b[39m\u001b[39m1\u001b[39m]\n",
      "\u001b[0;31mZeroDivisionError\u001b[0m: division by zero"
     ]
    }
   ],
   "source": [
    "simulator._simulate()"
   ]
  },
  {
   "cell_type": "markdown",
   "metadata": {},
   "source": []
  },
  {
   "cell_type": "code",
   "execution_count": null,
   "metadata": {},
   "outputs": [],
   "source": []
  }
 ],
 "metadata": {
  "kernelspec": {
   "display_name": ".venv",
   "language": "python",
   "name": "python3"
  },
  "language_info": {
   "codemirror_mode": {
    "name": "ipython",
    "version": 3
   },
   "file_extension": ".py",
   "mimetype": "text/x-python",
   "name": "python",
   "nbconvert_exporter": "python",
   "pygments_lexer": "ipython3",
   "version": "3.11.4"
  }
 },
 "nbformat": 4,
 "nbformat_minor": 2
}
