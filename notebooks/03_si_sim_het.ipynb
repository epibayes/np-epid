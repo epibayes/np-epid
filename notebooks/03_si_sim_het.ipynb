{
 "cells": [
  {
   "cell_type": "code",
   "execution_count": null,
   "metadata": {},
   "outputs": [],
   "source": [
    "import pandas as pd\n",
    "import numpy as np\n",
    "import matplotlib.pyplot as plt\n",
    "import matplotlib\n",
    "import sys\n",
    "sys.path.append(\"..\")\n",
    "from src.dataset import SIModel\n",
    "from src.approx_bc import abc_rejection_sampler\n",
    "import seaborn as sns\n",
    "from scipy.stats import norm, lognorm, multivariate_normal\n",
    "from src.utils import lognormal_sd, get_results"
   ]
  },
  {
   "cell_type": "code",
   "execution_count": null,
   "metadata": {},
   "outputs": [],
   "source": [
    "sns.set_theme()\n",
    "sns.set_style(\"white\")\n",
    "sns.set_palette(\"deep\")\n",
    "run_abc = True\n",
    "\n",
    "beta_true = [1e-8, .01, .5, .01, .01, .01, 1e-8] # [0.05, .02, .04, .06, .08, .1, .05]\n",
    "alpha = 0.1\n",
    "gamma = 0.05\n",
    "heterogeneous = True\n",
    "N = 300 # consider increasing\n",
    "T = 52\n",
    "K = 30\n",
    "data_seed = 31\n",
    "prior_mu = -3\n",
    "prior_sigma = 1"
   ]
  },
  {
   "cell_type": "code",
   "execution_count": null,
   "metadata": {},
   "outputs": [],
   "source": [
    "si_model = SIModel(alpha, gamma, beta_true, \n",
    "                    heterogeneous, prior_mu, prior_sigma,\n",
    "                   N, T, summarize=False, flatten=False,\n",
    "                  observed_seed=data_seed)\n",
    "x_o = si_model.get_observed_data()\n",
    "plt.plot(x_o[0], label=\"infected\")\n",
    "plt.plot(1 - x_o[0], label=\"susceptible\")"
   ]
  },
  {
   "cell_type": "code",
   "execution_count": null,
   "metadata": {},
   "outputs": [],
   "source": [
    "data = x_o[:6,:]\n",
    "\n",
    "data = pd.DataFrame(data = data.T, columns=[\"Facility\"] + [f\"Floor {i}\" for i in range(1,6)])\n",
    "\n",
    "sns.lineplot(data)\n",
    "plt.ylim((0,1))\n",
    "plt.xlabel(\"Time Steps\")\n",
    "plt.ylabel(\"Proportion Infected\")\n",
    "# plt.savefig(\"images/hetero_infection_viz.png\")\n",
    "plt.show()"
   ]
  },
  {
   "cell_type": "markdown",
   "metadata": {},
   "source": [
    "# Likelihood-based"
   ]
  },
  {
   "cell_type": "code",
   "execution_count": null,
   "metadata": {},
   "outputs": [],
   "source": [
    "exact_sample = np.load(\"posterior_sample.npy\")"
   ]
  },
  {
   "cell_type": "code",
   "execution_count": null,
   "metadata": {},
   "outputs": [],
   "source": [
    "exact_rates = np.exp(exact_sample).mean(0)\n",
    "exact_means = exact_sample.mean(0)\n",
    "exact_sds = exact_sample.std(0)"
   ]
  },
  {
   "cell_type": "code",
   "execution_count": null,
   "metadata": {},
   "outputs": [],
   "source": [
    "exact_rates"
   ]
  },
  {
   "cell_type": "code",
   "execution_count": null,
   "metadata": {},
   "outputs": [],
   "source": [
    "np.exp(exact_sample).std(0)"
   ]
  },
  {
   "cell_type": "code",
   "execution_count": null,
   "metadata": {},
   "outputs": [],
   "source": [
    "# ax = sns.pairplot(pd.DataFrame(np.exp(exact_sample), columns = [rf\"$\\beta_{k}$\" for k in range(7)]))\n",
    "# plt.savefig(\"images/pairsplot.png\")"
   ]
  },
  {
   "cell_type": "markdown",
   "metadata": {},
   "source": [
    "# NPE"
   ]
  },
  {
   "cell_type": "code",
   "execution_count": null,
   "metadata": {},
   "outputs": [],
   "source": [
    "df_npe = pd.read_csv(\"df_het.csv\")\n",
    "df_npe[\"mu\"] = df_npe[\"mu\"].apply(eval)\n",
    "df_npe[\"sigma\"] = df_npe[\"sigma\"].apply(eval)"
   ]
  },
  {
   "cell_type": "code",
   "execution_count": null,
   "metadata": {},
   "outputs": [],
   "source": [
    "sigma = np.array(df_npe.iloc[-1][\"sigma\"])"
   ]
  },
  {
   "cell_type": "code",
   "execution_count": null,
   "metadata": {},
   "outputs": [],
   "source": [
    "df_npe_full = df_npe[df_npe[\"mean_field\"] == False]\n",
    "npe_means = np.array([r for r in df_npe_full[\"mu\"]])\n",
    "npe_sds = np.array([[r[i][i]**.5 for i in range(7)] for r in df_npe_full[\"sigma\"]])"
   ]
  },
  {
   "cell_type": "code",
   "execution_count": null,
   "metadata": {},
   "outputs": [],
   "source": [
    "df_mf = df_npe[df_npe[\"mean_field\"] == True]\n",
    "mf_means = np.array([r for r in df_mf[\"mu\"]])\n",
    "mf_sds = np.array([[r[i][i]**.5 for i in range(7)] for r in df_mf[\"sigma\"]])"
   ]
  },
  {
   "cell_type": "code",
   "execution_count": null,
   "metadata": {},
   "outputs": [],
   "source": [
    "df_ln = get_results(\"../multirun/2024-11-14/14-50-37\").\\\n",
    "    sort_values([\"n_sample\", \"val_loss\"]).drop_duplicates(\"n_sample\")\n",
    "ln_means = np.array([r[0] for r in df_ln[\"mu\"]])\n",
    "ln_sds = np.array([[r[i][i]**.5 for i in range(7)] for r in df_ln[\"sigma\"]])\n",
    "ln_rates = np.exp(ln_means + ln_sds**2/2)"
   ]
  },
  {
   "cell_type": "code",
   "execution_count": null,
   "metadata": {},
   "outputs": [],
   "source": [
    "df_ln"
   ]
  },
  {
   "cell_type": "markdown",
   "metadata": {},
   "source": [
    "## Posterior Predictive Checks"
   ]
  },
  {
   "cell_type": "code",
   "execution_count": null,
   "metadata": {},
   "outputs": [],
   "source": [
    "mu = df_npe[\"mu\"].iloc[-1]\n",
    "sigma = df_npe[\"sigma\"].iloc[-1]\n",
    "neural_posterior = multivariate_normal(mu, sigma)\n",
    "K = 30\n",
    "npe_sample = np.empty((0,7))\n",
    "seed = 2\n",
    "while npe_sample.shape[0] < K:\n",
    "    draw = neural_posterior.rvs(size=K, random_state=seed)\n",
    "    seed += 1\n",
    "    accepted = draw[(draw > 0).all(axis=1)]\n",
    "    npe_sample = np.concatenate((npe_sample, accepted), axis=0)\n",
    "npe_sample = npe_sample[:K]"
   ]
  },
  {
   "cell_type": "code",
   "execution_count": null,
   "metadata": {},
   "outputs": [],
   "source": [
    "posterior_predictive = np.empty((K, 7, T))\n",
    "j = 0\n",
    "si_model = SIModel(alpha, gamma, beta_true, \n",
    "                   heterogeneous, prior_mu, prior_sigma, \n",
    "                   N, T, summarize=False, observed_seed=31,\n",
    "                   flatten=False)\n",
    "x_o = si_model.get_observed_data()\n",
    "\n",
    "for i in range(K):\n",
    "    si_model = SIModel(alpha, gamma, np.clip(npe_sample[i], 1e-8, None), \n",
    "                   heterogeneous, prior_mu, prior_sigma,\n",
    "                   N, T, summarize=False, flatten=False)\n",
    "    x_rep = si_model.get_observed_data(i)\n",
    "    posterior_predictive[i] =  np.array(x_rep)\n",
    "pp_mean = posterior_predictive.mean(0)[j]\n",
    "\n",
    "labels = [\"Post. Pred. Draw\"] + [None for _ in range(K-1)]\n",
    "I_o = np.array(x_o)[j]\n",
    "plt.plot(I_o, label=\"Observed\", color=\"k\")\n",
    "plt.plot(posterior_predictive[:,j,:].T, \n",
    "         label=labels, color=\"b\",\n",
    "         alpha=0.2)\n",
    "plt.plot(pp_mean, label=\"Post. Pred. Mean\", linestyle=\"--\",\n",
    "         color=\"orange\")\n",
    "plt.legend()\n",
    "plt.ylabel(\"Proportion Infected\")\n",
    "plt.xlabel(\"Time Steps\")\n",
    "plt.savefig(\"images/ppc_het.png\")\n",
    "plt.ylim(0, 1)\n",
    "plt.show()"
   ]
  },
  {
   "cell_type": "markdown",
   "metadata": {},
   "source": [
    "#### stupid ppc"
   ]
  },
  {
   "cell_type": "code",
   "execution_count": null,
   "metadata": {},
   "outputs": [],
   "source": [
    "mu2 = df_ln.iloc[-1][\"mu\"][0]\n",
    "sigma2 = df_ln.iloc[-1][\"sigma\"]\n",
    "neural_posterior2 = multivariate_normal(mu2, sigma2)\n",
    "npe_sample2 = np.exp(neural_posterior2.rvs(size=K, random_state=seed))\n",
    "posterior_predictive = np.empty((K, 7, T))\n",
    "j = 0\n",
    "si_model = SIModel(alpha, gamma, beta_true, \n",
    "                   heterogeneous, prior_mu, prior_sigma, \n",
    "                   N, T, summarize=False, observed_seed=31,\n",
    "                   flatten=False)\n",
    "x_o = si_model.get_observed_data()\n",
    "\n",
    "for i in range(K):\n",
    "    si_model = SIModel(alpha, gamma, np.clip(npe_sample2[i], 1e-8, None), \n",
    "                   heterogeneous, prior_mu, prior_sigma,\n",
    "                   N, T, summarize=False, flatten=False)\n",
    "    x_rep = si_model.get_observed_data(i)\n",
    "    posterior_predictive[i] =  np.array(x_rep)\n",
    "pp_mean = posterior_predictive.mean(0)[j]\n",
    "\n",
    "labels = [\"Post. Pred. Draw\"] + [None for _ in range(K-1)]\n",
    "I_o = np.array(x_o)[j]\n",
    "plt.plot(I_o, label=\"Observed\", color=\"k\")\n",
    "plt.plot(posterior_predictive[:,j,:].T, \n",
    "         label=labels, color=\"b\",\n",
    "         alpha=0.2)\n",
    "plt.plot(pp_mean, label=\"Post. Pred. Mean\", linestyle=\"--\",\n",
    "         color=\"orange\")\n",
    "plt.legend()\n",
    "plt.ylabel(\"Proportion Infected\")\n",
    "plt.xlabel(\"Time Steps\")\n",
    "# plt.savefig(\"images/ppc_het.png\")\n",
    "plt.ylim(0, 1)\n",
    "plt.show()"
   ]
  },
  {
   "cell_type": "code",
   "execution_count": null,
   "metadata": {},
   "outputs": [],
   "source": [
    "D = np.diag(1 / np.sqrt(np.diag(sigma2)))\n",
    "corr = D @ sigma2 @ D\n",
    "plt.matshow(corr, cmap=\"rocket\")\n",
    "plt.colorbar()\n",
    "plt.xlabel(r\"$\\beta_j$\")\n",
    "plt.ylabel(r\"$\\beta_j$\")\n",
    "# plt.savefig(\"images/corr.png\")\n",
    "plt.show()"
   ]
  },
  {
   "cell_type": "code",
   "execution_count": null,
   "metadata": {},
   "outputs": [],
   "source": [
    "pis = [\n",
    "    [.1, 1, 1, 1, 1, 1, 1],\n",
    "    [.75, .75, .75, .75, .75, .75, .75],\n",
    "    [1, 1, 1, 1, 1, 1, 1e-8]\n",
    "]\n",
    "intervention = np.empty((K, len(pis), T))\n",
    "# fix this: truncate...\n",
    "for j, pi in enumerate(pis):\n",
    "    for i in range(K):\n",
    "        si_model = SIModel(alpha, gamma, npe_sample[i], \n",
    "                    heterogeneous, prior_mu, prior_sigma,\n",
    "                    N, T, summarize=False, flatten=False,\n",
    "                    pi=pi)\n",
    "        x_rep = si_model.get_observed_data(i)\n",
    "        intervention[i,j] =  np.array(x_rep)[0]\n",
    "intervention = intervention.mean(0)\n",
    "\n",
    "plt.plot(I_o, label=\"Observed\", color=\"k\", linestyle=\":\")\n",
    "plt.plot(pp_mean, label=\"No Intervention\", linestyle=\"--\")\n",
    "plt.plot(intervention[0], label=\"Floor Isolation\", linestyle=\"--\")\n",
    "plt.plot(intervention[1], label=\"25% Reduction\", linestyle=\"--\")\n",
    "plt.plot(intervention[2], label=\"Room Isolation\", linestyle=\"--\")\n",
    "# plt.plot(intervention[3], label=\"?\", linestyle=\":\")\n",
    "plt.legend()\n",
    "plt.ylim(0, 1)\n",
    "plt.xlabel(\"Time Steps\")\n",
    "plt.ylabel(\"Proportion Infected\")\n",
    "plt.savefig(\"images/intervention.png\")\n"
   ]
  },
  {
   "cell_type": "markdown",
   "metadata": {},
   "source": [
    "## ABC"
   ]
  },
  {
   "cell_type": "code",
   "execution_count": null,
   "metadata": {},
   "outputs": [],
   "source": [
    "summarize = False\n",
    "if run_abc:\n",
    "    n_simulations = []\n",
    "    abc_samples = []\n",
    "    epsilons = [2.8, 2.5, 2.3, 2.1, 1.9, 1.8, 1.75]\n",
    "    for epsilon in epsilons:\n",
    "        si_model = SIModel(alpha, gamma, beta_true, \n",
    "                        heterogeneous, prior_mu, prior_sigma, \n",
    "                       N, T, summarize, observed_seed=31, flatten=False)\n",
    "        prior_sampler = lambda: si_model.sample_logbeta(1)\n",
    "        simulator = lambda theta, seed: si_model.SI_simulator(theta, seed)\n",
    "        x_o = si_model.get_observed_data()\n",
    "        S = 100\n",
    "        print(f\"epsilon: {epsilon}\")\n",
    "        posterior_sample, errors = abc_rejection_sampler(\n",
    "            S, epsilon, prior_sampler, simulator, x_o, max_attempts=40000,\n",
    "            summarize=False\n",
    "            )\n",
    "        print(\"***\")\n",
    "        n_simulations.append((errors > 0).sum())\n",
    "        abc_samples.append(posterior_sample)   "
   ]
  },
  {
   "cell_type": "code",
   "execution_count": null,
   "metadata": {},
   "outputs": [],
   "source": [
    "abc_posterior = np.array(abc_samples)\n",
    "np.save(\"abc_results\", abc_posterior)"
   ]
  },
  {
   "cell_type": "markdown",
   "metadata": {},
   "source": [
    "# Approximation Error"
   ]
  },
  {
   "cell_type": "code",
   "execution_count": null,
   "metadata": {},
   "outputs": [],
   "source": [
    "original_pal = sns.color_palette('deep')\n",
    "new_pal = original_pal[:2] + original_pal[3:]\n",
    "sns.set_palette(new_pal)"
   ]
  },
  {
   "cell_type": "markdown",
   "metadata": {},
   "source": [
    "### Total Square Error"
   ]
  },
  {
   "cell_type": "code",
   "execution_count": null,
   "metadata": {},
   "outputs": [],
   "source": [
    "npe_sims = list(df_npe_full[\"n_sample\"].values)\n",
    "\n",
    "data = {\"Method\": [\"NPE\"]*5 + [\"ABC\"]*7 + [\"NPE-MF\"]*5 + [\"NPE-LN\"]*5,\n",
    "        \"Simulations\": npe_sims + n_simulations + npe_sims + npe_sims,\n",
    "        \"Error\": np.concatenate(\n",
    "            [((npe_means - exact_rates)**2).sum(1),\n",
    "             ((np.exp(abc_posterior).mean(1) - exact_rates)**2).sum(1),\n",
    "             ((mf_means - exact_rates)**2).sum(1),\n",
    "             ((ln_rates - exact_rates)**2).sum(1),\n",
    "            ]\n",
    "        )\n",
    "}\n",
    "mean_mse = pd.DataFrame(data)"
   ]
  },
  {
   "cell_type": "code",
   "execution_count": null,
   "metadata": {},
   "outputs": [],
   "source": [
    "ax = sns.lineplot(mean_mse, x=\"Simulations\", y=\"Error\", hue=\"Method\", marker=\"o\")\n",
    "plt.xscale(\"log\")\n",
    "plt.xlabel(\"Simulations\")\n",
    "plt.ylabel(\"Total Square Error\")\n",
    "plt.legend(title=None)\n",
    "plt.ylim(0, None)\n",
    "ax.set_xticks([500, 1000, 2000, 4000])\n",
    "ax.get_xaxis().set_major_formatter(matplotlib.ticker.ScalarFormatter())\n",
    "# plt.savefig(\"images/het-error-ln.png\")\n",
    "plt.show()"
   ]
  },
  {
   "cell_type": "code",
   "execution_count": null,
   "metadata": {},
   "outputs": [],
   "source": [
    "def get_errors(j):\n",
    "    data = {\"Method\": [\"NPE\"]*5 + [\"ABC\"]*7 + [\"NPE-MF\"]*5,\n",
    "        \"Simulations\": npe_sims + n_simulations + npe_sims,\n",
    "        \"Error\": np.concatenate(\n",
    "            [npe_means[:, j],\n",
    "             np.exp(abc_posterior).mean(1)[:, j],\n",
    "             mf_means[:, j]\n",
    "            ]\n",
    "        )\n",
    "    }\n",
    "    return pd.DataFrame(data)"
   ]
  },
  {
   "cell_type": "code",
   "execution_count": null,
   "metadata": {},
   "outputs": [],
   "source": [
    "beta_0 = get_errors(0)\n",
    "ax = sns.lineplot(beta_0, x=\"Simulations\", y=\"Error\", hue=\"Method\", marker=\"o\")\n",
    "plt.xscale(\"log\")\n",
    "plt.xlabel(\"Simulations\")\n",
    "plt.axhline(y = exact_rates[0], color=\"k\", label=r\"Exact Mean\", linestyle=\"--\")\n",
    "plt.ylabel(\"Posterior Mean\")\n",
    "plt.legend(title=None)\n",
    "ax.set_xticks([500, 1000, 2000, 4000])\n",
    "plt.ylim(0, 0.07)\n",
    "ax.get_xaxis().set_major_formatter(matplotlib.ticker.ScalarFormatter())\n",
    "plt.savefig(\"images/het-error-b.png\")\n",
    "plt.show()"
   ]
  },
  {
   "cell_type": "code",
   "execution_count": null,
   "metadata": {},
   "outputs": [],
   "source": [
    "beta_0 = get_errors(5)\n",
    "ax = sns.lineplot(beta_0, x=\"Simulations\", y=\"Error\", hue=\"Method\", marker=\"o\")\n",
    "plt.xscale(\"log\")\n",
    "plt.xlabel(\"Simulations\")\n",
    "plt.axhline(y = exact_rates[5], color=\"k\", label=r\"Exact Mean\", linestyle=\"--\")\n",
    "plt.ylabel(\"Posterior Mean\")\n",
    "plt.legend(title=None)\n",
    "ax.set_xticks([500, 1000, 2000, 4000])\n",
    "plt.ylim(0, 0.12)\n",
    "ax.get_xaxis().set_major_formatter(matplotlib.ticker.ScalarFormatter())\n",
    "plt.savefig(\"images/het-error-c.png\")\n",
    "plt.show()"
   ]
  },
  {
   "cell_type": "code",
   "execution_count": null,
   "metadata": {},
   "outputs": [],
   "source": [
    "beta_0 = get_errors(6)\n",
    "ax = sns.lineplot(beta_0, x=\"Simulations\", y=\"Error\", hue=\"Method\", marker=\"o\")\n",
    "plt.xscale(\"log\")\n",
    "plt.xlabel(\"Simulations\")\n",
    "plt.axhline(y = exact_rates[6], color=\"k\", label=r\"Exact Mean\", linestyle=\"--\")\n",
    "plt.ylabel(\"Posterior Mean\")\n",
    "plt.legend(title=None)\n",
    "ax.set_xticks([500, 1000, 2000, 4000])\n",
    "plt.ylim(0, .10)\n",
    "ax.get_xaxis().set_major_formatter(matplotlib.ticker.ScalarFormatter())\n",
    "plt.savefig(\"images/het-error-d.png\")\n",
    "plt.show()"
   ]
  },
  {
   "cell_type": "code",
   "execution_count": null,
   "metadata": {},
   "outputs": [],
   "source": [
    "for j in [1, 2, 3, 4]:\n",
    "    beta_j = get_errors(j)\n",
    "    ax = sns.lineplot(beta_j, x=\"Simulations\", y=\"Error\", hue=\"Method\", marker=\"o\")\n",
    "    plt.xscale(\"log\")\n",
    "    plt.xlabel(\"Simulations\")\n",
    "    plt.axhline(y = exact_rates[j], color=\"k\", label=r\"Exact Mean\", linestyle=\"--\")\n",
    "    plt.ylabel(\"Posterior Mean\")\n",
    "    plt.legend(title=None)\n",
    "    ax.set_xticks([500, 1000, 2000, 4000])\n",
    "    plt.ylim(0, .10)\n",
    "    ax.get_xaxis().set_major_formatter(matplotlib.ticker.ScalarFormatter())\n",
    "    plt.savefig(f\"images/het-error-misc-{j}.png\")\n",
    "    plt.show()"
   ]
  },
  {
   "cell_type": "code",
   "execution_count": null,
   "metadata": {},
   "outputs": [],
   "source": [
    "D = np.diag(1 / np.sqrt(np.diag(sigma)))\n",
    "corr = D @ sigma @ D\n",
    "plt.matshow(corr, cmap=\"rocket\")\n",
    "plt.colorbar()\n",
    "plt.xlabel(r\"$\\beta_j$\")\n",
    "plt.ylabel(r\"$\\beta_j$\")\n",
    "plt.savefig(\"images/corr.png\")\n",
    "plt.show()"
   ]
  },
  {
   "cell_type": "markdown",
   "metadata": {},
   "source": [
    "### Master Table"
   ]
  },
  {
   "cell_type": "code",
   "execution_count": null,
   "metadata": {},
   "outputs": [],
   "source": [
    "exact_rates"
   ]
  },
  {
   "cell_type": "code",
   "execution_count": null,
   "metadata": {},
   "outputs": [],
   "source": [
    "n_simulations"
   ]
  },
  {
   "cell_type": "code",
   "execution_count": null,
   "metadata": {},
   "outputs": [],
   "source": [
    "het_table = pd.DataFrame({\n",
    "    \"Transmission Rate\": [\"Facility\"] + [f\"Floor {i}\" for i in range(1, 6)] + [\"Room\"],\n",
    "    \"Value\": [0.05, 0.02, 0.04, 0.06, 0.08, 0.1, 0.05],\n",
    "    \"Exact\": exact_rates,\n",
    "    \"NPE\": npe_means[-1],\n",
    "    \"ABC\": np.exp(abc_posterior[-1]).mean(0)\n",
    "})"
   ]
  },
  {
   "cell_type": "code",
   "execution_count": null,
   "metadata": {},
   "outputs": [],
   "source": [
    "het_table2 = pd.DataFrame({\n",
    "    \"Transmission Rate\": [\"Facility\"] + [f\"Floor {i}\" for i in range(1, 6)] + [\"Room\"],\n",
    "    \"Value\": [0.05, 0.02, 0.04, 0.06, 0.08, 0.1, 0.05],\n",
    "    \"Exact\": np.exp(exact_sample).std(0),\n",
    "    \"NPE\": np.diag(sigma)**0.5,\n",
    "    \"ABC\": np.exp(abc_posterior[-1]).std(0)\n",
    "})"
   ]
  },
  {
   "cell_type": "code",
   "execution_count": null,
   "metadata": {},
   "outputs": [],
   "source": [
    "np.log(0.107)"
   ]
  },
  {
   "cell_type": "code",
   "execution_count": null,
   "metadata": {},
   "outputs": [],
   "source": [
    "np.arange(1, step=1/8)"
   ]
  },
  {
   "cell_type": "code",
   "execution_count": null,
   "metadata": {},
   "outputs": [],
   "source": [
    "norm(-3, 1).cdf(-2.23)"
   ]
  },
  {
   "cell_type": "code",
   "execution_count": null,
   "metadata": {},
   "outputs": [],
   "source": [
    "# 4000 vs 7,646 simulations, ABC vs NPE\n",
    "print(het_table.to_latex())"
   ]
  },
  {
   "cell_type": "code",
   "execution_count": null,
   "metadata": {},
   "outputs": [],
   "source": [
    "print(het_table2.to_latex())"
   ]
  },
  {
   "cell_type": "markdown",
   "metadata": {},
   "source": [
    "### Credible Intervals"
   ]
  },
  {
   "cell_type": "code",
   "execution_count": null,
   "metadata": {},
   "outputs": [],
   "source": [
    "exact_cis = list(zip(\n",
    "    np.quantile(np.exp(exact_sample), 0.05, axis=0),\n",
    "    np.quantile(np.exp(exact_sample), 0.95, axis=0),\n",
    "))"
   ]
  },
  {
   "cell_type": "code",
   "execution_count": null,
   "metadata": {},
   "outputs": [],
   "source": [
    "exact_cis"
   ]
  },
  {
   "cell_type": "code",
   "execution_count": null,
   "metadata": {},
   "outputs": [],
   "source": [
    "m = npe_means[-1]\n",
    "s = npe_sds[-1]\n",
    "\n",
    "npe_cis = [(norm(m[j], s[j]).ppf(0.05),\n",
    "              norm(m[j], s[j]).ppf(0.95)) for j in range(7)]"
   ]
  },
  {
   "cell_type": "code",
   "execution_count": null,
   "metadata": {},
   "outputs": [],
   "source": [
    "npe_cis"
   ]
  },
  {
   "cell_type": "code",
   "execution_count": null,
   "metadata": {},
   "outputs": [],
   "source": [
    "abc_cis = list(zip(\n",
    "    np.quantile(np.exp(abc_posterior[-1]), 0.05, axis=0),\n",
    "    np.quantile(np.exp(abc_posterior[-1]), 0.95, axis=0),\n",
    "))"
   ]
  },
  {
   "cell_type": "code",
   "execution_count": null,
   "metadata": {},
   "outputs": [],
   "source": [
    "abc_cis"
   ]
  },
  {
   "cell_type": "code",
   "execution_count": null,
   "metadata": {},
   "outputs": [],
   "source": [
    "round((3.1415))"
   ]
  },
  {
   "cell_type": "code",
   "execution_count": null,
   "metadata": {},
   "outputs": [],
   "source": [
    "het_cis = pd.DataFrame({\n",
    "    \"Transmission Rate\": [\"Facility\"] + [f\"Floor {i}\" for i in range(1, 6)] + [\"Room\"],\n",
    "    \"Value\": [0.05, 0.02, 0.04, 0.06, 0.08, 0.1, 0.05],\n",
    "    \"Exact\": round(exact_cis, 5),\n",
    "    \"NPE\": round(npe_cis, 5),\n",
    "    \"ABC\": round(abc_cis, 5)\n",
    "})\n",
    "print(het_cis.to_latex())"
   ]
  },
  {
   "cell_type": "markdown",
   "metadata": {},
   "source": [
    "### ABC"
   ]
  },
  {
   "cell_type": "code",
   "execution_count": null,
   "metadata": {},
   "outputs": [],
   "source": [
    "# sns.pairplot(pd.DataFrame(np.exp(abc_posterior[-1])))"
   ]
  },
  {
   "cell_type": "markdown",
   "metadata": {},
   "source": [
    "## Model Identiafiability"
   ]
  },
  {
   "cell_type": "code",
   "execution_count": null,
   "metadata": {},
   "outputs": [],
   "source": [
    "df_ident = get_results(\"../multirun/2024-11-12/17-36-17\").sort_values(\"val_loss\")"
   ]
  },
  {
   "cell_type": "code",
   "execution_count": null,
   "metadata": {},
   "outputs": [],
   "source": [
    "ident_mu = np.array(df_ident[\"mu\"][0][0])"
   ]
  },
  {
   "cell_type": "code",
   "execution_count": null,
   "metadata": {},
   "outputs": [],
   "source": [
    "ident_sigma = np.array(df_ident[\"sigma\"][0])\n",
    "D = np.diag(1 / np.sqrt(np.diag(ident_sigma)))\n",
    "corr = D @ sigma @ D\n",
    "plt.matshow(corr, cmap=\"rocket\")\n",
    "plt.colorbar()\n",
    "plt.xlabel(r\"$\\beta_j$\")\n",
    "plt.ylabel(r\"$\\beta_j$\")\n",
    "# plt.savefig(\"images/corr.png\")\n",
    "plt.show()"
   ]
  },
  {
   "cell_type": "code",
   "execution_count": null,
   "metadata": {},
   "outputs": [],
   "source": [
    "for i in range(7):\n",
    "    dist = norm(ident_mu[i], ident_sigma[i][i]**0.5)\n",
    "    print(dist.ppf(0.05), dist.ppf(0.95))"
   ]
  },
  {
   "cell_type": "markdown",
   "metadata": {},
   "source": [
    "#### modified NPE estimates"
   ]
  },
  {
   "cell_type": "code",
   "execution_count": null,
   "metadata": {},
   "outputs": [],
   "source": [
    "neural_posterior = multivariate_normal(mu, sigma)\n",
    "K = 100\n",
    "npe_sample2 = np.empty((0,7))\n",
    "seed = 2\n",
    "while npe_sample2.shape[0] < K:\n",
    "    draw = neural_posterior.rvs(size=K, random_state=seed)\n",
    "    seed += 1\n",
    "    accepted = draw[(draw > 0).all(axis=1)]\n",
    "    npe_sample2 = np.concatenate((npe_sample2, accepted), axis=0)\n",
    "npe_sample2 = npe_sample2[:K]"
   ]
  },
  {
   "cell_type": "code",
   "execution_count": null,
   "metadata": {},
   "outputs": [],
   "source": [
    "npe_sample2.mean(0)"
   ]
  },
  {
   "cell_type": "code",
   "execution_count": null,
   "metadata": {},
   "outputs": [],
   "source": [
    "exact_rates"
   ]
  },
  {
   "cell_type": "code",
   "execution_count": null,
   "metadata": {},
   "outputs": [],
   "source": []
  }
 ],
 "metadata": {
  "language_info": {
   "name": "python"
  }
 },
 "nbformat": 4,
 "nbformat_minor": 4
}
