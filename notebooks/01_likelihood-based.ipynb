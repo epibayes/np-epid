{
 "cells": [
  {
   "cell_type": "code",
   "execution_count": null,
   "id": "39d285de-8726-41e4-8f7f-351ce26eb140",
   "metadata": {},
   "outputs": [],
   "source": [
    "\n",
    "import pandas as pd\n",
    "import numpy as np\n",
    "import matplotlib.pyplot as plt\n",
    "import sys\n",
    "sys.path.append(\"..\")\n",
    "from src.dataset import SIModel\n",
    "from src import utils\n",
    "import seaborn as sns\n",
    "from scipy.optimize import minimize_scalar, minimize\n",
    "from scipy.stats import norm, multivariate_normal, probplot\n"
   ]
  },
  {
   "cell_type": "code",
   "execution_count": null,
   "id": "e3ef64fc-0a78-42b5-b974-7bd2fa023b13",
   "metadata": {},
   "outputs": [],
   "source": [
    "sns.set_theme()\n",
    "beta_true = .15\n",
    "alpha = 0.1\n",
    "gamma = 0.05\n",
    "N = 100\n",
    "T = 52\n",
    "seed = 29"
   ]
  },
  {
   "cell_type": "code",
   "execution_count": null,
   "id": "e6b4858c",
   "metadata": {},
   "outputs": [],
   "source": [
    "F = np.arange(N) % 5\n",
    "R = np.arange(N) % (N // 2)\n",
    "fC = utils.contact_matrix(F)\n",
    "rC = utils.contact_matrix(R)"
   ]
  },
  {
   "cell_type": "code",
   "execution_count": null,
   "id": "1028c495-9755-4b9b-8286-7cdae6106eeb",
   "metadata": {},
   "outputs": [],
   "source": [
    "X_o = utils.simulator(alpha, beta_true, gamma, N, T, seed)\n",
    "I_o = X_o.sum(0).astype(int)\n",
    "plt.plot(I_o / N, label=\"Infected\")\n",
    "plt.legend(loc=\"upper right\")\n",
    "plt.xlabel(\"Time Steps\")\n",
    "plt.ylabel(\"Proportion\")\n",
    "plt.ylim(0, 1.1)\n",
    "plt.title(\"Susceptible-Infected Simulation with Migration\")\n",
    "plt.show()"
   ]
  },
  {
   "cell_type": "markdown",
   "id": "5f4bd5ff",
   "metadata": {},
   "source": [
    "## Homogeneous Transmission"
   ]
  },
  {
   "cell_type": "code",
   "execution_count": null,
   "id": "052fb59c",
   "metadata": {},
   "outputs": [],
   "source": [
    "def f(beta):\n",
    "    return - utils.x_loglikelihood(beta, alpha, gamma, N, T, X_o, het=False)\n",
    "\n",
    "res = minimize_scalar(f, bounds=(0.01,1), method=\"bounded\", options={\"disp\": True, \"maxiter\": 18})\n",
    "res.x"
   ]
  },
  {
   "cell_type": "code",
   "execution_count": null,
   "id": "0c221862-d84f-4101-a4d5-b73f1b748907",
   "metadata": {},
   "outputs": [],
   "source": [
    "S = 100\n",
    "M = - res.fun\n",
    "sample = np.empty(S)\n",
    "attempts = 0\n",
    "np.random.seed(4)\n",
    "for s in range(S):\n",
    "    accept = False\n",
    "    while not accept:\n",
    "        logbeta = norm(-3, 1).rvs()\n",
    "        attempts += 1\n",
    "        u = np.random.uniform(0,1)\n",
    "        if np.log(u) < utils.x_loglikelihood(np.exp(logbeta), alpha, gamma, N, T, X_o) - M:\n",
    "            accept = True\n",
    "            sample[s] = logbeta\n",
    "        if attempts % 1000 == 0:\n",
    "            print(attempts)\n",
    "    \n",
    "sample.mean(), sample.std(), np.exp(sample).mean(), np.exp(sample).std()"
   ]
  },
  {
   "cell_type": "code",
   "execution_count": null,
   "id": "22f7ba18-8327-4b11-83ab-1efc0a4b8e51",
   "metadata": {},
   "outputs": [],
   "source": [
    "attempts"
   ]
  },
  {
   "cell_type": "code",
   "execution_count": null,
   "id": "e49fcd05",
   "metadata": {},
   "outputs": [],
   "source": [
    "# np.random.seed(4)\n",
    "S = 500\n",
    "M = - res.fun\n",
    "sample = np.empty(S)\n",
    "attempts = 0\n",
    "np.random.seed(4)\n",
    "for s in range(S):\n",
    "    accept = False\n",
    "    while not accept:\n",
    "        logbeta = norm(-3, 1).rvs()\n",
    "        attempts += 1\n",
    "        u = np.random.uniform(0,1)\n",
    "        if np.log(u) < utils.x_loglikelihood(np.exp(logbeta), alpha, gamma, N, T, X_o) - M:\n",
    "            accept = True\n",
    "            sample[s] = logbeta\n",
    "        if attempts % 1000 == 0:\n",
    "            print(attempts)\n",
    "    \n",
    "sample.mean(), sample.std(), np.exp(sample).mean(), np.exp(sample).std()"
   ]
  },
  {
   "cell_type": "code",
   "execution_count": null,
   "id": "49c65ff6-15c9-4d06-96a9-76ddbbf7fe78",
   "metadata": {},
   "outputs": [],
   "source": [
    "np.exp(sample).std()"
   ]
  },
  {
   "cell_type": "code",
   "execution_count": null,
   "id": "5b7dda25-6d19-40aa-a381-12668441fb8d",
   "metadata": {},
   "outputs": [],
   "source": [
    "dist = norm(0.137, 0.013)\n",
    "dist.ppf(.05), dist.ppf(0.95)"
   ]
  },
  {
   "cell_type": "code",
   "execution_count": null,
   "id": "900faed6-3050-4515-90e5-51b6af32dff2",
   "metadata": {},
   "outputs": [],
   "source": [
    "dist = norm(-1.99, 0.0949)\n",
    "np.exp(dist.ppf(0.05)), np.exp(dist.ppf(0.95))"
   ]
  },
  {
   "cell_type": "code",
   "execution_count": null,
   "id": "c5bc933e-45b0-48a1-9cc9-b9eb276e73be",
   "metadata": {},
   "outputs": [],
   "source": [
    "plt.hist(np.exp(sample))"
   ]
  },
  {
   "cell_type": "code",
   "execution_count": null,
   "id": "a6d1d1ba-26b9-42fd-9893-6126755f9931",
   "metadata": {},
   "outputs": [],
   "source": [
    "fig, ax = plt.subplots()\n",
    "probplot(sample, dist=\"norm\", plot=ax)\n",
    "plt.show()"
   ]
  },
  {
   "cell_type": "code",
   "execution_count": null,
   "id": "719c4774",
   "metadata": {},
   "outputs": [],
   "source": [
    "# np.random.seed(4)\n",
    "# S = 100\n",
    "S = 500\n",
    "M = - res.fun\n",
    "sample = np.empty(S)\n",
    "attempts = 0\n",
    "np.random.seed(4)\n",
    "for s in range(S):\n",
    "    accept = False\n",
    "    while not accept:\n",
    "        logbeta = norm(-3, 1).rvs()\n",
    "        attempts += 1\n",
    "        u = np.random.uniform(0,1)\n",
    "        if np.log(u) < x_loglikelihood(np.exp(logbeta), alpha, gamma, N, T, X_o) - M:\n",
    "            accept = True\n",
    "            sample[s] = logbeta\n",
    "        if attempts % 1000 == 0:\n",
    "            print(attempts)\n",
    "    \n",
    "sample.mean(), sample.std(), np.exp(sample).mean()"
   ]
  },
  {
   "cell_type": "code",
   "execution_count": null,
   "id": "2640c59e",
   "metadata": {},
   "outputs": [],
   "source": [
    "attempts, np.log10(attempts)"
   ]
  },
  {
   "cell_type": "markdown",
   "id": "c0525cce-842f-43a5-ba18-215011f84630",
   "metadata": {},
   "source": [
    "## Identifiability"
   ]
  },
  {
   "cell_type": "code",
   "execution_count": null,
   "id": "3fa92c33",
   "metadata": {},
   "outputs": [],
   "source": [
    "def nll(beta, alpha, gamma, N, T, X, het):\n",
    "    # beta = beta / np.array([1, 300, 300, 300, 300, 300, 300])\n",
    "    return - utils.x_loglikelihood(beta, alpha, gamma, N, T, X, het)"
   ]
  },
  {
   "cell_type": "code",
   "execution_count": null,
   "id": "41fb3f63-7678-4ffc-9654-19c272b4e8fc",
   "metadata": {},
   "outputs": [],
   "source": [
    "res1 = minimize(\n",
    "    nll, x0 = [0.15, 1e-8, 1e-8, 1e-8, 1e-8, 1e-8, 1e-8], \n",
    "    args = (alpha, gamma, N, T, X_o, True),\n",
    "    bounds = [(0.0, None) for _ in range(7)])\n",
    "res1.x"
   ]
  },
  {
   "cell_type": "code",
   "execution_count": null,
   "id": "6deee92c-9a77-48ce-9cc9-e6ccda048cea",
   "metadata": {},
   "outputs": [],
   "source": [
    "def f2(beta):\n",
    "    return - x_loglikelihood(beta, alpha, gamma, N, T, X_o, het=True)\n",
    "\n",
    "res = minimize_scalar(f, bounds=(0.01,1), method=\"bounded\", options={\"disp\": True, \"maxiter\": 18})\n",
    "res.x"
   ]
  },
  {
   "cell_type": "markdown",
   "id": "e29b33f9",
   "metadata": {},
   "source": [
    "## Heterogeneous Transmission"
   ]
  },
  {
   "cell_type": "code",
   "execution_count": null,
   "id": "ecf1e4a8",
   "metadata": {},
   "outputs": [],
   "source": [
    "beta_true = np.array([.05, .02, .04, .06, .08, .1, .05])\n",
    "alpha = 0.1\n",
    "gamma = 0.05\n",
    "heterogeneous = True\n",
    "N = 300 # consider increasing\n",
    "T = 52\n",
    "K = 30\n",
    "seed = 31"
   ]
  },
  {
   "cell_type": "code",
   "execution_count": null,
   "id": "7c9bae14",
   "metadata": {},
   "outputs": [],
   "source": [
    "X_o = utils.simulator(alpha, beta_true, gamma, N, T, seed=31, het=True)\n",
    "I_o = X_o.sum(0).astype(int)\n",
    "plt.plot(I_o / N, label=\"Infected\")\n",
    "plt.legend(loc=\"upper right\")\n",
    "plt.xlabel(\"Time Steps\")\n",
    "plt.ylabel(\"Proportion\")\n",
    "plt.ylim(0, 1.1)\n",
    "plt.title(\"Susceptible-Infected Simulation with Migration\")\n",
    "plt.show()"
   ]
  },
  {
   "cell_type": "code",
   "execution_count": null,
   "id": "63996fcd",
   "metadata": {},
   "outputs": [],
   "source": [
    "res2 = minimize(\n",
    "    utils.nll, x0 = beta_true, args = (alpha, gamma, N, T, X_o, True),\n",
    "    bounds = [(0.0, None) for _ in range(7)], tol=0.0001\n",
    ")\n",
    "res2.x"
   ]
  },
  {
   "cell_type": "code",
   "execution_count": null,
   "id": "66e85e24-d9ed-47e9-808a-6a8509620118",
   "metadata": {},
   "outputs": [],
   "source": []
  },
  {
   "cell_type": "code",
   "execution_count": null,
   "id": "e7738fa6",
   "metadata": {},
   "outputs": [],
   "source": [
    "np.log(np.array([0.04968622, 0.09937244, 0.31859135, 0.29811733, 0.39748977,\n",
    "       0.53240004, 5.00131303]))"
   ]
  },
  {
   "cell_type": "code",
   "execution_count": null,
   "id": "e3cec27f",
   "metadata": {},
   "outputs": [],
   "source": [
    "res2.fun"
   ]
  },
  {
   "cell_type": "code",
   "execution_count": null,
   "id": "de32bda1",
   "metadata": {},
   "outputs": [],
   "source": [
    "x_loglikelihood(np.exp(logbeta), alpha, gamma, N, T, X_o, het=True)"
   ]
  },
  {
   "cell_type": "code",
   "execution_count": null,
   "id": "63203307",
   "metadata": {},
   "outputs": [],
   "source": [
    "theta_s = multivariate_normal(prior_mu).rvs()"
   ]
  },
  {
   "cell_type": "code",
   "execution_count": null,
   "id": "e698c9ee",
   "metadata": {},
   "outputs": [],
   "source": [
    "prior.logpdf(theta_s)"
   ]
  },
  {
   "cell_type": "code",
   "execution_count": null,
   "id": "d2b5b2ad",
   "metadata": {},
   "outputs": [],
   "source": [
    "def loglike(logbeta):\n",
    "    return x_loglikelihood(np.exp(logbeta), alpha, gamma, N, T, X_o, het=True)"
   ]
  },
  {
   "cell_type": "code",
   "execution_count": null,
   "id": "935dcaeb",
   "metadata": {},
   "outputs": [],
   "source": [
    "# metropolis hastings\n",
    "prior = multivariate_normal(prior_mu)\n",
    "S = 9000\n",
    "post_sample = np.empty((S, 7))\n",
    "theta_s = multivariate_normal(prior_mu).rvs()\n",
    "sigma = 1\n",
    "accept = np.empty(S)\n",
    "post_sample[0] = theta_s\n",
    "accept[0] = 1\n",
    "post_cur = prior.logpdf(theta_s) + loglike(theta_s)\n",
    "u = np.random.uniform(size=S)\n",
    "np.random.seed(4)\n",
    "for s in range(1, S):\n",
    "    theta_t = multivariate_normal(theta_s, sigma).rvs()\n",
    "    post_prop = prior.logpdf(theta_t) + loglike(theta_t)\n",
    "    log_A = post_prop - post_cur\n",
    "    if np.log(u[s]) <= log_A:\n",
    "        theta_s = theta_t\n",
    "        post_cur = post_prop\n",
    "        accept[s] = True\n",
    "    else:\n",
    "        accept[s] = False\n",
    "    post_sample[s] = theta_s\n",
    "    \n",
    "    if s % 1000 == 0: print(s)"
   ]
  },
  {
   "cell_type": "code",
   "execution_count": null,
   "id": "972ab28f",
   "metadata": {},
   "outputs": [],
   "source": [
    "# .0572, .0961, .248, .175, .260, .502, 5.21"
   ]
  },
  {
   "cell_type": "markdown",
   "id": "d4b24bf7-0535-49e0-8783-46fb9669eb11",
   "metadata": {},
   "source": [
    "#### rejection sampling"
   ]
  },
  {
   "cell_type": "code",
   "execution_count": null,
   "id": "fadd3ffb",
   "metadata": {},
   "outputs": [],
   "source": [
    "prior_mu = np.array([-3, -3, -3, -3, -3, -3, -3])\n",
    "\n",
    "S = 100\n",
    "M = - res2.fun\n",
    "sample = np.empty((S, 7))\n",
    "attempts = 0\n",
    "np.random.seed(4)\n",
    "for s in range(S):\n",
    "    accept = False\n",
    "    while not accept:\n",
    "        logbeta = multivariate_normal(prior_mu).rvs()\n",
    "        attempts += 1\n",
    "        u = np.random.uniform(0,1)\n",
    "        if np.log(u) < utils.x_loglikelihood(np.exp(logbeta), alpha, gamma, N, T, X_o, True) - M:\n",
    "            accept = True\n",
    "            sample[s] = logbeta\n",
    "        if attempts % 500 == 0:\n",
    "            print(attempts)\n",
    "    print(s)\n",
    "    \n",
    "sample.mean(0), sample.std(0), np.exp(sample).mean(0)"
   ]
  },
  {
   "cell_type": "markdown",
   "id": "e0ba1ed4-3e10-4956-9f35-e985fceb6ab6",
   "metadata": {},
   "source": [
    "### load posterior sample"
   ]
  },
  {
   "cell_type": "code",
   "execution_count": null,
   "id": "575b9797-6d17-46ed-97a8-012d5350878d",
   "metadata": {},
   "outputs": [],
   "source": [
    "ps = np.load(\"posterior_sample.npy\")"
   ]
  },
  {
   "cell_type": "code",
   "execution_count": null,
   "id": "3a20ac1c-d815-4920-ac41-89415fea627c",
   "metadata": {},
   "outputs": [],
   "source": [
    "np.exp(ps).mean(0)"
   ]
  },
  {
   "cell_type": "code",
   "execution_count": null,
   "id": "f4ad3e42-d355-4644-a83b-f5a62c9c0015",
   "metadata": {},
   "outputs": [],
   "source": [
    "np.exp(ps).std(0)"
   ]
  },
  {
   "cell_type": "code",
   "execution_count": null,
   "id": "b41b47cc-cbf9-4def-beaf-a29efac022d7",
   "metadata": {},
   "outputs": [],
   "source": []
  }
 ],
 "metadata": {
  "language_info": {
   "name": "python"
  }
 },
 "nbformat": 4,
 "nbformat_minor": 5
}
