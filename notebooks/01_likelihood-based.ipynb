{
 "cells": [
  {
   "cell_type": "code",
   "execution_count": null,
   "id": "39d285de-8726-41e4-8f7f-351ce26eb140",
   "metadata": {},
   "outputs": [],
   "source": [
    "import pandas as pd\n",
    "import numpy as np\n",
    "import matplotlib.pyplot as plt\n",
    "import sys\n",
    "sys.path.append(\"..\")\n",
    "from src.dataset import SIModel\n",
    "from src.utils import x_loglikelihood, contact_matrix\n",
    "import seaborn as sns\n",
    "from scipy.optimize import minimize_scalar, minimize\n",
    "from scipy.stats import norm, multivariate_normal, probplot\n",
    "import emcee"
   ]
  },
  {
   "cell_type": "code",
   "execution_count": null,
   "id": "e3ef64fc-0a78-42b5-b974-7bd2fa023b13",
   "metadata": {},
   "outputs": [],
   "source": [
    "sns.set_theme()\n",
    "beta_true = .15\n",
    "alpha = 0.1\n",
    "gamma = 0.05\n",
    "N = 100\n",
    "T = 52\n",
    "seed = 29"
   ]
  },
  {
   "cell_type": "code",
   "execution_count": null,
   "id": "e6b4858c",
   "metadata": {},
   "outputs": [],
   "source": [
    "F = np.arange(N) % 5\n",
    "R = np.arange(N) % (N // 2)\n",
    "fC = contact_matrix(F)\n",
    "rC = contact_matrix(R)"
   ]
  },
  {
   "cell_type": "code",
   "execution_count": null,
   "id": "442f9b4c-de85-4bc2-9d6f-be54c6a17cb1",
   "metadata": {},
   "outputs": [],
   "source": [
    "model = SIModel(alpha, gamma, beta_true, False, -3, 1, N, T, summarize=False, observed_seed=seed)\n",
    "X_o = model.get_observed_data(29)[0].numpy()\n",
    "I_o = X_o.sum(0)"
   ]
  },
  {
   "cell_type": "code",
   "execution_count": null,
   "id": "c439a75f-5e0a-46f1-8c53-289675e3ca48",
   "metadata": {},
   "outputs": [],
   "source": [
    "plt.plot(I_o / N, label=\"Infected\")\n",
    "plt.legend(loc=\"upper right\")\n",
    "plt.xlabel(\"Time Steps\")\n",
    "plt.ylabel(\"Proportion\")\n",
    "plt.ylim(0, 1.1)\n",
    "plt.title(\"Susceptible-Infected Simulation with Migration\")\n",
    "plt.show()"
   ]
  },
  {
   "cell_type": "markdown",
   "id": "5f4bd5ff",
   "metadata": {},
   "source": [
    "# Homogeneous Transmission"
   ]
  },
  {
   "cell_type": "code",
   "execution_count": null,
   "id": "052fb59c",
   "metadata": {},
   "outputs": [],
   "source": [
    "def f(logbeta):\n",
    "    return - x_loglikelihood(logbeta, alpha, gamma, N, T, X_o, het=False)\n",
    "\n",
    "res = minimize_scalar(f, options={\"disp\": True, \"maxiter\": 18})\n",
    "res.x"
   ]
  },
  {
   "cell_type": "code",
   "execution_count": null,
   "id": "062b4214-ef24-47cc-9257-c90f7c0a762f",
   "metadata": {},
   "outputs": [],
   "source": [
    "np.exp(res.x)"
   ]
  },
  {
   "cell_type": "code",
   "execution_count": null,
   "id": "131bb913-59d4-4dbb-a422-a6e226ecc84a",
   "metadata": {},
   "outputs": [],
   "source": [
    "def log_prob_homog(logbeta, X, alpha, gamma, N, T, het, prior_mu):\n",
    "    prior = norm(prior_mu)\n",
    "    lp = prior.logpdf(logbeta)\n",
    "    return lp + x_loglikelihood(logbeta, alpha, gamma, N, T, X, het)"
   ]
  },
  {
   "cell_type": "code",
   "execution_count": null,
   "id": "f1d64f6d-ca40-4dad-9030-72ce3b4ccad1",
   "metadata": {},
   "outputs": [],
   "source": [
    "nwalkers = 4\n",
    "pos = res.x + 1e-3 * np.random.randn(nwalkers, 1)\n",
    "prior_mu = -2\n",
    "sampler = emcee.EnsembleSampler(\n",
    "    nwalkers, 1, log_prob_homog, args = (X_o, alpha, gamma, N, T, False, prior_mu)\n",
    ")\n",
    "sampler.run_mcmc(pos, 2000, progress=True)\n",
    "\n",
    "flat_samples = sampler.get_chain(discard=100, thin=50, flat=True)"
   ]
  },
  {
   "cell_type": "code",
   "execution_count": null,
   "id": "8ebf170b-c739-4375-9ba7-faa57b1ad5bd",
   "metadata": {},
   "outputs": [],
   "source": [
    "flat_samples.mean(), flat_samples.std()"
   ]
  },
  {
   "cell_type": "code",
   "execution_count": null,
   "id": "a5338a18-8c42-4074-ae2e-9055a559c5f2",
   "metadata": {},
   "outputs": [],
   "source": [
    "np.exp(flat_samples).mean()"
   ]
  },
  {
   "cell_type": "code",
   "execution_count": null,
   "id": "c5bc933e-45b0-48a1-9cc9-b9eb276e73be",
   "metadata": {},
   "outputs": [],
   "source": [
    "plt.hist(flat_samples)\n",
    "plt.show()"
   ]
  },
  {
   "cell_type": "code",
   "execution_count": null,
   "id": "a6d1d1ba-26b9-42fd-9893-6126755f9931",
   "metadata": {},
   "outputs": [],
   "source": [
    "fig, ax = plt.subplots()\n",
    "probplot(flat_samples[:, 0], dist=\"norm\", plot=ax)\n",
    "plt.show()"
   ]
  },
  {
   "cell_type": "markdown",
   "id": "e29b33f9",
   "metadata": {},
   "source": [
    "# Heterogeneous Transmission"
   ]
  },
  {
   "cell_type": "code",
   "execution_count": null,
   "id": "ecf1e4a8",
   "metadata": {},
   "outputs": [],
   "source": [
    "beta_true = np.array([.05, .02, .04, .06, .08, .1, .05])\n",
    "alpha = 0.1\n",
    "gamma = 0.05\n",
    "heterogeneous = True\n",
    "N = 300 # consider increasing\n",
    "T = 52\n",
    "K = 30\n",
    "seed = 31\n",
    "prior_mu = -3"
   ]
  },
  {
   "cell_type": "code",
   "execution_count": null,
   "id": "7c9bae14",
   "metadata": {},
   "outputs": [],
   "source": [
    "# X_o = simulator(alpha, beta_true, gamma, N, T, seed=31, het=True)\n",
    "# I_o = X_o.sum(0).astype(int)\n",
    "model = SIModel(alpha, gamma, beta_true, True, -3, 1, N, T, summarize=False, observed_seed=seed)\n",
    "X_o = model.get_observed_data(seed)[0].numpy()\n",
    "I_o = X_o.sum(0)\n",
    "plt.plot(I_o / N, label=\"Infected\")\n",
    "plt.legend(loc=\"upper right\")\n",
    "plt.xlabel(\"Time Steps\")\n",
    "plt.ylabel(\"Proportion\")\n",
    "plt.ylim(0, 1.1)\n",
    "plt.title(\"Susceptible-Infected Simulation with Migration\")\n",
    "plt.show()"
   ]
  },
  {
   "cell_type": "code",
   "execution_count": null,
   "id": "1a892617-59dd-4708-ae68-f0b7f535adbd",
   "metadata": {},
   "outputs": [],
   "source": [
    "def g(logbeta, alpha, gamma, N, T, X_o, het=True):\n",
    "    return - x_loglikelihood(logbeta, alpha, gamma, N, T, X_o, het=True)\n",
    "\n",
    "res2 = minimize(\n",
    "    g, x0 = np.log(beta_true), args = (alpha, gamma, N, T, X_o, True), tol=0.0001\n",
    ")\n",
    "res2.x"
   ]
  },
  {
   "cell_type": "code",
   "execution_count": null,
   "id": "3a38a040-a5b6-4600-94e5-9214162cab76",
   "metadata": {},
   "outputs": [],
   "source": [
    "np.exp(res2.x).round(3)"
   ]
  },
  {
   "cell_type": "code",
   "execution_count": null,
   "id": "63996fcd",
   "metadata": {},
   "outputs": [],
   "source": [
    "# res2 = minimize(\n",
    "#     utils.nll, x0 = beta_true, args = (alpha, gamma, N, T, X_o, True),\n",
    "#     bounds = [(0.0, None) for _ in range(7)], tol=0.0001\n",
    "# )\n",
    "# res2.x"
   ]
  },
  {
   "cell_type": "code",
   "execution_count": null,
   "id": "88b81b5a-b9e5-452b-b3ed-0634e6e2bf8d",
   "metadata": {},
   "outputs": [],
   "source": [
    "def log_prob_het(logbeta, X, alpha, gamma, N, T, het, prior_mu):\n",
    "    prior = multivariate_normal(np.full(7, prior_mu))\n",
    "    lp = prior.logpdf(logbeta)\n",
    "    return lp + x_loglikelihood(logbeta, alpha, gamma, N, T, X, het)"
   ]
  },
  {
   "cell_type": "code",
   "execution_count": null,
   "id": "6fca1c72-4c78-4708-b6d6-df97465cbcdb",
   "metadata": {},
   "outputs": [],
   "source": [
    "nwalkers = 16\n",
    "initial = np.full(7, -3)\n",
    "pos = res2.x + 1e-3 * np.random.randn(nwalkers, 7)\n",
    "sampler_het = emcee.EnsembleSampler(\n",
    "    nwalkers, 7, log_prob_het, args = (X_o, alpha, gamma, N, T, True, prior_mu)\n",
    ")\n",
    "# up to 4,000\n",
    "sampler_het.run_mcmc(pos, 2000, progress=True, skip_initial_state_check=True)\n",
    "flat_samples_het = sampler_het.get_chain(discard=500, thin=100, flat=True)"
   ]
  },
  {
   "cell_type": "code",
   "execution_count": null,
   "id": "04029aa5-ac8f-4df9-afc9-6b1ed68e24d1",
   "metadata": {},
   "outputs": [],
   "source": [
    "np.exp(flat_samples_het).mean(0)"
   ]
  },
  {
   "cell_type": "code",
   "execution_count": null,
   "id": "ee695650-f13d-4342-8cbd-c91a4ef7487c",
   "metadata": {},
   "outputs": [],
   "source": [
    "(flat_samples_het).std(0)"
   ]
  },
  {
   "cell_type": "markdown",
   "id": "58341b7d-3e39-4608-8620-8c033ed5df8f",
   "metadata": {},
   "source": [
    "## Modified Prior\n",
    "\n",
    "A more conservative prior."
   ]
  },
  {
   "cell_type": "code",
   "execution_count": null,
   "id": "cbf14bc7-99df-4908-9a7d-d56e8ffe00d2",
   "metadata": {},
   "outputs": [],
   "source": [
    "new_prior = np.array([-3, -4, -4, -4, -4, -4, -4])"
   ]
  },
  {
   "cell_type": "code",
   "execution_count": null,
   "id": "f95c48dc-4680-4c2d-8fe5-edbe592b4768",
   "metadata": {},
   "outputs": [],
   "source": [
    "def log_prob_het2(logbeta, X, alpha, gamma, N, T, het):\n",
    "    prior = multivariate_normal(new_prior)\n",
    "    lp = prior.logpdf(logbeta)\n",
    "    return lp + x_loglikelihood(logbeta, alpha, gamma, N, T, X, het)"
   ]
  },
  {
   "cell_type": "code",
   "execution_count": null,
   "id": "1a225a66-f1ec-4b78-9c3d-d6b763ba9eff",
   "metadata": {},
   "outputs": [],
   "source": [
    "nwalkers = 16\n",
    "initial = np.full(7, -3)\n",
    "pos = res2.x + 1e-3 * np.random.randn(nwalkers, 7)\n",
    "sampler_het2 = emcee.EnsembleSampler(\n",
    "    nwalkers, 7, log_prob_het2, args = (X_o, alpha, gamma, N, T, True)\n",
    ")\n",
    "# up to 4,000\n",
    "sampler_het2.run_mcmc(pos, 2000, progress=True, skip_initial_state_check=True)\n",
    "flat_samples_het2 = sampler_het2.get_chain(discard=500, thin=100, flat=True)"
   ]
  },
  {
   "cell_type": "code",
   "execution_count": null,
   "id": "753f791b-a696-40de-8fc4-8604588d9505",
   "metadata": {},
   "outputs": [],
   "source": [
    "np.exp(flat_samples_het).mean(0)"
   ]
  },
  {
   "cell_type": "code",
   "execution_count": null,
   "id": "2a7dbddf-b89c-4976-9605-319197a205e8",
   "metadata": {},
   "outputs": [],
   "source": [
    "np.exp(flat_samples_het2).mean(0)"
   ]
  },
  {
   "cell_type": "code",
   "execution_count": null,
   "id": "5db38ac8-38f9-441c-b841-f17d8fcd0a15",
   "metadata": {},
   "outputs": [],
   "source": [
    "flat_samples_het2.mean(0)"
   ]
  },
  {
   "cell_type": "code",
   "execution_count": null,
   "id": "a8c60633-bd82-4d64-9b6e-91507f80db39",
   "metadata": {},
   "outputs": [],
   "source": [
    "flat_samples_het2.std(0)"
   ]
  },
  {
   "cell_type": "code",
   "execution_count": null,
   "id": "1ecd4f7c-d9ea-42b5-b256-d25998dc317f",
   "metadata": {},
   "outputs": [],
   "source": [
    "np.exp(res2.x).round(4)"
   ]
  },
  {
   "cell_type": "markdown",
   "id": "f3920a48-1ba9-46e4-89d0-37c4bc64d893",
   "metadata": {},
   "source": [
    "## Correlation Patterns"
   ]
  },
  {
   "cell_type": "code",
   "execution_count": null,
   "id": "f88c5641-5c23-4ac4-9dc5-41f9493a1f8c",
   "metadata": {},
   "outputs": [],
   "source": [
    "sns.pairplot(pd.DataFrame(flat_samples_het))\n",
    "plt.show()"
   ]
  },
  {
   "cell_type": "code",
   "execution_count": null,
   "id": "fba075f8-c36c-4a40-ae62-824d3c4421fb",
   "metadata": {},
   "outputs": [],
   "source": [
    "sns.pairplot(pd.DataFrame(np.exp(flat_samples_het2)))\n",
    "plt.show()"
   ]
  },
  {
   "cell_type": "code",
   "execution_count": null,
   "id": "6cf1e466-817a-4aaf-9b09-1ee2535d1365",
   "metadata": {},
   "outputs": [],
   "source": []
  }
 ],
 "metadata": {
  "language_info": {
   "name": "python"
  }
 },
 "nbformat": 4,
 "nbformat_minor": 5
}
