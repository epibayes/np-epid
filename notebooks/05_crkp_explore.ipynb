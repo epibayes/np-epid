{
 "cells": [
  {
   "cell_type": "code",
   "execution_count": null,
   "metadata": {},
   "outputs": [],
   "source": [
    "import pandas as pd\n",
    "import numpy as np\n",
    "import matplotlib.pyplot as plt\n",
    "import seaborn as sns\n",
    "from timeit import default_timer as timer\n",
    "\n",
    "from datetime import date, timedelta"
   ]
  },
  {
   "cell_type": "code",
   "execution_count": null,
   "metadata": {},
   "outputs": [],
   "source": [
    "epi_dir = '/Volumes/umms-esnitkin/Project_KPC_LTACH/Analysis/LTACH_transmission_modeling'"
   ]
  },
  {
   "cell_type": "code",
   "execution_count": null,
   "metadata": {},
   "outputs": [],
   "source": [
    "# read cleaned data:\n",
    "infections_cleaned = pd.read_csv(f\"{epi_dir}/preprocessed/infections.csv\", index_col=0)\n",
    "infections_cleaned.columns = np.arange(367)\n",
    "df_facility = pd.read_csv(f\"{epi_dir}/preprocessed/facility_trace.csv\", index_col=0)\n",
    "df_facility.columns = np.arange(367)\n",
    "df_floor = pd.read_csv(f\"{epi_dir}/preprocessed/floor_trace.csv\", index_col=0)\n",
    "df_floor.columns = np.arange(367)\n",
    "df_room = pd.read_csv(f\"{epi_dir}/preprocessed/room_trace.csv\", index_col=0)\n",
    "df_room.columns = np.arange(367)"
   ]
  },
  {
   "cell_type": "markdown",
   "metadata": {},
   "source": [
    "## Data Description"
   ]
  },
  {
   "cell_type": "code",
   "execution_count": null,
   "metadata": {},
   "outputs": [],
   "source": [
    "infections_cleaned.shape"
   ]
  },
  {
   "cell_type": "code",
   "execution_count": null,
   "metadata": {},
   "outputs": [],
   "source": [
    "infections_cleaned.notna().sum().sum()"
   ]
  },
  {
   "cell_type": "code",
   "execution_count": null,
   "metadata": {},
   "outputs": [],
   "source": [
    "infections_cleaned.notna().sum(1).describe()"
   ]
  },
  {
   "cell_type": "markdown",
   "metadata": {},
   "source": [
    "### Number of Visits"
   ]
  },
  {
   "cell_type": "code",
   "execution_count": null,
   "metadata": {},
   "outputs": [],
   "source": [
    "r"
   ]
  },
  {
   "cell_type": "code",
   "execution_count": null,
   "metadata": {},
   "outputs": [],
   "source": [
    "n_visits = {}\n",
    "visit_lengths = []\n",
    "for i, r in infections_cleaned.iterrows():\n",
    "    k = 0\n",
    "    admitted = False\n",
    "    entry_time = 0\n",
    "    for t, v in r.items():\n",
    "        if not np.isnan(v) and not admitted:\n",
    "            admitted = True\n",
    "            k += 1\n",
    "            entry_time = t\n",
    "        if (admitted and (np.isnan(v) or t == 366)):\n",
    "            admitted = False\n",
    "            visit_lengths.append(t - entry_time)\n",
    "    n_visits[i] = k\n",
    "n_visits = pd.Series(n_visits)\n",
    "visit_lengths = np.array(visit_lengths)"
   ]
  },
  {
   "cell_type": "code",
   "execution_count": null,
   "metadata": {},
   "outputs": [],
   "source": [
    "np.median(np.array(visit_lengths))"
   ]
  },
  {
   "cell_type": "code",
   "execution_count": null,
   "metadata": {},
   "outputs": [],
   "source": [
    "np.quantile(np.array(visit_lengths), [.25, .75])"
   ]
  },
  {
   "cell_type": "code",
   "execution_count": null,
   "metadata": {},
   "outputs": [],
   "source": [
    "(np.array(visit_lengths) < 7).mean()"
   ]
  },
  {
   "cell_type": "code",
   "execution_count": null,
   "metadata": {},
   "outputs": [],
   "source": [
    "1/7"
   ]
  },
  {
   "cell_type": "code",
   "execution_count": null,
   "metadata": {},
   "outputs": [],
   "source": [
    "(np.array(visit_lengths)).mean()"
   ]
  },
  {
   "cell_type": "code",
   "execution_count": null,
   "metadata": {},
   "outputs": [],
   "source": [
    "pd.Series(n_visits).value_counts() / pd.Series(n_visits).value_counts().sum()"
   ]
  },
  {
   "cell_type": "code",
   "execution_count": null,
   "metadata": {},
   "outputs": [],
   "source": [
    "pd.Series(n_visits).sum()"
   ]
  },
  {
   "cell_type": "markdown",
   "metadata": {},
   "source": [
    "#### mobility statistics"
   ]
  },
  {
   "cell_type": "code",
   "execution_count": null,
   "metadata": {},
   "outputs": [],
   "source": [
    "n_floors = {}\n",
    "for i, r in df_floor.iterrows():\n",
    "    n_floors[i] = 0\n",
    "    floor = 0\n",
    "    for f in r.values:\n",
    "        if f != floor:\n",
    "            if f != 0:\n",
    "                n_floors[i] += 1\n",
    "                floor = f\n",
    "n_floors = pd.Series(n_floors)       "
   ]
  },
  {
   "cell_type": "code",
   "execution_count": null,
   "metadata": {},
   "outputs": [],
   "source": [
    "n_floors.value_counts().sort_index().cumsum() / 260 # more than half of patients move floors twice or more during their stay"
   ]
  },
  {
   "cell_type": "code",
   "execution_count": null,
   "metadata": {},
   "outputs": [],
   "source": [
    "ftrace.head()"
   ]
  },
  {
   "cell_type": "code",
   "execution_count": null,
   "metadata": {},
   "outputs": [],
   "source": [
    "for t in range(367):\n",
    "    set1 = set(ftrace[t][ftrace[t] > 0].index)\n",
    "    set2 = set(df_floor.iloc[:, t][df_floor.iloc[:, t] > 0].index)\n",
    "    if set1 != set2:\n",
    "        print(t)\n",
    "        problem = set1 ^ set2\n",
    "        print(problem)\n",
    "        print(df_ftrace.loc[list(problem)[0], t:t+2])\n",
    "        print(\"***\")\n",
    "        "
   ]
  },
  {
   "cell_type": "code",
   "execution_count": null,
   "metadata": {},
   "outputs": [],
   "source": [
    "((ftrace.values > 0) != (df_floor.values > 0)).sum()"
   ]
  },
  {
   "cell_type": "markdown",
   "metadata": {},
   "source": [
    "#### Room Trace"
   ]
  },
  {
   "cell_type": "code",
   "execution_count": null,
   "metadata": {},
   "outputs": [],
   "source": [
    "df_room = pd.read_csv(f\"{epi_dir}/2019-12-18_room_trace.csv\", index_col=0)"
   ]
  },
  {
   "cell_type": "code",
   "execution_count": null,
   "metadata": {},
   "outputs": [],
   "source": [
    "np.unique(df_room.values) # 95 possible rooms!"
   ]
  },
  {
   "cell_type": "code",
   "execution_count": null,
   "metadata": {},
   "outputs": [],
   "source": [
    "np.unique(df_room.values, return_counts=True)[1][1:]"
   ]
  },
  {
   "cell_type": "markdown",
   "metadata": {},
   "source": [
    "#### question: how many people share rooms, anyway?"
   ]
  },
  {
   "cell_type": "markdown",
   "metadata": {},
   "source": [
    "# Data Preprocessing"
   ]
  },
  {
   "cell_type": "code",
   "execution_count": null,
   "metadata": {},
   "outputs": [],
   "source": [
    "df_ftrace = pd.read_csv(f\"{epi_dir}/2019-12-18_facility_trace.csv\", index_col=0)\n",
    "dates = df_ftrace.columns\n",
    "df_ftrace.columns = np.arange(367)"
   ]
  },
  {
   "cell_type": "code",
   "execution_count": null,
   "metadata": {},
   "outputs": [],
   "source": [
    "# facility trace\n",
    "df_ftrace = pd.read_csv(f\"{epi_dir}/2019-12-18_facility_trace.csv\", index_col=0)\n",
    "df_ftrace.columns = np.arange(367)\n",
    "\n",
    "# recover facility trace\n",
    "ftrace = (df_ftrace > 0).astype(int)\n",
    "\n",
    "# recover infections\n",
    "# how does this handle people who are \n",
    "infections = df_ftrace.replace(1, np.nan).ffill(axis=1)\n",
    "infections = infections.replace({0:np.nan, 1.25:0, 1.5:1})"
   ]
  },
  {
   "cell_type": "code",
   "execution_count": null,
   "metadata": {},
   "outputs": [],
   "source": [
    "# how many infection events occur after admission?\n",
    "new_infections = (infections.diff(axis=1) == 1).astype(int).sum(0)\n",
    "print(new_infections.sum())\n",
    "sns.lineplot(new_infections)\n",
    "plt.show()"
   ]
  },
  {
   "cell_type": "code",
   "execution_count": null,
   "metadata": {},
   "outputs": [],
   "source": [
    "# how many infections happen upon admission?\n",
    "# infections"
   ]
  },
  {
   "cell_type": "code",
   "execution_count": null,
   "metadata": {},
   "outputs": [],
   "source": [
    "I = infections.sum(0)\n",
    "Nt = ftrace.sum(0)\n",
    "S = Nt - I\n",
    "sns.lineplot(Nt, label=\"Total\")\n",
    "sns.lineplot(S, label=\"Susceptible\")\n",
    "sns.lineplot(I, label=\"Infected\")\n",
    "plt.show()"
   ]
  },
  {
   "cell_type": "code",
   "execution_count": null,
   "metadata": {},
   "outputs": [],
   "source": [
    "# deal with: people who get infected twice!\n",
    "# are there many?\n",
    "# new goal: assume someone can't recover during a stay\n",
    "# but they may leave and come back recovered (?)\n",
    "infections_cleaned = infections.copy()\n",
    "doubles = set()\n",
    "for i, row in infections_cleaned.iterrows():\n",
    "    infected = False\n",
    "    for j, v in row.items():\n",
    "        if infected:\n",
    "            if v == 0:\n",
    "                doubles.add(i)\n",
    "                row[j] = 1\n",
    "        if v == 1:\n",
    "            infected = True\n",
    "        if np.isnan(v):\n",
    "            infected = False\n",
    "\n",
    "print(list(doubles))"
   ]
  },
  {
   "cell_type": "code",
   "execution_count": null,
   "metadata": {},
   "outputs": [],
   "source": [
    "n_visits = {}\n",
    "for i, row in infections_cleaned.iterrows():\n",
    "    admitted = False\n",
    "    z = 0\n",
    "    for _, v in row.items():\n",
    "        if not np.isnan(v) and not admitted:\n",
    "            admitted = True\n",
    "            z += 1\n",
    "        if np.isnan(v):\n",
    "            admitted = False\n",
    "    n_visits[i] = z\n",
    "n_visits = pd.Series(n_visits)"
   ]
  },
  {
   "cell_type": "code",
   "execution_count": null,
   "metadata": {},
   "outputs": [],
   "source": [
    "n_visits.value_counts() / len(n_visits)"
   ]
  },
  {
   "cell_type": "code",
   "execution_count": null,
   "metadata": {},
   "outputs": [],
   "source": [
    "n_visits.sum()"
   ]
  },
  {
   "cell_type": "markdown",
   "metadata": {},
   "source": [
    "One possible issue: the data makes it seem like we start off with an unusually high number of infections. Maybe we can ameliorate this by starting 100 days into the year...seems easier than modeling a time-varying pre-admitted colonization rate\n",
    "\n",
    "Or, we hardcode initial infections (back to the original plan)"
   ]
  },
  {
   "cell_type": "markdown",
   "metadata": {},
   "source": [
    "### Understanding precolonization"
   ]
  },
  {
   "cell_type": "code",
   "execution_count": null,
   "metadata": {},
   "outputs": [],
   "source": [
    "# multiple visits\n",
    "first_test = {}\n",
    "i = 0\n",
    "for _, r in df_ftrace.reset_index(drop=True).iterrows():\n",
    "    entry_time = 0\n",
    "    entered = False\n",
    "    recorded = False\n",
    "    for j, v in r.items():\n",
    "        if v > 0 and not entered:\n",
    "            entry_time = j\n",
    "            entered = True\n",
    "        if entered and v == 0:\n",
    "            i += 1\n",
    "            entered = False\n",
    "            recorded = False\n",
    "        if v > 1 and not recorded:\n",
    "            first_test[i] = j - entry_time\n",
    "            recorded = True\n",
    "    if entered:\n",
    "        i += 1\n",
    "first_test = pd.Series(first_test)      "
   ]
  },
  {
   "cell_type": "code",
   "execution_count": null,
   "metadata": {},
   "outputs": [],
   "source": [
    "first_test.value_counts() / 367"
   ]
  },
  {
   "cell_type": "markdown",
   "metadata": {},
   "source": [
    "build dataframe of colonizations upon arrival\n",
    "\n",
    "what i'll do--if someone gets tested within 3 days of arrival (95% of first tests)"
   ]
  },
  {
   "cell_type": "code",
   "execution_count": null,
   "metadata": {},
   "outputs": [],
   "source": [
    "df_precol = pd.DataFrame(index=df_ftrace.index, columns=df_ftrace.columns)\n",
    "for n, r in df_ftrace.iterrows():\n",
    "    entry_time = 0\n",
    "    entered = False\n",
    "    recorded = False\n",
    "    for t, v in r.items():\n",
    "        if v > 0 and not entered:\n",
    "            entry_time = t\n",
    "            entered = True\n",
    "        if entered and v == 0:\n",
    "            entered = False\n",
    "            recorded = False\n",
    "        if v > 1 and not recorded:\n",
    "            test_time = t - entry_time\n",
    "            if test_time < 3:\n",
    "                # df_precol.loc[n,t] = v\n",
    "                df_precol.loc[n, entry_time] = v\n",
    "            # else:\n",
    "            #     df_precol.loc[n,t] = \n",
    "            recorded = True\n",
    "df_precol.replace({1.5:1, 1.25:0}, inplace=True)"
   ]
  },
  {
   "cell_type": "code",
   "execution_count": null,
   "metadata": {},
   "outputs": [],
   "source": [
    "df_precol.count().sum()"
   ]
  },
  {
   "cell_type": "code",
   "execution_count": null,
   "metadata": {},
   "outputs": [],
   "source": [
    "screened_infected = (df_precol).sum(0)\n",
    "sns.lineplot(screened_infected)\n",
    "plt.show()"
   ]
  },
  {
   "cell_type": "markdown",
   "metadata": {},
   "source": [
    "## Simulator II: Fixed Precolonization"
   ]
  },
  {
   "cell_type": "code",
   "execution_count": null,
   "metadata": {},
   "outputs": [],
   "source": [
    "def crkp_simulator2(logbeta, seed):\n",
    "    np.random.seed(seed)\n",
    "    N, T = ftrace.shape\n",
    "    beta = np.exp(logbeta)\n",
    "    \n",
    "    W = ftrace.values\n",
    "    # old admitted status\n",
    "    w = np.zeros(N)\n",
    "    \n",
    "    X = np.empty((N, T))\n",
    "    # old infection status\n",
    "    x = np.empty(N)\n",
    "    # x[:] = np.nan # should this be all zeros (negatives) by default?\n",
    "    x[:] = 0\n",
    "    \n",
    "    I = np.zeros(N)\n",
    "    0\n",
    "    for t in range(T):\n",
    "        # case 1: not present\n",
    "        # if absent, set to nan\n",
    "        # otherwise, inherit old status\n",
    "        X[:, t] = np.where(1 - W[:, t], np.nan, x)\n",
    "        # case 2: new arrival\n",
    "        newly_admitted = W[:, t] * (1 - w)\n",
    "        # if newly admitted, load test data if available, otherwise default to last status\n",
    "        # will this under-report? if someone gets tested a day after arrival\n",
    "        X[:, t] = np.where(newly_admitted, df_precol[t], X[:, t])\n",
    "        # ALTERNATIVELY\n",
    "        # inherit infection statuses from ground truth\n",
    "        # case 3: already admitted and susceptible\n",
    "        # randomly model transmission event\n",
    "        # otherwise, inherit old status\n",
    "        staying = W[:, t] * w\n",
    "        hazard = I.sum() * beta * np.ones(N)\n",
    "        p = 1 - np.exp(-hazard / N) # not the end of the world to normalize by size of population\n",
    "        X[:, t] = np.where(staying * (1 - I), np.random.binomial(1, p, N), X[:, t])\n",
    "        x = X[:, t]\n",
    "        w = W[:, t]\n",
    "        I = (x == 1).astype(int)\n",
    "\n",
    "    return np.nansum(X, axis=0) / N"
   ]
  },
  {
   "cell_type": "code",
   "execution_count": null,
   "metadata": {},
   "outputs": [],
   "source": [
    "N = 260\n",
    "precols = crkp_simulator2(-6, 1) * N"
   ]
  },
  {
   "cell_type": "code",
   "execution_count": null,
   "metadata": {},
   "outputs": [],
   "source": [
    "I_rep = crkp_simulator2(-1.8, 1)\n",
    "\n",
    "sns.lineplot(I / 260, label=\"observed\")\n",
    "sns.lineplot(I_rep, label=\"simulated\")\n",
    "sns.lineplot(ftrace.sum() / 260, color=\"k\", linestyle=\"--\", label=\"pop\")\n",
    "plt.show()"
   ]
  },
  {
   "cell_type": "code",
   "execution_count": null,
   "metadata": {},
   "outputs": [],
   "source": [
    "sns.lineplot((I - precols), label=\"observed\")\n",
    "sns.lineplot(I_rep * 260 - precols, label=\"simulated\")\n",
    "# sns.lineplot(ftrace.sum() / 260, color=\"k\", linestyle=\"--\", label=\"pop\")\n",
    "plt.show()"
   ]
  }
 ],
 "metadata": {
  "language_info": {
   "name": "python"
  }
 },
 "nbformat": 4,
 "nbformat_minor": 4
}
