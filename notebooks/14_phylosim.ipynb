{
 "cells": [
  {
   "cell_type": "code",
   "execution_count": null,
   "id": "86b0c05d-a2ff-45f6-b2b7-1bf2cebc0846",
   "metadata": {},
   "outputs": [],
   "source": [
    "import pandas as pd\n",
    "import numpy as np\n",
    "from matplotlib import pyplot as plt\n",
    "import sys\n",
    "sys.path.append(\"..\")\n",
    "from src.dataset import PhyloSimulator"
   ]
  },
  {
   "cell_type": "code",
   "execution_count": null,
   "id": "85692b97-02ad-461d-a05f-62290e4da584",
   "metadata": {},
   "outputs": [],
   "source": [
    "beta_true = [.05, .02, .04, .06, .08, .1, .05] # [.15, 1e-5, 1e-5, 1e-5, 1e-5, 1e-5, 1e-5]\n",
    "prior_mu = -3\n",
    "prior_sigma = 1\n",
    "observed_seed = 31"
   ]
  },
  {
   "cell_type": "code",
   "execution_count": null,
   "id": "3d00a65f-84af-4744-abc6-21b185b15735",
   "metadata": {},
   "outputs": [],
   "source": [
    "capacity = [100, 20, 20, 20, 20, 20, 2]"
   ]
  },
  {
   "cell_type": "code",
   "execution_count": null,
   "id": "ce20a110-d19a-4173-9698-2647fb9620ab",
   "metadata": {},
   "outputs": [],
   "source": [
    "# relative risks\n",
    "np.array(beta_true) / np.array(capacity) / (beta_true[0] / capacity[0])"
   ]
  },
  {
   "cell_type": "code",
   "execution_count": null,
   "id": "2226dc7e-7aa2-4a11-96e1-f6fe8b979dae",
   "metadata": {},
   "outputs": [],
   "source": [
    "phylo = PhyloSimulator(\n",
    "    beta_true, prior_mu, prior_sigma, observed_seed, n_sample=None, notebook_mode=True\n",
    ")"
   ]
  },
  {
   "cell_type": "code",
   "execution_count": null,
   "id": "63c43121-324c-4f80-b199-039e982d66b1",
   "metadata": {},
   "outputs": [],
   "source": [
    "x_o = phylo.get_observed_data()"
   ]
  },
  {
   "cell_type": "code",
   "execution_count": null,
   "id": "72f63837-dc80-4fd4-8628-91e5acc2b996",
   "metadata": {},
   "outputs": [],
   "source": [
    "plt.plot(x_o[0], label=\"infected\")\n",
    "plt.plot(100 - x_o[0], label=\"susceptible\")"
   ]
  },
  {
   "cell_type": "code",
   "execution_count": null,
   "id": "be59f0eb-4268-4248-a5fe-06830f743d8f",
   "metadata": {},
   "outputs": [],
   "source": [
    "x_o.shape # how to unpack "
   ]
  },
  {
   "cell_type": "code",
   "execution_count": null,
   "id": "e4d7b7b9-a31e-48e4-86a0-0b9628a73374",
   "metadata": {},
   "outputs": [],
   "source": [
    "245 * 52"
   ]
  },
  {
   "cell_type": "code",
   "execution_count": null,
   "id": "ee801dfc-6346-438b-b989-6bf67d787996",
   "metadata": {},
   "outputs": [],
   "source": [
    "245 / 7"
   ]
  },
  {
   "cell_type": "code",
   "execution_count": null,
   "id": "213c8d28-0243-46b4-ad72-b0724dc683e9",
   "metadata": {},
   "outputs": [],
   "source": [
    "# looks like R_0 is around 2?\n",
    "# \\bar \\beta = .15, roughly speaking\n",
    "# average period of infectiousness: theoretically 13.3"
   ]
  }
 ],
 "metadata": {
  "language_info": {
   "name": "python"
  }
 },
 "nbformat": 4,
 "nbformat_minor": 5
}
