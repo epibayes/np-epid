{
 "cells": [
  {
   "cell_type": "code",
   "execution_count": null,
   "id": "86b0c05d-a2ff-45f6-b2b7-1bf2cebc0846",
   "metadata": {},
   "outputs": [],
   "source": [
    "import pandas as pd\n",
    "import numpy as np\n",
    "import matplotlib.pyplot as plt\n",
    "import sys\n",
    "sys.path.append(\"..\")\n",
    "from src.dataset import PhyloSimulator\n",
    "import seaborn as sns"
   ]
  },
  {
   "cell_type": "code",
   "execution_count": null,
   "id": "85692b97-02ad-461d-a05f-62290e4da584",
   "metadata": {},
   "outputs": [],
   "source": [
    "beta_true =  [.02, .03, .06, .03, .03, .12, .03] # \n",
    "prior_mu = -3\n",
    "prior_sigma = 1\n",
    "observed_seed = 30\n",
    "n_clusters = 34\n",
    "capacity = [100, 20, 20, 20, 20, 20, 2] # [100, 20, 20, 20, 20, 20, 2]\n",
    "\n",
    "# relative risks\n",
    "np.array(beta_true) / np.array(capacity) / (beta_true[0] / capacity[0])"
   ]
  },
  {
   "cell_type": "code",
   "execution_count": null,
   "id": "2226dc7e-7aa2-4a11-96e1-f6fe8b979dae",
   "metadata": {},
   "outputs": [],
   "source": [
    "phylo = PhyloSimulator(\n",
    "    beta_true, prior_mu, prior_sigma, observed_seed, n_sample=None, notebook_mode=True, time_first=False\n",
    ")\n",
    "\n",
    "x_o = phylo.get_observed_data()"
   ]
  },
  {
   "cell_type": "code",
   "execution_count": null,
   "id": "4bd3379d-c10b-4369-8969-bdbb5a6110b5",
   "metadata": {},
   "outputs": [],
   "source": [
    "genomic = {}\n",
    "levels = [\"facility\"] + [f\"floor_{i}\" for i in range(1,6)] + [\"room\"]\n",
    "for i, l in enumerate(levels):\n",
    "    start = 7 + i * n_clusters\n",
    "    stop = 7 + (i + 1) * n_clusters\n",
    "    genomic[l] = np.array(x_o[start:stop])"
   ]
  },
  {
   "cell_type": "code",
   "execution_count": null,
   "id": "72f63837-dc80-4fd4-8628-91e5acc2b996",
   "metadata": {},
   "outputs": [],
   "source": [
    "plt.plot(x_o[0], label=\"infected\")\n",
    "plt.plot(100 - x_o[0], label=\"susceptible\")\n",
    "plt.show()"
   ]
  },
  {
   "cell_type": "code",
   "execution_count": null,
   "id": "b877a4d5-57ff-4929-9dd6-50b9830dada8",
   "metadata": {},
   "outputs": [],
   "source": [
    "floor_rates = x_o[1:6]\n",
    "labels=[\"Floor 1\", \"Floor 2\", \"Floor 3\", \"Floor 4\", \"Floor 5\"]\n",
    "for i, label  in enumerate(labels):\n",
    "    # temp_pop = np.where(floor_pops[i] == 0, 1, floor_pops[i])\n",
    "    plt.plot(floor_rates[i], label=label, linestyle=\"-\", alpha=0.6)\n",
    "plt.legend()\n",
    "plt.xlabel(\"Weeks\")\n",
    "plt.ylabel(\"Infected Patients\")\n",
    "# plt.savefig(\"images/crkp/floor_pops.png\")\n",
    "plt.show()"
   ]
  },
  {
   "cell_type": "markdown",
   "id": "47c127a7-5c22-4d0b-ba10-6614bfc3c5d2",
   "metadata": {},
   "source": [
    "### visualizing clustering"
   ]
  },
  {
   "cell_type": "code",
   "execution_count": null,
   "id": "0c3803eb-027f-4c56-85e2-8e9bb6740455",
   "metadata": {},
   "outputs": [],
   "source": [
    "genomic[\"room\"].max(1)"
   ]
  },
  {
   "cell_type": "code",
   "execution_count": null,
   "id": "0e829cbb-6d9c-4877-9211-e2c82ec840c2",
   "metadata": {},
   "outputs": [],
   "source": [
    "genomic[\"room\"].max(0)"
   ]
  },
  {
   "cell_type": "markdown",
   "id": "830d0355-3365-437d-b06d-04a179c5c19e",
   "metadata": {},
   "source": [
    "### sanity checking"
   ]
  },
  {
   "cell_type": "code",
   "execution_count": null,
   "id": "aa89d6fb-2dc4-43d1-b84a-c8ced43f8e06",
   "metadata": {},
   "outputs": [],
   "source": [
    "genomic[\"facility\"].mean(1).round(1)"
   ]
  },
  {
   "cell_type": "code",
   "execution_count": null,
   "id": "b9f56165-fbb8-4685-994b-bd10313020c6",
   "metadata": {},
   "outputs": [],
   "source": [
    "genomic[\"facility\"]"
   ]
  },
  {
   "cell_type": "code",
   "execution_count": null,
   "id": "3e033946-f4f8-4b1a-963d-26ce23a916fe",
   "metadata": {},
   "outputs": [],
   "source": [
    "genomic[\"floor_3\"]"
   ]
  },
  {
   "cell_type": "code",
   "execution_count": null,
   "id": "41d9b4d9-5d02-448d-96ae-a530626c57e9",
   "metadata": {},
   "outputs": [],
   "source": [
    "genomic[\"facility\"].max(1)"
   ]
  },
  {
   "cell_type": "code",
   "execution_count": null,
   "id": "5b061d1a-144e-41fd-8281-b7eb8d5aff85",
   "metadata": {},
   "outputs": [],
   "source": [
    "floor_sum = np.zeros((34, 52))\n",
    "for i in range(1, 6):\n",
    "    l = f\"floor_{i}\"\n",
    "    floor_sum += genomic[l]"
   ]
  },
  {
   "cell_type": "code",
   "execution_count": null,
   "id": "e07c99e9-73c3-4c61-a315-a7160b472e1e",
   "metadata": {},
   "outputs": [],
   "source": [
    "floor_sum.sum(0)"
   ]
  },
  {
   "cell_type": "code",
   "execution_count": null,
   "id": "007ca509-27d7-4e1e-9000-c5b75dfdf37a",
   "metadata": {},
   "outputs": [],
   "source": [
    "genomic[\"facility\"]"
   ]
  },
  {
   "cell_type": "code",
   "execution_count": null,
   "id": "aa30d236-6a8c-4c05-bac8-0ba4959be813",
   "metadata": {},
   "outputs": [],
   "source": [
    "floor_sum"
   ]
  },
  {
   "cell_type": "code",
   "execution_count": null,
   "id": "3d839fb8-c9fb-45bc-9a54-c17b8767fb1c",
   "metadata": {},
   "outputs": [],
   "source": [
    "floor_sum"
   ]
  },
  {
   "cell_type": "code",
   "execution_count": null,
   "id": "9c572837-a324-4812-9f7c-1837b35e873e",
   "metadata": {},
   "outputs": [],
   "source": [
    "genomic[\"facility\"]"
   ]
  },
  {
   "cell_type": "code",
   "execution_count": null,
   "id": "77a70d14-6800-426f-85a9-125750994c39",
   "metadata": {},
   "outputs": [],
   "source": [
    "(floor_sum == genomic[\"facility\"])"
   ]
  },
  {
   "cell_type": "code",
   "execution_count": null,
   "id": "7a129623-9a0a-4d8b-8fa9-239fb849c689",
   "metadata": {},
   "outputs": [],
   "source": [
    "for i in range(1,6):\n",
    "    l = f\"floor_{i}\"\n",
    "    print(genomic[l].max(1))"
   ]
  },
  {
   "cell_type": "code",
   "execution_count": null,
   "id": "213c8d28-0243-46b4-ad72-b0724dc683e9",
   "metadata": {},
   "outputs": [],
   "source": [
    "# looks like R_0 is around 2?\n",
    "# \\bar \\beta = .15, roughly speaking\n",
    "# average period of infectiousness: theoretically 13.3"
   ]
  }
 ],
 "metadata": {
  "language_info": {
   "name": "python"
  }
 },
 "nbformat": 4,
 "nbformat_minor": 5
}
