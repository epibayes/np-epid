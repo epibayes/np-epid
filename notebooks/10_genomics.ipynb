{
 "cells": [
  {
   "cell_type": "code",
   "execution_count": null,
   "metadata": {},
   "outputs": [],
   "source": [
    "import pandas as pd\n",
    "import numpy as np\n",
    "from matplotlib import pyplot as plt"
   ]
  },
  {
   "cell_type": "code",
   "execution_count": null,
   "metadata": {},
   "outputs": [],
   "source": [
    "pd.set_option('display.max_columns', None)"
   ]
  },
  {
   "cell_type": "code",
   "execution_count": null,
   "metadata": {},
   "outputs": [],
   "source": [
    "## load data\n",
    "epi_dir = '/Volumes/umms-esnitkin/Project_KPC_LTACH/Analysis/LTACH_transmission_modeling'\n",
    "cluster_file = f\"{epi_dir}/data/2021-01-26_cluster_isolate_summary_table.xlsx\"\n",
    "isolates = pd.read_csv(f\"{epi_dir}/data/2019-12-18_patient_isolate_date_lookup_df.csv\", index_col=0)\n",
    "infections = pd.read_csv(f\"{epi_dir}/preprocessed/resampled/infections.csv\", index_col=0)\n",
    "screening = pd.read_csv(f\"{epi_dir}/preprocessed/resampled/screening.csv\", index_col=0)\n",
    "facility_trace = pd.read_csv(f\"{epi_dir}/preprocessed/resampled/facility_trace.csv\", index_col=0)\n",
    "floor_trace = pd.read_csv(f\"{epi_dir}/preprocessed/resampled/floor_trace.csv\", index_col=0)\n",
    "room_trace = pd.read_csv(f\"{epi_dir}/preprocessed/resampled/room_trace.csv\", index_col=0)"
   ]
  },
  {
   "cell_type": "code",
   "execution_count": null,
   "metadata": {},
   "outputs": [],
   "source": [
    "f\"{epi_dir}/data/2021-01-26_cluster_isolate_summary_table.xlsx\""
   ]
  },
  {
   "cell_type": "code",
   "execution_count": null,
   "metadata": {},
   "outputs": [],
   "source": [
    "df = pd.read_excel(cluster_file, index_col=0)"
   ]
  },
  {
   "cell_type": "code",
   "execution_count": null,
   "metadata": {},
   "outputs": [],
   "source": [
    "df.head()"
   ]
  },
  {
   "cell_type": "markdown",
   "metadata": {},
   "source": [
    "## data exploration"
   ]
  },
  {
   "cell_type": "code",
   "execution_count": null,
   "metadata": {},
   "outputs": [],
   "source": [
    "df[\"patient.id\"].nunique()"
   ]
  },
  {
   "cell_type": "code",
   "execution_count": null,
   "metadata": {},
   "outputs": [],
   "source": [
    "(df[\"patient.id\"].value_counts() < 2).mean()\n",
    "# most patients only have one associated isolate..."
   ]
  },
  {
   "cell_type": "code",
   "execution_count": null,
   "metadata": {},
   "outputs": [],
   "source": [
    "df.groupby(\"patient.id\")[\"cluster.id\"].nunique().value_counts()\n",
    "# 87% of patients have just one cluster assignment..not a big stretch to discard secondary assignments, right?df"
   ]
  },
  {
   "cell_type": "code",
   "execution_count": null,
   "metadata": {},
   "outputs": [],
   "source": [
    "131 / 151"
   ]
  },
  {
   "cell_type": "markdown",
   "metadata": {},
   "source": [
    "cluster size"
   ]
  },
  {
   "cell_type": "code",
   "execution_count": null,
   "metadata": {},
   "outputs": [],
   "source": [
    "df[[\"patient.id\", \"cluster.id\"]].drop_duplicates()[\"cluster.id\"].value_counts().head()"
   ]
  },
  {
   "cell_type": "code",
   "execution_count": null,
   "metadata": {},
   "outputs": [],
   "source": [
    "df[\"cluster.id\"].nunique()"
   ]
  },
  {
   "cell_type": "markdown",
   "metadata": {},
   "source": [
    "## Data Processing"
   ]
  },
  {
   "cell_type": "code",
   "execution_count": null,
   "metadata": {},
   "outputs": [],
   "source": [
    "# first step: reduce down to one cluster per patient\n",
    "df_clean = df.sort_values([\"patient.id\", \"trace.format.culture.date\"]).drop_duplicates([\"patient.id\"])\n",
    "# there are other strategies for acheiving 1-1 clustering: merging into bigger clusters, keeping smaller clusters\n",
    "# e.g. df.sort_values([\"patient.id\", \"clust.pt.count\"]).drop_duplicates([\"patient.id\"])"
   ]
  },
  {
   "cell_type": "code",
   "execution_count": null,
   "metadata": {},
   "outputs": [],
   "source": [
    "# second step: keep only clusters that have an index patient\n",
    "indexed = df_clean.groupby(\"cluster.id\")[\"is.index.pt\"].any()\n",
    "indexed.name = \"has.index.patient\"\n",
    "df_clean = df_clean.join(indexed, on=\"cluster.id\")\n",
    "df_clean = df_clean[df_clean[\"has.index.patient\"] == True]"
   ]
  },
  {
   "cell_type": "code",
   "execution_count": null,
   "metadata": {},
   "outputs": [],
   "source": [
    "# third step: get rid of clusters that now have only one patient\n",
    "singleton = df_clean.groupby(\"cluster.id\")[\"patient.id\"].nunique() == 1\n",
    "singleton.name = \"singleton\"\n",
    "df_clean = df_clean.join(singleton, on=\"cluster.id\")\n",
    "df_clean = df_clean[df_clean[\"singleton\"] == False]"
   ]
  },
  {
   "cell_type": "code",
   "execution_count": null,
   "metadata": {},
   "outputs": [],
   "source": [
    "cluster_assignments = df_clean.set_index(\"patient.id\")[\"cluster.id\"]"
   ]
  },
  {
   "cell_type": "code",
   "execution_count": null,
   "metadata": {},
   "outputs": [],
   "source": [
    "len(np.unique(cluster_assignments))"
   ]
  },
  {
   "cell_type": "code",
   "execution_count": null,
   "metadata": {},
   "outputs": [],
   "source": [
    "np.sort(cluster_assignments.unique())\n",
    "\n",
    "# give this a try..convert these to consecutive integers, with \"1\" set aside for \"no cluster\""
   ]
  },
  {
   "cell_type": "code",
   "execution_count": null,
   "metadata": {},
   "outputs": [],
   "source": [
    "cluster_reindexing = {int(v):i+2 for i,v in enumerate(np.unique(cluster_assignments))}\n",
    "cluster_assignments_remapped = cluster_assignments.map(cluster_reindexing)"
   ]
  },
  {
   "cell_type": "code",
   "execution_count": null,
   "metadata": {},
   "outputs": [],
   "source": [
    "# create time series for cluster assignments\n",
    "\n",
    "df_cluster = pd.DataFrame(index = infections.index, columns = infections.columns)\n",
    "\n",
    "for i in infections.index:\n",
    "    if i in cluster_assignments_remapped.index:\n",
    "        cluster_key = cluster_assignments_remapped.loc[i]\n",
    "        df_cluster.loc[i] = infections.loc[i].replace(1, cluster_key)\n",
    "    else:\n",
    "        df_cluster.loc[i] = infections.loc[i]"
   ]
  },
  {
   "cell_type": "code",
   "execution_count": null,
   "metadata": {},
   "outputs": [],
   "source": [
    "cluster_counts = dict()\n",
    "for t in df_cluster.columns:\n",
    "    c = df_cluster[t]\n",
    "    cluster_counts[int(t)] = len(c[c > 1])\n",
    "cluster_counts = pd.Series(cluster_counts)\n",
    "\n",
    "plt.plot(cluster_counts)\n",
    "plt.ylim((0, None))\n",
    "plt.title(\"Number of Clusters in the Facility over Time\")\n",
    "plt.show()"
   ]
  },
  {
   "cell_type": "code",
   "execution_count": null,
   "metadata": {},
   "outputs": [],
   "source": [
    "# number clustered vs. unclustered over time\n",
    "unclustered = dict()\n",
    "clustered = dict()\n",
    "uninfected = dict()\n",
    "for t in df_cluster.columns:\n",
    "    c = df_cluster[t]\n",
    "    unclustered[int(t)] = (c == 1).sum()\n",
    "    clustered[int(t)] = (c > 1).sum()\n",
    "    uninfected[int(t)] = (c == 0).sum()\n",
    "unclustered = pd.Series(unclustered)\n",
    "clustered = pd.Series(clustered)\n",
    "uninfected = pd.Series(uninfected)"
   ]
  },
  {
   "cell_type": "code",
   "execution_count": null,
   "metadata": {},
   "outputs": [],
   "source": [
    "plt.plot(unclustered, label=\"Unclustered\")\n",
    "plt.plot(clustered, label=\"Clustered\")\n",
    "plt.plot(uninfected, label=\"Uninfected\")\n",
    "plt.legend()\n",
    "plt.ylabel(\"Number of Patients\")\n",
    "plt.ylim((0, None))"
   ]
  },
  {
   "cell_type": "markdown",
   "metadata": {},
   "source": [
    "Why would there be more patients belonging to \"no cluster\" at the beginning of the study?"
   ]
  },
  {
   "cell_type": "code",
   "execution_count": null,
   "metadata": {},
   "outputs": [],
   "source": [
    "# who are the \"index patients\"? "
   ]
  },
  {
   "cell_type": "code",
   "execution_count": null,
   "metadata": {},
   "outputs": [],
   "source": [
    "(infections == 1).any(axis=1).sum()"
   ]
  },
  {
   "cell_type": "code",
   "execution_count": null,
   "metadata": {},
   "outputs": [],
   "source": [
    "df[\"patient.id\"].nunique()"
   ]
  },
  {
   "cell_type": "code",
   "execution_count": null,
   "metadata": {},
   "outputs": [],
   "source": [
    "screened = set(screening.index[(screening == 1).any(axis=1)])"
   ]
  },
  {
   "cell_type": "code",
   "execution_count": null,
   "metadata": {},
   "outputs": [],
   "source": [
    "index_pts = set(df_clean[df_clean[\"is.index.pt\"] == True][\"patient.id\"])"
   ]
  },
  {
   "cell_type": "code",
   "execution_count": null,
   "metadata": {},
   "outputs": [],
   "source": [
    "index_pts < screened"
   ]
  },
  {
   "cell_type": "markdown",
   "metadata": {},
   "source": [
    "## what is the overlap between genomics and the \"infections\" data?\n",
    "\n",
    "how many infections are covered by the cleaned clustering data?"
   ]
  },
  {
   "cell_type": "code",
   "execution_count": null,
   "metadata": {},
   "outputs": [],
   "source": [
    "infections_cleaned = pd.read_csv(f\"{epi_dir}/preprocessed/infections.csv\", index_col=0)\n",
    "infections_cleaned.columns = np.arange(367)"
   ]
  },
  {
   "cell_type": "code",
   "execution_count": null,
   "metadata": {},
   "outputs": [],
   "source": [
    "infecteds = np.array(infections_cleaned.index[(infections_cleaned == 1).any(axis=1)])"
   ]
  },
  {
   "cell_type": "code",
   "execution_count": null,
   "metadata": {},
   "outputs": [],
   "source": [
    "len(infecteds)"
   ]
  },
  {
   "cell_type": "code",
   "execution_count": null,
   "metadata": {},
   "outputs": [],
   "source": [
    "df[\"patient.id\"].nunique() / len(infecteds)\n",
    "# in the raw cluster data: 42% of patients are unclustered"
   ]
  },
  {
   "cell_type": "code",
   "execution_count": null,
   "metadata": {},
   "outputs": [],
   "source": [
    "110 / 259"
   ]
  },
  {
   "cell_type": "code",
   "execution_count": null,
   "metadata": {},
   "outputs": [],
   "source": [
    "df_clean[\"patient.id\"].nunique() / len(infecteds)\n",
    "# in the cleaned data, this drops down to 40%\n",
    "# could possibly get this back above 50% if i knew \n",
    "# how to handle clusters without index patients"
   ]
  },
  {
   "cell_type": "code",
   "execution_count": null,
   "metadata": {},
   "outputs": [],
   "source": [
    "# what is the balance between index patients, cluster acquisitions, and unclustered patients?"
   ]
  },
  {
   "cell_type": "code",
   "execution_count": null,
   "metadata": {},
   "outputs": [],
   "source": [
    "df_clean[\"is.index.pt\"].value_counts()\n",
    "# 67 acquisitions...this might be enough for a signal..!"
   ]
  },
  {
   "cell_type": "markdown",
   "metadata": {},
   "source": [
    "#### break down of unclustered"
   ]
  },
  {
   "cell_type": "code",
   "execution_count": null,
   "metadata": {},
   "outputs": [],
   "source": [
    "unclustered = set(infecteds) - set(df[\"patient.id\"])"
   ]
  },
  {
   "cell_type": "code",
   "execution_count": null,
   "metadata": {},
   "outputs": [],
   "source": [
    "type(infections.loc[5].notna().idxmax())"
   ]
  },
  {
   "cell_type": "code",
   "execution_count": null,
   "metadata": {},
   "outputs": [],
   "source": [
    "adm_negative = 0\n",
    "adm_positive = 0\n",
    "for i in list(unclustered):\n",
    "    v = int(infections.loc[i].notna().idxmax())\n",
    "    if v:\n",
    "        adm_positive += 1\n",
    "    else:\n",
    "        adm_negative += 1"
   ]
  },
  {
   "cell_type": "code",
   "execution_count": null,
   "metadata": {},
   "outputs": [],
   "source": [
    "adm_positive, adm_negative"
   ]
  },
  {
   "cell_type": "code",
   "execution_count": null,
   "metadata": {},
   "outputs": [],
   "source": [
    "(df[\"patient.id\"].nunique() + 43) / len(infecteds)"
   ]
  },
  {
   "cell_type": "markdown",
   "metadata": {},
   "source": [
    "## evidence of room/floor transmission"
   ]
  },
  {
   "cell_type": "code",
   "execution_count": null,
   "metadata": {},
   "outputs": [],
   "source": [
    "i = 5\n",
    "cluster = cluster_assignments_remapped.iloc[i]\n",
    "patient_ids = np.array(cluster_assignments_remapped[cluster_assignments_remapped == cluster].index)"
   ]
  },
  {
   "cell_type": "markdown",
   "metadata": {},
   "source": [
    "roughly speaking: when one patient acquires CRKP, is there recently a room or floor shared?\n",
    "\n",
    "one issue: the resampling measure may discard some fine detail (brief periods of overlap)\n",
    "another issue: my epidemiological model only considers the most recent contact network (previous timestep)\n",
    "is there room for modifying it to include some sort of time lag? "
   ]
  },
  {
   "cell_type": "code",
   "execution_count": null,
   "metadata": {},
   "outputs": [],
   "source": [
    "infections.loc[patient_ids]"
   ]
  },
  {
   "cell_type": "code",
   "execution_count": null,
   "metadata": {},
   "outputs": [],
   "source": [
    "floor_trace.loc[patient_ids]"
   ]
  },
  {
   "cell_type": "code",
   "execution_count": null,
   "metadata": {},
   "outputs": [],
   "source": [
    "room_trace.loc[patient_ids]"
   ]
  },
  {
   "cell_type": "code",
   "execution_count": null,
   "metadata": {},
   "outputs": [],
   "source": [
    "cluster_assignments_remapped.iloc[0]"
   ]
  },
  {
   "cell_type": "code",
   "execution_count": null,
   "metadata": {},
   "outputs": [],
   "source": [
    "floor_trace"
   ]
  },
  {
   "cell_type": "markdown",
   "metadata": {},
   "source": [
    "### get counts in each cluster over time"
   ]
  },
  {
   "cell_type": "code",
   "execution_count": null,
   "metadata": {},
   "outputs": [],
   "source": []
  }
 ],
 "metadata": {
  "language_info": {
   "name": "python"
  }
 },
 "nbformat": 4,
 "nbformat_minor": 4
}
