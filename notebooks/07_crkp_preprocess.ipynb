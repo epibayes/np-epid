{
 "cells": [
  {
   "cell_type": "code",
   "execution_count": 1,
   "id": "7cda2ee4-eac6-4dcd-a322-614dbb4dadf0",
   "metadata": {},
   "outputs": [],
   "source": [
    "import pandas as pd\n",
    "import numpy as np\n",
    "import matplotlib.pyplot as plt\n",
    "import seaborn as sns\n",
    "from warnings import simplefilter\n",
    "simplefilter(action=\"ignore\", category=pd.errors.PerformanceWarning)"
   ]
  },
  {
   "cell_type": "markdown",
   "id": "1fa74641-1790-4f50-b047-6142e6f31477",
   "metadata": {},
   "source": [
    "## Summary \n",
    "\n",
    "1. Clean infections data: if someone tests negative after testing positive, overwrite that result (assumes these are false negatives)\n",
    "2. If a patient tests positive within three days of their admission to the facility, we assume they entered with an infection. Clean the data to back-date their start of infection time to admission"
   ]
  },
  {
   "cell_type": "code",
   "execution_count": 2,
   "id": "e2a5fb43-638e-4822-b57c-f34d2538aea2",
   "metadata": {},
   "outputs": [],
   "source": [
    "epi_dir = '/Volumes/umms-esnitkin/Project_KPC_LTACH/Analysis/LTACH_transmission_modeling'"
   ]
  },
  {
   "cell_type": "code",
   "execution_count": 3,
   "id": "ac49353d-b273-4779-b212-97e8d63dba6a",
   "metadata": {},
   "outputs": [],
   "source": [
    "infections = pd.read_csv(f\"{epi_dir}/preprocessed/augmented/facility_trace.csv\", index_col=0)\n",
    "infections.columns = np.arange(367)\n",
    "df_floor = pd.read_csv(f\"{epi_dir}/preprocessed/augmented/floor_trace.csv\", index_col=0)\n",
    "df_floor.columns = np.arange(367)\n",
    "df_room = pd.read_csv(f\"{epi_dir}/preprocessed/augmented/room_trace.csv\", index_col=0)\n",
    "df_room.columns = np.arange(367)"
   ]
  },
  {
   "cell_type": "code",
   "execution_count": 4,
   "id": "0acc48a1-098f-4242-a2c9-ab2746ff44b0",
   "metadata": {},
   "outputs": [],
   "source": [
    "infections_cleaned = infections.copy()\n",
    "messy_indices = []\n",
    "for i, row in infections_cleaned.iterrows():\n",
    "    infected = False\n",
    "    for j, v in row.items():\n",
    "        if infected:\n",
    "            if v == 0:\n",
    "                # does someone test negative after testing positive in a visit?\n",
    "                # overwrite that test result\n",
    "                row[j] = 1\n",
    "                messy_indices.append(i)\n",
    "        if v == 1:\n",
    "            infected = True\n",
    "        if np.isnan(v):\n",
    "            infected = False\n",
    "messy_indices = set(messy_indices)"
   ]
  },
  {
   "cell_type": "code",
   "execution_count": 5,
   "id": "5ee98f13-a68c-485c-9418-890e0f30f8f2",
   "metadata": {},
   "outputs": [
    {
     "data": {
      "text/plain": [
       "{13, 92, 155, 162, 295}"
      ]
     },
     "execution_count": 5,
     "metadata": {},
     "output_type": "execute_result"
    }
   ],
   "source": [
    "messy_indices"
   ]
  },
  {
   "cell_type": "markdown",
   "id": "2272f01e-332b-4ee5-9faa-b253a475dbba",
   "metadata": {},
   "source": [
    "It's possible that some of these are initial false positives, but we assume these are subsequent false negatives"
   ]
  },
  {
   "cell_type": "code",
   "execution_count": 6,
   "id": "b4233879-5719-4011-a3bd-061763352a07",
   "metadata": {},
   "outputs": [],
   "source": [
    "facility_trace_old= pd.read_csv(f\"{epi_dir}/data/2019-12-18_facility_trace.csv\", index_col=0)\n",
    "facility_trace_old.columns = np.arange(367)"
   ]
  },
  {
   "cell_type": "code",
   "execution_count": 7,
   "id": "15fa8b53-13b6-42c3-bc96-cf0a33cbe64b",
   "metadata": {},
   "outputs": [],
   "source": [
    "never_infected_index = df_floor.index[260:]"
   ]
  },
  {
   "cell_type": "code",
   "execution_count": 8,
   "id": "c4902195-f866-453a-9b74-ed056b0969ed",
   "metadata": {},
   "outputs": [],
   "source": [
    "# modify this: as long as old ftrace data is available, use that\n",
    "df_screen = pd.DataFrame(index=df_floor.index, columns=df_floor.columns)\n",
    "M = facility_trace_old.index.max()\n",
    "for n, r in facility_trace_old.iterrows():\n",
    "    entry_time = 0\n",
    "    entered = False\n",
    "    recorded = False\n",
    "    for t, v in r.items():\n",
    "        if v > 0 and not entered:\n",
    "            # record entry time\n",
    "            entry_time = t\n",
    "            entered = True\n",
    "        if entered and v == 0:\n",
    "            # patient has exited facility\n",
    "            entered = False\n",
    "            recorded = False\n",
    "        if v > 1 and not recorded:\n",
    "            test_time = t - entry_time\n",
    "            if test_time < 3:\n",
    "                df_screen.loc[n, entry_time] = 1 if v == 1.5 else 0\n",
    "                # fix this in infections cleaned?\n",
    "                infections_cleaned.loc[n, entry_time] = 1 if v == 1.5 else 0\n",
    "            else:\n",
    "                df_screen.loc[n,entry_time] = 0\n",
    "                infections_cleaned.loc[n, entry_time] = 0\n",
    "            recorded = True"
   ]
  },
  {
   "cell_type": "code",
   "execution_count": 9,
   "id": "02f89680-fab8-452d-96df-b27849d13e19",
   "metadata": {},
   "outputs": [],
   "source": [
    "for n in never_infected_index:\n",
    "    r = infections_cleaned.loc[n]\n",
    "    entered = False\n",
    "    for t, v in r.items():\n",
    "        if not np.isnan(v) and not entered:\n",
    "            entered = True\n",
    "            df_screen.loc[n, t] = v\n",
    "        if entered and np.isnan(v):\n",
    "            entered = False"
   ]
  },
  {
   "cell_type": "code",
   "execution_count": 10,
   "id": "d0593f82-f944-4961-9f3f-e14694e9e4fd",
   "metadata": {},
   "outputs": [],
   "source": [
    "df_facility = (infections_cleaned.notna()).astype(int)"
   ]
  },
  {
   "cell_type": "markdown",
   "id": "5211d923-9dca-4a6d-a1ce-d5addc08b4d6",
   "metadata": {},
   "source": [
    "## Reconcile floor and room traces\n",
    "\n"
   ]
  },
  {
   "cell_type": "markdown",
   "id": "9ef06064-4780-4c41-a4fe-2bc2913c4922",
   "metadata": {},
   "source": [
    "#### Problem 1: phantom visit (floor/room record, no infections record)"
   ]
  },
  {
   "cell_type": "markdown",
   "id": "dbfefcde-ea5d-46e8-b43d-ea8b2b90c290",
   "metadata": {},
   "source": [
    "Strategy 1: ignore these visits\n",
    "\n",
    "Strategy 2: fill them in...with ones if they have neighbors, with zeros otherwise (no test records)\n",
    "\n",
    "strategy 2 is too complicated lol"
   ]
  },
  {
   "cell_type": "code",
   "execution_count": 33,
   "id": "0f1cd19d-9e75-4fd9-bd4f-f6463e6c3c3f",
   "metadata": {},
   "outputs": [],
   "source": [
    "for n, r in df_facility.iterrows():\n",
    "    for t, v in r.items():\n",
    "        \n",
    "        if (v == 0) and (\n",
    "            (df_floor.loc[n, t] > 0) or (df_room.loc[n, t] > 0)\n",
    "        ):\n",
    "            df_floor.loc[n, t]  = 0\n",
    "            df_room.loc[n, t] = 0"
   ]
  },
  {
   "cell_type": "markdown",
   "id": "e4b38d80-6a7b-44aa-ab7a-f7b9beeabf0c",
   "metadata": {},
   "source": [
    "#### Problem 2: Untraced visit (present but room/floor trace data is unavailable)\n",
    "\n",
    "strategy: backfill from the last room/floor\n",
    "unless it's a one-off entry at the beginning of the time series, then assume error"
   ]
  },
  {
   "cell_type": "code",
   "execution_count": 48,
   "id": "cd7aee9d-7fc2-4afd-b1c1-882947735b82",
   "metadata": {},
   "outputs": [],
   "source": [
    "# for n, _ in infections_cleaned.iterrows():\n",
    "#     if not np.isnan(infections_cleaned.loc[n, 0]) and np.isnan(infections_cleaned.loc[n, 1]):\n",
    "#         print(n)\n",
    "#         print(infections_cleaned.loc[n, :5])"
   ]
  },
  {
   "cell_type": "code",
   "execution_count": 53,
   "id": "ed705589-f2c5-4eef-bc4f-ee7c18564ca0",
   "metadata": {},
   "outputs": [
    {
     "data": {
      "text/html": [
       "<div>\n",
       "<style scoped>\n",
       "    .dataframe tbody tr th:only-of-type {\n",
       "        vertical-align: middle;\n",
       "    }\n",
       "\n",
       "    .dataframe tbody tr th {\n",
       "        vertical-align: top;\n",
       "    }\n",
       "\n",
       "    .dataframe thead th {\n",
       "        text-align: right;\n",
       "    }\n",
       "</style>\n",
       "<table border=\"1\" class=\"dataframe\">\n",
       "  <thead>\n",
       "    <tr style=\"text-align: right;\">\n",
       "      <th></th>\n",
       "      <th>0</th>\n",
       "      <th>1</th>\n",
       "      <th>2</th>\n",
       "      <th>3</th>\n",
       "      <th>4</th>\n",
       "      <th>5</th>\n",
       "      <th>6</th>\n",
       "      <th>7</th>\n",
       "      <th>8</th>\n",
       "      <th>9</th>\n",
       "      <th>...</th>\n",
       "      <th>357</th>\n",
       "      <th>358</th>\n",
       "      <th>359</th>\n",
       "      <th>360</th>\n",
       "      <th>361</th>\n",
       "      <th>362</th>\n",
       "      <th>363</th>\n",
       "      <th>364</th>\n",
       "      <th>365</th>\n",
       "      <th>366</th>\n",
       "    </tr>\n",
       "  </thead>\n",
       "  <tbody>\n",
       "    <tr>\n",
       "      <th>1</th>\n",
       "      <td>1</td>\n",
       "      <td>NaN</td>\n",
       "      <td>NaN</td>\n",
       "      <td>NaN</td>\n",
       "      <td>NaN</td>\n",
       "      <td>NaN</td>\n",
       "      <td>NaN</td>\n",
       "      <td>NaN</td>\n",
       "      <td>NaN</td>\n",
       "      <td>NaN</td>\n",
       "      <td>...</td>\n",
       "      <td>NaN</td>\n",
       "      <td>NaN</td>\n",
       "      <td>NaN</td>\n",
       "      <td>NaN</td>\n",
       "      <td>NaN</td>\n",
       "      <td>NaN</td>\n",
       "      <td>NaN</td>\n",
       "      <td>NaN</td>\n",
       "      <td>NaN</td>\n",
       "      <td>NaN</td>\n",
       "    </tr>\n",
       "    <tr>\n",
       "      <th>2</th>\n",
       "      <td>NaN</td>\n",
       "      <td>NaN</td>\n",
       "      <td>NaN</td>\n",
       "      <td>NaN</td>\n",
       "      <td>NaN</td>\n",
       "      <td>NaN</td>\n",
       "      <td>NaN</td>\n",
       "      <td>NaN</td>\n",
       "      <td>NaN</td>\n",
       "      <td>NaN</td>\n",
       "      <td>...</td>\n",
       "      <td>NaN</td>\n",
       "      <td>NaN</td>\n",
       "      <td>NaN</td>\n",
       "      <td>NaN</td>\n",
       "      <td>NaN</td>\n",
       "      <td>NaN</td>\n",
       "      <td>NaN</td>\n",
       "      <td>NaN</td>\n",
       "      <td>NaN</td>\n",
       "      <td>NaN</td>\n",
       "    </tr>\n",
       "    <tr>\n",
       "      <th>3</th>\n",
       "      <td>1</td>\n",
       "      <td>NaN</td>\n",
       "      <td>NaN</td>\n",
       "      <td>NaN</td>\n",
       "      <td>NaN</td>\n",
       "      <td>NaN</td>\n",
       "      <td>NaN</td>\n",
       "      <td>NaN</td>\n",
       "      <td>NaN</td>\n",
       "      <td>NaN</td>\n",
       "      <td>...</td>\n",
       "      <td>NaN</td>\n",
       "      <td>NaN</td>\n",
       "      <td>NaN</td>\n",
       "      <td>NaN</td>\n",
       "      <td>NaN</td>\n",
       "      <td>NaN</td>\n",
       "      <td>NaN</td>\n",
       "      <td>NaN</td>\n",
       "      <td>NaN</td>\n",
       "      <td>NaN</td>\n",
       "    </tr>\n",
       "    <tr>\n",
       "      <th>4</th>\n",
       "      <td>NaN</td>\n",
       "      <td>NaN</td>\n",
       "      <td>NaN</td>\n",
       "      <td>NaN</td>\n",
       "      <td>NaN</td>\n",
       "      <td>NaN</td>\n",
       "      <td>NaN</td>\n",
       "      <td>NaN</td>\n",
       "      <td>NaN</td>\n",
       "      <td>NaN</td>\n",
       "      <td>...</td>\n",
       "      <td>NaN</td>\n",
       "      <td>NaN</td>\n",
       "      <td>NaN</td>\n",
       "      <td>NaN</td>\n",
       "      <td>NaN</td>\n",
       "      <td>NaN</td>\n",
       "      <td>NaN</td>\n",
       "      <td>NaN</td>\n",
       "      <td>NaN</td>\n",
       "      <td>NaN</td>\n",
       "    </tr>\n",
       "    <tr>\n",
       "      <th>5</th>\n",
       "      <td>NaN</td>\n",
       "      <td>NaN</td>\n",
       "      <td>NaN</td>\n",
       "      <td>NaN</td>\n",
       "      <td>NaN</td>\n",
       "      <td>NaN</td>\n",
       "      <td>NaN</td>\n",
       "      <td>NaN</td>\n",
       "      <td>NaN</td>\n",
       "      <td>NaN</td>\n",
       "      <td>...</td>\n",
       "      <td>NaN</td>\n",
       "      <td>NaN</td>\n",
       "      <td>NaN</td>\n",
       "      <td>NaN</td>\n",
       "      <td>NaN</td>\n",
       "      <td>NaN</td>\n",
       "      <td>NaN</td>\n",
       "      <td>NaN</td>\n",
       "      <td>NaN</td>\n",
       "      <td>NaN</td>\n",
       "    </tr>\n",
       "    <tr>\n",
       "      <th>...</th>\n",
       "      <td>...</td>\n",
       "      <td>...</td>\n",
       "      <td>...</td>\n",
       "      <td>...</td>\n",
       "      <td>...</td>\n",
       "      <td>...</td>\n",
       "      <td>...</td>\n",
       "      <td>...</td>\n",
       "      <td>...</td>\n",
       "      <td>...</td>\n",
       "      <td>...</td>\n",
       "      <td>...</td>\n",
       "      <td>...</td>\n",
       "      <td>...</td>\n",
       "      <td>...</td>\n",
       "      <td>...</td>\n",
       "      <td>...</td>\n",
       "      <td>...</td>\n",
       "      <td>...</td>\n",
       "      <td>...</td>\n",
       "      <td>...</td>\n",
       "    </tr>\n",
       "    <tr>\n",
       "      <th>1426</th>\n",
       "      <td>NaN</td>\n",
       "      <td>NaN</td>\n",
       "      <td>NaN</td>\n",
       "      <td>NaN</td>\n",
       "      <td>NaN</td>\n",
       "      <td>NaN</td>\n",
       "      <td>NaN</td>\n",
       "      <td>NaN</td>\n",
       "      <td>NaN</td>\n",
       "      <td>NaN</td>\n",
       "      <td>...</td>\n",
       "      <td>NaN</td>\n",
       "      <td>NaN</td>\n",
       "      <td>NaN</td>\n",
       "      <td>NaN</td>\n",
       "      <td>NaN</td>\n",
       "      <td>NaN</td>\n",
       "      <td>NaN</td>\n",
       "      <td>NaN</td>\n",
       "      <td>NaN</td>\n",
       "      <td>NaN</td>\n",
       "    </tr>\n",
       "    <tr>\n",
       "      <th>1427</th>\n",
       "      <td>NaN</td>\n",
       "      <td>NaN</td>\n",
       "      <td>NaN</td>\n",
       "      <td>NaN</td>\n",
       "      <td>NaN</td>\n",
       "      <td>NaN</td>\n",
       "      <td>NaN</td>\n",
       "      <td>NaN</td>\n",
       "      <td>NaN</td>\n",
       "      <td>NaN</td>\n",
       "      <td>...</td>\n",
       "      <td>NaN</td>\n",
       "      <td>NaN</td>\n",
       "      <td>NaN</td>\n",
       "      <td>NaN</td>\n",
       "      <td>NaN</td>\n",
       "      <td>NaN</td>\n",
       "      <td>NaN</td>\n",
       "      <td>NaN</td>\n",
       "      <td>NaN</td>\n",
       "      <td>NaN</td>\n",
       "    </tr>\n",
       "    <tr>\n",
       "      <th>1428</th>\n",
       "      <td>NaN</td>\n",
       "      <td>NaN</td>\n",
       "      <td>NaN</td>\n",
       "      <td>NaN</td>\n",
       "      <td>NaN</td>\n",
       "      <td>NaN</td>\n",
       "      <td>NaN</td>\n",
       "      <td>NaN</td>\n",
       "      <td>NaN</td>\n",
       "      <td>NaN</td>\n",
       "      <td>...</td>\n",
       "      <td>NaN</td>\n",
       "      <td>NaN</td>\n",
       "      <td>NaN</td>\n",
       "      <td>NaN</td>\n",
       "      <td>NaN</td>\n",
       "      <td>NaN</td>\n",
       "      <td>NaN</td>\n",
       "      <td>NaN</td>\n",
       "      <td>NaN</td>\n",
       "      <td>NaN</td>\n",
       "    </tr>\n",
       "    <tr>\n",
       "      <th>1429</th>\n",
       "      <td>NaN</td>\n",
       "      <td>NaN</td>\n",
       "      <td>NaN</td>\n",
       "      <td>NaN</td>\n",
       "      <td>NaN</td>\n",
       "      <td>NaN</td>\n",
       "      <td>NaN</td>\n",
       "      <td>NaN</td>\n",
       "      <td>NaN</td>\n",
       "      <td>NaN</td>\n",
       "      <td>...</td>\n",
       "      <td>NaN</td>\n",
       "      <td>NaN</td>\n",
       "      <td>NaN</td>\n",
       "      <td>NaN</td>\n",
       "      <td>NaN</td>\n",
       "      <td>NaN</td>\n",
       "      <td>NaN</td>\n",
       "      <td>NaN</td>\n",
       "      <td>NaN</td>\n",
       "      <td>NaN</td>\n",
       "    </tr>\n",
       "    <tr>\n",
       "      <th>1430</th>\n",
       "      <td>0.0</td>\n",
       "      <td>NaN</td>\n",
       "      <td>NaN</td>\n",
       "      <td>NaN</td>\n",
       "      <td>NaN</td>\n",
       "      <td>NaN</td>\n",
       "      <td>NaN</td>\n",
       "      <td>NaN</td>\n",
       "      <td>NaN</td>\n",
       "      <td>NaN</td>\n",
       "      <td>...</td>\n",
       "      <td>NaN</td>\n",
       "      <td>NaN</td>\n",
       "      <td>NaN</td>\n",
       "      <td>NaN</td>\n",
       "      <td>NaN</td>\n",
       "      <td>NaN</td>\n",
       "      <td>NaN</td>\n",
       "      <td>NaN</td>\n",
       "      <td>NaN</td>\n",
       "      <td>NaN</td>\n",
       "    </tr>\n",
       "  </tbody>\n",
       "</table>\n",
       "<p>890 rows × 367 columns</p>\n",
       "</div>"
      ],
      "text/plain": [
       "      0    1    2    3    4    5    6    7    8    9    ...  357  358  359  \\\n",
       "1       1  NaN  NaN  NaN  NaN  NaN  NaN  NaN  NaN  NaN  ...  NaN  NaN  NaN   \n",
       "2     NaN  NaN  NaN  NaN  NaN  NaN  NaN  NaN  NaN  NaN  ...  NaN  NaN  NaN   \n",
       "3       1  NaN  NaN  NaN  NaN  NaN  NaN  NaN  NaN  NaN  ...  NaN  NaN  NaN   \n",
       "4     NaN  NaN  NaN  NaN  NaN  NaN  NaN  NaN  NaN  NaN  ...  NaN  NaN  NaN   \n",
       "5     NaN  NaN  NaN  NaN  NaN  NaN  NaN  NaN  NaN  NaN  ...  NaN  NaN  NaN   \n",
       "...   ...  ...  ...  ...  ...  ...  ...  ...  ...  ...  ...  ...  ...  ...   \n",
       "1426  NaN  NaN  NaN  NaN  NaN  NaN  NaN  NaN  NaN  NaN  ...  NaN  NaN  NaN   \n",
       "1427  NaN  NaN  NaN  NaN  NaN  NaN  NaN  NaN  NaN  NaN  ...  NaN  NaN  NaN   \n",
       "1428  NaN  NaN  NaN  NaN  NaN  NaN  NaN  NaN  NaN  NaN  ...  NaN  NaN  NaN   \n",
       "1429  NaN  NaN  NaN  NaN  NaN  NaN  NaN  NaN  NaN  NaN  ...  NaN  NaN  NaN   \n",
       "1430  0.0  NaN  NaN  NaN  NaN  NaN  NaN  NaN  NaN  NaN  ...  NaN  NaN  NaN   \n",
       "\n",
       "      360  361  362  363  364  365  366  \n",
       "1     NaN  NaN  NaN  NaN  NaN  NaN  NaN  \n",
       "2     NaN  NaN  NaN  NaN  NaN  NaN  NaN  \n",
       "3     NaN  NaN  NaN  NaN  NaN  NaN  NaN  \n",
       "4     NaN  NaN  NaN  NaN  NaN  NaN  NaN  \n",
       "5     NaN  NaN  NaN  NaN  NaN  NaN  NaN  \n",
       "...   ...  ...  ...  ...  ...  ...  ...  \n",
       "1426  NaN  NaN  NaN  NaN  NaN  NaN  NaN  \n",
       "1427  NaN  NaN  NaN  NaN  NaN  NaN  NaN  \n",
       "1428  NaN  NaN  NaN  NaN  NaN  NaN  NaN  \n",
       "1429  NaN  NaN  NaN  NaN  NaN  NaN  NaN  \n",
       "1430  NaN  NaN  NaN  NaN  NaN  NaN  NaN  \n",
       "\n",
       "[890 rows x 367 columns]"
      ]
     },
     "execution_count": 53,
     "metadata": {},
     "output_type": "execute_result"
    }
   ],
   "source": [
    "df_screen"
   ]
  },
  {
   "cell_type": "code",
   "execution_count": 59,
   "id": "adc14a50-922e-49da-bb8c-e995f65c78db",
   "metadata": {},
   "outputs": [],
   "source": [
    "for n, r in df_facility.iterrows():\n",
    "    for t, v in r.items():\n",
    "        if (v == 1) and (df_floor.loc[n, t] == 0):\n",
    "            if t == 0:\n",
    "                infections_cleaned.loc[n, t] = np.nan\n",
    "                df_screen.loc[n, t] = np.nan\n",
    "                df_facility.loc[n, t] = 0\n",
    "            else:\n",
    "                df_floor.loc[n, t] = df_floor.loc[n, t-1]\n",
    "                df_room.loc[n, t] = df_room.loc[n, t-1]"
   ]
  },
  {
   "cell_type": "markdown",
   "id": "a230e8bc-3af0-4a88-8cfa-a8ab2eb0d77d",
   "metadata": {},
   "source": [
    "### Sanity Checks"
   ]
  },
  {
   "cell_type": "code",
   "execution_count": 69,
   "id": "228fe1b7-fd87-45d2-baa6-26d8e0b6024d",
   "metadata": {},
   "outputs": [],
   "source": [
    "assert ((df_floor > 0).values == (df_room > 0).values).all()\n",
    "assert ((infections_cleaned.notna()).values == (df_facility > 0).values).all()\n",
    "for n, r in df_screen.iterrows():\n",
    "    for t, v in r.items():\n",
    "        if not np.isnan(v):\n",
    "            assert infections_cleaned.loc[n, t] == v\n",
    "            # assert not np.isnan(infections_cleaned.loc[n, t])\n",
    "assert ((infections_cleaned.notna()).values == (df_floor > 0).values).all()"
   ]
  },
  {
   "cell_type": "code",
   "execution_count": 70,
   "id": "b9287d3b-b887-4474-a882-35bf21361d50",
   "metadata": {},
   "outputs": [
    {
     "data": {
      "image/png": "[encoded data removed]",
      "text/plain": [
       "<Figure size 640x480 with 1 Axes>"
      ]
     },
     "metadata": {},
     "output_type": "display_data"
    }
   ],
   "source": [
    "sns.lineplot(df_facility.sum(0), color=\"green\", linestyle=\"--\", label=\"population\")\n",
    "sns.lineplot(infections_cleaned.sum(0), label=\"infected\")\n",
    "plt.ylim(bottom=0)\n",
    "plt.show()"
   ]
  },
  {
   "cell_type": "code",
   "execution_count": 71,
   "id": "11fb461e-414a-4951-840a-1cbd2492e26f",
   "metadata": {},
   "outputs": [
    {
     "data": {
      "text/plain": [
       "(0.0, 1.0)"
      ]
     },
     "execution_count": 71,
     "metadata": {},
     "output_type": "execute_result"
    },
    {
     "data": {
      "image/png": "[encoded data removed]",
      "text/plain": [
       "<Figure size 640x480 with 1 Axes>"
      ]
     },
     "metadata": {},
     "output_type": "display_data"
    }
   ],
   "source": [
    "NN = df_facility.sum(0)\n",
    "II = infections_cleaned.sum(0)\n",
    "\n",
    "sns.lineplot(II / NN)\n",
    "plt.ylim(bottom=0, top=1)"
   ]
  },
  {
   "cell_type": "markdown",
   "id": "595b6151-dbda-418c-854f-c7abf89b296f",
   "metadata": {},
   "source": [
    "### Heterogeneous Observed Data"
   ]
  },
  {
   "cell_type": "markdown",
   "id": "0d9276d9-f058-437d-b718-987d2659f269",
   "metadata": {},
   "source": [
    "### Save"
   ]
  },
  {
   "cell_type": "code",
   "execution_count": 72,
   "id": "35e3f2e7-9f5e-4de5-9e3c-b63b42b22d2f",
   "metadata": {},
   "outputs": [],
   "source": [
    "# write out data\n",
    "output_dir = '/Volumes/umms-esnitkin/Project_KPC_LTACH/Analysis/LTACH_transmission_modeling/preprocessed'\n",
    "infections_cleaned.to_csv(f\"{output_dir}/infections.csv\")\n",
    "# with open(f\"{output_dir}/observed_data.npy\", \"wb\") as f:\n",
    "#     np.save(f, observed_data)\n",
    "df_screen.to_csv(f\"{output_dir}/screening.csv\")\n",
    "df_facility.to_csv(f\"{output_dir}/facility_trace.csv\")\n",
    "df_floor.to_csv(f\"{output_dir}/floor_trace.csv\")\n",
    "df_room.to_csv(f\"{output_dir}/room_trace.csv\")"
   ]
  }
 ],
 "metadata": {
  "kernelspec": {
   "display_name": "research",
   "language": "python",
   "name": "python3"
  },
  "language_info": {
   "codemirror_mode": {
    "name": "ipython",
    "version": 3
   },
   "file_extension": ".py",
   "mimetype": "text/x-python",
   "name": "python",
   "nbconvert_exporter": "python",
   "pygments_lexer": "ipython3",
   "version": "3.11.7"
  }
 },
 "nbformat": 4,
 "nbformat_minor": 5
}
