{
 "cells": [
  {
   "cell_type": "code",
   "execution_count": 1,
   "metadata": {},
   "outputs": [],
   "source": [
    "import matplotlib.pyplot as plt\n",
    "import numpy as np"
   ]
  },
  {
   "cell_type": "code",
   "execution_count": 47,
   "metadata": {},
   "outputs": [],
   "source": [
    "# true coefs\n",
    "beta_true = np.array([1.6, -.9])\n",
    "# generate data\n",
    "np.random.seed(5)\n",
    "n = 10\n",
    "X = np.random.uniform(low = -5, high=5, size=(n, 2))\n",
    "sigma = 1\n",
    "y = np.random.normal(loc=X@beta_true, scale=sigma)"
   ]
  },
  {
   "cell_type": "code",
   "execution_count": 48,
   "metadata": {},
   "outputs": [
    {
     "data": {
      "text/plain": [
       "array([ 1.43200751, -0.94840828])"
      ]
     },
     "execution_count": 48,
     "metadata": {},
     "output_type": "execute_result"
    }
   ],
   "source": [
    "# prior density\n",
    "mu_0 = np.array([0, 0])\n",
    "# shrinkage factor\n",
    "s = .1\n",
    "Sigma_0 = s * np.array([[1, 0], [0, 1]])\n",
    "# posterior calculation\n",
    "tau = np.linalg.inv(X.T @ X + np.linalg.inv(Sigma_0))\n",
    "mu = tau @ (X.T @ y)\n",
    "mu"
   ]
  },
  {
   "cell_type": "code",
   "execution_count": 24,
   "metadata": {},
   "outputs": [
    {
     "data": {
      "text/plain": [
       "array([ 1.6, -0.9])"
      ]
     },
     "execution_count": 24,
     "metadata": {},
     "output_type": "execute_result"
    }
   ],
   "source": [
    "beta_true"
   ]
  },
  {
   "cell_type": "code",
   "execution_count": 23,
   "metadata": {},
   "outputs": [
    {
     "data": {
      "text/plain": [
       "array([ 1.55384057, -0.74175461])"
      ]
     },
     "execution_count": 23,
     "metadata": {},
     "output_type": "execute_result"
    }
   ],
   "source": [
    "mu"
   ]
  },
  {
   "cell_type": "code",
   "execution_count": 15,
   "metadata": {},
   "outputs": [
    {
     "data": {
      "text/plain": [
       "array([[0.01548414, 0.00171859],\n",
       "       [0.00171859, 0.02038096]])"
      ]
     },
     "execution_count": 15,
     "metadata": {},
     "output_type": "execute_result"
    }
   ],
   "source": [
    "tau"
   ]
  },
  {
   "cell_type": "code",
   "execution_count": 75,
   "metadata": {},
   "outputs": [],
   "source": [
    "# N    = 200\n",
    "# xlim = 10\n",
    "# ylim = 10\n",
    "# X    = np.linspace(-xlim, xlim, N)\n",
    "# Y    = np.linspace(-ylim, ylim, N)\n",
    "# X, Y = np.meshgrid(X, Y)\n",
    "# pos  = np.dstack((X, Y))\n",
    "# Z    = prior.pdf(pos)\n",
    "\n",
    "# plt.figure(figsize=(5,5))\n",
    "# plt.contour(X, Y, Z)\n",
    "# plt.show()"
   ]
  },
  {
   "cell_type": "code",
   "execution_count": 98,
   "metadata": {},
   "outputs": [
    {
     "name": "stdout",
     "output_type": "stream",
     "text": [
      "[0.27361415 3.2738482 ]\n",
      "[0.62948345 1.34872099]\n"
     ]
    }
   ],
   "source": [
    "# likelihood\n",
    "# random_state = 8\n",
    "# n = 3\n",
    "# np.random.seed(random_state)\n",
    "# mu = prior.rvs(1)\n",
    "# Sigma = [[1, 1], [1, 4]]\n",
    "# likelihood = multivariate_normal(mu, Sigma)\n",
    "# x = likelihood.rvs(size=n)\n",
    "# print(mu)\n",
    "# print(x.mean(0))"
   ]
  },
  {
   "cell_type": "code",
   "execution_count": 99,
   "metadata": {},
   "outputs": [
    {
     "name": "stdout",
     "output_type": "stream",
     "text": [
      "[0.56570032 1.15644408]\n"
     ]
    }
   ],
   "source": [
    "labda_0 = np.linalg.inv(Sigma_0)\n",
    "labda = 1 / sigma\n",
    "\n",
    "tau = np.linalg.inv(labda_0 + n * labda)\n",
    "nu = tau @ (labda_0 @ mu_0 + n * labda @ x.mean(0))\n",
    "print(nu)"
   ]
  },
  {
   "cell_type": "code",
   "execution_count": null,
   "metadata": {},
   "outputs": [],
   "source": []
  }
 ],
 "metadata": {
  "kernelspec": {
   "display_name": ".venv",
   "language": "python",
   "name": "python3"
  },
  "language_info": {
   "codemirror_mode": {
    "name": "ipython",
    "version": 3
   },
   "file_extension": ".py",
   "mimetype": "text/x-python",
   "name": "python",
   "nbconvert_exporter": "python",
   "pygments_lexer": "ipython3",
   "version": "3.11.4"
  }
 },
 "nbformat": 4,
 "nbformat_minor": 2
}
