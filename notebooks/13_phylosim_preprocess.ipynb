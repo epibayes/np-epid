{
 "cells": [
  {
   "cell_type": "code",
   "execution_count": null,
   "id": "f3fdd8e0-08f8-4de3-bf32-9543354368cd",
   "metadata": {},
   "outputs": [],
   "source": [
    "import pandas as pd\n",
    "import numpy as np\n",
    "from matplotlib import pyplot as plt"
   ]
  },
  {
   "cell_type": "markdown",
   "id": "5f176d95-f99f-46f7-82ad-ec35f9fa3978",
   "metadata": {},
   "source": [
    "Generate synthetic trace, screening, and genomic data for a phylodynamic simulation model"
   ]
  },
  {
   "cell_type": "code",
   "execution_count": null,
   "id": "0098a4b2-900f-4bab-bc7b-1981d127d9b5",
   "metadata": {},
   "outputs": [],
   "source": [
    "T = 52\n",
    "g = 0.05\n",
    "a = 0.1\n",
    "# np.random.seed()"
   ]
  },
  {
   "cell_type": "markdown",
   "id": "3929f515-f1c8-4705-84f9-ed6893676112",
   "metadata": {},
   "source": [
    "#### trace data"
   ]
  },
  {
   "cell_type": "code",
   "execution_count": null,
   "id": "405d0102-fb4e-4f5c-a54f-e5a9292fb6a5",
   "metadata": {},
   "outputs": [],
   "source": [
    "M = 300 # 100\n",
    "trace = dict()\n",
    "for i in range(M):\n",
    "    trace[i] = np.zeros(T)\n",
    "    trace[i][0] = 1\n",
    "\n",
    "np.random.seed(88)\n",
    "N = M\n",
    "for t in range(1, T):\n",
    "    n_infected = 0\n",
    "    for k in list(trace):\n",
    "        if trace[k][t-1]: # present in the facility\n",
    "            if np.random.uniform() < g:\n",
    "                trace[N] = np.zeros(T) # replacement...\n",
    "                trace[N][t] = 1\n",
    "                N += 1\n",
    "            else:\n",
    "                trace[k][t] = 1\n",
    "        n_infected += trace[k][t]"
   ]
  },
  {
   "cell_type": "code",
   "execution_count": null,
   "id": "e424a5ce-9b59-47a6-84b8-05e17656d2ea",
   "metadata": {},
   "outputs": [],
   "source": [
    "df_trace = pd.DataFrame(trace).T\n",
    "df_trace.head(M).sum(1).mean()"
   ]
  },
  {
   "cell_type": "markdown",
   "id": "fbbcaf47-825b-4733-88f9-0e990c556993",
   "metadata": {},
   "source": [
    "#### screen data"
   ]
  },
  {
   "cell_type": "code",
   "execution_count": null,
   "id": "52d2291e-637e-4159-84f4-5b621c1d71e4",
   "metadata": {},
   "outputs": [],
   "source": [
    "# build screening data\n",
    "df_screen = pd.DataFrame(index = np.arange(N), columns=np.arange(T))\n",
    "\n",
    "np.random.seed(91)\n",
    "\n",
    "for t in range(T):\n",
    "    for n in range(N):\n",
    "        if df_trace.loc[n, t] == 1:\n",
    "            if t == 0:\n",
    "                if np.random.uniform() < a:\n",
    "                    df_screen.loc[n, t] = 1\n",
    "                else:\n",
    "                    df_screen.loc[n, t] = 0\n",
    "            elif df_trace.loc[n, t-1] == 0: # new admit\n",
    "                if np.random.uniform() < a:\n",
    "                    df_screen.loc[n, t] = 1\n",
    "                else:\n",
    "                    df_screen.loc[n, t] = 0"
   ]
  },
  {
   "cell_type": "code",
   "execution_count": null,
   "id": "637b10ef-9893-446d-8283-4d8d6e4f8f00",
   "metadata": {},
   "outputs": [],
   "source": [
    "# how many index patients are there?\n",
    "df_screen.sum(0).sum() "
   ]
  },
  {
   "cell_type": "code",
   "execution_count": null,
   "id": "19ad1838-c54c-4cc4-a773-734e70a4a504",
   "metadata": {},
   "outputs": [],
   "source": [
    "# how many clusters are there over time?\n",
    "n_clusters = np.zeros(T)\n",
    "clusters = set()\n",
    "cluster_lookup = []\n",
    "for t in range(T):\n",
    "    for n in range(N):\n",
    "        if df_trace.loc[n,t] == 1:\n",
    "            if df_screen.loc[n, t] == 1:\n",
    "                clusters.add(n)\n",
    "                cluster_lookup.append(n)\n",
    "        else:\n",
    "            if n in clusters:\n",
    "                clusters.remove(n)\n",
    "    n_clusters[t] += len(clusters)"
   ]
  },
  {
   "cell_type": "code",
   "execution_count": null,
   "id": "70e75c92-dc28-4aea-a5d6-93d51648d80d",
   "metadata": {},
   "outputs": [],
   "source": [
    "n_clusters # number of distinct *index patients* present over time\n",
    "# note that clusters may persist after an index patient is discharged..."
   ]
  },
  {
   "cell_type": "code",
   "execution_count": null,
   "id": "e3fc5bb0-f268-4dca-a1ae-d03668c2fde6",
   "metadata": {},
   "outputs": [],
   "source": [
    "cluster_lookup = pd.Series(data = np.array(cluster_lookup), index = np.arange(1, len(cluster_lookup) + 1))"
   ]
  },
  {
   "cell_type": "markdown",
   "id": "6477125d-3e21-4ac6-bbbe-a26eaf0d3a3e",
   "metadata": {},
   "source": [
    "#### floor and room trace data"
   ]
  },
  {
   "cell_type": "code",
   "execution_count": null,
   "id": "81e501c2-3076-4fa3-8d1c-b997af153379",
   "metadata": {},
   "outputs": [],
   "source": [
    "# assume: five floors, 50 rooms \n",
    "\n",
    "n_floors = 5\n",
    "n_rooms = M // 2\n",
    "\n",
    "df_floor = pd.DataFrame(index = np.arange(N), columns = np.arange(T))\n",
    "df_room = pd.DataFrame(index = np.arange(N), columns = np.arange(T))"
   ]
  },
  {
   "cell_type": "code",
   "execution_count": null,
   "id": "aaf0ad3c-237b-4542-b5f1-38c9ff67bfb5",
   "metadata": {},
   "outputs": [],
   "source": [
    "floor = {}\n",
    "room = {}\n",
    "for i in range(M):\n",
    "    floor[i] = i % n_floors\n",
    "    room[i] = i % n_rooms"
   ]
  },
  {
   "cell_type": "code",
   "execution_count": null,
   "id": "edc5a596-f8e8-4a92-8b8a-0db9928b35e9",
   "metadata": {},
   "outputs": [],
   "source": [
    "m = M\n",
    "for t in range(T):\n",
    "    for n in range(N):\n",
    "        if df_trace.loc[n, t]:\n",
    "            df_floor.loc[n,t] = floor[n]\n",
    "            df_room.loc[n, t] = room[n]\n",
    "        elif (t > 0) and (df_trace.loc[n, t-1] == 1):\n",
    "            floor[m] = floor[n]\n",
    "            room[m] = room[n]\n",
    "            m += 1"
   ]
  },
  {
   "cell_type": "markdown",
   "id": "f72839bb-aee2-4eb3-83fd-edde7d894888",
   "metadata": {},
   "source": [
    "#### write out"
   ]
  },
  {
   "cell_type": "code",
   "execution_count": null,
   "id": "0cd201a2-23d6-4d62-8a3a-7a6a0dd98df6",
   "metadata": {},
   "outputs": [],
   "source": [
    "df_trace.to_csv(\"../sim_data/facility_trace2.csv\", index=False)\n",
    "df_screen.to_csv(\"../sim_data/screening2.csv\", index=False)\n",
    "df_floor.to_csv(\"../sim_data/floor_trace2.csv\", index=False)\n",
    "df_room.to_csv(\"../sim_data/room_trace2.csv\", index=False)\n",
    "cluster_lookup.to_csv(\"../sim_data/cluster_lookup2.csv\", index=False)"
   ]
  }
 ],
 "metadata": {
  "language_info": {
   "name": "python"
  }
 },
 "nbformat": 4,
 "nbformat_minor": 5
}
