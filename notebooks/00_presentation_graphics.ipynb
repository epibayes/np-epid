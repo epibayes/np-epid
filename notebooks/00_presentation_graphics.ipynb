{
 "cells": [
  {
   "cell_type": "code",
   "execution_count": null,
   "id": "ae1475af-5804-4a27-ab1a-06a5bf9afb33",
   "metadata": {},
   "outputs": [],
   "source": [
    "from matplotlib import pyplot as plt\n",
    "import seaborn as sns\n",
    "import numpy as np\n",
    "import scipy.stats as stats"
   ]
  },
  {
   "cell_type": "markdown",
   "id": "f90a06cf-865f-4d63-9098-0cbbf291cc84",
   "metadata": {},
   "source": [
    "### Histogram"
   ]
  },
  {
   "cell_type": "code",
   "execution_count": null,
   "id": "1b03ee0c-2276-4723-b219-e211b416534c",
   "metadata": {},
   "outputs": [],
   "source": [
    "rng = np.random.default_rng(10)\n",
    "a = rng.normal(size=50)"
   ]
  },
  {
   "cell_type": "code",
   "execution_count": null,
   "id": "0ac6f330-cbb7-40aa-9b9d-7c9018e555db",
   "metadata": {},
   "outputs": [],
   "source": [
    "plt.hist(a, alpha=0.8)\n",
    "plt.xticks([])\n",
    "plt.yticks([])\n",
    "plt.savefig(\"images/toy_hist.png\")\n",
    "plt.show()"
   ]
  },
  {
   "cell_type": "markdown",
   "id": "006e917d-d258-4405-b5d2-07556eded872",
   "metadata": {},
   "source": [
    "### Gaussian"
   ]
  },
  {
   "cell_type": "code",
   "execution_count": null,
   "id": "3499afa9-3b4e-4483-bbd8-1dc0440dbaf2",
   "metadata": {},
   "outputs": [],
   "source": [
    "mu = 0\n",
    "sigma = 1\n",
    "x = np.linspace(mu - 3*sigma, mu + 3*sigma, 100)\n",
    "y = stats.norm.pdf(x, mu, sigma)\n",
    "plt.plot(x, y)\n",
    "plt.fill_between(x, y, alpha=0.4)\n",
    "plt.xticks([])\n",
    "plt.yticks([])\n",
    "plt.savefig(\"images/toy_normal.png\")\n",
    "plt.show()\n"
   ]
  },
  {
   "cell_type": "code",
   "execution_count": null,
   "id": "6e07c6bb-28ab-4ae5-ac1b-367f9b660c3d",
   "metadata": {},
   "outputs": [],
   "source": []
  }
 ],
 "metadata": {
  "language_info": {
   "name": "python"
  }
 },
 "nbformat": 4,
 "nbformat_minor": 5
}
