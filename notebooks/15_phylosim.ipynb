{
 "cells": [
  {
   "cell_type": "code",
   "execution_count": null,
   "id": "86b0c05d-a2ff-45f6-b2b7-1bf2cebc0846",
   "metadata": {},
   "outputs": [],
   "source": [
    "import pandas as pd\n",
    "import numpy as np\n",
    "import matplotlib.pyplot as plt\n",
    "import matplotlib\n",
    "import sys\n",
    "sys.path.append(\"..\")\n",
    "from src.dataset import PhyloSimulator\n",
    "import seaborn as sns\n",
    "from src.utils import get_results\n",
    "from torch import no_grad\n",
    "import matplotlib.gridspec as gs\n",
    "from scipy.stats import norm"
   ]
  },
  {
   "cell_type": "code",
   "execution_count": null,
   "id": "85692b97-02ad-461d-a05f-62290e4da584",
   "metadata": {},
   "outputs": [],
   "source": [
    "beta_true =  [.02, .03, .06, .03, .03, .12, .03] # \n",
    "mu_eo = -3\n",
    "sigma_eo = 1\n",
    "observed_seed = 30\n",
    "n_clusters = 34\n",
    "capacity = [100, 20, 20, 20, 20, 20, 2]\n",
    "\n",
    "# relative risks\n",
    "np.array(beta_true) / np.array(capacity) / (beta_true[0] / capacity[0])"
   ]
  },
  {
   "cell_type": "code",
   "execution_count": null,
   "id": "2226dc7e-7aa2-4a11-96e1-f6fe8b979dae",
   "metadata": {},
   "outputs": [],
   "source": [
    "phylo = PhyloSimulator(\n",
    "    beta_true, mu_eo, sigma_eo, observed_seed, n_sample=None, notebook_mode=True, time_first=False\n",
    ")\n",
    "\n",
    "x_o = phylo.get_observed_data()"
   ]
  },
  {
   "cell_type": "code",
   "execution_count": null,
   "id": "4bd3379d-c10b-4369-8969-bdbb5a6110b5",
   "metadata": {},
   "outputs": [],
   "source": [
    "genomic = {}\n",
    "levels = [\"facility\"] + [f\"Floor {i}\" for i in range(1,6)] + [\"room\"]\n",
    "for i, l in enumerate(levels):\n",
    "    start = 7 + i * n_clusters\n",
    "    stop = 7 + (i + 1) * n_clusters\n",
    "    genomic[l] = np.array(x_o[start:stop])"
   ]
  },
  {
   "cell_type": "code",
   "execution_count": null,
   "id": "72f63837-dc80-4fd4-8628-91e5acc2b996",
   "metadata": {},
   "outputs": [],
   "source": [
    "plt.plot(x_o[0], label=\"Infected\")\n",
    "plt.plot(100 - x_o[0], label=\"Susceptible\")\n",
    "plt.ylabel(\"Patients\")\n",
    "plt.xlabel(\"Weeks\")\n",
    "plt.legend()\n",
    "plt.savefig(\"images/phylo-sim/si_counts.png\")\n",
    "plt.show()"
   ]
  },
  {
   "cell_type": "code",
   "execution_count": null,
   "id": "b877a4d5-57ff-4929-9dd6-50b9830dada8",
   "metadata": {},
   "outputs": [],
   "source": [
    "floor_rates = x_o[1:6]\n",
    "labels=[\"Floor 1\", \"Floor 2\", \"Floor 3\", \"Floor 4\", \"Floor 5\"]\n",
    "for i, label  in enumerate(labels):\n",
    "    # temp_pop = np.where(floor_pops[i] == 1e-3 1, floor_pops[i])\n",
    "    plt.plot(floor_rates[i], label=label, linestyle=\"-\", alpha=0.6)\n",
    "plt.legend()\n",
    "plt.xlabel(\"Weeks\")\n",
    "plt.ylabel(\"Infected Patients\")\n",
    "plt.savefig(\"images/phylo-sim/floor_counts.png\")\n",
    "plt.show()"
   ]
  },
  {
   "cell_type": "code",
   "execution_count": null,
   "id": "d0a191d9-9ae1-4028-9a14-f14a99bba555",
   "metadata": {},
   "outputs": [],
   "source": [
    "plt.plot(x_o[6] / 2)\n",
    "plt.show()"
   ]
  },
  {
   "cell_type": "markdown",
   "id": "47c127a7-5c22-4d0b-ba10-6614bfc3c5d2",
   "metadata": {},
   "source": [
    "### visualizing clustering"
   ]
  },
  {
   "cell_type": "code",
   "execution_count": null,
   "id": "4ae26d09-ea43-4dbf-905e-43faee0036d4",
   "metadata": {},
   "outputs": [],
   "source": [
    "cluster_agg = {}\n",
    "for k, v in genomic.items():\n",
    "    if k == \"room\":\n",
    "        continue\n",
    "    cluster_agg[k] = v.sum(1)\n",
    "cluster_agg = pd.DataFrame(cluster_agg)\n",
    "cluster_agg.index.name = \"cluster\"\n",
    "# cluster_agg = cluster_agg.reset_index(names=\"cluster\")\n",
    "# cluster_agg = cluster_agg.melt(id_vars=\"cluster\", value_vars=[\"facility\", \"floor_1\", \"floor_2\", \"floor_3\", \"floor_4\", \"floor_5\"],\n",
    "#                               value_name=\"patient-weeks\", var_name=\"zone\")"
   ]
  },
  {
   "cell_type": "code",
   "execution_count": null,
   "id": "f973e050-1492-4e15-8376-39bfef28f7b3",
   "metadata": {},
   "outputs": [],
   "source": [
    "cluster_agg.drop(columns=\"facility\").plot.bar(stacked=True)\n",
    "plt.ylabel(\"Infected Weeks\")\n",
    "plt.xlabel(\"Cluster\")"
   ]
  },
  {
   "cell_type": "code",
   "execution_count": null,
   "id": "f0ae544c-a1ee-4b44-a4de-4e58b6927f34",
   "metadata": {},
   "outputs": [],
   "source": [
    "genomic[\"room\"]"
   ]
  },
  {
   "cell_type": "code",
   "execution_count": null,
   "id": "7f1b8a37-29e1-4986-a12f-17d71b3eb105",
   "metadata": {},
   "outputs": [],
   "source": [
    "genomic[\"room\"].sum(0) / 2\n",
    "# up to six rooms have infected roommates belonging to the same cluster at any point"
   ]
  },
  {
   "cell_type": "code",
   "execution_count": null,
   "id": "aa9fb073-6744-402f-be95-905bbde71de5",
   "metadata": {},
   "outputs": [],
   "source": [
    "#looks like R_0 is around 2?\n",
    "# \\bar \\beta = .15, roughly speaking\n",
    "# average period of infectiousness: theoretically 13.3"
   ]
  },
  {
   "cell_type": "markdown",
   "id": "d33ab3ed-4a66-4ef9-a004-255ca0fe0cd5",
   "metadata": {},
   "source": [
    "# NPE Results"
   ]
  },
  {
   "cell_type": "markdown",
   "id": "cd503b4f-488b-4da5-81ef-3689b7772ae2",
   "metadata": {},
   "source": [
    "## gaussian density network"
   ]
  },
  {
   "cell_type": "markdown",
   "id": "d84fc3bc-5547-4f1b-a182-e9167c1b6465",
   "metadata": {},
   "source": [
    "### ablation experiment: epid data only"
   ]
  },
  {
   "cell_type": "code",
   "execution_count": null,
   "id": "d5db0595-4173-43b9-b6dd-0a1d1e475552",
   "metadata": {},
   "outputs": [],
   "source": [
    "df_abl = get_results(\"../multirun/2025-05-08/10-48-53\").sort_values(\"val_loss\")\n",
    "mu = np.array(df_abl.iloc[0][\"mu\"][0])\n",
    "sigma = np.array(df_abl.iloc[0][\"sigma\"])"
   ]
  },
  {
   "cell_type": "code",
   "execution_count": null,
   "id": "e33f2ed1-aac5-4ff6-b9a4-7345c06aa9cb",
   "metadata": {},
   "outputs": [],
   "source": [
    "np.exp(mu + np.diag(sigma)/2)"
   ]
  },
  {
   "cell_type": "markdown",
   "id": "c56e03aa-5420-4dfc-aed4-3439d8b5ca21",
   "metadata": {},
   "source": [
    "#### log scale"
   ]
  },
  {
   "cell_type": "code",
   "execution_count": null,
   "id": "a4094ae2-18ab-4bf6-9ce2-9273bc8d3cd2",
   "metadata": {},
   "outputs": [],
   "source": [
    "# 2025-04-24/15-59-52/\"\n",
    "df_gdn = get_results(\"../multirun/2025-04-25/11-39-55\")\n",
    "df_gdn = df_gdn[df_gdn[\"log_scale\"] == True].sort_values(\"val_loss\")\n",
    "mu = np.array(df_gdn.iloc[0][\"mu\"][0])\n",
    "sigma = np.array(df_gdn.iloc[0][\"sigma\"])"
   ]
  },
  {
   "cell_type": "code",
   "execution_count": null,
   "id": "9b71c9eb-aa1f-436b-9463-0de8368cf40f",
   "metadata": {},
   "outputs": [],
   "source": [
    "np.exp(mu + np.diag(sigma)/2)"
   ]
  },
  {
   "cell_type": "code",
   "execution_count": null,
   "id": "b1cd5260-cfc5-406c-999f-3e31f2d82459",
   "metadata": {},
   "outputs": [],
   "source": [
    "df_gdn.iloc[0][\"val_loss\"]"
   ]
  },
  {
   "cell_type": "code",
   "execution_count": null,
   "id": "eff62d76-7f38-48f6-80af-89219e00153f",
   "metadata": {},
   "outputs": [],
   "source": [
    "D = np.diag(1 / np.sqrt(np.diag(sigma)))\n",
    "corr = D @ sigma @ D\n",
    "plt.matshow(corr, cmap=\"rocket\")\n",
    "plt.colorbar()\n",
    "plt.xlabel(r\"$\\beta_j$\")\n",
    "plt.ylabel(r\"$\\beta_j$\")\n",
    "# plt.savefig(\"images/corr.png\")\n",
    "plt.show()"
   ]
  },
  {
   "cell_type": "markdown",
   "id": "7f376d21-3111-4d82-82d9-03ca13890552",
   "metadata": {},
   "source": [
    "#### natty scale"
   ]
  },
  {
   "cell_type": "code",
   "execution_count": null,
   "id": "4bbfdf88-d4fb-4bd4-be01-a07a3edcb85a",
   "metadata": {},
   "outputs": [],
   "source": [
    "# df_gdn_n = get_results(\"../multirun/2025-04-25/11-39-55\")\n",
    "# df_gdn_n = df_gdn_n[df_gdn_n[\"log_scale\"] == False].sort_values(\"val_loss\")\n",
    "# mu = np.array(df_gdn_n.iloc[0][\"mu\"][0])\n",
    "# sigma = np.array(df_gdn_n.iloc[0][\"sigma\"])\n",
    "\n",
    "# # takeaway: point estimates are less accurate, covariance structure is off"
   ]
  },
  {
   "cell_type": "markdown",
   "id": "40b6e1cb-9b9a-4364-b77b-36b14a0a5dd4",
   "metadata": {},
   "source": [
    "### mean field estimation"
   ]
  },
  {
   "cell_type": "code",
   "execution_count": null,
   "id": "6ce5156d-0f4c-4516-a59e-3e28b9b8a9e4",
   "metadata": {},
   "outputs": [],
   "source": [
    "df_mf = get_results(\"../multirun/2025-04-25/12-48-36\")\n",
    "df_mf = df_mf[df_mf[\"log_scale\"] == True].sort_values(\"val_loss\")\n",
    "mu = np.array(df_mf.iloc[0][\"mu\"][0])\n",
    "sigma = np.array(df_mf.iloc[0][\"sigma\"])"
   ]
  },
  {
   "cell_type": "code",
   "execution_count": null,
   "id": "4976de90-329d-44d0-aa74-ab195050925a",
   "metadata": {},
   "outputs": [],
   "source": [
    "np.exp(mu + np.diag(sigma)/2)"
   ]
  },
  {
   "cell_type": "code",
   "execution_count": null,
   "id": "38e7462b-d8dc-409b-8dcb-1ce77fa69ca4",
   "metadata": {},
   "outputs": [],
   "source": [
    "df_mf.iloc[0][\"val_loss\"]"
   ]
  },
  {
   "cell_type": "markdown",
   "id": "56c11f10-9201-4fc1-830a-e44807deb2a9",
   "metadata": {},
   "source": [
    "### RNN"
   ]
  },
  {
   "cell_type": "code",
   "execution_count": null,
   "id": "4bb8e4c8-8df6-4c74-b5b0-ebde779d4d3f",
   "metadata": {},
   "outputs": [],
   "source": [
    "df_rnn = get_results(\"../multirun/2025-04-25/16-45-51\")\n",
    "df_rnn = df_rnn.sort_values(\"val_loss\")\n",
    "mu = np.array(df_rnn.iloc[0][\"mu\"][0])\n",
    "sigma = np.array(df_rnn.iloc[0][\"sigma\"])"
   ]
  },
  {
   "cell_type": "code",
   "execution_count": null,
   "id": "7558520f-11fc-4168-ba0f-38f9aa6decc5",
   "metadata": {},
   "outputs": [],
   "source": [
    "np.exp(mu + np.diag(sigma)/2)"
   ]
  },
  {
   "cell_type": "code",
   "execution_count": null,
   "id": "78c6dd61-b53b-41f6-97c9-5b0789a0970f",
   "metadata": {},
   "outputs": [],
   "source": [
    "df_rnn.iloc[0][\"val_loss\"]"
   ]
  },
  {
   "cell_type": "markdown",
   "id": "185dae89-4e23-4cbf-a7a8-13f720138049",
   "metadata": {},
   "source": [
    "### Transformer"
   ]
  },
  {
   "cell_type": "code",
   "execution_count": null,
   "id": "a981ca00-265e-45de-90f5-79b3c12e93e7",
   "metadata": {},
   "outputs": [],
   "source": [
    "df_tf = pd.read_csv(\"df_phylo_tf.csv\", index_col=0)\n",
    "mu = np.array(eval(df_tf.iloc[0][\"mu\"])[0])\n",
    "sigma = np.array(eval(df_tf.iloc[0][\"sigma\"]))"
   ]
  },
  {
   "cell_type": "code",
   "execution_count": null,
   "id": "31a89b76-f3d2-481d-a45a-99ff78991b79",
   "metadata": {},
   "outputs": [],
   "source": [
    "df_tf.iloc[0][\"val_loss\"]"
   ]
  },
  {
   "cell_type": "code",
   "execution_count": null,
   "id": "d3f67d4a-2faf-4f71-9510-22a207fb6e3c",
   "metadata": {},
   "outputs": [],
   "source": [
    "np.exp(mu + np.diag(sigma)/2)"
   ]
  },
  {
   "cell_type": "code",
   "execution_count": null,
   "id": "d131ce73-483d-4e24-8ea7-66589a297ae6",
   "metadata": {},
   "outputs": [],
   "source": [
    "D = np.diag(1 / np.sqrt(np.diag(sigma)))\n",
    "corr = D @ sigma @ D\n",
    "plt.matshow(corr) # cmap=\"rocket\")\n",
    "plt.colorbar()\n",
    "plt.xlabel(r\"$\\beta_j$\")\n",
    "plt.ylabel(r\"$\\beta_j$\")\n",
    "# plt.savefig(\"images/corr.png\")\n",
    "plt.show()"
   ]
  },
  {
   "cell_type": "code",
   "execution_count": null,
   "id": "fc6e76d0-47ba-4029-a8af-52e1537b1862",
   "metadata": {},
   "outputs": [],
   "source": [
    "corr"
   ]
  },
  {
   "cell_type": "markdown",
   "id": "e09171d5-d1d6-45b8-8b0c-fdcf218098b7",
   "metadata": {},
   "source": [
    "## normalizing flow"
   ]
  },
  {
   "cell_type": "code",
   "execution_count": null,
   "id": "085a2a24-f39d-4cc0-be67-0b4da51717bf",
   "metadata": {},
   "outputs": [],
   "source": [
    "df_nf = get_results(\"../multirun/2025-04-26/13-34-42\")\n",
    "df_nf = df_nf.sort_values(\"val_loss\")\n",
    "df_nf.head(1)"
   ]
  },
  {
   "cell_type": "code",
   "execution_count": null,
   "id": "8373d793-d8ab-46f1-b1c5-d9c672a499b2",
   "metadata": {},
   "outputs": [],
   "source": [
    "df_nf"
   ]
  },
  {
   "cell_type": "code",
   "execution_count": null,
   "id": "dcf95625-d44a-491e-b544-7688d02c3c57",
   "metadata": {},
   "outputs": [],
   "source": [
    "df_nf = get_results(\"../multirun/2025-04-29/10-21-17\")\n",
    "df_nf = df_nf.sort_values(\"val_loss\")\n",
    "df_nf.head(1)"
   ]
  },
  {
   "cell_type": "code",
   "execution_count": null,
   "id": "59edae37-aee3-40fa-bba1-74e73f0e0e7f",
   "metadata": {},
   "outputs": [],
   "source": [
    "# 'd_theta', 'n_layers', 'd_model', 'lr', 'weight_decay', and 'embed_dim'"
   ]
  },
  {
   "cell_type": "code",
   "execution_count": null,
   "id": "51b767e5-4da0-4311-b6bb-6b34261b64e4",
   "metadata": {},
   "outputs": [],
   "source": [
    "checkpt = \"../multirun/2025-04-26/13-34-42/11/crkp/umnreprh/checkpoints/epoch=241-step=242.ckpt\"\n",
    "# how to load checkpoint?\n",
    "from src.model import RealNVP\n",
    "nf = RealNVP.load_from_checkpoint(checkpt, n_layers=4, weight_decay=0.02, lr=1e-3, d_model=80, embed_dim=16, d_theta=7, \n",
    "                                  d_x=x_o.shape[::-1],) "
   ]
  },
  {
   "cell_type": "code",
   "execution_count": null,
   "id": "882a8f14-afa4-4efe-9348-0315530ef591",
   "metadata": {},
   "outputs": [],
   "source": [
    "nf.on_fit_start()\n",
    "with no_grad():\n",
    "    M = 100\n",
    "    sample = nf.sample(M, x_o.T.unsqueeze(0))"
   ]
  },
  {
   "cell_type": "code",
   "execution_count": null,
   "id": "4398304a-8236-4199-aa69-3db9c6ad2b33",
   "metadata": {},
   "outputs": [],
   "source": [
    "torch.exp(sample).mean(0).cpu().numpy()"
   ]
  },
  {
   "cell_type": "code",
   "execution_count": null,
   "id": "30a3519c-ff37-4de9-9b57-2702e18cae67",
   "metadata": {},
   "outputs": [],
   "source": [
    "# sns.pairplot(pd.DataFrame(sample.cpu().numpy()))"
   ]
  },
  {
   "cell_type": "code",
   "execution_count": null,
   "id": "551f50fb-eb7d-49d6-9da4-eb1e3f48dfa9",
   "metadata": {},
   "outputs": [],
   "source": [
    "sigma_nf = torch.cov(sample.T).cpu().numpy()"
   ]
  },
  {
   "cell_type": "code",
   "execution_count": null,
   "id": "ffb96df8-1355-4e19-b333-3948d030acf1",
   "metadata": {},
   "outputs": [],
   "source": [
    "D = np.diag(1 / np.sqrt(np.diag(sigma_nf)))\n",
    "corr = D @ sigma_nf @ D\n",
    "plt.matshow(corr, cmap=\"rocket\")\n",
    "plt.colorbar()\n",
    "plt.xlabel(r\"$\\beta_j$\")\n",
    "plt.ylabel(r\"$\\beta_j$\")\n",
    "# plt.savefig(\"images/corr.png\")\n",
    "plt.show()"
   ]
  },
  {
   "cell_type": "markdown",
   "id": "b61f45ef-3f6b-41a6-9561-6b82de2675d5",
   "metadata": {},
   "source": [
    "### glossing results"
   ]
  },
  {
   "cell_type": "code",
   "execution_count": null,
   "id": "9daf23db-94db-49a8-ae74-714919a0162a",
   "metadata": {},
   "outputs": [],
   "source": [
    "# 2k\n",
    "m = [-3.865, -3.673, -3.137, -3.829, -3.605, -2.753, -3.737]\n",
    "s = [0.195, 0.661, 0.581, 0.727, 0.931, 0.375, 0.344]\n",
    "\n",
    "for a,b in zip(m,s):\n",
    "    print(np.exp(a + b/2))"
   ]
  },
  {
   "cell_type": "code",
   "execution_count": null,
   "id": "357b8b22-9c2a-43f4-b3d3-c845618b6a28",
   "metadata": {},
   "outputs": [],
   "source": [
    "beta_true"
   ]
  },
  {
   "cell_type": "code",
   "execution_count": null,
   "id": "b84329ea-7b90-4b95-9d1f-15e1d964844a",
   "metadata": {},
   "outputs": [],
   "source": [
    "# normalizing flow. for comparison\n",
    "[0.0168, 0.0118, 0.0785, 0.0382, 0.0178, 0.0736, 0.0172]"
   ]
  },
  {
   "cell_type": "code",
   "execution_count": null,
   "id": "c36b1f12-1353-4f34-8f6c-c003a7b65e1c",
   "metadata": {},
   "outputs": [],
   "source": [
    "# 4k\n",
    "m = [-3.513, -3.436, -3.02, -2.847, -3.681, -2.758, -3.665]                                                                                                                  \n",
    "s = [0.156, 0.629, 0.427, 0.306, 0.518, 0.321, 0.336]\n",
    "for a,b in zip(m,s):\n",
    "    print(np.exp(a + b/2))"
   ]
  },
  {
   "cell_type": "markdown",
   "id": "7fec1bb4-0849-4614-a5b3-5332250889fb",
   "metadata": {},
   "source": [
    "# viz"
   ]
  },
  {
   "cell_type": "code",
   "execution_count": null,
   "id": "242bd942-eb40-4822-bcda-aad30b27da5b",
   "metadata": {},
   "outputs": [],
   "source": [
    "labels_full = [\"Facility\", \"Floor 1\", \"Floor 2\", \"Floor 3\", \"Floor 4\", \"Floor 5\", \"Room\"]"
   ]
  },
  {
   "cell_type": "code",
   "execution_count": null,
   "id": "aac3f3f0-88f5-4053-8169-d892533c9be9",
   "metadata": {},
   "outputs": [],
   "source": [
    "mu_eo = np.array(df_abl.iloc[0][\"mu\"][0])\n",
    "sigma_eo = np.array(df_abl.iloc[0][\"sigma\"])\n",
    "mu_gen = np.array(eval(df_tf.iloc[0][\"mu\"])[0])\n",
    "sigma_gen = np.array(eval(df_tf.iloc[0][\"sigma\"]))\n",
    "\n",
    "grid = gs.GridSpec(8, 1)\n",
    "fig = plt.figure(figsize=(5,7))\n",
    "x_min = -6\n",
    "x_max = -0\n",
    "x = np.arange(x_min, x_max, 0.05)\n",
    "axes = []\n",
    "alpha = 0.5\n",
    "for i in range(7):\n",
    "    legend = False if i > 0 else True\n",
    "    axes.append(fig.add_subplot(grid[i:i+1, 0:]))\n",
    "\n",
    "    y0 = norm.pdf(x, mu_eo[i], np.sqrt(sigma_eo[i][i]))\n",
    "    y1 = norm.pdf(x, mu_gen[i], np.sqrt(sigma_gen[i][i]))\n",
    "    sns.lineplot(x=x, y=y0, label=\"Old Density\", ax=axes[-1], legend=legend, alpha=alpha)\n",
    "\n",
    "    sns.lineplot(x=x, y=y1, label=\"New Density\", ax=axes[-1], legend=legend, alpha=alpha)\n",
    "\n",
    "    rect = axes[-1].patch\n",
    "    rect.set_alpha(0)\n",
    "\n",
    "    axes[-1].set_yticklabels([])\n",
    "    axes[-1].set_ylabel('')\n",
    "\n",
    "    axes[-1].set_ylim(0, 2)\n",
    "    axes[-1].set_xlim(x_min, x_max)\n",
    "\n",
    "    axes[-1].set_yticks([])\n",
    "\n",
    "    if i < 7 - 1:\n",
    "        axes[-1].set_xticklabels([])\n",
    "    else:\n",
    "        axes[-1].set_xlabel(\"Infection Rate (Log-scale)\")\n",
    "\n",
    "    axes[-1].fill_between(x, y1, color='#ff7f0e', alpha=alpha)\n",
    "    axes[-1].fill_between(x, y0, color='#1f77b4', alpha=alpha)\n",
    "\n",
    "\n",
    "    axes[-1].text(x_min - .8, 0.3, labels_full[i])\n",
    "grid.update(hspace= -.0)\n",
    "plt.tight_layout()\n",
    "# plt.savefig(\"images/crkp/crkp_compare_het.png\")\n",
    "plt.show()"
   ]
  },
  {
   "cell_type": "code",
   "execution_count": null,
   "id": "59b6aadd-d594-4bba-b776-bc1dfd639dbf",
   "metadata": {},
   "outputs": [],
   "source": [
    "mu_eo = np.array(df_abl.iloc[0][\"mu\"][0])\n",
    "sigma_eo = np.array(df_abl.iloc[0][\"sigma\"])\n",
    "mu_gen = np.array(df_gdn.iloc[0][\"mu\"][0])\n",
    "sigma_gen = np.array(df_gdn.iloc[0][\"sigma\"])\n",
    "# mu_gen = np.array(eval(df_tf.iloc[0][\"mu\"])[0])\n",
    "# sigma_gen = np.array(eval(df_tf.iloc[0][\"sigma\"]))\n",
    "\n",
    "grid = gs.GridSpec(8, 1)\n",
    "fig = plt.figure(figsize=(5,7))\n",
    "x_min = -6\n",
    "x_max = -0\n",
    "x = np.arange(x_min, x_max, 0.05)\n",
    "axes = []\n",
    "alpha = 0.5\n",
    "for i in range(7):\n",
    "    legend = False if i > 0 else True\n",
    "    axes.append(fig.add_subplot(grid[i:i+1, 0:]))\n",
    "\n",
    "    y0 = norm.pdf(x, mu_eo[i], np.sqrt(sigma_eo[i][i]))\n",
    "    y1 = norm.pdf(x, mu_gen[i], np.sqrt(sigma_gen[i][i]))\n",
    "    sns.lineplot(x=x, y=y0, label=\"Posterior Density (E)\", ax=axes[-1], legend=legend, alpha=alpha)\n",
    "\n",
    "    sns.lineplot(x=x, y=y1, label=\"Posterior Density (E/G)\", ax=axes[-1], legend=legend, alpha=alpha)\n",
    "\n",
    "    rect = axes[-1].patch\n",
    "    rect.set_alpha(0)\n",
    "\n",
    "    axes[-1].set_yticklabels([])\n",
    "    axes[-1].set_ylabel('')\n",
    "\n",
    "    axes[-1].set_ylim(0, 2)\n",
    "    axes[-1].set_xlim(x_min, x_max)\n",
    "\n",
    "    axes[-1].set_yticks([])\n",
    "\n",
    "    if i < 7 - 1:\n",
    "        axes[-1].set_xticklabels([])\n",
    "    else:\n",
    "        axes[-1].set_xlabel(\"Infection Rate (Log-scale)\")\n",
    "\n",
    "    axes[-1].fill_between(x, y1, color='#ff7f0e', alpha=alpha)\n",
    "    axes[-1].fill_between(x, y0, color='#1f77b4', alpha=alpha)\n",
    "\n",
    "\n",
    "    axes[-1].text(x_min - .8, 0.3, labels_full[i])\n",
    "grid.update(hspace= -.0)\n",
    "plt.tight_layout()\n",
    "plt.savefig(\"images/phylo-sim/ablation.png\")\n",
    "plt.show()"
   ]
  },
  {
   "cell_type": "code",
   "execution_count": null,
   "id": "514edc24-99d7-4756-8f75-9119f2c74354",
   "metadata": {},
   "outputs": [],
   "source": [
    "np.log(np.array([.02, .03, .06, .03, .03, .12, .03]))"
   ]
  },
  {
   "cell_type": "code",
   "execution_count": null,
   "id": "12f56bb5-0f7e-45fd-8bc5-824490d693b4",
   "metadata": {},
   "outputs": [],
   "source": []
  }
 ],
 "metadata": {
  "language_info": {
   "name": "python"
  }
 },
 "nbformat": 4,
 "nbformat_minor": 5
}
