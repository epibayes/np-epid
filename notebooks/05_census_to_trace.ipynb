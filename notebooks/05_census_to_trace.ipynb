{
 "cells": [
  {
   "cell_type": "code",
   "execution_count": null,
   "id": "53fae9e8-b470-460c-ab93-59d3294e3248",
   "metadata": {},
   "outputs": [],
   "source": [
    "import pandas as pd\n",
    "import numpy as np\n",
    "import matplotlib.pyplot as plt\n",
    "import seaborn as sns\n",
    "from timeit import default_timer as timer\n",
    "import re\n",
    "from datetime import date, timedelta"
   ]
  },
  {
   "cell_type": "markdown",
   "id": "824d75f8-5996-4b07-943c-dc67530c1e6b",
   "metadata": {},
   "source": [
    "## Summary\n",
    "\n",
    "Use census data to augment room and floor trace data to cover \"never infected\" patients. Extend facility trace data as well."
   ]
  },
  {
   "cell_type": "code",
   "execution_count": null,
   "id": "a2f51fd7-17c8-4a36-ab22-9d0e2545339a",
   "metadata": {},
   "outputs": [],
   "source": [
    "epi_dir = '/Volumes/umms-esnitkin/Project_KPC_LTACH/Analysis/LTACH_transmission_modeling/data'"
   ]
  },
  {
   "cell_type": "markdown",
   "id": "460a65a2-21d3-4699-a646-1140f3bac4a3",
   "metadata": {},
   "source": [
    "Goal: augment the floor and room trace data with patients who were never infected"
   ]
  },
  {
   "cell_type": "code",
   "execution_count": null,
   "id": "597983b4-3f52-4dff-8a05-eb2bd815373a",
   "metadata": {},
   "outputs": [],
   "source": [
    "df_census = pd.read_excel(f\"{epi_dir}/2019-02-25_KPCLTACH_C_Census.xlsx\")\n",
    "df_census = df_census.sort_values([\"WGS_ID\", \"From_Date\"])"
   ]
  },
  {
   "cell_type": "code",
   "execution_count": null,
   "id": "d08f1148-c864-4e32-836b-0d986f5744f1",
   "metadata": {},
   "outputs": [],
   "source": [
    "df_census.head()"
   ]
  },
  {
   "cell_type": "code",
   "execution_count": null,
   "id": "a3e3d94a-9771-426e-a2de-27c0262cf3c6",
   "metadata": {},
   "outputs": [],
   "source": [
    "df_census[\"Room_Bed\"].unique()"
   ]
  },
  {
   "cell_type": "code",
   "execution_count": null,
   "id": "82c3ee55-e91e-4229-8933-1b50426ddf20",
   "metadata": {},
   "outputs": [],
   "source": [
    "df_ftrace = pd.read_csv(f\"{epi_dir}/2019-12-18_facility_trace.csv\", index_col=0)\n",
    "df_ftrace.columns = np.arange(367)\n",
    "\n",
    "# floor and room traces\n",
    "df_floor = pd.read_csv(f\"{epi_dir}/2019-12-18_floor_trace.csv\", index_col=0)\n",
    "df_room = pd.read_csv(f\"{epi_dir}/2019-12-18_room_trace.csv\", index_col=0)"
   ]
  },
  {
   "cell_type": "code",
   "execution_count": null,
   "id": "981b16bc-290b-4b80-b895-ba3d050949de",
   "metadata": {},
   "outputs": [],
   "source": [
    "df_floor.head()"
   ]
  },
  {
   "cell_type": "code",
   "execution_count": null,
   "id": "686f4c9e-b6ea-4a7a-afbf-062311092ec5",
   "metadata": {},
   "outputs": [],
   "source": [
    "def floor_encoder(room):\n",
    "    if room in ('TMPLOAROOM-1', 'DE.TMP-1'): \n",
    "        return 5\n",
    "    code = room[3]\n",
    "    if code == \"S\": \n",
    "        return 6\n",
    "    else:\n",
    "        return int(code)"
   ]
  },
  {
   "cell_type": "markdown",
   "id": "1962e95c-6407-4bd4-a238-b9f1ff96b194",
   "metadata": {},
   "source": [
    "Reconstruct floor and room traces from the census data. For each patient, loop through their\n",
    "distinct stays as listed in the census data. For the dates of each stay, plug in the decoded\n",
    "room and floor location."
   ]
  },
  {
   "cell_type": "code",
   "execution_count": null,
   "id": "475af76b-7ab0-4af8-a7e3-1fd311e4b0fb",
   "metadata": {},
   "outputs": [],
   "source": [
    "T = (df_census[\"From_Date\"].max() - df_census[\"Thru_Date\"].min()).days + 1\n",
    "patient_ids = np.sort(df_census[\"WGS_StudyID\"].unique())\n",
    "floor_trace = pd.DataFrame(index=patient_ids, columns=range(T))\n",
    "room_trace = pd.DataFrame(index=patient_ids, columns=range(T))\n",
    "\n",
    "min_date = df_census[\"Thru_Date\"].min()\n",
    "\n",
    "room_lookup = dict()\n",
    "R = 1\n",
    "for n in patient_ids:\n",
    "    stays = df_census[df_census[\"WGS_StudyID\"] == n]\n",
    "    t = 0\n",
    "    s = 0\n",
    "    while (t < T):\n",
    "        while s < len(stays):\n",
    "            if t >= T:\n",
    "                break\n",
    "            from_date = (stays.iloc[s][\"From_Date\"] - min_date).days\n",
    "            thru_date = (stays.iloc[s][\"Thru_Date\"] - min_date).days\n",
    "            room = stays.iloc[s][\"Room_Bed\"]\n",
    "            room = re.sub(\"-[AB]\", \"\", room)\n",
    "            floor_code = floor_encoder(room)\n",
    "            r = room_lookup.get(room)\n",
    "            if r is None:\n",
    "                room_code = R\n",
    "                room_lookup[room] = R\n",
    "                R += 1\n",
    "                if R == 8: # skip 8\n",
    "                    R += 1\n",
    "            else:\n",
    "                room_code = r\n",
    "            if t < from_date:\n",
    "                floor_trace.loc[n, t] = 0\n",
    "                room_trace.loc[n, t] = 0\n",
    "            elif t <= thru_date:\n",
    "                floor_trace.loc[n, t] = floor_code\n",
    "                room_trace.loc[n, t] = room_code\n",
    "            else:\n",
    "                s += 1\n",
    "                continue\n",
    "            t += 1\n",
    "        if t >= T:\n",
    "            break\n",
    "        floor_trace.loc[n, t] = 0\n",
    "        room_trace.loc[n, t] = 0\n",
    "        t += 1"
   ]
  },
  {
   "cell_type": "code",
   "execution_count": null,
   "id": "35060bf1-4a44-43a6-bd41-735413fea1fa",
   "metadata": {},
   "outputs": [],
   "source": [
    "# how to engineer the new facility trace..."
   ]
  },
  {
   "cell_type": "code",
   "execution_count": null,
   "id": "f2d95ccc-94ae-45f4-937b-aae092750037",
   "metadata": {},
   "outputs": [],
   "source": [
    "df_ftrace"
   ]
  },
  {
   "cell_type": "code",
   "execution_count": null,
   "id": "9dc1f11b-1988-4b19-960a-394182f40ddc",
   "metadata": {},
   "outputs": [],
   "source": [
    "df_ftrace.iloc[6].values"
   ]
  },
  {
   "cell_type": "code",
   "execution_count": null,
   "id": "4ebfcc08-5389-41c4-ad30-21678add1fe4",
   "metadata": {},
   "outputs": [],
   "source": [
    "infections = df_ftrace.replace(1, np.nan).ffill(axis=1) # \n",
    "infections = infections.replace({0:np.nan, 1.25:0, 1.5:1})"
   ]
  },
  {
   "cell_type": "code",
   "execution_count": null,
   "id": "c331303c-5034-43fb-ad8a-93f887cc4531",
   "metadata": {},
   "outputs": [],
   "source": [
    "infections"
   ]
  },
  {
   "cell_type": "code",
   "execution_count": null,
   "id": "ed04a3f3-2612-4766-b65c-3908575a7ab0",
   "metadata": {},
   "outputs": [],
   "source": [
    "n_infected = infections.shape[0]\n",
    "infections_plus = (floor_trace[n_infected:] > 0).astype(int)\n",
    "infections_plus = infections_plus.replace({0: np.nan, 1:0})\n",
    "infections_combined = pd.concat([infections, infections_plus])"
   ]
  },
  {
   "cell_type": "code",
   "execution_count": null,
   "id": "20bf23b9-b209-494b-aeb8-e2156877190c",
   "metadata": {},
   "outputs": [],
   "source": [
    "# assert: whenever original is nonzero, ours is nonzero\n",
    "# i.e., our visits include all original vists\n",
    "for j in df_floor.index:\n",
    "    A = df_room.loc[j].values\n",
    "    B = room_trace.loc[j].values\n",
    "    if not (A == B).all():\n",
    "        assert ((A != 0) <= (B != 0)).all()\n",
    "        if not ((A != 0) == (B != 0)).all():\n",
    "            print(f\"found new visit(s) for patient {j}\")\n",
    "        else:\n",
    "            print(f\"room code mismatch for patient {j}\")"
   ]
  },
  {
   "cell_type": "code",
   "execution_count": null,
   "id": "6c960b2f-2738-4d5d-b155-5b0ec055442e",
   "metadata": {},
   "outputs": [],
   "source": [
    "for j in df_floor.index:\n",
    "    A = df_floor.loc[j].values\n",
    "    B = floor_trace.loc[j].values\n",
    "    if not (A == B).all():\n",
    "        assert ((A != 0) <= (B != 0)).all()\n",
    "        if not ((A != 0) == (B != 0)).all():\n",
    "            pass\n",
    "        else:\n",
    "            print(f\"floor code mismatch for patient {j}\")"
   ]
  },
  {
   "cell_type": "code",
   "execution_count": null,
   "id": "debb6c7c-0bb0-45bd-beee-74bf1c3099e4",
   "metadata": {},
   "outputs": [],
   "source": [
    "z = np.unique(np.array(df_room))"
   ]
  },
  {
   "cell_type": "code",
   "execution_count": null,
   "id": "950e59b4-1c48-496d-a9ef-4118a2ab070d",
   "metadata": {},
   "outputs": [],
   "source": [
    "len(z)"
   ]
  },
  {
   "cell_type": "code",
   "execution_count": null,
   "id": "7df24ff4-8151-49f3-a63e-1c9f99d266fa",
   "metadata": {},
   "outputs": [],
   "source": [
    "# how many people are sharing rooms?"
   ]
  },
  {
   "cell_type": "code",
   "execution_count": null,
   "id": "e37c5206-3168-408e-a90d-2a60df754d72",
   "metadata": {},
   "outputs": [],
   "source": [
    "S = []\n",
    "for zed in z[1:]:\n",
    "    S.append((room_trace == zed).sum(0).max())\n",
    "max_occupancy = pd.Series(S, index=z[1:])"
   ]
  },
  {
   "cell_type": "code",
   "execution_count": null,
   "id": "08f9297c-3a68-4f9a-8b45-5ca965cae878",
   "metadata": {},
   "outputs": [],
   "source": [
    "max_occupancy.value_counts()"
   ]
  },
  {
   "cell_type": "code",
   "execution_count": null,
   "id": "9884e103-06b0-42d8-88c1-2b05578d20f8",
   "metadata": {},
   "outputs": [],
   "source": [
    "output_dir = '/Volumes/umms-esnitkin/Project_KPC_LTACH/Analysis/LTACH_transmission_modeling/preprocessed'\n",
    "\n",
    "infections_combined.to_csv(f\"{output_dir}/augmented/facility_trace.csv\")\n",
    "floor_trace.to_csv(f\"{output_dir}/augmented/floor_trace.csv\")\n",
    "room_trace.to_csv(f\"{output_dir}/augmented/room_trace.csv\")\n",
    "# ftrace.to_csv(f\"{output_dir}/facility_trace.csv\")\n",
    "# # infections_cleaned.to_csv(f\"{output_dir}/infections.csv\")\n",
    "# with open(f\"{output_dir}/observed_data.npy\", \"wb\") as f:\n",
    "#     np.save(f, observed_data)\n",
    "# df_screen.to_csv(f\"{output_dir}/screening.csv\")\n",
    "# df_floor.to_csv(f\"{output_dir}/floor_trace.csv\")\n",
    "# df_room.to_csv(f\"{output_dir}/room_trace.csv\")"
   ]
  },
  {
   "cell_type": "code",
   "execution_count": null,
   "id": "c4dd5204-492d-4431-a3e3-0973be109852",
   "metadata": {},
   "outputs": [],
   "source": []
  }
 ],
 "metadata": {
  "language_info": {
   "name": "python"
  }
 },
 "nbformat": 4,
 "nbformat_minor": 5
}
