{
 "cells": [
  {
   "cell_type": "code",
   "execution_count": null,
   "metadata": {},
   "outputs": [],
   "source": [
    "import pandas as pd\n",
    "import numpy as np\n",
    "import matplotlib.pyplot as plt\n",
    "import sys\n",
    "sys.path.append(\"..\")\n",
    "from src.dataset import SIModel\n",
    "from src.approx_bc import abc_rejection_sampler, abc_rejection_sampler2\n",
    "import seaborn as sns\n",
    "from scipy.stats import norm, lognorm, multivariate_normal\n",
    "from src.utils import get_results"
   ]
  },
  {
   "cell_type": "code",
   "execution_count": null,
   "metadata": {},
   "outputs": [],
   "source": [
    "sns.set_theme()\n",
    "sns.set_style(\"white\")\n",
    "sns.set_palette(\"deep\")\n",
    "beta_true = [0.05, .02, .04, .06, .08, .1, .05]\n",
    "alpha = 0.1\n",
    "gamma = 0.05\n",
    "eta = 0.1 # interpretation: after one week, a colonized patient will show symptoms with probability .5\n",
    "heterogeneous = True\n",
    "N = 300 # consider increasing\n",
    "T = 52\n",
    "K = 30\n",
    "data_seed = 31\n",
    "prior_mu = [-3, -3, -3, -3, -3, -3, -3]\n",
    "prior_sigma = [1, 1, 1, 1, 1, 1, 1]\n",
    "\n",
    "si_model = SIModel(alpha, gamma, beta_true, \n",
    "                    heterogeneous, prior_mu, prior_sigma,\n",
    "                   N, T, summarize=False, flatten=False,\n",
    "                  observed_seed=data_seed, eta=eta)\n",
    "y_o = si_model.get_observed_data()\n",
    "\n",
    "\n",
    "si_model_alt = SIModel(alpha, gamma, beta_true, \n",
    "                    heterogeneous, prior_mu, prior_sigma,\n",
    "                   N, T, summarize=False, flatten=False,\n",
    "                  observed_seed=data_seed, eta=.999)\n",
    "\n",
    "x_o = si_model_alt.get_observed_data()\n",
    "\n",
    "\n",
    "sns.lineplot(y_o[0, :], label=\"Observed\")\n",
    "sns.lineplot(x_o[0, :], label=\"Actual\", linestyle=\"--\")\n",
    "\n",
    "plt.ylim((0,1))\n",
    "plt.xlabel(\"Time Steps\")\n",
    "plt.ylabel(\"Proportion Infected\")\n",
    "plt.savefig(\"images/partial_obs.png\")\n",
    "plt.show()"
   ]
  },
  {
   "cell_type": "code",
   "execution_count": null,
   "metadata": {},
   "outputs": [],
   "source": [
    "y_o.mean(1)"
   ]
  },
  {
   "cell_type": "code",
   "execution_count": null,
   "metadata": {},
   "outputs": [],
   "source": [
    "data = y_o[:6,:]\n",
    "\n",
    "data = pd.DataFrame(data = data.T, columns=[\"Facility\"] + [f\"Floor {i}\" for i in range(1,6)])\n",
    "\n",
    "sns.lineplot(data)\n",
    "plt.ylim((0,1))\n",
    "plt.xlabel(\"Time Steps\")\n",
    "plt.ylabel(\"Proportion Infected\")\n",
    "plt.savefig(\"images/partial_obs_floor_viz.png\")\n",
    "plt.show()"
   ]
  },
  {
   "cell_type": "markdown",
   "metadata": {},
   "source": [
    "# Partial Observation"
   ]
  },
  {
   "cell_type": "code",
   "execution_count": null,
   "metadata": {},
   "outputs": [],
   "source": [
    "df_partial = get_results(\"../multirun/2024-11-04/15-42-44\").sort_values(\"val_loss\")"
   ]
  },
  {
   "cell_type": "code",
   "execution_count": null,
   "metadata": {},
   "outputs": [],
   "source": [
    "mu = df_partial.iloc[0][\"mu\"][0]\n",
    "sigma = df_partial.iloc[0][\"sigma\"]"
   ]
  },
  {
   "cell_type": "code",
   "execution_count": null,
   "metadata": {},
   "outputs": [],
   "source": [
    "# j = 1\n",
    "# mu = eval(df_partial[\"mu\"].values[j])[0]\n",
    "# # mu\n",
    "\n",
    "# sigma = eval(df_partial[\"sigma\"].values[j])\n",
    "# sds = [sigma[i][i]**0.5 for i in range(7)]\n",
    "# # sds\n",
    "\n",
    "# npe_rates = [np.exp(mu[i] + sds[i]**2/2) for i in range(7)]"
   ]
  },
  {
   "cell_type": "markdown",
   "metadata": {},
   "source": [
    "# ABC"
   ]
  },
  {
   "cell_type": "code",
   "execution_count": null,
   "metadata": {},
   "outputs": [],
   "source": [
    "si_model = SIModel(alpha, gamma, beta_true, heterogeneous,\n",
    "                  prior_mu, prior_sigma, N=N, T=T, summarize=False, eta=0.1)\n",
    "prior_sampler = lambda: si_model.sample_logbeta(1)\n",
    "simulator = lambda theta, seed: si_model.SI_simulator(theta, seed)\n",
    "x_o = si_model.get_observed_data(31)\n",
    "\n",
    "epsilon = 1.3\n",
    "\n",
    "S = 100\n",
    "print(f\"epsilon: {epsilon}\")\n",
    "posterior_sample, errors = abc_rejection_sampler(\n",
    "    S, epsilon, prior_sampler, simulator, x_o, max_attempts=30000,\n",
    "    print_every=1000, summarize=False\n",
    "    )"
   ]
  },
  {
   "cell_type": "code",
   "execution_count": null,
   "metadata": {},
   "outputs": [],
   "source": [
    "np.quantile(errors[errors > 0], 0.005)"
   ]
  },
  {
   "cell_type": "code",
   "execution_count": null,
   "metadata": {},
   "outputs": [],
   "source": [
    "abc_rates = np.exp(posterior_sample).mean(0)\n",
    "\n",
    "a = np.quantile(np.exp(posterior_sample), 0.05, 0)\n",
    "b = np.quantile(np.exp(posterior_sample), 0.95, 0)\n",
    "\n",
    "abc_cis = list(zip(a, b))"
   ]
  },
  {
   "cell_type": "code",
   "execution_count": null,
   "metadata": {},
   "outputs": [],
   "source": [
    "a = np.sort(errors[errors > 0])"
   ]
  },
  {
   "cell_type": "code",
   "execution_count": null,
   "metadata": {},
   "outputs": [],
   "source": [
    "x = np.sort(a)\n",
    "y = np.arange(len(x))/float(len(x))\n",
    "plt.plot(x[1:], np.log(y[1:]))\n",
    "\n",
    "# wrong way to visualize this imo"
   ]
  },
  {
   "cell_type": "markdown",
   "metadata": {},
   "source": [
    "## Build Table"
   ]
  },
  {
   "cell_type": "code",
   "execution_count": null,
   "metadata": {},
   "outputs": [],
   "source": [
    "# 90% credible intervals\n",
    "npe_cis = []\n",
    "for i in range(7):\n",
    "    sd = sigma[i][i]**0.5\n",
    "    dist = norm(mu[i], sd)\n",
    "    a, b = dist.ppf(0.05), dist.ppf(0.95)\n",
    "    npe_cis.append((a, b))\n",
    "    # print(np.round(np.exp(a), 3), np.round(np.exp(b), 3))"
   ]
  },
  {
   "cell_type": "code",
   "execution_count": null,
   "metadata": {},
   "outputs": [],
   "source": [
    "npe_cis"
   ]
  },
  {
   "cell_type": "code",
   "execution_count": null,
   "metadata": {},
   "outputs": [],
   "source": [
    "abc_cis"
   ]
  },
  {
   "cell_type": "code",
   "execution_count": null,
   "metadata": {},
   "outputs": [],
   "source": [
    "table = pd.DataFrame({\n",
    "    \"Transmission Rate\": [\"Facility\"] + [f\"Floor {i}\" for i in range(1, 6)] + [\"Room\"],\n",
    "    \"Value\": [0.05, 0.02, 0.04, 0.06, 0.08, 0.1, 0.05],\n",
    "    \"NPE Mean\": mu,\n",
    "    \"NPE CI\": npe_cis,\n",
    "    \"ABC Mean\": abc_rates,\n",
    "    \"ABC CI\": abc_cis\n",
    "})"
   ]
  },
  {
   "cell_type": "code",
   "execution_count": null,
   "metadata": {},
   "outputs": [],
   "source": [
    "# possibly need to show posterior predictive checks to show that NPE does a better job...\n",
    "print(table.to_latex())"
   ]
  },
  {
   "cell_type": "markdown",
   "metadata": {},
   "source": [
    "## Posterior Predictive Checks"
   ]
  },
  {
   "cell_type": "code",
   "execution_count": null,
   "metadata": {},
   "outputs": [],
   "source": [
    "neural_posterior = multivariate_normal(mu, sigma)\n",
    "K = 30\n",
    "npe_sample = np.empty((0,7))\n",
    "seed = 2\n",
    "while npe_sample.shape[0] < K:\n",
    "    draw = neural_posterior.rvs(size=K, random_state=seed)\n",
    "    seed += 1\n",
    "    accepted = draw[(draw > 0).all(axis=1)]\n",
    "    npe_sample = np.concatenate((npe_sample, accepted), axis=0)\n",
    "npe_sample = npe_sample[:K]"
   ]
  },
  {
   "cell_type": "code",
   "execution_count": null,
   "metadata": {},
   "outputs": [],
   "source": [
    "def posterior_predictive(sample, K=30):\n",
    "    posterior_predictive = np.empty((K, 7, T))\n",
    "    si_model = SIModel(alpha, gamma, beta_true, \n",
    "                       heterogeneous, prior_mu, prior_sigma, \n",
    "                       N, T, summarize=False, observed_seed=31,\n",
    "                       flatten=False, eta = 0.1)\n",
    "    x_o = si_model.get_observed_data()\n",
    "    \n",
    "    for i in range(K):\n",
    "        si_model = SIModel(alpha, gamma, sample[i], \n",
    "                       heterogeneous, prior_mu, prior_sigma,\n",
    "                       N, T, summarize=False, flatten=False,\n",
    "                          eta = 0.1)\n",
    "        x_rep = si_model.get_observed_data(i)\n",
    "        posterior_predictive[i] =  np.array(x_rep)\n",
    "    return posterior_predictive"
   ]
  },
  {
   "cell_type": "code",
   "execution_count": null,
   "metadata": {},
   "outputs": [],
   "source": [
    "pp_abc = posterior_predictive(np.exp(posterior_sample))"
   ]
  },
  {
   "cell_type": "code",
   "execution_count": null,
   "metadata": {},
   "outputs": [],
   "source": [
    "def ppc_plotter(npe_sample, j, save_tag = None):\n",
    "    posterior_predictive = np.empty((K, 7, T))\n",
    "    si_model = SIModel(alpha, gamma, beta_true, \n",
    "                       heterogeneous, prior_mu, prior_sigma, \n",
    "                       N, T, summarize=False, observed_seed=31,\n",
    "                       flatten=False, eta = 0.1)\n",
    "    x_o = si_model.get_observed_data()\n",
    "    \n",
    "    for i in range(K):\n",
    "        si_model = SIModel(alpha, gamma, npe_sample[i], \n",
    "                       heterogeneous, prior_mu, prior_sigma,\n",
    "                       N, T, summarize=False, flatten=False,\n",
    "                          eta = 0.1)\n",
    "        x_rep = si_model.get_observed_data(i)\n",
    "        posterior_predictive[i] =  np.array(x_rep)\n",
    "    pp_mean = posterior_predictive.mean(0)[j]\n",
    "    abc_mean = pp_abc.mean(0)[j]\n",
    "    \n",
    "    labels = [\"Post. Pred. Draw (NPE)\"] + [None for _ in range(K-1)]\n",
    "    I_o = np.array(x_o)[j]\n",
    "    S_o  = 1 - I_o\n",
    "    plt.plot(I_o, label=\"Observed\", color=\"k\")\n",
    "    plt.plot(posterior_predictive[:,j,:].T, \n",
    "             label=labels, color=\"b\",\n",
    "             alpha=0.2)\n",
    "    plt.plot(pp_mean, label=\"Post. Pred. Mean (NPE)\", linestyle=\"--\",\n",
    "             color=\"orange\")\n",
    "    plt.plot(abc_mean, label=\"Post. Pred. Mean (ABC)\", linestyle=\":\", color=\"green\")\n",
    "    plt.legend()\n",
    "    # plt.title(\"NPE Posterior Predictive Check\")\n",
    "    if j == 6:\n",
    "        plt.ylabel(\"Proportion of Infected Roommates\")\n",
    "    else:\n",
    "        plt.ylabel(\"Proportion Infected\")\n",
    "    plt.xlabel(\"Time Steps\")\n",
    "    # plt.ylim(0, 1)\n",
    "    if save_tag is not None:\n",
    "        plt.savefig(f\"images/{save_tag}.png\")\n",
    "    \n",
    "    plt.show()"
   ]
  },
  {
   "cell_type": "code",
   "execution_count": null,
   "metadata": {},
   "outputs": [],
   "source": [
    "ppc_plotter(npe_sample, 4)"
   ]
  },
  {
   "cell_type": "code",
   "execution_count": null,
   "metadata": {},
   "outputs": [],
   "source": [
    "ppc_plotter(npe_sample, 0, \"partial-ppc-a\")"
   ]
  },
  {
   "cell_type": "code",
   "execution_count": null,
   "metadata": {},
   "outputs": [],
   "source": [
    "ppc_plotter(npe_sample, 5, \"partial-ppc-b\")"
   ]
  },
  {
   "cell_type": "code",
   "execution_count": null,
   "metadata": {},
   "outputs": [],
   "source": [
    "ppc_plotter(npe_sample, 6, \"partial-ppc-c\")"
   ]
  },
  {
   "cell_type": "code",
   "execution_count": null,
   "metadata": {},
   "outputs": [],
   "source": [
    "D = np.diag(1 / np.sqrt(np.diag(sigma)))\n",
    "corr = D @ sigma @ D\n",
    "plt.matshow(corr, cmap=\"rocket\")\n",
    "plt.colorbar()\n",
    "plt.xlabel(r\"$\\beta_j$\")\n",
    "plt.ylabel(r\"$\\beta_j$\")\n",
    "# plt.savefig(\"images/corr.png\")\n",
    "plt.show()"
   ]
  },
  {
   "cell_type": "code",
   "execution_count": null,
   "metadata": {},
   "outputs": [],
   "source": [
    "plt.matshow(np.corrcoef(np.exp(posterior_sample).T), cmap=\"rocket\")\n",
    "plt.xlabel(r\"$\\beta_j$\")\n",
    "plt.ylabel(r\"$\\beta_j$\")\n",
    "plt.colorbar()\n",
    "plt.savefig(\"images/partial-corr-abc.png\")"
   ]
  },
  {
   "cell_type": "markdown",
   "metadata": {},
   "source": [
    "## modified NPE estimates"
   ]
  },
  {
   "cell_type": "code",
   "execution_count": null,
   "metadata": {},
   "outputs": [],
   "source": [
    "neural_posterior = multivariate_normal(mu, sigma)\n",
    "K = 100\n",
    "npe_sample2 = np.empty((0,7))\n",
    "seed = 2\n",
    "while npe_sample2.shape[0] < K:\n",
    "    draw = neural_posterior.rvs(size=K, random_state=seed)\n",
    "    seed += 1\n",
    "    accepted = draw[(draw > 0).all(axis=1)]\n",
    "    npe_sample2 = np.concatenate((npe_sample2, accepted), axis=0)\n",
    "npe_sample2 = npe_sample2[:K]"
   ]
  },
  {
   "cell_type": "code",
   "execution_count": null,
   "metadata": {},
   "outputs": [],
   "source": [
    "plt.matshow(np.corrcoef(npe_sample2.T), cmap=\"rocket\")\n",
    "plt.xlabel(r\"$\\beta_j$\")\n",
    "plt.ylabel(r\"$\\beta_j$\")\n",
    "plt.colorbar()\n",
    "plt.savefig(\"images/partial-corr-npe.png\")"
   ]
  },
  {
   "cell_type": "code",
   "execution_count": null,
   "metadata": {},
   "outputs": [],
   "source": []
  }
 ],
 "metadata": {
  "language_info": {
   "name": "python"
  }
 },
 "nbformat": 4,
 "nbformat_minor": 4
}
